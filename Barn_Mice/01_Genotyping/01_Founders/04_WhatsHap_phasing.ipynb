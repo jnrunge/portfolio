{
 "cells": [
  {
   "cell_type": "code",
   "execution_count": 2,
   "metadata": {},
   "outputs": [
    {
     "name": "stderr",
     "output_type": "stream",
     "text": [
      "\u001b[32mv\u001b[39m Reading from \u001b[36mStatus of mouse sequencing\u001b[39m.\n",
      "\n",
      "\u001b[32mv\u001b[39m Range '\u001b[33m'All founder files'\u001b[39m'.\n",
      "\n",
      "\u001b[32mv\u001b[39m Reading from \u001b[36mStatus of mouse sequencing\u001b[39m.\n",
      "\n",
      "\u001b[32mv\u001b[39m Range '\u001b[33m'All Fx files'\u001b[39m'.\n",
      "\n",
      "\n",
      "Attaching package: 'tidytable'\n",
      "\n",
      "\n",
      "The following objects are masked from 'package:stats':\n",
      "\n",
      "    dt, filter, lag\n",
      "\n",
      "\n",
      "The following object is masked from 'package:base':\n",
      "\n",
      "    %in%\n",
      "\n",
      "\n"
     ]
    }
   ],
   "source": [
    "# set important data in the config file first!\n",
    "source(\"config.R\")\n",
    "source(\"../../extra-R-functions.R\")"
   ]
  },
  {
   "cell_type": "code",
   "execution_count": 3,
   "metadata": {},
   "outputs": [],
   "source": [
    "library(naturalsort)"
   ]
  },
  {
   "cell_type": "code",
   "execution_count": 4,
   "metadata": {
    "tags": []
   },
   "outputs": [
    {
     "data": {
      "text/html": [
       "<style>\n",
       ".list-inline {list-style: none; margin:0; padding: 0}\n",
       ".list-inline>li {display: inline-block}\n",
       ".list-inline>li:not(:last-child)::after {content: \"\\00b7\"; padding: 0 .5ex}\n",
       "</style>\n",
       "<ol class=list-inline><li>'/moto/ziab/users/jr3950/data/genomes/tmp_founders/bam/Founders.chr1.vcf.gz'</li><li>'/moto/ziab/users/jr3950/data/genomes/tmp_founders/bam/Founders.chr2.vcf.gz'</li><li>'/moto/ziab/users/jr3950/data/genomes/tmp_founders/bam/Founders.chr3.vcf.gz'</li><li>'/moto/ziab/users/jr3950/data/genomes/tmp_founders/bam/Founders.chr4.vcf.gz'</li><li>'/moto/ziab/users/jr3950/data/genomes/tmp_founders/bam/Founders.chr5.vcf.gz'</li><li>'/moto/ziab/users/jr3950/data/genomes/tmp_founders/bam/Founders.chr6.vcf.gz'</li><li>'/moto/ziab/users/jr3950/data/genomes/tmp_founders/bam/Founders.chr7.vcf.gz'</li><li>'/moto/ziab/users/jr3950/data/genomes/tmp_founders/bam/Founders.chr8.vcf.gz'</li><li>'/moto/ziab/users/jr3950/data/genomes/tmp_founders/bam/Founders.chr9.vcf.gz'</li><li>'/moto/ziab/users/jr3950/data/genomes/tmp_founders/bam/Founders.chr10.vcf.gz'</li><li>'/moto/ziab/users/jr3950/data/genomes/tmp_founders/bam/Founders.chr11.vcf.gz'</li><li>'/moto/ziab/users/jr3950/data/genomes/tmp_founders/bam/Founders.chr12.vcf.gz'</li><li>'/moto/ziab/users/jr3950/data/genomes/tmp_founders/bam/Founders.chr13.vcf.gz'</li><li>'/moto/ziab/users/jr3950/data/genomes/tmp_founders/bam/Founders.chr14.vcf.gz'</li><li>'/moto/ziab/users/jr3950/data/genomes/tmp_founders/bam/Founders.chr15.vcf.gz'</li><li>'/moto/ziab/users/jr3950/data/genomes/tmp_founders/bam/Founders.chr16.vcf.gz'</li><li>'/moto/ziab/users/jr3950/data/genomes/tmp_founders/bam/Founders.chr17.vcf.gz'</li><li>'/moto/ziab/users/jr3950/data/genomes/tmp_founders/bam/Founders.chr18.vcf.gz'</li><li>'/moto/ziab/users/jr3950/data/genomes/tmp_founders/bam/Founders.chr19.vcf.gz'</li></ol>\n"
      ],
      "text/latex": [
       "\\begin{enumerate*}\n",
       "\\item '/moto/ziab/users/jr3950/data/genomes/tmp\\_founders/bam/Founders.chr1.vcf.gz'\n",
       "\\item '/moto/ziab/users/jr3950/data/genomes/tmp\\_founders/bam/Founders.chr2.vcf.gz'\n",
       "\\item '/moto/ziab/users/jr3950/data/genomes/tmp\\_founders/bam/Founders.chr3.vcf.gz'\n",
       "\\item '/moto/ziab/users/jr3950/data/genomes/tmp\\_founders/bam/Founders.chr4.vcf.gz'\n",
       "\\item '/moto/ziab/users/jr3950/data/genomes/tmp\\_founders/bam/Founders.chr5.vcf.gz'\n",
       "\\item '/moto/ziab/users/jr3950/data/genomes/tmp\\_founders/bam/Founders.chr6.vcf.gz'\n",
       "\\item '/moto/ziab/users/jr3950/data/genomes/tmp\\_founders/bam/Founders.chr7.vcf.gz'\n",
       "\\item '/moto/ziab/users/jr3950/data/genomes/tmp\\_founders/bam/Founders.chr8.vcf.gz'\n",
       "\\item '/moto/ziab/users/jr3950/data/genomes/tmp\\_founders/bam/Founders.chr9.vcf.gz'\n",
       "\\item '/moto/ziab/users/jr3950/data/genomes/tmp\\_founders/bam/Founders.chr10.vcf.gz'\n",
       "\\item '/moto/ziab/users/jr3950/data/genomes/tmp\\_founders/bam/Founders.chr11.vcf.gz'\n",
       "\\item '/moto/ziab/users/jr3950/data/genomes/tmp\\_founders/bam/Founders.chr12.vcf.gz'\n",
       "\\item '/moto/ziab/users/jr3950/data/genomes/tmp\\_founders/bam/Founders.chr13.vcf.gz'\n",
       "\\item '/moto/ziab/users/jr3950/data/genomes/tmp\\_founders/bam/Founders.chr14.vcf.gz'\n",
       "\\item '/moto/ziab/users/jr3950/data/genomes/tmp\\_founders/bam/Founders.chr15.vcf.gz'\n",
       "\\item '/moto/ziab/users/jr3950/data/genomes/tmp\\_founders/bam/Founders.chr16.vcf.gz'\n",
       "\\item '/moto/ziab/users/jr3950/data/genomes/tmp\\_founders/bam/Founders.chr17.vcf.gz'\n",
       "\\item '/moto/ziab/users/jr3950/data/genomes/tmp\\_founders/bam/Founders.chr18.vcf.gz'\n",
       "\\item '/moto/ziab/users/jr3950/data/genomes/tmp\\_founders/bam/Founders.chr19.vcf.gz'\n",
       "\\end{enumerate*}\n"
      ],
      "text/markdown": [
       "1. '/moto/ziab/users/jr3950/data/genomes/tmp_founders/bam/Founders.chr1.vcf.gz'\n",
       "2. '/moto/ziab/users/jr3950/data/genomes/tmp_founders/bam/Founders.chr2.vcf.gz'\n",
       "3. '/moto/ziab/users/jr3950/data/genomes/tmp_founders/bam/Founders.chr3.vcf.gz'\n",
       "4. '/moto/ziab/users/jr3950/data/genomes/tmp_founders/bam/Founders.chr4.vcf.gz'\n",
       "5. '/moto/ziab/users/jr3950/data/genomes/tmp_founders/bam/Founders.chr5.vcf.gz'\n",
       "6. '/moto/ziab/users/jr3950/data/genomes/tmp_founders/bam/Founders.chr6.vcf.gz'\n",
       "7. '/moto/ziab/users/jr3950/data/genomes/tmp_founders/bam/Founders.chr7.vcf.gz'\n",
       "8. '/moto/ziab/users/jr3950/data/genomes/tmp_founders/bam/Founders.chr8.vcf.gz'\n",
       "9. '/moto/ziab/users/jr3950/data/genomes/tmp_founders/bam/Founders.chr9.vcf.gz'\n",
       "10. '/moto/ziab/users/jr3950/data/genomes/tmp_founders/bam/Founders.chr10.vcf.gz'\n",
       "11. '/moto/ziab/users/jr3950/data/genomes/tmp_founders/bam/Founders.chr11.vcf.gz'\n",
       "12. '/moto/ziab/users/jr3950/data/genomes/tmp_founders/bam/Founders.chr12.vcf.gz'\n",
       "13. '/moto/ziab/users/jr3950/data/genomes/tmp_founders/bam/Founders.chr13.vcf.gz'\n",
       "14. '/moto/ziab/users/jr3950/data/genomes/tmp_founders/bam/Founders.chr14.vcf.gz'\n",
       "15. '/moto/ziab/users/jr3950/data/genomes/tmp_founders/bam/Founders.chr15.vcf.gz'\n",
       "16. '/moto/ziab/users/jr3950/data/genomes/tmp_founders/bam/Founders.chr16.vcf.gz'\n",
       "17. '/moto/ziab/users/jr3950/data/genomes/tmp_founders/bam/Founders.chr17.vcf.gz'\n",
       "18. '/moto/ziab/users/jr3950/data/genomes/tmp_founders/bam/Founders.chr18.vcf.gz'\n",
       "19. '/moto/ziab/users/jr3950/data/genomes/tmp_founders/bam/Founders.chr19.vcf.gz'\n",
       "\n",
       "\n"
      ],
      "text/plain": [
       " [1] \"/moto/ziab/users/jr3950/data/genomes/tmp_founders/bam/Founders.chr1.vcf.gz\" \n",
       " [2] \"/moto/ziab/users/jr3950/data/genomes/tmp_founders/bam/Founders.chr2.vcf.gz\" \n",
       " [3] \"/moto/ziab/users/jr3950/data/genomes/tmp_founders/bam/Founders.chr3.vcf.gz\" \n",
       " [4] \"/moto/ziab/users/jr3950/data/genomes/tmp_founders/bam/Founders.chr4.vcf.gz\" \n",
       " [5] \"/moto/ziab/users/jr3950/data/genomes/tmp_founders/bam/Founders.chr5.vcf.gz\" \n",
       " [6] \"/moto/ziab/users/jr3950/data/genomes/tmp_founders/bam/Founders.chr6.vcf.gz\" \n",
       " [7] \"/moto/ziab/users/jr3950/data/genomes/tmp_founders/bam/Founders.chr7.vcf.gz\" \n",
       " [8] \"/moto/ziab/users/jr3950/data/genomes/tmp_founders/bam/Founders.chr8.vcf.gz\" \n",
       " [9] \"/moto/ziab/users/jr3950/data/genomes/tmp_founders/bam/Founders.chr9.vcf.gz\" \n",
       "[10] \"/moto/ziab/users/jr3950/data/genomes/tmp_founders/bam/Founders.chr10.vcf.gz\"\n",
       "[11] \"/moto/ziab/users/jr3950/data/genomes/tmp_founders/bam/Founders.chr11.vcf.gz\"\n",
       "[12] \"/moto/ziab/users/jr3950/data/genomes/tmp_founders/bam/Founders.chr12.vcf.gz\"\n",
       "[13] \"/moto/ziab/users/jr3950/data/genomes/tmp_founders/bam/Founders.chr13.vcf.gz\"\n",
       "[14] \"/moto/ziab/users/jr3950/data/genomes/tmp_founders/bam/Founders.chr14.vcf.gz\"\n",
       "[15] \"/moto/ziab/users/jr3950/data/genomes/tmp_founders/bam/Founders.chr15.vcf.gz\"\n",
       "[16] \"/moto/ziab/users/jr3950/data/genomes/tmp_founders/bam/Founders.chr16.vcf.gz\"\n",
       "[17] \"/moto/ziab/users/jr3950/data/genomes/tmp_founders/bam/Founders.chr17.vcf.gz\"\n",
       "[18] \"/moto/ziab/users/jr3950/data/genomes/tmp_founders/bam/Founders.chr18.vcf.gz\"\n",
       "[19] \"/moto/ziab/users/jr3950/data/genomes/tmp_founders/bam/Founders.chr19.vcf.gz\""
      ]
     },
     "metadata": {},
     "output_type": "display_data"
    }
   ],
   "source": [
    "files=naturalsort(list.files(path = bam_dir, pattern=\"chr[0-9]*.vcf.gz$\", full.names = TRUE))\n",
    "files"
   ]
  },
  {
   "cell_type": "code",
   "execution_count": 5,
   "metadata": {
    "tags": []
   },
   "outputs": [
    {
     "data": {
      "text/html": [
       "<table class=\"dataframe\">\n",
       "<caption>A tidytable: 19 x 2</caption>\n",
       "<thead>\n",
       "\t<tr><th scope=col>chrFasta</th><th scope=col>chrSimple</th></tr>\n",
       "\t<tr><th scope=col>&lt;chr&gt;</th><th scope=col>&lt;chr&gt;</th></tr>\n",
       "</thead>\n",
       "<tbody>\n",
       "\t<tr><td>NC_000067.6</td><td>1 </td></tr>\n",
       "\t<tr><td>NC_000068.7</td><td>2 </td></tr>\n",
       "\t<tr><td>NC_000069.6</td><td>3 </td></tr>\n",
       "\t<tr><td>NC_000070.6</td><td>4 </td></tr>\n",
       "\t<tr><td>NC_000071.6</td><td>5 </td></tr>\n",
       "\t<tr><td>NC_000072.6</td><td>6 </td></tr>\n",
       "\t<tr><td>NC_000073.6</td><td>7 </td></tr>\n",
       "\t<tr><td>NC_000074.6</td><td>8 </td></tr>\n",
       "\t<tr><td>NC_000075.6</td><td>9 </td></tr>\n",
       "\t<tr><td>NC_000076.6</td><td>10</td></tr>\n",
       "\t<tr><td>NC_000077.6</td><td>11</td></tr>\n",
       "\t<tr><td>NC_000078.6</td><td>12</td></tr>\n",
       "\t<tr><td>NC_000079.6</td><td>13</td></tr>\n",
       "\t<tr><td>NC_000080.6</td><td>14</td></tr>\n",
       "\t<tr><td>NC_000081.6</td><td>15</td></tr>\n",
       "\t<tr><td>NC_000082.6</td><td>16</td></tr>\n",
       "\t<tr><td>NC_000083.6</td><td>17</td></tr>\n",
       "\t<tr><td>NC_000084.6</td><td>18</td></tr>\n",
       "\t<tr><td>NC_000085.6</td><td>19</td></tr>\n",
       "</tbody>\n",
       "</table>\n"
      ],
      "text/latex": [
       "A tidytable: 19 x 2\n",
       "\\begin{tabular}{ll}\n",
       " chrFasta & chrSimple\\\\\n",
       " <chr> & <chr>\\\\\n",
       "\\hline\n",
       "\t NC\\_000067.6 & 1 \\\\\n",
       "\t NC\\_000068.7 & 2 \\\\\n",
       "\t NC\\_000069.6 & 3 \\\\\n",
       "\t NC\\_000070.6 & 4 \\\\\n",
       "\t NC\\_000071.6 & 5 \\\\\n",
       "\t NC\\_000072.6 & 6 \\\\\n",
       "\t NC\\_000073.6 & 7 \\\\\n",
       "\t NC\\_000074.6 & 8 \\\\\n",
       "\t NC\\_000075.6 & 9 \\\\\n",
       "\t NC\\_000076.6 & 10\\\\\n",
       "\t NC\\_000077.6 & 11\\\\\n",
       "\t NC\\_000078.6 & 12\\\\\n",
       "\t NC\\_000079.6 & 13\\\\\n",
       "\t NC\\_000080.6 & 14\\\\\n",
       "\t NC\\_000081.6 & 15\\\\\n",
       "\t NC\\_000082.6 & 16\\\\\n",
       "\t NC\\_000083.6 & 17\\\\\n",
       "\t NC\\_000084.6 & 18\\\\\n",
       "\t NC\\_000085.6 & 19\\\\\n",
       "\\end{tabular}\n"
      ],
      "text/markdown": [
       "\n",
       "A tidytable: 19 x 2\n",
       "\n",
       "| chrFasta &lt;chr&gt; | chrSimple &lt;chr&gt; |\n",
       "|---|---|\n",
       "| NC_000067.6 | 1  |\n",
       "| NC_000068.7 | 2  |\n",
       "| NC_000069.6 | 3  |\n",
       "| NC_000070.6 | 4  |\n",
       "| NC_000071.6 | 5  |\n",
       "| NC_000072.6 | 6  |\n",
       "| NC_000073.6 | 7  |\n",
       "| NC_000074.6 | 8  |\n",
       "| NC_000075.6 | 9  |\n",
       "| NC_000076.6 | 10 |\n",
       "| NC_000077.6 | 11 |\n",
       "| NC_000078.6 | 12 |\n",
       "| NC_000079.6 | 13 |\n",
       "| NC_000080.6 | 14 |\n",
       "| NC_000081.6 | 15 |\n",
       "| NC_000082.6 | 16 |\n",
       "| NC_000083.6 | 17 |\n",
       "| NC_000084.6 | 18 |\n",
       "| NC_000085.6 | 19 |\n",
       "\n"
      ],
      "text/plain": [
       "   chrFasta    chrSimple\n",
       "1  NC_000067.6 1        \n",
       "2  NC_000068.7 2        \n",
       "3  NC_000069.6 3        \n",
       "4  NC_000070.6 4        \n",
       "5  NC_000071.6 5        \n",
       "6  NC_000072.6 6        \n",
       "7  NC_000073.6 7        \n",
       "8  NC_000074.6 8        \n",
       "9  NC_000075.6 9        \n",
       "10 NC_000076.6 10       \n",
       "11 NC_000077.6 11       \n",
       "12 NC_000078.6 12       \n",
       "13 NC_000079.6 13       \n",
       "14 NC_000080.6 14       \n",
       "15 NC_000081.6 15       \n",
       "16 NC_000082.6 16       \n",
       "17 NC_000083.6 17       \n",
       "18 NC_000084.6 18       \n",
       "19 NC_000085.6 19       "
      ]
     },
     "metadata": {},
     "output_type": "display_data"
    }
   ],
   "source": [
    "chrs=fread(cmd=paste0('grep \"^NC\" ',ref_file,\".fai\"))\n",
    "chrs=select(chrs,V1)%>% \n",
    "           unlist(., use.names=FALSE)\n",
    "chrs=sort(chrs)\n",
    "chrs=data.table(chrFasta=chrs,\n",
    "           chrSimple=paste0(\"\",c(1:(length(chrs)-3),\"X\",\"Y\",\"MT\")))\n",
    "chrs=filter(chrs, grepl(\"[0-9]\", chrSimple))\n",
    "chrs"
   ]
  },
  {
   "cell_type": "code",
   "execution_count": 6,
   "metadata": {
    "tags": []
   },
   "outputs": [
    {
     "data": {
      "text/html": [
       "<style>\n",
       ".list-inline {list-style: none; margin:0; padding: 0}\n",
       ".list-inline>li {display: inline-block}\n",
       ".list-inline>li:not(:last-child)::after {content: \"\\00b7\"; padding: 0 .5ex}\n",
       "</style>\n",
       "<ol class=list-inline><li>'/moto/ziab/users/jr3950/data/genomes/tmp_founders/bam/SW_1.merged.bam'</li><li>'/moto/ziab/users/jr3950/data/genomes/tmp_founders/bam/SW_10.merged.bam'</li><li>'/moto/ziab/users/jr3950/data/genomes/tmp_founders/bam/SW_11.merged.bam'</li><li>'/moto/ziab/users/jr3950/data/genomes/tmp_founders/bam/SW_1133.merged.bam'</li><li>'/moto/ziab/users/jr3950/data/genomes/tmp_founders/bam/SW_12.merged.bam'</li><li>'/moto/ziab/users/jr3950/data/genomes/tmp_founders/bam/SW_2.merged.bam'</li><li>'/moto/ziab/users/jr3950/data/genomes/tmp_founders/bam/SW_25.merged.bam'</li><li>'/moto/ziab/users/jr3950/data/genomes/tmp_founders/bam/SW_3.merged.bam'</li><li>'/moto/ziab/users/jr3950/data/genomes/tmp_founders/bam/SW_31.merged.bam'</li><li>'/moto/ziab/users/jr3950/data/genomes/tmp_founders/bam/SW_4.merged.bam'</li><li>'/moto/ziab/users/jr3950/data/genomes/tmp_founders/bam/SW_5.merged.bam'</li><li>'/moto/ziab/users/jr3950/data/genomes/tmp_founders/bam/SW_6.merged.bam'</li><li>'/moto/ziab/users/jr3950/data/genomes/tmp_founders/bam/SW_7.merged.bam'</li><li>'/moto/ziab/users/jr3950/data/genomes/tmp_founders/bam/SW_8.merged.bam'</li><li>'/moto/ziab/users/jr3950/data/genomes/tmp_founders/bam/SW_80.merged.bam'</li><li>'/moto/ziab/users/jr3950/data/genomes/tmp_founders/bam/SW_84.merged.bam'</li><li>'/moto/ziab/users/jr3950/data/genomes/tmp_founders/bam/SW_85.merged.bam'</li><li>'/moto/ziab/users/jr3950/data/genomes/tmp_founders/bam/SW_87.merged.bam'</li><li>'/moto/ziab/users/jr3950/data/genomes/tmp_founders/bam/SW_9.merged.bam'</li><li>'/moto/ziab/users/jr3950/data/genomes/tmp_founders/bam/SW_90.merged.bam'</li></ol>\n"
      ],
      "text/latex": [
       "\\begin{enumerate*}\n",
       "\\item '/moto/ziab/users/jr3950/data/genomes/tmp\\_founders/bam/SW\\_1.merged.bam'\n",
       "\\item '/moto/ziab/users/jr3950/data/genomes/tmp\\_founders/bam/SW\\_10.merged.bam'\n",
       "\\item '/moto/ziab/users/jr3950/data/genomes/tmp\\_founders/bam/SW\\_11.merged.bam'\n",
       "\\item '/moto/ziab/users/jr3950/data/genomes/tmp\\_founders/bam/SW\\_1133.merged.bam'\n",
       "\\item '/moto/ziab/users/jr3950/data/genomes/tmp\\_founders/bam/SW\\_12.merged.bam'\n",
       "\\item '/moto/ziab/users/jr3950/data/genomes/tmp\\_founders/bam/SW\\_2.merged.bam'\n",
       "\\item '/moto/ziab/users/jr3950/data/genomes/tmp\\_founders/bam/SW\\_25.merged.bam'\n",
       "\\item '/moto/ziab/users/jr3950/data/genomes/tmp\\_founders/bam/SW\\_3.merged.bam'\n",
       "\\item '/moto/ziab/users/jr3950/data/genomes/tmp\\_founders/bam/SW\\_31.merged.bam'\n",
       "\\item '/moto/ziab/users/jr3950/data/genomes/tmp\\_founders/bam/SW\\_4.merged.bam'\n",
       "\\item '/moto/ziab/users/jr3950/data/genomes/tmp\\_founders/bam/SW\\_5.merged.bam'\n",
       "\\item '/moto/ziab/users/jr3950/data/genomes/tmp\\_founders/bam/SW\\_6.merged.bam'\n",
       "\\item '/moto/ziab/users/jr3950/data/genomes/tmp\\_founders/bam/SW\\_7.merged.bam'\n",
       "\\item '/moto/ziab/users/jr3950/data/genomes/tmp\\_founders/bam/SW\\_8.merged.bam'\n",
       "\\item '/moto/ziab/users/jr3950/data/genomes/tmp\\_founders/bam/SW\\_80.merged.bam'\n",
       "\\item '/moto/ziab/users/jr3950/data/genomes/tmp\\_founders/bam/SW\\_84.merged.bam'\n",
       "\\item '/moto/ziab/users/jr3950/data/genomes/tmp\\_founders/bam/SW\\_85.merged.bam'\n",
       "\\item '/moto/ziab/users/jr3950/data/genomes/tmp\\_founders/bam/SW\\_87.merged.bam'\n",
       "\\item '/moto/ziab/users/jr3950/data/genomes/tmp\\_founders/bam/SW\\_9.merged.bam'\n",
       "\\item '/moto/ziab/users/jr3950/data/genomes/tmp\\_founders/bam/SW\\_90.merged.bam'\n",
       "\\end{enumerate*}\n"
      ],
      "text/markdown": [
       "1. '/moto/ziab/users/jr3950/data/genomes/tmp_founders/bam/SW_1.merged.bam'\n",
       "2. '/moto/ziab/users/jr3950/data/genomes/tmp_founders/bam/SW_10.merged.bam'\n",
       "3. '/moto/ziab/users/jr3950/data/genomes/tmp_founders/bam/SW_11.merged.bam'\n",
       "4. '/moto/ziab/users/jr3950/data/genomes/tmp_founders/bam/SW_1133.merged.bam'\n",
       "5. '/moto/ziab/users/jr3950/data/genomes/tmp_founders/bam/SW_12.merged.bam'\n",
       "6. '/moto/ziab/users/jr3950/data/genomes/tmp_founders/bam/SW_2.merged.bam'\n",
       "7. '/moto/ziab/users/jr3950/data/genomes/tmp_founders/bam/SW_25.merged.bam'\n",
       "8. '/moto/ziab/users/jr3950/data/genomes/tmp_founders/bam/SW_3.merged.bam'\n",
       "9. '/moto/ziab/users/jr3950/data/genomes/tmp_founders/bam/SW_31.merged.bam'\n",
       "10. '/moto/ziab/users/jr3950/data/genomes/tmp_founders/bam/SW_4.merged.bam'\n",
       "11. '/moto/ziab/users/jr3950/data/genomes/tmp_founders/bam/SW_5.merged.bam'\n",
       "12. '/moto/ziab/users/jr3950/data/genomes/tmp_founders/bam/SW_6.merged.bam'\n",
       "13. '/moto/ziab/users/jr3950/data/genomes/tmp_founders/bam/SW_7.merged.bam'\n",
       "14. '/moto/ziab/users/jr3950/data/genomes/tmp_founders/bam/SW_8.merged.bam'\n",
       "15. '/moto/ziab/users/jr3950/data/genomes/tmp_founders/bam/SW_80.merged.bam'\n",
       "16. '/moto/ziab/users/jr3950/data/genomes/tmp_founders/bam/SW_84.merged.bam'\n",
       "17. '/moto/ziab/users/jr3950/data/genomes/tmp_founders/bam/SW_85.merged.bam'\n",
       "18. '/moto/ziab/users/jr3950/data/genomes/tmp_founders/bam/SW_87.merged.bam'\n",
       "19. '/moto/ziab/users/jr3950/data/genomes/tmp_founders/bam/SW_9.merged.bam'\n",
       "20. '/moto/ziab/users/jr3950/data/genomes/tmp_founders/bam/SW_90.merged.bam'\n",
       "\n",
       "\n"
      ],
      "text/plain": [
       " [1] \"/moto/ziab/users/jr3950/data/genomes/tmp_founders/bam/SW_1.merged.bam\"   \n",
       " [2] \"/moto/ziab/users/jr3950/data/genomes/tmp_founders/bam/SW_10.merged.bam\"  \n",
       " [3] \"/moto/ziab/users/jr3950/data/genomes/tmp_founders/bam/SW_11.merged.bam\"  \n",
       " [4] \"/moto/ziab/users/jr3950/data/genomes/tmp_founders/bam/SW_1133.merged.bam\"\n",
       " [5] \"/moto/ziab/users/jr3950/data/genomes/tmp_founders/bam/SW_12.merged.bam\"  \n",
       " [6] \"/moto/ziab/users/jr3950/data/genomes/tmp_founders/bam/SW_2.merged.bam\"   \n",
       " [7] \"/moto/ziab/users/jr3950/data/genomes/tmp_founders/bam/SW_25.merged.bam\"  \n",
       " [8] \"/moto/ziab/users/jr3950/data/genomes/tmp_founders/bam/SW_3.merged.bam\"   \n",
       " [9] \"/moto/ziab/users/jr3950/data/genomes/tmp_founders/bam/SW_31.merged.bam\"  \n",
       "[10] \"/moto/ziab/users/jr3950/data/genomes/tmp_founders/bam/SW_4.merged.bam\"   \n",
       "[11] \"/moto/ziab/users/jr3950/data/genomes/tmp_founders/bam/SW_5.merged.bam\"   \n",
       "[12] \"/moto/ziab/users/jr3950/data/genomes/tmp_founders/bam/SW_6.merged.bam\"   \n",
       "[13] \"/moto/ziab/users/jr3950/data/genomes/tmp_founders/bam/SW_7.merged.bam\"   \n",
       "[14] \"/moto/ziab/users/jr3950/data/genomes/tmp_founders/bam/SW_8.merged.bam\"   \n",
       "[15] \"/moto/ziab/users/jr3950/data/genomes/tmp_founders/bam/SW_80.merged.bam\"  \n",
       "[16] \"/moto/ziab/users/jr3950/data/genomes/tmp_founders/bam/SW_84.merged.bam\"  \n",
       "[17] \"/moto/ziab/users/jr3950/data/genomes/tmp_founders/bam/SW_85.merged.bam\"  \n",
       "[18] \"/moto/ziab/users/jr3950/data/genomes/tmp_founders/bam/SW_87.merged.bam\"  \n",
       "[19] \"/moto/ziab/users/jr3950/data/genomes/tmp_founders/bam/SW_9.merged.bam\"   \n",
       "[20] \"/moto/ziab/users/jr3950/data/genomes/tmp_founders/bam/SW_90.merged.bam\"  "
      ]
     },
     "metadata": {},
     "output_type": "display_data"
    }
   ],
   "source": [
    "bam_files=list.files(path = bam_dir, pattern=\"merged.bam$\", full.names = TRUE)\n",
    "bam_files"
   ]
  },
  {
   "cell_type": "code",
   "execution_count": 13,
   "metadata": {
    "tags": []
   },
   "outputs": [
    {
     "name": "stdout",
     "output_type": "stream",
     "text": [
      "[1] \"sbatch -c 1 --mem=16gb --job-name=Whatshap_F0F1 -A ziab -t 119:59:00 --wrap '. ~/ColumbiaProjects/Barn_Mice/activateEnv.sh my_conda4; sh -xe ~/ColumbiaProjects/Barn_Mice/01_Genotyping/01_Founders/04_Whatshap_phase.sh NC_000067.6 1 /moto/ziab/users/jr3950/data/genomes/tmp_founders/bam/Founders.chr1.vcf.gz /moto/ziab/users/jr3950/data/genomes/tmp_founders/bam/chr1.genmap.csv ~/ColumbiaProjects/Barn_Mice/XX_Data/avg.map.csv.gz samtools-116 ~/ColumbiaProjects/Barn_Mice/XX_Data/FoundersF1.no1140.ped /moto/ziab/users/jr3950/data/genomes/tmp_founders/bam /moto/ziab/users/jr3950/data/genomes/GCF_000001635.26_GRCm38.p6_genomic.fna /moto/ziab/users/jr3950/data/genomes/tmp_founders/bam/SW_1.merged.bam /moto/ziab/users/jr3950/data/genomes/tmp_founders/bam/SW_10.merged.bam /moto/ziab/users/jr3950/data/genomes/tmp_founders/bam/SW_11.merged.bam /moto/ziab/users/jr3950/data/genomes/tmp_founders/bam/SW_1133.merged.bam /moto/ziab/users/jr3950/data/genomes/tmp_founders/bam/SW_12.merged.bam /moto/ziab/users/jr3950/data/genomes/tmp_founders/bam/SW_2.merged.bam /moto/ziab/users/jr3950/data/genomes/tmp_founders/bam/SW_25.merged.bam /moto/ziab/users/jr3950/data/genomes/tmp_founders/bam/SW_3.merged.bam /moto/ziab/users/jr3950/data/genomes/tmp_founders/bam/SW_31.merged.bam /moto/ziab/users/jr3950/data/genomes/tmp_founders/bam/SW_4.merged.bam /moto/ziab/users/jr3950/data/genomes/tmp_founders/bam/SW_5.merged.bam /moto/ziab/users/jr3950/data/genomes/tmp_founders/bam/SW_6.merged.bam /moto/ziab/users/jr3950/data/genomes/tmp_founders/bam/SW_7.merged.bam /moto/ziab/users/jr3950/data/genomes/tmp_founders/bam/SW_8.merged.bam /moto/ziab/users/jr3950/data/genomes/tmp_founders/bam/SW_80.merged.bam /moto/ziab/users/jr3950/data/genomes/tmp_founders/bam/SW_84.merged.bam /moto/ziab/users/jr3950/data/genomes/tmp_founders/bam/SW_85.merged.bam /moto/ziab/users/jr3950/data/genomes/tmp_founders/bam/SW_87.merged.bam /moto/ziab/users/jr3950/data/genomes/tmp_founders/bam/SW_9.merged.bam /moto/ziab/users/jr3950/data/genomes/tmp_founders/bam/SW_90.merged.bam'\"\n",
      "[1] \"Submitted batch job 13460486\"\n",
      "[1] \"sbatch -c 1 --mem=16gb --job-name=Whatshap_F0F1 -A ziab -t 119:59:00 --wrap '. ~/ColumbiaProjects/Barn_Mice/activateEnv.sh my_conda4; sh -xe ~/ColumbiaProjects/Barn_Mice/01_Genotyping/01_Founders/04_Whatshap_phase.sh NC_000068.7 2 /moto/ziab/users/jr3950/data/genomes/tmp_founders/bam/Founders.chr2.vcf.gz /moto/ziab/users/jr3950/data/genomes/tmp_founders/bam/chr2.genmap.csv ~/ColumbiaProjects/Barn_Mice/XX_Data/avg.map.csv.gz samtools-116 ~/ColumbiaProjects/Barn_Mice/XX_Data/FoundersF1.no1140.ped /moto/ziab/users/jr3950/data/genomes/tmp_founders/bam /moto/ziab/users/jr3950/data/genomes/GCF_000001635.26_GRCm38.p6_genomic.fna /moto/ziab/users/jr3950/data/genomes/tmp_founders/bam/SW_1.merged.bam /moto/ziab/users/jr3950/data/genomes/tmp_founders/bam/SW_10.merged.bam /moto/ziab/users/jr3950/data/genomes/tmp_founders/bam/SW_11.merged.bam /moto/ziab/users/jr3950/data/genomes/tmp_founders/bam/SW_1133.merged.bam /moto/ziab/users/jr3950/data/genomes/tmp_founders/bam/SW_12.merged.bam /moto/ziab/users/jr3950/data/genomes/tmp_founders/bam/SW_2.merged.bam /moto/ziab/users/jr3950/data/genomes/tmp_founders/bam/SW_25.merged.bam /moto/ziab/users/jr3950/data/genomes/tmp_founders/bam/SW_3.merged.bam /moto/ziab/users/jr3950/data/genomes/tmp_founders/bam/SW_31.merged.bam /moto/ziab/users/jr3950/data/genomes/tmp_founders/bam/SW_4.merged.bam /moto/ziab/users/jr3950/data/genomes/tmp_founders/bam/SW_5.merged.bam /moto/ziab/users/jr3950/data/genomes/tmp_founders/bam/SW_6.merged.bam /moto/ziab/users/jr3950/data/genomes/tmp_founders/bam/SW_7.merged.bam /moto/ziab/users/jr3950/data/genomes/tmp_founders/bam/SW_8.merged.bam /moto/ziab/users/jr3950/data/genomes/tmp_founders/bam/SW_80.merged.bam /moto/ziab/users/jr3950/data/genomes/tmp_founders/bam/SW_84.merged.bam /moto/ziab/users/jr3950/data/genomes/tmp_founders/bam/SW_85.merged.bam /moto/ziab/users/jr3950/data/genomes/tmp_founders/bam/SW_87.merged.bam /moto/ziab/users/jr3950/data/genomes/tmp_founders/bam/SW_9.merged.bam /moto/ziab/users/jr3950/data/genomes/tmp_founders/bam/SW_90.merged.bam'\"\n",
      "[1] \"Submitted batch job 13460487\"\n",
      "[1] \"sbatch -c 1 --mem=16gb --job-name=Whatshap_F0F1 -A ziab -t 119:59:00 --wrap '. ~/ColumbiaProjects/Barn_Mice/activateEnv.sh my_conda4; sh -xe ~/ColumbiaProjects/Barn_Mice/01_Genotyping/01_Founders/04_Whatshap_phase.sh NC_000069.6 3 /moto/ziab/users/jr3950/data/genomes/tmp_founders/bam/Founders.chr3.vcf.gz /moto/ziab/users/jr3950/data/genomes/tmp_founders/bam/chr3.genmap.csv ~/ColumbiaProjects/Barn_Mice/XX_Data/avg.map.csv.gz samtools-116 ~/ColumbiaProjects/Barn_Mice/XX_Data/FoundersF1.no1140.ped /moto/ziab/users/jr3950/data/genomes/tmp_founders/bam /moto/ziab/users/jr3950/data/genomes/GCF_000001635.26_GRCm38.p6_genomic.fna /moto/ziab/users/jr3950/data/genomes/tmp_founders/bam/SW_1.merged.bam /moto/ziab/users/jr3950/data/genomes/tmp_founders/bam/SW_10.merged.bam /moto/ziab/users/jr3950/data/genomes/tmp_founders/bam/SW_11.merged.bam /moto/ziab/users/jr3950/data/genomes/tmp_founders/bam/SW_1133.merged.bam /moto/ziab/users/jr3950/data/genomes/tmp_founders/bam/SW_12.merged.bam /moto/ziab/users/jr3950/data/genomes/tmp_founders/bam/SW_2.merged.bam /moto/ziab/users/jr3950/data/genomes/tmp_founders/bam/SW_25.merged.bam /moto/ziab/users/jr3950/data/genomes/tmp_founders/bam/SW_3.merged.bam /moto/ziab/users/jr3950/data/genomes/tmp_founders/bam/SW_31.merged.bam /moto/ziab/users/jr3950/data/genomes/tmp_founders/bam/SW_4.merged.bam /moto/ziab/users/jr3950/data/genomes/tmp_founders/bam/SW_5.merged.bam /moto/ziab/users/jr3950/data/genomes/tmp_founders/bam/SW_6.merged.bam /moto/ziab/users/jr3950/data/genomes/tmp_founders/bam/SW_7.merged.bam /moto/ziab/users/jr3950/data/genomes/tmp_founders/bam/SW_8.merged.bam /moto/ziab/users/jr3950/data/genomes/tmp_founders/bam/SW_80.merged.bam /moto/ziab/users/jr3950/data/genomes/tmp_founders/bam/SW_84.merged.bam /moto/ziab/users/jr3950/data/genomes/tmp_founders/bam/SW_85.merged.bam /moto/ziab/users/jr3950/data/genomes/tmp_founders/bam/SW_87.merged.bam /moto/ziab/users/jr3950/data/genomes/tmp_founders/bam/SW_9.merged.bam /moto/ziab/users/jr3950/data/genomes/tmp_founders/bam/SW_90.merged.bam'\"\n",
      "[1] \"Submitted batch job 13460488\"\n",
      "[1] \"sbatch -c 1 --mem=16gb --job-name=Whatshap_F0F1 -A ziab -t 119:59:00 --wrap '. ~/ColumbiaProjects/Barn_Mice/activateEnv.sh my_conda4; sh -xe ~/ColumbiaProjects/Barn_Mice/01_Genotyping/01_Founders/04_Whatshap_phase.sh NC_000070.6 4 /moto/ziab/users/jr3950/data/genomes/tmp_founders/bam/Founders.chr4.vcf.gz /moto/ziab/users/jr3950/data/genomes/tmp_founders/bam/chr4.genmap.csv ~/ColumbiaProjects/Barn_Mice/XX_Data/avg.map.csv.gz samtools-116 ~/ColumbiaProjects/Barn_Mice/XX_Data/FoundersF1.no1140.ped /moto/ziab/users/jr3950/data/genomes/tmp_founders/bam /moto/ziab/users/jr3950/data/genomes/GCF_000001635.26_GRCm38.p6_genomic.fna /moto/ziab/users/jr3950/data/genomes/tmp_founders/bam/SW_1.merged.bam /moto/ziab/users/jr3950/data/genomes/tmp_founders/bam/SW_10.merged.bam /moto/ziab/users/jr3950/data/genomes/tmp_founders/bam/SW_11.merged.bam /moto/ziab/users/jr3950/data/genomes/tmp_founders/bam/SW_1133.merged.bam /moto/ziab/users/jr3950/data/genomes/tmp_founders/bam/SW_12.merged.bam /moto/ziab/users/jr3950/data/genomes/tmp_founders/bam/SW_2.merged.bam /moto/ziab/users/jr3950/data/genomes/tmp_founders/bam/SW_25.merged.bam /moto/ziab/users/jr3950/data/genomes/tmp_founders/bam/SW_3.merged.bam /moto/ziab/users/jr3950/data/genomes/tmp_founders/bam/SW_31.merged.bam /moto/ziab/users/jr3950/data/genomes/tmp_founders/bam/SW_4.merged.bam /moto/ziab/users/jr3950/data/genomes/tmp_founders/bam/SW_5.merged.bam /moto/ziab/users/jr3950/data/genomes/tmp_founders/bam/SW_6.merged.bam /moto/ziab/users/jr3950/data/genomes/tmp_founders/bam/SW_7.merged.bam /moto/ziab/users/jr3950/data/genomes/tmp_founders/bam/SW_8.merged.bam /moto/ziab/users/jr3950/data/genomes/tmp_founders/bam/SW_80.merged.bam /moto/ziab/users/jr3950/data/genomes/tmp_founders/bam/SW_84.merged.bam /moto/ziab/users/jr3950/data/genomes/tmp_founders/bam/SW_85.merged.bam /moto/ziab/users/jr3950/data/genomes/tmp_founders/bam/SW_87.merged.bam /moto/ziab/users/jr3950/data/genomes/tmp_founders/bam/SW_9.merged.bam /moto/ziab/users/jr3950/data/genomes/tmp_founders/bam/SW_90.merged.bam'\"\n",
      "[1] \"Submitted batch job 13460489\"\n",
      "[1] \"sbatch -c 1 --mem=16gb --job-name=Whatshap_F0F1 -A ziab -t 119:59:00 --wrap '. ~/ColumbiaProjects/Barn_Mice/activateEnv.sh my_conda4; sh -xe ~/ColumbiaProjects/Barn_Mice/01_Genotyping/01_Founders/04_Whatshap_phase.sh NC_000071.6 5 /moto/ziab/users/jr3950/data/genomes/tmp_founders/bam/Founders.chr5.vcf.gz /moto/ziab/users/jr3950/data/genomes/tmp_founders/bam/chr5.genmap.csv ~/ColumbiaProjects/Barn_Mice/XX_Data/avg.map.csv.gz samtools-116 ~/ColumbiaProjects/Barn_Mice/XX_Data/FoundersF1.no1140.ped /moto/ziab/users/jr3950/data/genomes/tmp_founders/bam /moto/ziab/users/jr3950/data/genomes/GCF_000001635.26_GRCm38.p6_genomic.fna /moto/ziab/users/jr3950/data/genomes/tmp_founders/bam/SW_1.merged.bam /moto/ziab/users/jr3950/data/genomes/tmp_founders/bam/SW_10.merged.bam /moto/ziab/users/jr3950/data/genomes/tmp_founders/bam/SW_11.merged.bam /moto/ziab/users/jr3950/data/genomes/tmp_founders/bam/SW_1133.merged.bam /moto/ziab/users/jr3950/data/genomes/tmp_founders/bam/SW_12.merged.bam /moto/ziab/users/jr3950/data/genomes/tmp_founders/bam/SW_2.merged.bam /moto/ziab/users/jr3950/data/genomes/tmp_founders/bam/SW_25.merged.bam /moto/ziab/users/jr3950/data/genomes/tmp_founders/bam/SW_3.merged.bam /moto/ziab/users/jr3950/data/genomes/tmp_founders/bam/SW_31.merged.bam /moto/ziab/users/jr3950/data/genomes/tmp_founders/bam/SW_4.merged.bam /moto/ziab/users/jr3950/data/genomes/tmp_founders/bam/SW_5.merged.bam /moto/ziab/users/jr3950/data/genomes/tmp_founders/bam/SW_6.merged.bam /moto/ziab/users/jr3950/data/genomes/tmp_founders/bam/SW_7.merged.bam /moto/ziab/users/jr3950/data/genomes/tmp_founders/bam/SW_8.merged.bam /moto/ziab/users/jr3950/data/genomes/tmp_founders/bam/SW_80.merged.bam /moto/ziab/users/jr3950/data/genomes/tmp_founders/bam/SW_84.merged.bam /moto/ziab/users/jr3950/data/genomes/tmp_founders/bam/SW_85.merged.bam /moto/ziab/users/jr3950/data/genomes/tmp_founders/bam/SW_87.merged.bam /moto/ziab/users/jr3950/data/genomes/tmp_founders/bam/SW_9.merged.bam /moto/ziab/users/jr3950/data/genomes/tmp_founders/bam/SW_90.merged.bam'\"\n",
      "[1] \"Submitted batch job 13460490\"\n",
      "[1] \"sbatch -c 1 --mem=16gb --job-name=Whatshap_F0F1 -A ziab -t 119:59:00 --wrap '. ~/ColumbiaProjects/Barn_Mice/activateEnv.sh my_conda4; sh -xe ~/ColumbiaProjects/Barn_Mice/01_Genotyping/01_Founders/04_Whatshap_phase.sh NC_000072.6 6 /moto/ziab/users/jr3950/data/genomes/tmp_founders/bam/Founders.chr6.vcf.gz /moto/ziab/users/jr3950/data/genomes/tmp_founders/bam/chr6.genmap.csv ~/ColumbiaProjects/Barn_Mice/XX_Data/avg.map.csv.gz samtools-116 ~/ColumbiaProjects/Barn_Mice/XX_Data/FoundersF1.no1140.ped /moto/ziab/users/jr3950/data/genomes/tmp_founders/bam /moto/ziab/users/jr3950/data/genomes/GCF_000001635.26_GRCm38.p6_genomic.fna /moto/ziab/users/jr3950/data/genomes/tmp_founders/bam/SW_1.merged.bam /moto/ziab/users/jr3950/data/genomes/tmp_founders/bam/SW_10.merged.bam /moto/ziab/users/jr3950/data/genomes/tmp_founders/bam/SW_11.merged.bam /moto/ziab/users/jr3950/data/genomes/tmp_founders/bam/SW_1133.merged.bam /moto/ziab/users/jr3950/data/genomes/tmp_founders/bam/SW_12.merged.bam /moto/ziab/users/jr3950/data/genomes/tmp_founders/bam/SW_2.merged.bam /moto/ziab/users/jr3950/data/genomes/tmp_founders/bam/SW_25.merged.bam /moto/ziab/users/jr3950/data/genomes/tmp_founders/bam/SW_3.merged.bam /moto/ziab/users/jr3950/data/genomes/tmp_founders/bam/SW_31.merged.bam /moto/ziab/users/jr3950/data/genomes/tmp_founders/bam/SW_4.merged.bam /moto/ziab/users/jr3950/data/genomes/tmp_founders/bam/SW_5.merged.bam /moto/ziab/users/jr3950/data/genomes/tmp_founders/bam/SW_6.merged.bam /moto/ziab/users/jr3950/data/genomes/tmp_founders/bam/SW_7.merged.bam /moto/ziab/users/jr3950/data/genomes/tmp_founders/bam/SW_8.merged.bam /moto/ziab/users/jr3950/data/genomes/tmp_founders/bam/SW_80.merged.bam /moto/ziab/users/jr3950/data/genomes/tmp_founders/bam/SW_84.merged.bam /moto/ziab/users/jr3950/data/genomes/tmp_founders/bam/SW_85.merged.bam /moto/ziab/users/jr3950/data/genomes/tmp_founders/bam/SW_87.merged.bam /moto/ziab/users/jr3950/data/genomes/tmp_founders/bam/SW_9.merged.bam /moto/ziab/users/jr3950/data/genomes/tmp_founders/bam/SW_90.merged.bam'\"\n",
      "[1] \"Submitted batch job 13460491\"\n",
      "[1] \"sbatch -c 1 --mem=16gb --job-name=Whatshap_F0F1 -A ziab -t 119:59:00 --wrap '. ~/ColumbiaProjects/Barn_Mice/activateEnv.sh my_conda4; sh -xe ~/ColumbiaProjects/Barn_Mice/01_Genotyping/01_Founders/04_Whatshap_phase.sh NC_000073.6 7 /moto/ziab/users/jr3950/data/genomes/tmp_founders/bam/Founders.chr7.vcf.gz /moto/ziab/users/jr3950/data/genomes/tmp_founders/bam/chr7.genmap.csv ~/ColumbiaProjects/Barn_Mice/XX_Data/avg.map.csv.gz samtools-116 ~/ColumbiaProjects/Barn_Mice/XX_Data/FoundersF1.no1140.ped /moto/ziab/users/jr3950/data/genomes/tmp_founders/bam /moto/ziab/users/jr3950/data/genomes/GCF_000001635.26_GRCm38.p6_genomic.fna /moto/ziab/users/jr3950/data/genomes/tmp_founders/bam/SW_1.merged.bam /moto/ziab/users/jr3950/data/genomes/tmp_founders/bam/SW_10.merged.bam /moto/ziab/users/jr3950/data/genomes/tmp_founders/bam/SW_11.merged.bam /moto/ziab/users/jr3950/data/genomes/tmp_founders/bam/SW_1133.merged.bam /moto/ziab/users/jr3950/data/genomes/tmp_founders/bam/SW_12.merged.bam /moto/ziab/users/jr3950/data/genomes/tmp_founders/bam/SW_2.merged.bam /moto/ziab/users/jr3950/data/genomes/tmp_founders/bam/SW_25.merged.bam /moto/ziab/users/jr3950/data/genomes/tmp_founders/bam/SW_3.merged.bam /moto/ziab/users/jr3950/data/genomes/tmp_founders/bam/SW_31.merged.bam /moto/ziab/users/jr3950/data/genomes/tmp_founders/bam/SW_4.merged.bam /moto/ziab/users/jr3950/data/genomes/tmp_founders/bam/SW_5.merged.bam /moto/ziab/users/jr3950/data/genomes/tmp_founders/bam/SW_6.merged.bam /moto/ziab/users/jr3950/data/genomes/tmp_founders/bam/SW_7.merged.bam /moto/ziab/users/jr3950/data/genomes/tmp_founders/bam/SW_8.merged.bam /moto/ziab/users/jr3950/data/genomes/tmp_founders/bam/SW_80.merged.bam /moto/ziab/users/jr3950/data/genomes/tmp_founders/bam/SW_84.merged.bam /moto/ziab/users/jr3950/data/genomes/tmp_founders/bam/SW_85.merged.bam /moto/ziab/users/jr3950/data/genomes/tmp_founders/bam/SW_87.merged.bam /moto/ziab/users/jr3950/data/genomes/tmp_founders/bam/SW_9.merged.bam /moto/ziab/users/jr3950/data/genomes/tmp_founders/bam/SW_90.merged.bam'\"\n",
      "[1] \"Submitted batch job 13460492\"\n",
      "[1] \"sbatch -c 1 --mem=16gb --job-name=Whatshap_F0F1 -A ziab -t 119:59:00 --wrap '. ~/ColumbiaProjects/Barn_Mice/activateEnv.sh my_conda4; sh -xe ~/ColumbiaProjects/Barn_Mice/01_Genotyping/01_Founders/04_Whatshap_phase.sh NC_000074.6 8 /moto/ziab/users/jr3950/data/genomes/tmp_founders/bam/Founders.chr8.vcf.gz /moto/ziab/users/jr3950/data/genomes/tmp_founders/bam/chr8.genmap.csv ~/ColumbiaProjects/Barn_Mice/XX_Data/avg.map.csv.gz samtools-116 ~/ColumbiaProjects/Barn_Mice/XX_Data/FoundersF1.no1140.ped /moto/ziab/users/jr3950/data/genomes/tmp_founders/bam /moto/ziab/users/jr3950/data/genomes/GCF_000001635.26_GRCm38.p6_genomic.fna /moto/ziab/users/jr3950/data/genomes/tmp_founders/bam/SW_1.merged.bam /moto/ziab/users/jr3950/data/genomes/tmp_founders/bam/SW_10.merged.bam /moto/ziab/users/jr3950/data/genomes/tmp_founders/bam/SW_11.merged.bam /moto/ziab/users/jr3950/data/genomes/tmp_founders/bam/SW_1133.merged.bam /moto/ziab/users/jr3950/data/genomes/tmp_founders/bam/SW_12.merged.bam /moto/ziab/users/jr3950/data/genomes/tmp_founders/bam/SW_2.merged.bam /moto/ziab/users/jr3950/data/genomes/tmp_founders/bam/SW_25.merged.bam /moto/ziab/users/jr3950/data/genomes/tmp_founders/bam/SW_3.merged.bam /moto/ziab/users/jr3950/data/genomes/tmp_founders/bam/SW_31.merged.bam /moto/ziab/users/jr3950/data/genomes/tmp_founders/bam/SW_4.merged.bam /moto/ziab/users/jr3950/data/genomes/tmp_founders/bam/SW_5.merged.bam /moto/ziab/users/jr3950/data/genomes/tmp_founders/bam/SW_6.merged.bam /moto/ziab/users/jr3950/data/genomes/tmp_founders/bam/SW_7.merged.bam /moto/ziab/users/jr3950/data/genomes/tmp_founders/bam/SW_8.merged.bam /moto/ziab/users/jr3950/data/genomes/tmp_founders/bam/SW_80.merged.bam /moto/ziab/users/jr3950/data/genomes/tmp_founders/bam/SW_84.merged.bam /moto/ziab/users/jr3950/data/genomes/tmp_founders/bam/SW_85.merged.bam /moto/ziab/users/jr3950/data/genomes/tmp_founders/bam/SW_87.merged.bam /moto/ziab/users/jr3950/data/genomes/tmp_founders/bam/SW_9.merged.bam /moto/ziab/users/jr3950/data/genomes/tmp_founders/bam/SW_90.merged.bam'\"\n",
      "[1] \"Submitted batch job 13460493\"\n",
      "[1] \"sbatch -c 1 --mem=16gb --job-name=Whatshap_F0F1 -A ziab -t 119:59:00 --wrap '. ~/ColumbiaProjects/Barn_Mice/activateEnv.sh my_conda4; sh -xe ~/ColumbiaProjects/Barn_Mice/01_Genotyping/01_Founders/04_Whatshap_phase.sh NC_000075.6 9 /moto/ziab/users/jr3950/data/genomes/tmp_founders/bam/Founders.chr9.vcf.gz /moto/ziab/users/jr3950/data/genomes/tmp_founders/bam/chr9.genmap.csv ~/ColumbiaProjects/Barn_Mice/XX_Data/avg.map.csv.gz samtools-116 ~/ColumbiaProjects/Barn_Mice/XX_Data/FoundersF1.no1140.ped /moto/ziab/users/jr3950/data/genomes/tmp_founders/bam /moto/ziab/users/jr3950/data/genomes/GCF_000001635.26_GRCm38.p6_genomic.fna /moto/ziab/users/jr3950/data/genomes/tmp_founders/bam/SW_1.merged.bam /moto/ziab/users/jr3950/data/genomes/tmp_founders/bam/SW_10.merged.bam /moto/ziab/users/jr3950/data/genomes/tmp_founders/bam/SW_11.merged.bam /moto/ziab/users/jr3950/data/genomes/tmp_founders/bam/SW_1133.merged.bam /moto/ziab/users/jr3950/data/genomes/tmp_founders/bam/SW_12.merged.bam /moto/ziab/users/jr3950/data/genomes/tmp_founders/bam/SW_2.merged.bam /moto/ziab/users/jr3950/data/genomes/tmp_founders/bam/SW_25.merged.bam /moto/ziab/users/jr3950/data/genomes/tmp_founders/bam/SW_3.merged.bam /moto/ziab/users/jr3950/data/genomes/tmp_founders/bam/SW_31.merged.bam /moto/ziab/users/jr3950/data/genomes/tmp_founders/bam/SW_4.merged.bam /moto/ziab/users/jr3950/data/genomes/tmp_founders/bam/SW_5.merged.bam /moto/ziab/users/jr3950/data/genomes/tmp_founders/bam/SW_6.merged.bam /moto/ziab/users/jr3950/data/genomes/tmp_founders/bam/SW_7.merged.bam /moto/ziab/users/jr3950/data/genomes/tmp_founders/bam/SW_8.merged.bam /moto/ziab/users/jr3950/data/genomes/tmp_founders/bam/SW_80.merged.bam /moto/ziab/users/jr3950/data/genomes/tmp_founders/bam/SW_84.merged.bam /moto/ziab/users/jr3950/data/genomes/tmp_founders/bam/SW_85.merged.bam /moto/ziab/users/jr3950/data/genomes/tmp_founders/bam/SW_87.merged.bam /moto/ziab/users/jr3950/data/genomes/tmp_founders/bam/SW_9.merged.bam /moto/ziab/users/jr3950/data/genomes/tmp_founders/bam/SW_90.merged.bam'\"\n",
      "[1] \"Submitted batch job 13460494\"\n",
      "[1] \"sbatch -c 1 --mem=16gb --job-name=Whatshap_F0F1 -A ziab -t 119:59:00 --wrap '. ~/ColumbiaProjects/Barn_Mice/activateEnv.sh my_conda4; sh -xe ~/ColumbiaProjects/Barn_Mice/01_Genotyping/01_Founders/04_Whatshap_phase.sh NC_000076.6 10 /moto/ziab/users/jr3950/data/genomes/tmp_founders/bam/Founders.chr10.vcf.gz /moto/ziab/users/jr3950/data/genomes/tmp_founders/bam/chr10.genmap.csv ~/ColumbiaProjects/Barn_Mice/XX_Data/avg.map.csv.gz samtools-116 ~/ColumbiaProjects/Barn_Mice/XX_Data/FoundersF1.no1140.ped /moto/ziab/users/jr3950/data/genomes/tmp_founders/bam /moto/ziab/users/jr3950/data/genomes/GCF_000001635.26_GRCm38.p6_genomic.fna /moto/ziab/users/jr3950/data/genomes/tmp_founders/bam/SW_1.merged.bam /moto/ziab/users/jr3950/data/genomes/tmp_founders/bam/SW_10.merged.bam /moto/ziab/users/jr3950/data/genomes/tmp_founders/bam/SW_11.merged.bam /moto/ziab/users/jr3950/data/genomes/tmp_founders/bam/SW_1133.merged.bam /moto/ziab/users/jr3950/data/genomes/tmp_founders/bam/SW_12.merged.bam /moto/ziab/users/jr3950/data/genomes/tmp_founders/bam/SW_2.merged.bam /moto/ziab/users/jr3950/data/genomes/tmp_founders/bam/SW_25.merged.bam /moto/ziab/users/jr3950/data/genomes/tmp_founders/bam/SW_3.merged.bam /moto/ziab/users/jr3950/data/genomes/tmp_founders/bam/SW_31.merged.bam /moto/ziab/users/jr3950/data/genomes/tmp_founders/bam/SW_4.merged.bam /moto/ziab/users/jr3950/data/genomes/tmp_founders/bam/SW_5.merged.bam /moto/ziab/users/jr3950/data/genomes/tmp_founders/bam/SW_6.merged.bam /moto/ziab/users/jr3950/data/genomes/tmp_founders/bam/SW_7.merged.bam /moto/ziab/users/jr3950/data/genomes/tmp_founders/bam/SW_8.merged.bam /moto/ziab/users/jr3950/data/genomes/tmp_founders/bam/SW_80.merged.bam /moto/ziab/users/jr3950/data/genomes/tmp_founders/bam/SW_84.merged.bam /moto/ziab/users/jr3950/data/genomes/tmp_founders/bam/SW_85.merged.bam /moto/ziab/users/jr3950/data/genomes/tmp_founders/bam/SW_87.merged.bam /moto/ziab/users/jr3950/data/genomes/tmp_founders/bam/SW_9.merged.bam /moto/ziab/users/jr3950/data/genomes/tmp_founders/bam/SW_90.merged.bam'\"\n",
      "[1] \"Submitted batch job 13460495\"\n",
      "[1] \"sbatch -c 1 --mem=16gb --job-name=Whatshap_F0F1 -A ziab -t 119:59:00 --wrap '. ~/ColumbiaProjects/Barn_Mice/activateEnv.sh my_conda4; sh -xe ~/ColumbiaProjects/Barn_Mice/01_Genotyping/01_Founders/04_Whatshap_phase.sh NC_000077.6 11 /moto/ziab/users/jr3950/data/genomes/tmp_founders/bam/Founders.chr11.vcf.gz /moto/ziab/users/jr3950/data/genomes/tmp_founders/bam/chr11.genmap.csv ~/ColumbiaProjects/Barn_Mice/XX_Data/avg.map.csv.gz samtools-116 ~/ColumbiaProjects/Barn_Mice/XX_Data/FoundersF1.no1140.ped /moto/ziab/users/jr3950/data/genomes/tmp_founders/bam /moto/ziab/users/jr3950/data/genomes/GCF_000001635.26_GRCm38.p6_genomic.fna /moto/ziab/users/jr3950/data/genomes/tmp_founders/bam/SW_1.merged.bam /moto/ziab/users/jr3950/data/genomes/tmp_founders/bam/SW_10.merged.bam /moto/ziab/users/jr3950/data/genomes/tmp_founders/bam/SW_11.merged.bam /moto/ziab/users/jr3950/data/genomes/tmp_founders/bam/SW_1133.merged.bam /moto/ziab/users/jr3950/data/genomes/tmp_founders/bam/SW_12.merged.bam /moto/ziab/users/jr3950/data/genomes/tmp_founders/bam/SW_2.merged.bam /moto/ziab/users/jr3950/data/genomes/tmp_founders/bam/SW_25.merged.bam /moto/ziab/users/jr3950/data/genomes/tmp_founders/bam/SW_3.merged.bam /moto/ziab/users/jr3950/data/genomes/tmp_founders/bam/SW_31.merged.bam /moto/ziab/users/jr3950/data/genomes/tmp_founders/bam/SW_4.merged.bam /moto/ziab/users/jr3950/data/genomes/tmp_founders/bam/SW_5.merged.bam /moto/ziab/users/jr3950/data/genomes/tmp_founders/bam/SW_6.merged.bam /moto/ziab/users/jr3950/data/genomes/tmp_founders/bam/SW_7.merged.bam /moto/ziab/users/jr3950/data/genomes/tmp_founders/bam/SW_8.merged.bam /moto/ziab/users/jr3950/data/genomes/tmp_founders/bam/SW_80.merged.bam /moto/ziab/users/jr3950/data/genomes/tmp_founders/bam/SW_84.merged.bam /moto/ziab/users/jr3950/data/genomes/tmp_founders/bam/SW_85.merged.bam /moto/ziab/users/jr3950/data/genomes/tmp_founders/bam/SW_87.merged.bam /moto/ziab/users/jr3950/data/genomes/tmp_founders/bam/SW_9.merged.bam /moto/ziab/users/jr3950/data/genomes/tmp_founders/bam/SW_90.merged.bam'\"\n",
      "[1] \"Submitted batch job 13460496\"\n",
      "[1] \"sbatch -c 1 --mem=16gb --job-name=Whatshap_F0F1 -A ziab -t 119:59:00 --wrap '. ~/ColumbiaProjects/Barn_Mice/activateEnv.sh my_conda4; sh -xe ~/ColumbiaProjects/Barn_Mice/01_Genotyping/01_Founders/04_Whatshap_phase.sh NC_000078.6 12 /moto/ziab/users/jr3950/data/genomes/tmp_founders/bam/Founders.chr12.vcf.gz /moto/ziab/users/jr3950/data/genomes/tmp_founders/bam/chr12.genmap.csv ~/ColumbiaProjects/Barn_Mice/XX_Data/avg.map.csv.gz samtools-116 ~/ColumbiaProjects/Barn_Mice/XX_Data/FoundersF1.no1140.ped /moto/ziab/users/jr3950/data/genomes/tmp_founders/bam /moto/ziab/users/jr3950/data/genomes/GCF_000001635.26_GRCm38.p6_genomic.fna /moto/ziab/users/jr3950/data/genomes/tmp_founders/bam/SW_1.merged.bam /moto/ziab/users/jr3950/data/genomes/tmp_founders/bam/SW_10.merged.bam /moto/ziab/users/jr3950/data/genomes/tmp_founders/bam/SW_11.merged.bam /moto/ziab/users/jr3950/data/genomes/tmp_founders/bam/SW_1133.merged.bam /moto/ziab/users/jr3950/data/genomes/tmp_founders/bam/SW_12.merged.bam /moto/ziab/users/jr3950/data/genomes/tmp_founders/bam/SW_2.merged.bam /moto/ziab/users/jr3950/data/genomes/tmp_founders/bam/SW_25.merged.bam /moto/ziab/users/jr3950/data/genomes/tmp_founders/bam/SW_3.merged.bam /moto/ziab/users/jr3950/data/genomes/tmp_founders/bam/SW_31.merged.bam /moto/ziab/users/jr3950/data/genomes/tmp_founders/bam/SW_4.merged.bam /moto/ziab/users/jr3950/data/genomes/tmp_founders/bam/SW_5.merged.bam /moto/ziab/users/jr3950/data/genomes/tmp_founders/bam/SW_6.merged.bam /moto/ziab/users/jr3950/data/genomes/tmp_founders/bam/SW_7.merged.bam /moto/ziab/users/jr3950/data/genomes/tmp_founders/bam/SW_8.merged.bam /moto/ziab/users/jr3950/data/genomes/tmp_founders/bam/SW_80.merged.bam /moto/ziab/users/jr3950/data/genomes/tmp_founders/bam/SW_84.merged.bam /moto/ziab/users/jr3950/data/genomes/tmp_founders/bam/SW_85.merged.bam /moto/ziab/users/jr3950/data/genomes/tmp_founders/bam/SW_87.merged.bam /moto/ziab/users/jr3950/data/genomes/tmp_founders/bam/SW_9.merged.bam /moto/ziab/users/jr3950/data/genomes/tmp_founders/bam/SW_90.merged.bam'\"\n",
      "[1] \"Submitted batch job 13460497\"\n",
      "[1] \"sbatch -c 1 --mem=16gb --job-name=Whatshap_F0F1 -A ziab -t 119:59:00 --wrap '. ~/ColumbiaProjects/Barn_Mice/activateEnv.sh my_conda4; sh -xe ~/ColumbiaProjects/Barn_Mice/01_Genotyping/01_Founders/04_Whatshap_phase.sh NC_000079.6 13 /moto/ziab/users/jr3950/data/genomes/tmp_founders/bam/Founders.chr13.vcf.gz /moto/ziab/users/jr3950/data/genomes/tmp_founders/bam/chr13.genmap.csv ~/ColumbiaProjects/Barn_Mice/XX_Data/avg.map.csv.gz samtools-116 ~/ColumbiaProjects/Barn_Mice/XX_Data/FoundersF1.no1140.ped /moto/ziab/users/jr3950/data/genomes/tmp_founders/bam /moto/ziab/users/jr3950/data/genomes/GCF_000001635.26_GRCm38.p6_genomic.fna /moto/ziab/users/jr3950/data/genomes/tmp_founders/bam/SW_1.merged.bam /moto/ziab/users/jr3950/data/genomes/tmp_founders/bam/SW_10.merged.bam /moto/ziab/users/jr3950/data/genomes/tmp_founders/bam/SW_11.merged.bam /moto/ziab/users/jr3950/data/genomes/tmp_founders/bam/SW_1133.merged.bam /moto/ziab/users/jr3950/data/genomes/tmp_founders/bam/SW_12.merged.bam /moto/ziab/users/jr3950/data/genomes/tmp_founders/bam/SW_2.merged.bam /moto/ziab/users/jr3950/data/genomes/tmp_founders/bam/SW_25.merged.bam /moto/ziab/users/jr3950/data/genomes/tmp_founders/bam/SW_3.merged.bam /moto/ziab/users/jr3950/data/genomes/tmp_founders/bam/SW_31.merged.bam /moto/ziab/users/jr3950/data/genomes/tmp_founders/bam/SW_4.merged.bam /moto/ziab/users/jr3950/data/genomes/tmp_founders/bam/SW_5.merged.bam /moto/ziab/users/jr3950/data/genomes/tmp_founders/bam/SW_6.merged.bam /moto/ziab/users/jr3950/data/genomes/tmp_founders/bam/SW_7.merged.bam /moto/ziab/users/jr3950/data/genomes/tmp_founders/bam/SW_8.merged.bam /moto/ziab/users/jr3950/data/genomes/tmp_founders/bam/SW_80.merged.bam /moto/ziab/users/jr3950/data/genomes/tmp_founders/bam/SW_84.merged.bam /moto/ziab/users/jr3950/data/genomes/tmp_founders/bam/SW_85.merged.bam /moto/ziab/users/jr3950/data/genomes/tmp_founders/bam/SW_87.merged.bam /moto/ziab/users/jr3950/data/genomes/tmp_founders/bam/SW_9.merged.bam /moto/ziab/users/jr3950/data/genomes/tmp_founders/bam/SW_90.merged.bam'\"\n",
      "[1] \"Submitted batch job 13460498\"\n",
      "[1] \"sbatch -c 1 --mem=16gb --job-name=Whatshap_F0F1 -A ziab -t 119:59:00 --wrap '. ~/ColumbiaProjects/Barn_Mice/activateEnv.sh my_conda4; sh -xe ~/ColumbiaProjects/Barn_Mice/01_Genotyping/01_Founders/04_Whatshap_phase.sh NC_000080.6 14 /moto/ziab/users/jr3950/data/genomes/tmp_founders/bam/Founders.chr14.vcf.gz /moto/ziab/users/jr3950/data/genomes/tmp_founders/bam/chr14.genmap.csv ~/ColumbiaProjects/Barn_Mice/XX_Data/avg.map.csv.gz samtools-116 ~/ColumbiaProjects/Barn_Mice/XX_Data/FoundersF1.no1140.ped /moto/ziab/users/jr3950/data/genomes/tmp_founders/bam /moto/ziab/users/jr3950/data/genomes/GCF_000001635.26_GRCm38.p6_genomic.fna /moto/ziab/users/jr3950/data/genomes/tmp_founders/bam/SW_1.merged.bam /moto/ziab/users/jr3950/data/genomes/tmp_founders/bam/SW_10.merged.bam /moto/ziab/users/jr3950/data/genomes/tmp_founders/bam/SW_11.merged.bam /moto/ziab/users/jr3950/data/genomes/tmp_founders/bam/SW_1133.merged.bam /moto/ziab/users/jr3950/data/genomes/tmp_founders/bam/SW_12.merged.bam /moto/ziab/users/jr3950/data/genomes/tmp_founders/bam/SW_2.merged.bam /moto/ziab/users/jr3950/data/genomes/tmp_founders/bam/SW_25.merged.bam /moto/ziab/users/jr3950/data/genomes/tmp_founders/bam/SW_3.merged.bam /moto/ziab/users/jr3950/data/genomes/tmp_founders/bam/SW_31.merged.bam /moto/ziab/users/jr3950/data/genomes/tmp_founders/bam/SW_4.merged.bam /moto/ziab/users/jr3950/data/genomes/tmp_founders/bam/SW_5.merged.bam /moto/ziab/users/jr3950/data/genomes/tmp_founders/bam/SW_6.merged.bam /moto/ziab/users/jr3950/data/genomes/tmp_founders/bam/SW_7.merged.bam /moto/ziab/users/jr3950/data/genomes/tmp_founders/bam/SW_8.merged.bam /moto/ziab/users/jr3950/data/genomes/tmp_founders/bam/SW_80.merged.bam /moto/ziab/users/jr3950/data/genomes/tmp_founders/bam/SW_84.merged.bam /moto/ziab/users/jr3950/data/genomes/tmp_founders/bam/SW_85.merged.bam /moto/ziab/users/jr3950/data/genomes/tmp_founders/bam/SW_87.merged.bam /moto/ziab/users/jr3950/data/genomes/tmp_founders/bam/SW_9.merged.bam /moto/ziab/users/jr3950/data/genomes/tmp_founders/bam/SW_90.merged.bam'\"\n",
      "[1] \"Submitted batch job 13460499\"\n",
      "[1] \"sbatch -c 1 --mem=16gb --job-name=Whatshap_F0F1 -A ziab -t 119:59:00 --wrap '. ~/ColumbiaProjects/Barn_Mice/activateEnv.sh my_conda4; sh -xe ~/ColumbiaProjects/Barn_Mice/01_Genotyping/01_Founders/04_Whatshap_phase.sh NC_000081.6 15 /moto/ziab/users/jr3950/data/genomes/tmp_founders/bam/Founders.chr15.vcf.gz /moto/ziab/users/jr3950/data/genomes/tmp_founders/bam/chr15.genmap.csv ~/ColumbiaProjects/Barn_Mice/XX_Data/avg.map.csv.gz samtools-116 ~/ColumbiaProjects/Barn_Mice/XX_Data/FoundersF1.no1140.ped /moto/ziab/users/jr3950/data/genomes/tmp_founders/bam /moto/ziab/users/jr3950/data/genomes/GCF_000001635.26_GRCm38.p6_genomic.fna /moto/ziab/users/jr3950/data/genomes/tmp_founders/bam/SW_1.merged.bam /moto/ziab/users/jr3950/data/genomes/tmp_founders/bam/SW_10.merged.bam /moto/ziab/users/jr3950/data/genomes/tmp_founders/bam/SW_11.merged.bam /moto/ziab/users/jr3950/data/genomes/tmp_founders/bam/SW_1133.merged.bam /moto/ziab/users/jr3950/data/genomes/tmp_founders/bam/SW_12.merged.bam /moto/ziab/users/jr3950/data/genomes/tmp_founders/bam/SW_2.merged.bam /moto/ziab/users/jr3950/data/genomes/tmp_founders/bam/SW_25.merged.bam /moto/ziab/users/jr3950/data/genomes/tmp_founders/bam/SW_3.merged.bam /moto/ziab/users/jr3950/data/genomes/tmp_founders/bam/SW_31.merged.bam /moto/ziab/users/jr3950/data/genomes/tmp_founders/bam/SW_4.merged.bam /moto/ziab/users/jr3950/data/genomes/tmp_founders/bam/SW_5.merged.bam /moto/ziab/users/jr3950/data/genomes/tmp_founders/bam/SW_6.merged.bam /moto/ziab/users/jr3950/data/genomes/tmp_founders/bam/SW_7.merged.bam /moto/ziab/users/jr3950/data/genomes/tmp_founders/bam/SW_8.merged.bam /moto/ziab/users/jr3950/data/genomes/tmp_founders/bam/SW_80.merged.bam /moto/ziab/users/jr3950/data/genomes/tmp_founders/bam/SW_84.merged.bam /moto/ziab/users/jr3950/data/genomes/tmp_founders/bam/SW_85.merged.bam /moto/ziab/users/jr3950/data/genomes/tmp_founders/bam/SW_87.merged.bam /moto/ziab/users/jr3950/data/genomes/tmp_founders/bam/SW_9.merged.bam /moto/ziab/users/jr3950/data/genomes/tmp_founders/bam/SW_90.merged.bam'\"\n",
      "[1] \"Submitted batch job 13460500\"\n",
      "[1] \"sbatch -c 1 --mem=16gb --job-name=Whatshap_F0F1 -A ziab -t 119:59:00 --wrap '. ~/ColumbiaProjects/Barn_Mice/activateEnv.sh my_conda4; sh -xe ~/ColumbiaProjects/Barn_Mice/01_Genotyping/01_Founders/04_Whatshap_phase.sh NC_000082.6 16 /moto/ziab/users/jr3950/data/genomes/tmp_founders/bam/Founders.chr16.vcf.gz /moto/ziab/users/jr3950/data/genomes/tmp_founders/bam/chr16.genmap.csv ~/ColumbiaProjects/Barn_Mice/XX_Data/avg.map.csv.gz samtools-116 ~/ColumbiaProjects/Barn_Mice/XX_Data/FoundersF1.no1140.ped /moto/ziab/users/jr3950/data/genomes/tmp_founders/bam /moto/ziab/users/jr3950/data/genomes/GCF_000001635.26_GRCm38.p6_genomic.fna /moto/ziab/users/jr3950/data/genomes/tmp_founders/bam/SW_1.merged.bam /moto/ziab/users/jr3950/data/genomes/tmp_founders/bam/SW_10.merged.bam /moto/ziab/users/jr3950/data/genomes/tmp_founders/bam/SW_11.merged.bam /moto/ziab/users/jr3950/data/genomes/tmp_founders/bam/SW_1133.merged.bam /moto/ziab/users/jr3950/data/genomes/tmp_founders/bam/SW_12.merged.bam /moto/ziab/users/jr3950/data/genomes/tmp_founders/bam/SW_2.merged.bam /moto/ziab/users/jr3950/data/genomes/tmp_founders/bam/SW_25.merged.bam /moto/ziab/users/jr3950/data/genomes/tmp_founders/bam/SW_3.merged.bam /moto/ziab/users/jr3950/data/genomes/tmp_founders/bam/SW_31.merged.bam /moto/ziab/users/jr3950/data/genomes/tmp_founders/bam/SW_4.merged.bam /moto/ziab/users/jr3950/data/genomes/tmp_founders/bam/SW_5.merged.bam /moto/ziab/users/jr3950/data/genomes/tmp_founders/bam/SW_6.merged.bam /moto/ziab/users/jr3950/data/genomes/tmp_founders/bam/SW_7.merged.bam /moto/ziab/users/jr3950/data/genomes/tmp_founders/bam/SW_8.merged.bam /moto/ziab/users/jr3950/data/genomes/tmp_founders/bam/SW_80.merged.bam /moto/ziab/users/jr3950/data/genomes/tmp_founders/bam/SW_84.merged.bam /moto/ziab/users/jr3950/data/genomes/tmp_founders/bam/SW_85.merged.bam /moto/ziab/users/jr3950/data/genomes/tmp_founders/bam/SW_87.merged.bam /moto/ziab/users/jr3950/data/genomes/tmp_founders/bam/SW_9.merged.bam /moto/ziab/users/jr3950/data/genomes/tmp_founders/bam/SW_90.merged.bam'\"\n",
      "[1] \"Submitted batch job 13460501\"\n",
      "[1] \"sbatch -c 1 --mem=16gb --job-name=Whatshap_F0F1 -A ziab -t 119:59:00 --wrap '. ~/ColumbiaProjects/Barn_Mice/activateEnv.sh my_conda4; sh -xe ~/ColumbiaProjects/Barn_Mice/01_Genotyping/01_Founders/04_Whatshap_phase.sh NC_000083.6 17 /moto/ziab/users/jr3950/data/genomes/tmp_founders/bam/Founders.chr17.vcf.gz /moto/ziab/users/jr3950/data/genomes/tmp_founders/bam/chr17.genmap.csv ~/ColumbiaProjects/Barn_Mice/XX_Data/avg.map.csv.gz samtools-116 ~/ColumbiaProjects/Barn_Mice/XX_Data/FoundersF1.no1140.ped /moto/ziab/users/jr3950/data/genomes/tmp_founders/bam /moto/ziab/users/jr3950/data/genomes/GCF_000001635.26_GRCm38.p6_genomic.fna /moto/ziab/users/jr3950/data/genomes/tmp_founders/bam/SW_1.merged.bam /moto/ziab/users/jr3950/data/genomes/tmp_founders/bam/SW_10.merged.bam /moto/ziab/users/jr3950/data/genomes/tmp_founders/bam/SW_11.merged.bam /moto/ziab/users/jr3950/data/genomes/tmp_founders/bam/SW_1133.merged.bam /moto/ziab/users/jr3950/data/genomes/tmp_founders/bam/SW_12.merged.bam /moto/ziab/users/jr3950/data/genomes/tmp_founders/bam/SW_2.merged.bam /moto/ziab/users/jr3950/data/genomes/tmp_founders/bam/SW_25.merged.bam /moto/ziab/users/jr3950/data/genomes/tmp_founders/bam/SW_3.merged.bam /moto/ziab/users/jr3950/data/genomes/tmp_founders/bam/SW_31.merged.bam /moto/ziab/users/jr3950/data/genomes/tmp_founders/bam/SW_4.merged.bam /moto/ziab/users/jr3950/data/genomes/tmp_founders/bam/SW_5.merged.bam /moto/ziab/users/jr3950/data/genomes/tmp_founders/bam/SW_6.merged.bam /moto/ziab/users/jr3950/data/genomes/tmp_founders/bam/SW_7.merged.bam /moto/ziab/users/jr3950/data/genomes/tmp_founders/bam/SW_8.merged.bam /moto/ziab/users/jr3950/data/genomes/tmp_founders/bam/SW_80.merged.bam /moto/ziab/users/jr3950/data/genomes/tmp_founders/bam/SW_84.merged.bam /moto/ziab/users/jr3950/data/genomes/tmp_founders/bam/SW_85.merged.bam /moto/ziab/users/jr3950/data/genomes/tmp_founders/bam/SW_87.merged.bam /moto/ziab/users/jr3950/data/genomes/tmp_founders/bam/SW_9.merged.bam /moto/ziab/users/jr3950/data/genomes/tmp_founders/bam/SW_90.merged.bam'\"\n",
      "[1] \"Submitted batch job 13460502\"\n",
      "[1] \"sbatch -c 1 --mem=16gb --job-name=Whatshap_F0F1 -A ziab -t 119:59:00 --wrap '. ~/ColumbiaProjects/Barn_Mice/activateEnv.sh my_conda4; sh -xe ~/ColumbiaProjects/Barn_Mice/01_Genotyping/01_Founders/04_Whatshap_phase.sh NC_000084.6 18 /moto/ziab/users/jr3950/data/genomes/tmp_founders/bam/Founders.chr18.vcf.gz /moto/ziab/users/jr3950/data/genomes/tmp_founders/bam/chr18.genmap.csv ~/ColumbiaProjects/Barn_Mice/XX_Data/avg.map.csv.gz samtools-116 ~/ColumbiaProjects/Barn_Mice/XX_Data/FoundersF1.no1140.ped /moto/ziab/users/jr3950/data/genomes/tmp_founders/bam /moto/ziab/users/jr3950/data/genomes/GCF_000001635.26_GRCm38.p6_genomic.fna /moto/ziab/users/jr3950/data/genomes/tmp_founders/bam/SW_1.merged.bam /moto/ziab/users/jr3950/data/genomes/tmp_founders/bam/SW_10.merged.bam /moto/ziab/users/jr3950/data/genomes/tmp_founders/bam/SW_11.merged.bam /moto/ziab/users/jr3950/data/genomes/tmp_founders/bam/SW_1133.merged.bam /moto/ziab/users/jr3950/data/genomes/tmp_founders/bam/SW_12.merged.bam /moto/ziab/users/jr3950/data/genomes/tmp_founders/bam/SW_2.merged.bam /moto/ziab/users/jr3950/data/genomes/tmp_founders/bam/SW_25.merged.bam /moto/ziab/users/jr3950/data/genomes/tmp_founders/bam/SW_3.merged.bam /moto/ziab/users/jr3950/data/genomes/tmp_founders/bam/SW_31.merged.bam /moto/ziab/users/jr3950/data/genomes/tmp_founders/bam/SW_4.merged.bam /moto/ziab/users/jr3950/data/genomes/tmp_founders/bam/SW_5.merged.bam /moto/ziab/users/jr3950/data/genomes/tmp_founders/bam/SW_6.merged.bam /moto/ziab/users/jr3950/data/genomes/tmp_founders/bam/SW_7.merged.bam /moto/ziab/users/jr3950/data/genomes/tmp_founders/bam/SW_8.merged.bam /moto/ziab/users/jr3950/data/genomes/tmp_founders/bam/SW_80.merged.bam /moto/ziab/users/jr3950/data/genomes/tmp_founders/bam/SW_84.merged.bam /moto/ziab/users/jr3950/data/genomes/tmp_founders/bam/SW_85.merged.bam /moto/ziab/users/jr3950/data/genomes/tmp_founders/bam/SW_87.merged.bam /moto/ziab/users/jr3950/data/genomes/tmp_founders/bam/SW_9.merged.bam /moto/ziab/users/jr3950/data/genomes/tmp_founders/bam/SW_90.merged.bam'\"\n",
      "[1] \"Submitted batch job 13460503\"\n",
      "[1] \"sbatch -c 1 --mem=16gb --job-name=Whatshap_F0F1 -A ziab -t 119:59:00 --wrap '. ~/ColumbiaProjects/Barn_Mice/activateEnv.sh my_conda4; sh -xe ~/ColumbiaProjects/Barn_Mice/01_Genotyping/01_Founders/04_Whatshap_phase.sh NC_000085.6 19 /moto/ziab/users/jr3950/data/genomes/tmp_founders/bam/Founders.chr19.vcf.gz /moto/ziab/users/jr3950/data/genomes/tmp_founders/bam/chr19.genmap.csv ~/ColumbiaProjects/Barn_Mice/XX_Data/avg.map.csv.gz samtools-116 ~/ColumbiaProjects/Barn_Mice/XX_Data/FoundersF1.no1140.ped /moto/ziab/users/jr3950/data/genomes/tmp_founders/bam /moto/ziab/users/jr3950/data/genomes/GCF_000001635.26_GRCm38.p6_genomic.fna /moto/ziab/users/jr3950/data/genomes/tmp_founders/bam/SW_1.merged.bam /moto/ziab/users/jr3950/data/genomes/tmp_founders/bam/SW_10.merged.bam /moto/ziab/users/jr3950/data/genomes/tmp_founders/bam/SW_11.merged.bam /moto/ziab/users/jr3950/data/genomes/tmp_founders/bam/SW_1133.merged.bam /moto/ziab/users/jr3950/data/genomes/tmp_founders/bam/SW_12.merged.bam /moto/ziab/users/jr3950/data/genomes/tmp_founders/bam/SW_2.merged.bam /moto/ziab/users/jr3950/data/genomes/tmp_founders/bam/SW_25.merged.bam /moto/ziab/users/jr3950/data/genomes/tmp_founders/bam/SW_3.merged.bam /moto/ziab/users/jr3950/data/genomes/tmp_founders/bam/SW_31.merged.bam /moto/ziab/users/jr3950/data/genomes/tmp_founders/bam/SW_4.merged.bam /moto/ziab/users/jr3950/data/genomes/tmp_founders/bam/SW_5.merged.bam /moto/ziab/users/jr3950/data/genomes/tmp_founders/bam/SW_6.merged.bam /moto/ziab/users/jr3950/data/genomes/tmp_founders/bam/SW_7.merged.bam /moto/ziab/users/jr3950/data/genomes/tmp_founders/bam/SW_8.merged.bam /moto/ziab/users/jr3950/data/genomes/tmp_founders/bam/SW_80.merged.bam /moto/ziab/users/jr3950/data/genomes/tmp_founders/bam/SW_84.merged.bam /moto/ziab/users/jr3950/data/genomes/tmp_founders/bam/SW_85.merged.bam /moto/ziab/users/jr3950/data/genomes/tmp_founders/bam/SW_87.merged.bam /moto/ziab/users/jr3950/data/genomes/tmp_founders/bam/SW_9.merged.bam /moto/ziab/users/jr3950/data/genomes/tmp_founders/bam/SW_90.merged.bam'\"\n",
      "[1] \"Submitted batch job 13460504\"\n"
     ]
    }
   ],
   "source": [
    "jobname=\"Whatshap_F0F1\"\n",
    "for(i in 1:nrow(chrs)){\n",
    "    if(sum(grepl(paste0(\".chr\",chrs$chrSimple[i],\".\"), files, fixed = TRUE))!=1){\n",
    "        stop(paste(\"No file for chr\", chrs$chrSimple[i]))\n",
    "    }\n",
    "    \n",
    "    cmd=paste0(\"sh -xe \",Barn_Mice_dir, \"01_Genotyping/01_Founders/04_Whatshap_phase.sh \",\n",
    "               chrs$chrFasta[i], \" \", chrs$chrSimple[i],\n",
    "               \" \", files[which(grepl(paste0(\".chr\",chrs$chrSimple[i],\".\"), files, fixed = TRUE))],\n",
    "               \" \", bam_dir, \"/chr\", chrs$chrSimple[i], \".genmap.csv\",\n",
    "               \" \", Barn_Mice_dir, \"XX_Data/avg.map.csv.gz\",\n",
    "               \" \", env_mapping_etc, \n",
    "               \" \", Barn_Mice_dir, \"XX_Data/FoundersF1.no1140.ped\",\n",
    "               \" \", bam_dir, \" \", ref_file,\n",
    "               \" \", paste(bam_files, collapse=\" \"))\n",
    "    \n",
    "    execute_cmd_sbatch(cmd, mem=\"16gb\", cpu=\"1\", time=\"long\", env=env_jupyter, jobname=jobname,\n",
    "                          activateEnvScript=paste0(Barn_Mice_dir,\"activateEnv.sh\")) \n",
    "        Sys.sleep(1)\n",
    "    }"
   ]
  }
 ],
 "metadata": {
  "kernelspec": {
   "display_name": "R",
   "language": "R",
   "name": "ir"
  },
  "language_info": {
   "codemirror_mode": "r",
   "file_extension": ".r",
   "mimetype": "text/x-r-source",
   "name": "R",
   "pygments_lexer": "r",
   "version": "4.2.3"
  }
 },
 "nbformat": 4,
 "nbformat_minor": 4
}
