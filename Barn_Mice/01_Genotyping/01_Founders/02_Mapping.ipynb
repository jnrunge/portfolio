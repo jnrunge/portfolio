{
 "cells": [
  {
   "cell_type": "markdown",
   "metadata": {},
   "source": [
    "calling [`02_Mapping.sh`](./02_Mapping.sh) to map, markdup, sort, and addreadgroups the reads"
   ]
  },
  {
   "cell_type": "code",
   "execution_count": 1,
   "metadata": {},
   "outputs": [
    {
     "name": "stderr",
     "output_type": "stream",
     "text": [
      "\u001b[32mv\u001b[39m Reading from \u001b[36mStatus of mouse sequencing\u001b[39m.\n",
      "\n",
      "\u001b[32mv\u001b[39m Range '\u001b[33m'All founder files'\u001b[39m'.\n",
      "\n",
      "\n",
      "Attaching package: 'tidytable'\n",
      "\n",
      "\n",
      "The following objects are masked from 'package:stats':\n",
      "\n",
      "    dt, filter, lag\n",
      "\n",
      "\n",
      "The following object is masked from 'package:base':\n",
      "\n",
      "    %in%\n",
      "\n",
      "\n",
      "\n",
      "Attaching package: 'stringdist'\n",
      "\n",
      "\n",
      "The following object is masked from 'package:tidytable':\n",
      "\n",
      "    extract\n",
      "\n",
      "\n"
     ]
    }
   ],
   "source": [
    "# set important data in the config file first!\n",
    "source(\"config.R\")\n",
    "source(\"../../extra-R-functions.R\")\n",
    "library(stringdist)"
   ]
  },
  {
   "cell_type": "code",
   "execution_count": 2,
   "metadata": {},
   "outputs": [],
   "source": [
    "if(!dir.exists(bam_dir)){\n",
    "    dir.create(bam_dir)\n",
    "}"
   ]
  },
  {
   "cell_type": "code",
   "execution_count": 3,
   "metadata": {
    "scrolled": true
   },
   "outputs": [
    {
     "data": {
      "text/html": [
       "<table class=\"dataframe\">\n",
       "<caption>A tibble: 6 x 4</caption>\n",
       "<thead>\n",
       "\t<tr><th scope=col>File1</th><th scope=col>File2</th><th scope=col>ID</th><th scope=col>Engram_folder</th></tr>\n",
       "\t<tr><th scope=col>&lt;chr&gt;</th><th scope=col>&lt;chr&gt;</th><th scope=col>&lt;chr&gt;</th><th scope=col>&lt;chr&gt;</th></tr>\n",
       "</thead>\n",
       "<tbody>\n",
       "\t<tr><td>F1_fwd_paired.fq.gz</td><td>F1_rev_paired.fq.gz</td><td>SW_1</td><td>/home/jr3950/mnt/sequencing_data/201810xx/Founders-99592493/trimmed</td></tr>\n",
       "\t<tr><td>F2_fwd_paired.fq.gz</td><td>F2_rev_paired.fq.gz</td><td>SW_2</td><td>/home/jr3950/mnt/sequencing_data/201810xx/Founders-99592493/trimmed</td></tr>\n",
       "\t<tr><td>F3_fwd_paired.fq.gz</td><td>F3_rev_paired.fq.gz</td><td>SW_3</td><td>/home/jr3950/mnt/sequencing_data/201810xx/Founders-99592493/trimmed</td></tr>\n",
       "\t<tr><td>F4_fwd_paired.fq.gz</td><td>F4_rev_paired.fq.gz</td><td>SW_4</td><td>/home/jr3950/mnt/sequencing_data/201810xx/Founders-99592493/trimmed</td></tr>\n",
       "\t<tr><td>F5_fwd_paired.fq.gz</td><td>F5_rev_paired.fq.gz</td><td>SW_5</td><td>/home/jr3950/mnt/sequencing_data/201810xx/Founders-99592493/trimmed</td></tr>\n",
       "\t<tr><td>F6_fwd_paired.fq.gz</td><td>F6_rev_paired.fq.gz</td><td>SW_6</td><td>/home/jr3950/mnt/sequencing_data/201810xx/Founders-99592493/trimmed</td></tr>\n",
       "</tbody>\n",
       "</table>\n"
      ],
      "text/latex": [
       "A tibble: 6 x 4\n",
       "\\begin{tabular}{llll}\n",
       " File1 & File2 & ID & Engram\\_folder\\\\\n",
       " <chr> & <chr> & <chr> & <chr>\\\\\n",
       "\\hline\n",
       "\t F1\\_fwd\\_paired.fq.gz & F1\\_rev\\_paired.fq.gz & SW\\_1 & /home/jr3950/mnt/sequencing\\_data/201810xx/Founders-99592493/trimmed\\\\\n",
       "\t F2\\_fwd\\_paired.fq.gz & F2\\_rev\\_paired.fq.gz & SW\\_2 & /home/jr3950/mnt/sequencing\\_data/201810xx/Founders-99592493/trimmed\\\\\n",
       "\t F3\\_fwd\\_paired.fq.gz & F3\\_rev\\_paired.fq.gz & SW\\_3 & /home/jr3950/mnt/sequencing\\_data/201810xx/Founders-99592493/trimmed\\\\\n",
       "\t F4\\_fwd\\_paired.fq.gz & F4\\_rev\\_paired.fq.gz & SW\\_4 & /home/jr3950/mnt/sequencing\\_data/201810xx/Founders-99592493/trimmed\\\\\n",
       "\t F5\\_fwd\\_paired.fq.gz & F5\\_rev\\_paired.fq.gz & SW\\_5 & /home/jr3950/mnt/sequencing\\_data/201810xx/Founders-99592493/trimmed\\\\\n",
       "\t F6\\_fwd\\_paired.fq.gz & F6\\_rev\\_paired.fq.gz & SW\\_6 & /home/jr3950/mnt/sequencing\\_data/201810xx/Founders-99592493/trimmed\\\\\n",
       "\\end{tabular}\n"
      ],
      "text/markdown": [
       "\n",
       "A tibble: 6 x 4\n",
       "\n",
       "| File1 &lt;chr&gt; | File2 &lt;chr&gt; | ID &lt;chr&gt; | Engram_folder &lt;chr&gt; |\n",
       "|---|---|---|---|\n",
       "| F1_fwd_paired.fq.gz | F1_rev_paired.fq.gz | SW_1 | /home/jr3950/mnt/sequencing_data/201810xx/Founders-99592493/trimmed |\n",
       "| F2_fwd_paired.fq.gz | F2_rev_paired.fq.gz | SW_2 | /home/jr3950/mnt/sequencing_data/201810xx/Founders-99592493/trimmed |\n",
       "| F3_fwd_paired.fq.gz | F3_rev_paired.fq.gz | SW_3 | /home/jr3950/mnt/sequencing_data/201810xx/Founders-99592493/trimmed |\n",
       "| F4_fwd_paired.fq.gz | F4_rev_paired.fq.gz | SW_4 | /home/jr3950/mnt/sequencing_data/201810xx/Founders-99592493/trimmed |\n",
       "| F5_fwd_paired.fq.gz | F5_rev_paired.fq.gz | SW_5 | /home/jr3950/mnt/sequencing_data/201810xx/Founders-99592493/trimmed |\n",
       "| F6_fwd_paired.fq.gz | F6_rev_paired.fq.gz | SW_6 | /home/jr3950/mnt/sequencing_data/201810xx/Founders-99592493/trimmed |\n",
       "\n"
      ],
      "text/plain": [
       "  File1               File2               ID  \n",
       "1 F1_fwd_paired.fq.gz F1_rev_paired.fq.gz SW_1\n",
       "2 F2_fwd_paired.fq.gz F2_rev_paired.fq.gz SW_2\n",
       "3 F3_fwd_paired.fq.gz F3_rev_paired.fq.gz SW_3\n",
       "4 F4_fwd_paired.fq.gz F4_rev_paired.fq.gz SW_4\n",
       "5 F5_fwd_paired.fq.gz F5_rev_paired.fq.gz SW_5\n",
       "6 F6_fwd_paired.fq.gz F6_rev_paired.fq.gz SW_6\n",
       "  Engram_folder                                                      \n",
       "1 /home/jr3950/mnt/sequencing_data/201810xx/Founders-99592493/trimmed\n",
       "2 /home/jr3950/mnt/sequencing_data/201810xx/Founders-99592493/trimmed\n",
       "3 /home/jr3950/mnt/sequencing_data/201810xx/Founders-99592493/trimmed\n",
       "4 /home/jr3950/mnt/sequencing_data/201810xx/Founders-99592493/trimmed\n",
       "5 /home/jr3950/mnt/sequencing_data/201810xx/Founders-99592493/trimmed\n",
       "6 /home/jr3950/mnt/sequencing_data/201810xx/Founders-99592493/trimmed"
      ]
     },
     "metadata": {},
     "output_type": "display_data"
    }
   ],
   "source": [
    "head(files_df)"
   ]
  },
  {
   "cell_type": "markdown",
   "metadata": {},
   "source": [
    "**The script removes the trimmed FASTQ files at the end.**"
   ]
  },
  {
   "cell_type": "code",
   "execution_count": 4,
   "metadata": {},
   "outputs": [
    {
     "name": "stdout",
     "output_type": "stream",
     "text": [
      "[1] \"SW_1\"\n",
      "[1] \"/moto/ziab/users/jr3950/data/genomes/tmp_founders/trim_galore/18163FL-04-01-01V_S31_L002_R1_001_val_1.fq.gz\"\n",
      "[1] \"/moto/ziab/users/jr3950/data/genomes/tmp_founders/trim_galore/18163FL-04-01-01V_S31_L002_R2_001_val_2.fq.gz\"\n",
      "[1] \"/moto/ziab/users/jr3950/data/genomes/tmp_founders/bam/SW_1.5.bam\"\n",
      "[1] \"SW_2\"\n",
      "[1] \"/moto/ziab/users/jr3950/data/genomes/tmp_founders/trim_galore/18163FL-04-01-02V_S32_L002_R1_001_val_1.fq.gz\"\n",
      "[1] \"/moto/ziab/users/jr3950/data/genomes/tmp_founders/trim_galore/18163FL-04-01-02V_S32_L002_R2_001_val_2.fq.gz\"\n",
      "[1] \"/moto/ziab/users/jr3950/data/genomes/tmp_founders/bam/SW_2.5.bam\"\n",
      "[1] \"SW_11\"\n",
      "[1] \"/moto/ziab/users/jr3950/data/genomes/tmp_founders/trim_galore/18163FL-04-01-11V_S41_L002_R1_001_val_1.fq.gz\"\n",
      "[1] \"/moto/ziab/users/jr3950/data/genomes/tmp_founders/trim_galore/18163FL-04-01-11V_S41_L002_R2_001_val_2.fq.gz\"\n",
      "[1] \"/moto/ziab/users/jr3950/data/genomes/tmp_founders/bam/SW_11.5.bam\"\n",
      "[1] \"SW_11\"\n",
      "[1] \"/moto/ziab/users/jr3950/data/genomes/tmp_founders/trim_galore/18163FL-06-01-13_S13_L001_R1_001_val_1.fq.gz\"\n",
      "[1] \"/moto/ziab/users/jr3950/data/genomes/tmp_founders/trim_galore/18163FL-06-01-13_S13_L001_R2_001_val_2.fq.gz\"\n",
      "[1] \"/moto/ziab/users/jr3950/data/genomes/tmp_founders/bam/SW_11.7.bam\"\n",
      "[1] \"SW_1\"\n",
      "[1] \"/moto/ziab/users/jr3950/data/genomes/tmp_founders/trim_galore/18163FL-06-01-18_S18_L001_R1_001_val_1.fq.gz\"\n",
      "[1] \"/moto/ziab/users/jr3950/data/genomes/tmp_founders/trim_galore/18163FL-06-01-18_S18_L001_R2_001_val_2.fq.gz\"\n",
      "[1] \"/moto/ziab/users/jr3950/data/genomes/tmp_founders/bam/SW_1.7.bam\"\n",
      "[1] \"SW_84\"\n",
      "[1] \"/moto/ziab/users/jr3950/data/genomes/tmp_founders/trim_galore/18163FL-07-01-13_S13_L001_R1_001_val_1.fq.gz\"\n",
      "[1] \"/moto/ziab/users/jr3950/data/genomes/tmp_founders/trim_galore/18163FL-07-01-13_S13_L001_R2_001_val_2.fq.gz\"\n",
      "[1] \"/moto/ziab/users/jr3950/data/genomes/tmp_founders/bam/SW_84.1.bam\"\n"
     ]
    }
   ],
   "source": [
    "initial_timedate=Sys.time()\n",
    "\n",
    "trimmed_files_fwd=list.files(path=trim_dir,pattern=\"val_1.fq.gz$\",full.names = TRUE)\n",
    "trimmed_files_rev=list.files(path=trim_dir,pattern=\"val_2.fq.gz$\",full.names = TRUE)\n",
    "for(i in 1:length(trimmed_files_fwd)){\n",
    "    f1=trimmed_files_fwd[i]\n",
    "    FileNameDistances=stringdist(a=files_df$File1,b=f1,method = \"lv\")\n",
    "    ID=files_df$ID[which(FileNameDistances==min(FileNameDistances))]\n",
    "    FileNameDistancesRev=stringdist(a=trimmed_files_rev,b=files_df$File2[which(FileNameDistances==min(FileNameDistances))],method = \"lv\")\n",
    "    f2=trimmed_files_rev[which(FileNameDistancesRev==min(FileNameDistancesRev))]\n",
    "    if(file.exists(f2)){\n",
    "        print(ID)\n",
    "        print(f1)\n",
    "        print(f2)\n",
    "        nthSequenceOfID=which(files_df$File1[files_df$ID==ID]==files_df$File1[which(FileNameDistances==min(FileNameDistances))])\n",
    "        end_bam=paste0(bam_dir,\"/\",ID,\".\",nthSequenceOfID,\".bam\")\n",
    "        print(end_bam)\n",
    "        if(!file.exists(end_bam)){\n",
    "            cmd=paste0(\"cd \",bam_dir,\" && sh -xe \",Barn_Mice_dir,\"01_Genotyping/01_Founders/02_Mapping.sh \",\n",
    "                      f1,\" \",f2,\" \",ref_file,\n",
    "                      \" \",ID,\" \",nthSequenceOfID)\n",
    "            print(cmd)\n",
    "            \n",
    "            # make sbatch and keep a list of all sbatches to be run\n",
    "            # this allows for drip-fed running of sbatches\n",
    "            # this is only needed in cases where running everything simulateneouly would be an issue\n",
    "            # here the issue we want to avoid is the ballooning in size when too many are run at once\n",
    "            # (SAM files)\n",
    "            \n",
    "            sbatch_list=execute_complex_sbatch(list_of_cmds = cmd,jobname = jobname<-\"map-founders\",\n",
    "                                               scripts_dir = paste0(bam_dir,\"/scripts\"), \n",
    "                                               uniqueRunID = i,cores = \"2\",mem = \"32G\",time = \"short\",\n",
    "                                               env = env_mapping_etc, initial_timedate = initial_timedate, \n",
    "                                               jobs_simul = 10,list_of_additional_flags=c(paste0(\"-A \",slurm_acc)),\n",
    "                                              activateEnvScript=paste0(Barn_Mice_dir,\"activateEnv.sh\"),\n",
    "                                              Execute_Sbatches_Env=env_jupyter)\n",
    "        }\n",
    "    }\n",
    "}"
   ]
  },
  {
   "cell_type": "code",
   "execution_count": 5,
   "metadata": {},
   "outputs": [
    {
     "ename": "ERROR",
     "evalue": "Error in eval(expr, envir, enclos): object 'sbatch_list' not found\n",
     "output_type": "error",
     "traceback": [
      "Error in eval(expr, envir, enclos): object 'sbatch_list' not found\nTraceback:\n"
     ]
    }
   ],
   "source": [
    "sbatch_list"
   ]
  },
  {
   "cell_type": "code",
   "execution_count": 6,
   "metadata": {},
   "outputs": [
    {
     "name": "stdout",
     "output_type": "stream",
     "text": [
      "[1] \"2 /moto/ziab/users/jr3950/data/genomes/tmp_founders/bam/scripts/map-founders.list\"\n",
      "[1] \"[1] \\\"Currently running 0 jobs.\\\"\"               \n",
      "[2] \"[1] \\\"2 sbatches remaining! Running 11 more...\\\"\"\n",
      "[3] \"[1] \\\"Submitted batch job 13332377\\\"\"            \n",
      "[4] \"[1] \\\"Submitted batch job 13332378\\\"\"            \n"
     ]
    }
   ],
   "source": [
    "start_sbatch_list(sbatch_list, 10, jobname, initial_timedate)"
   ]
  }
 ],
 "metadata": {
  "kernelspec": {
   "display_name": "R",
   "language": "R",
   "name": "ir"
  },
  "language_info": {
   "codemirror_mode": "r",
   "file_extension": ".r",
   "mimetype": "text/x-r-source",
   "name": "R",
   "pygments_lexer": "r",
   "version": "4.2.3"
  }
 },
 "nbformat": 4,
 "nbformat_minor": 4
}
