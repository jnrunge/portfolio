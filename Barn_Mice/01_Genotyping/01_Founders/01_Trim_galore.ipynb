{
 "cells": [
  {
   "cell_type": "markdown",
   "metadata": {},
   "source": [
    "I am running `trim_galore` (<https://github.com/FelixKrueger/TrimGalore>) to automatically detect and remove adapters (and very short reads). "
   ]
  },
  {
   "cell_type": "code",
   "execution_count": 1,
   "metadata": {},
   "outputs": [
    {
     "name": "stderr",
     "output_type": "stream",
     "text": [
      "Auto-refreshing stale OAuth token.\n",
      "\n",
      "\u001b[32mv\u001b[39m Reading from \u001b[36mStatus of mouse sequencing\u001b[39m.\n",
      "\n",
      "\u001b[32mv\u001b[39m Range '\u001b[33m'All founder files'\u001b[39m'.\n",
      "\n",
      "\n",
      "Attaching package: 'tidytable'\n",
      "\n",
      "\n",
      "The following objects are masked from 'package:stats':\n",
      "\n",
      "    dt, filter, lag\n",
      "\n",
      "\n",
      "The following object is masked from 'package:base':\n",
      "\n",
      "    %in%\n",
      "\n",
      "\n"
     ]
    }
   ],
   "source": [
    "# set important data in the config file first!\n",
    "source(\"config.R\")"
   ]
  },
  {
   "cell_type": "code",
   "execution_count": 2,
   "metadata": {},
   "outputs": [],
   "source": [
    "source(\"../../extra-R-functions.R\")"
   ]
  },
  {
   "cell_type": "code",
   "execution_count": 3,
   "metadata": {},
   "outputs": [
    {
     "name": "stderr",
     "output_type": "stream",
     "text": [
      "\n",
      "Attaching package: 'stringdist'\n",
      "\n",
      "\n",
      "The following object is masked from 'package:tidytable':\n",
      "\n",
      "    extract\n",
      "\n",
      "\n"
     ]
    }
   ],
   "source": [
    "library(stringdist)"
   ]
  },
  {
   "cell_type": "code",
   "execution_count": 4,
   "metadata": {
    "scrolled": true
   },
   "outputs": [
    {
     "data": {
      "text/html": [
       "<style>\n",
       ".list-inline {list-style: none; margin:0; padding: 0}\n",
       ".list-inline>li {display: inline-block}\n",
       ".list-inline>li:not(:last-child)::after {content: \"\\00b7\"; padding: 0 .5ex}\n",
       "</style>\n",
       "<ol class=list-inline><li>'18163FL-02-01-01_S1_L006_R1_001.fastq.gz'</li><li>'18163FL-02-01-01_S1_L006_R2_001.fastq.gz'</li><li>'18163FL-02-01-04_S4_L006_R1_001.fastq.gz'</li><li>'18163FL-02-01-04_S4_L006_R2_001.fastq.gz'</li><li>'18163FL-02-01-06_S6_L006_R1_001.fastq.gz'</li><li>'18163FL-02-01-06_S6_L006_R2_001.fastq.gz'</li></ol>\n"
      ],
      "text/latex": [
       "\\begin{enumerate*}\n",
       "\\item '18163FL-02-01-01\\_S1\\_L006\\_R1\\_001.fastq.gz'\n",
       "\\item '18163FL-02-01-01\\_S1\\_L006\\_R2\\_001.fastq.gz'\n",
       "\\item '18163FL-02-01-04\\_S4\\_L006\\_R1\\_001.fastq.gz'\n",
       "\\item '18163FL-02-01-04\\_S4\\_L006\\_R2\\_001.fastq.gz'\n",
       "\\item '18163FL-02-01-06\\_S6\\_L006\\_R1\\_001.fastq.gz'\n",
       "\\item '18163FL-02-01-06\\_S6\\_L006\\_R2\\_001.fastq.gz'\n",
       "\\end{enumerate*}\n"
      ],
      "text/markdown": [
       "1. '18163FL-02-01-01_S1_L006_R1_001.fastq.gz'\n",
       "2. '18163FL-02-01-01_S1_L006_R2_001.fastq.gz'\n",
       "3. '18163FL-02-01-04_S4_L006_R1_001.fastq.gz'\n",
       "4. '18163FL-02-01-04_S4_L006_R2_001.fastq.gz'\n",
       "5. '18163FL-02-01-06_S6_L006_R1_001.fastq.gz'\n",
       "6. '18163FL-02-01-06_S6_L006_R2_001.fastq.gz'\n",
       "\n",
       "\n"
      ],
      "text/plain": [
       "[1] \"18163FL-02-01-01_S1_L006_R1_001.fastq.gz\"\n",
       "[2] \"18163FL-02-01-01_S1_L006_R2_001.fastq.gz\"\n",
       "[3] \"18163FL-02-01-04_S4_L006_R1_001.fastq.gz\"\n",
       "[4] \"18163FL-02-01-04_S4_L006_R2_001.fastq.gz\"\n",
       "[5] \"18163FL-02-01-06_S6_L006_R1_001.fastq.gz\"\n",
       "[6] \"18163FL-02-01-06_S6_L006_R2_001.fastq.gz\""
      ]
     },
     "metadata": {},
     "output_type": "display_data"
    }
   ],
   "source": [
    "fastq_files=list.files(path=folder_for_sequences,pattern=\"fq.gz$\")\n",
    "fastq_files=c(fastq_files,list.files(path=folder_for_sequences,pattern=\"fastq.gz$\"))\n",
    "fastq_files=sort(fastq_files)\n",
    "head(fastq_files)"
   ]
  },
  {
   "cell_type": "code",
   "execution_count": 5,
   "metadata": {},
   "outputs": [
    {
     "data": {
      "text/html": [
       "10"
      ],
      "text/latex": [
       "10"
      ],
      "text/markdown": [
       "10"
      ],
      "text/plain": [
       "[1] 10"
      ]
     },
     "metadata": {},
     "output_type": "display_data"
    }
   ],
   "source": [
    "length(fastq_files)"
   ]
  },
  {
   "cell_type": "code",
   "execution_count": 6,
   "metadata": {},
   "outputs": [],
   "source": [
    "HaveFilesBeenTrimmed=function(){\n",
    "    # see if files have been trimmed\n",
    "    trimmed_files_expected_1=paste0(str_replace(str_replace(fastq_files,fixed(\".fq.gz\"),\n",
    "                                                \"\"),fixed(\".fastq.gz\"),\"\"),\"_val_1.fq.gz\")\n",
    "    trimmed_files_expected_2=paste0(str_replace(str_replace(fastq_files,fixed(\".fq.gz\"),\n",
    "                                                \"\"),fixed(\".fastq.gz\"),\"\"),\"_val_2.fq.gz\")\n",
    "\n",
    "    if(!dir.exists(trim_dir)){\n",
    "        dir.create(trim_dir)\n",
    "    }\n",
    "    trimmed_files=list.files(path=trim_dir,pattern=\"fq.gz$\")\n",
    "\n",
    "    not_yet_trimmed=!(trimmed_files_expected_1%in%trimmed_files) & !(trimmed_files_expected_2 %in% trimmed_files)\n",
    "    \n",
    "    return(not_yet_trimmed)\n",
    "}"
   ]
  },
  {
   "cell_type": "code",
   "execution_count": 7,
   "metadata": {},
   "outputs": [],
   "source": [
    "# see if files have been trimmed\n",
    "not_yet_trimmed=which(HaveFilesBeenTrimmed())\n",
    "\n",
    "fastq_files=fastq_files[not_yet_trimmed]"
   ]
  },
  {
   "cell_type": "code",
   "execution_count": 8,
   "metadata": {},
   "outputs": [
    {
     "data": {
      "text/html": [
       "<style>\n",
       ".list-inline {list-style: none; margin:0; padding: 0}\n",
       ".list-inline>li {display: inline-block}\n",
       ".list-inline>li:not(:last-child)::after {content: \"\\00b7\"; padding: 0 .5ex}\n",
       "</style>\n",
       "<ol class=list-inline><li>1</li><li>1</li><li>1</li><li>1</li><li>1</li></ol>\n"
      ],
      "text/latex": [
       "\\begin{enumerate*}\n",
       "\\item 1\n",
       "\\item 1\n",
       "\\item 1\n",
       "\\item 1\n",
       "\\item 1\n",
       "\\end{enumerate*}\n"
      ],
      "text/markdown": [
       "1. 1\n",
       "2. 1\n",
       "3. 1\n",
       "4. 1\n",
       "5. 1\n",
       "\n",
       "\n"
      ],
      "text/plain": [
       "[1] 1 1 1 1 1"
      ]
     },
     "metadata": {},
     "output_type": "display_data"
    }
   ],
   "source": [
    "# test if pairs make sense\n",
    "\n",
    "#calculate Levenshtein distance between two strings\n",
    "if(length(fastq_files)>0){\n",
    "    \n",
    "\n",
    "    stringdist(fastq_files[seq(from=1,to=length(fastq_files)-1,by=2)], fastq_files[seq(from=2,to=length(fastq_files),by=2)], method = \"lv\")\n",
    "}\n",
    "# 1 is obviously the best case but 3 means \"fwd\" vs \"rev\""
   ]
  },
  {
   "cell_type": "code",
   "execution_count": 9,
   "metadata": {},
   "outputs": [
    {
     "data": {
      "text/html": [
       "<style>\n",
       ".list-inline {list-style: none; margin:0; padding: 0}\n",
       ".list-inline>li {display: inline-block}\n",
       ".list-inline>li:not(:last-child)::after {content: \"\\00b7\"; padding: 0 .5ex}\n",
       "</style>\n",
       "<ol class=list-inline><li>'18163FL-02-01-01_S1_L006_R1_001.fastq.gz'</li><li>'18163FL-02-01-01_S1_L006_R2_001.fastq.gz'</li><li>'18163FL-02-01-04_S4_L006_R1_001.fastq.gz'</li><li>'18163FL-02-01-04_S4_L006_R2_001.fastq.gz'</li><li>'18163FL-02-01-06_S6_L006_R1_001.fastq.gz'</li><li>'18163FL-02-01-06_S6_L006_R2_001.fastq.gz'</li><li>'18163FL-02-01-07_S7_L006_R1_001.fastq.gz'</li><li>'18163FL-02-01-07_S7_L006_R2_001.fastq.gz'</li><li>'18163FL-08-01-02_S2_R1_001.fastq.gz'</li><li>'18163FL-08-01-02_S2_R2_001.fastq.gz'</li></ol>\n"
      ],
      "text/latex": [
       "\\begin{enumerate*}\n",
       "\\item '18163FL-02-01-01\\_S1\\_L006\\_R1\\_001.fastq.gz'\n",
       "\\item '18163FL-02-01-01\\_S1\\_L006\\_R2\\_001.fastq.gz'\n",
       "\\item '18163FL-02-01-04\\_S4\\_L006\\_R1\\_001.fastq.gz'\n",
       "\\item '18163FL-02-01-04\\_S4\\_L006\\_R2\\_001.fastq.gz'\n",
       "\\item '18163FL-02-01-06\\_S6\\_L006\\_R1\\_001.fastq.gz'\n",
       "\\item '18163FL-02-01-06\\_S6\\_L006\\_R2\\_001.fastq.gz'\n",
       "\\item '18163FL-02-01-07\\_S7\\_L006\\_R1\\_001.fastq.gz'\n",
       "\\item '18163FL-02-01-07\\_S7\\_L006\\_R2\\_001.fastq.gz'\n",
       "\\item '18163FL-08-01-02\\_S2\\_R1\\_001.fastq.gz'\n",
       "\\item '18163FL-08-01-02\\_S2\\_R2\\_001.fastq.gz'\n",
       "\\end{enumerate*}\n"
      ],
      "text/markdown": [
       "1. '18163FL-02-01-01_S1_L006_R1_001.fastq.gz'\n",
       "2. '18163FL-02-01-01_S1_L006_R2_001.fastq.gz'\n",
       "3. '18163FL-02-01-04_S4_L006_R1_001.fastq.gz'\n",
       "4. '18163FL-02-01-04_S4_L006_R2_001.fastq.gz'\n",
       "5. '18163FL-02-01-06_S6_L006_R1_001.fastq.gz'\n",
       "6. '18163FL-02-01-06_S6_L006_R2_001.fastq.gz'\n",
       "7. '18163FL-02-01-07_S7_L006_R1_001.fastq.gz'\n",
       "8. '18163FL-02-01-07_S7_L006_R2_001.fastq.gz'\n",
       "9. '18163FL-08-01-02_S2_R1_001.fastq.gz'\n",
       "10. '18163FL-08-01-02_S2_R2_001.fastq.gz'\n",
       "\n",
       "\n"
      ],
      "text/plain": [
       " [1] \"18163FL-02-01-01_S1_L006_R1_001.fastq.gz\"\n",
       " [2] \"18163FL-02-01-01_S1_L006_R2_001.fastq.gz\"\n",
       " [3] \"18163FL-02-01-04_S4_L006_R1_001.fastq.gz\"\n",
       " [4] \"18163FL-02-01-04_S4_L006_R2_001.fastq.gz\"\n",
       " [5] \"18163FL-02-01-06_S6_L006_R1_001.fastq.gz\"\n",
       " [6] \"18163FL-02-01-06_S6_L006_R2_001.fastq.gz\"\n",
       " [7] \"18163FL-02-01-07_S7_L006_R1_001.fastq.gz\"\n",
       " [8] \"18163FL-02-01-07_S7_L006_R2_001.fastq.gz\"\n",
       " [9] \"18163FL-08-01-02_S2_R1_001.fastq.gz\"     \n",
       "[10] \"18163FL-08-01-02_S2_R2_001.fastq.gz\"     "
      ]
     },
     "metadata": {},
     "output_type": "display_data"
    }
   ],
   "source": [
    "fastq_files"
   ]
  },
  {
   "cell_type": "code",
   "execution_count": 11,
   "metadata": {},
   "outputs": [
    {
     "name": "stdout",
     "output_type": "stream",
     "text": [
      "[1] \"sbatch -c 1 --mem=8gb --job-name=trim_galore -A ziab -t 11:59:00 --wrap '. ~/ColumbiaProjects/Barn_Mice/activateEnv.sh my_conda4; cd /moto/ziab/users/jr3950/data/genomes/tmp_founders/ && Rscript ~/github/general/FixTooShortFastq.R 18163FL-02-01-01_S1_L006_R1_001.fastq.gz 18163FL-02-01-01_S1_L006_R2_001.fastq.gz ~/github/general/ && . ~/ColumbiaProjects/Barn_Mice/activateEnv.sh samtools-116 && trim_galore --paired -o trim_galore -j 1 18163FL-02-01-01_S1_L006_R1_001.fastq.gz 18163FL-02-01-01_S1_L006_R2_001.fastq.gz'\"\n",
      "[1] \"Submitted batch job 13323528\"\n",
      "[1] \"sbatch -c 1 --mem=8gb --job-name=trim_galore -A ziab -t 11:59:00 --wrap '. ~/ColumbiaProjects/Barn_Mice/activateEnv.sh my_conda4; cd /moto/ziab/users/jr3950/data/genomes/tmp_founders/ && Rscript ~/github/general/FixTooShortFastq.R 18163FL-02-01-04_S4_L006_R1_001.fastq.gz 18163FL-02-01-04_S4_L006_R2_001.fastq.gz ~/github/general/ && . ~/ColumbiaProjects/Barn_Mice/activateEnv.sh samtools-116 && trim_galore --paired -o trim_galore -j 1 18163FL-02-01-04_S4_L006_R1_001.fastq.gz 18163FL-02-01-04_S4_L006_R2_001.fastq.gz'\"\n",
      "[1] \"Submitted batch job 13323556\"\n",
      "[1] \"sbatch -c 1 --mem=8gb --job-name=trim_galore -A ziab -t 11:59:00 --wrap '. ~/ColumbiaProjects/Barn_Mice/activateEnv.sh my_conda4; cd /moto/ziab/users/jr3950/data/genomes/tmp_founders/ && Rscript ~/github/general/FixTooShortFastq.R 18163FL-02-01-06_S6_L006_R1_001.fastq.gz 18163FL-02-01-06_S6_L006_R2_001.fastq.gz ~/github/general/ && . ~/ColumbiaProjects/Barn_Mice/activateEnv.sh samtools-116 && trim_galore --paired -o trim_galore -j 1 18163FL-02-01-06_S6_L006_R1_001.fastq.gz 18163FL-02-01-06_S6_L006_R2_001.fastq.gz'\"\n",
      "[1] \"Submitted batch job 13323557\"\n",
      "[1] \"sbatch -c 1 --mem=8gb --job-name=trim_galore -A ziab -t 11:59:00 --wrap '. ~/ColumbiaProjects/Barn_Mice/activateEnv.sh my_conda4; cd /moto/ziab/users/jr3950/data/genomes/tmp_founders/ && Rscript ~/github/general/FixTooShortFastq.R 18163FL-02-01-07_S7_L006_R1_001.fastq.gz 18163FL-02-01-07_S7_L006_R2_001.fastq.gz ~/github/general/ && . ~/ColumbiaProjects/Barn_Mice/activateEnv.sh samtools-116 && trim_galore --paired -o trim_galore -j 1 18163FL-02-01-07_S7_L006_R1_001.fastq.gz 18163FL-02-01-07_S7_L006_R2_001.fastq.gz'\"\n",
      "[1] \"Submitted batch job 13323559\"\n",
      "[1] \"sbatch -c 1 --mem=8gb --job-name=trim_galore -A ziab -t 11:59:00 --wrap '. ~/ColumbiaProjects/Barn_Mice/activateEnv.sh my_conda4; cd /moto/ziab/users/jr3950/data/genomes/tmp_founders/ && Rscript ~/github/general/FixTooShortFastq.R 18163FL-08-01-02_S2_R1_001.fastq.gz 18163FL-08-01-02_S2_R2_001.fastq.gz ~/github/general/ && . ~/ColumbiaProjects/Barn_Mice/activateEnv.sh samtools-116 && trim_galore --paired -o trim_galore -j 1 18163FL-08-01-02_S2_R1_001.fastq.gz 18163FL-08-01-02_S2_R2_001.fastq.gz'\"\n",
      "[1] \"Submitted batch job 13323560\"\n"
     ]
    }
   ],
   "source": [
    "jobname=\"trim_galore\"\n",
    "if(length(fastq_files)>0) { \n",
    "    for(s in seq(from=1,to=length(fastq_files)-1,by=2)){\n",
    "        cmd=paste0(\"cd \", folder_for_sequences, \" && \",\n",
    "                   \"Rscript \",jnr_general_scripts_dir,\"FixTooShortFastq.R \",paste(fastq_files[c(s,s+1)], collapse = \" \"),\" \",jnr_general_scripts_dir,\" && \", \n",
    "                   \". \",Barn_Mice_dir,\"activateEnv.sh \", env_mapping_etc,\" && trim_galore --paired -o trim_galore -j 1 \",paste(fastq_files[c(s,s+1)], collapse = \" \")) \n",
    "        execute_cmd_sbatch(cmd, mem=\"8gb\", cpu=\"1\", time=\"short\", env=env_jupyter, acc=slurm_acc, jobname=\"trim_galore\", activateEnvScript=paste0(Barn_Mice_dir,\"activateEnv.sh\")) \n",
    "        Sys.sleep(30)\n",
    "    }\n",
    "}"
   ]
  },
  {
   "cell_type": "code",
   "execution_count": null,
   "metadata": {},
   "outputs": [],
   "source": [
    "while(slurm_check_jobs_still_running(columbia_username,jobname)){\n",
    "                Sys.sleep(60)\n",
    "            }\n",
    "fastq_files=list.files(path=folder_for_sequences,pattern=\"fq.gz$\")\n",
    "fastq_files=c(fastq_files,list.files(path=folder_for_sequences,pattern=\"fastq.gz$\"))\n",
    "fastq_files=sort(fastq_files)\n",
    "trimmed=which(!HaveFilesBeenTrimmed())\n",
    "file.remove(paste0(folder_for_sequences,fastq_files[trimmed]))\n",
    "file.remove(paste0(folder_for_sequences,fastq_files[trimmed],\".gziptest\"))"
   ]
  }
 ],
 "metadata": {
  "kernelspec": {
   "display_name": "R",
   "language": "R",
   "name": "ir"
  },
  "language_info": {
   "codemirror_mode": "r",
   "file_extension": ".r",
   "mimetype": "text/x-r-source",
   "name": "R",
   "pygments_lexer": "r",
   "version": "4.2.3"
  }
 },
 "nbformat": 4,
 "nbformat_minor": 4
}
