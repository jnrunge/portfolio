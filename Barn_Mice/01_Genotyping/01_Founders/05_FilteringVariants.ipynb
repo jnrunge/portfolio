{
 "cells": [
  {
   "cell_type": "markdown",
   "id": "d32c43ed-c3ae-4e9e-99ea-7465a265616f",
   "metadata": {},
   "source": [
    "To filter:\n",
    "* 80% middle percentile coverage\n",
    "* GQ 20\n",
    "* DP 5\n",
    "* no Mendelian errors in F0F1 trios"
   ]
  },
  {
   "cell_type": "code",
   "execution_count": 1,
   "id": "63c5563c-6de9-46bb-a443-1403c9fa409f",
   "metadata": {
    "tags": []
   },
   "outputs": [],
   "source": [
    "GQ_filter=20\n",
    "DP_filter=5 # 10 produces tons of missingness and we need loci with 100% genotpying rate in the founders"
   ]
  },
  {
   "cell_type": "code",
   "execution_count": 2,
   "id": "e483f846-89fe-4629-9b5a-834c20500a94",
   "metadata": {
    "tags": []
   },
   "outputs": [
    {
     "name": "stderr",
     "output_type": "stream",
     "text": [
      "Auto-refreshing stale OAuth token.\n",
      "\n",
      "\u001b[32mv\u001b[39m Reading from \u001b[36mStatus of mouse sequencing\u001b[39m.\n",
      "\n",
      "\u001b[32mv\u001b[39m Range '\u001b[33m'All founder files'\u001b[39m'.\n",
      "\n",
      "\u001b[32mv\u001b[39m Reading from \u001b[36mStatus of mouse sequencing\u001b[39m.\n",
      "\n",
      "\u001b[32mv\u001b[39m Range '\u001b[33m'All Fx files'\u001b[39m'.\n",
      "\n",
      "\n",
      "Attaching package: 'tidytable'\n",
      "\n",
      "\n",
      "The following objects are masked from 'package:stats':\n",
      "\n",
      "    dt, filter, lag\n",
      "\n",
      "\n",
      "The following object is masked from 'package:base':\n",
      "\n",
      "    %in%\n",
      "\n",
      "\n"
     ]
    }
   ],
   "source": [
    "# set important data in the config file first!\n",
    "source(\"config.R\")\n",
    "source(\"../../extra-R-functions.R\")"
   ]
  },
  {
   "cell_type": "code",
   "execution_count": 3,
   "id": "09c953e3-0469-4f60-bf93-d5a09cb7a06b",
   "metadata": {},
   "outputs": [],
   "source": [
    "library(naturalsort)\n",
    "library(ggplot2)"
   ]
  },
  {
   "cell_type": "code",
   "execution_count": 4,
   "id": "3972431f-74d7-4674-a7a3-8deaa4dce9f1",
   "metadata": {
    "tags": []
   },
   "outputs": [
    {
     "data": {
      "text/html": [
       "<style>\n",
       ".list-inline {list-style: none; margin:0; padding: 0}\n",
       ".list-inline>li {display: inline-block}\n",
       ".list-inline>li:not(:last-child)::after {content: \"\\00b7\"; padding: 0 .5ex}\n",
       "</style>\n",
       "<ol class=list-inline><li>'/moto/ziab/users/jr3950/data/genomes/tmp_founders/bam/Founders.chr1.vcf.gz.phased.vcf.gz'</li><li>'/moto/ziab/users/jr3950/data/genomes/tmp_founders/bam/Founders.chr2.vcf.gz.phased.vcf.gz'</li><li>'/moto/ziab/users/jr3950/data/genomes/tmp_founders/bam/Founders.chr3.vcf.gz.phased.vcf.gz'</li><li>'/moto/ziab/users/jr3950/data/genomes/tmp_founders/bam/Founders.chr4.vcf.gz.phased.vcf.gz'</li><li>'/moto/ziab/users/jr3950/data/genomes/tmp_founders/bam/Founders.chr5.vcf.gz.phased.vcf.gz'</li><li>'/moto/ziab/users/jr3950/data/genomes/tmp_founders/bam/Founders.chr6.vcf.gz.phased.vcf.gz'</li><li>'/moto/ziab/users/jr3950/data/genomes/tmp_founders/bam/Founders.chr7.vcf.gz.phased.vcf.gz'</li><li>'/moto/ziab/users/jr3950/data/genomes/tmp_founders/bam/Founders.chr8.vcf.gz.phased.vcf.gz'</li><li>'/moto/ziab/users/jr3950/data/genomes/tmp_founders/bam/Founders.chr9.vcf.gz.phased.vcf.gz'</li><li>'/moto/ziab/users/jr3950/data/genomes/tmp_founders/bam/Founders.chr10.vcf.gz.phased.vcf.gz'</li><li>'/moto/ziab/users/jr3950/data/genomes/tmp_founders/bam/Founders.chr11.vcf.gz.phased.vcf.gz'</li><li>'/moto/ziab/users/jr3950/data/genomes/tmp_founders/bam/Founders.chr12.vcf.gz.phased.vcf.gz'</li><li>'/moto/ziab/users/jr3950/data/genomes/tmp_founders/bam/Founders.chr13.vcf.gz.phased.vcf.gz'</li><li>'/moto/ziab/users/jr3950/data/genomes/tmp_founders/bam/Founders.chr14.vcf.gz.phased.vcf.gz'</li><li>'/moto/ziab/users/jr3950/data/genomes/tmp_founders/bam/Founders.chr15.vcf.gz.phased.vcf.gz'</li><li>'/moto/ziab/users/jr3950/data/genomes/tmp_founders/bam/Founders.chr16.vcf.gz.phased.vcf.gz'</li><li>'/moto/ziab/users/jr3950/data/genomes/tmp_founders/bam/Founders.chr17.vcf.gz.phased.vcf.gz'</li><li>'/moto/ziab/users/jr3950/data/genomes/tmp_founders/bam/Founders.chr18.vcf.gz.phased.vcf.gz'</li><li>'/moto/ziab/users/jr3950/data/genomes/tmp_founders/bam/Founders.chr19.vcf.gz.phased.vcf.gz'</li></ol>\n"
      ],
      "text/latex": [
       "\\begin{enumerate*}\n",
       "\\item '/moto/ziab/users/jr3950/data/genomes/tmp\\_founders/bam/Founders.chr1.vcf.gz.phased.vcf.gz'\n",
       "\\item '/moto/ziab/users/jr3950/data/genomes/tmp\\_founders/bam/Founders.chr2.vcf.gz.phased.vcf.gz'\n",
       "\\item '/moto/ziab/users/jr3950/data/genomes/tmp\\_founders/bam/Founders.chr3.vcf.gz.phased.vcf.gz'\n",
       "\\item '/moto/ziab/users/jr3950/data/genomes/tmp\\_founders/bam/Founders.chr4.vcf.gz.phased.vcf.gz'\n",
       "\\item '/moto/ziab/users/jr3950/data/genomes/tmp\\_founders/bam/Founders.chr5.vcf.gz.phased.vcf.gz'\n",
       "\\item '/moto/ziab/users/jr3950/data/genomes/tmp\\_founders/bam/Founders.chr6.vcf.gz.phased.vcf.gz'\n",
       "\\item '/moto/ziab/users/jr3950/data/genomes/tmp\\_founders/bam/Founders.chr7.vcf.gz.phased.vcf.gz'\n",
       "\\item '/moto/ziab/users/jr3950/data/genomes/tmp\\_founders/bam/Founders.chr8.vcf.gz.phased.vcf.gz'\n",
       "\\item '/moto/ziab/users/jr3950/data/genomes/tmp\\_founders/bam/Founders.chr9.vcf.gz.phased.vcf.gz'\n",
       "\\item '/moto/ziab/users/jr3950/data/genomes/tmp\\_founders/bam/Founders.chr10.vcf.gz.phased.vcf.gz'\n",
       "\\item '/moto/ziab/users/jr3950/data/genomes/tmp\\_founders/bam/Founders.chr11.vcf.gz.phased.vcf.gz'\n",
       "\\item '/moto/ziab/users/jr3950/data/genomes/tmp\\_founders/bam/Founders.chr12.vcf.gz.phased.vcf.gz'\n",
       "\\item '/moto/ziab/users/jr3950/data/genomes/tmp\\_founders/bam/Founders.chr13.vcf.gz.phased.vcf.gz'\n",
       "\\item '/moto/ziab/users/jr3950/data/genomes/tmp\\_founders/bam/Founders.chr14.vcf.gz.phased.vcf.gz'\n",
       "\\item '/moto/ziab/users/jr3950/data/genomes/tmp\\_founders/bam/Founders.chr15.vcf.gz.phased.vcf.gz'\n",
       "\\item '/moto/ziab/users/jr3950/data/genomes/tmp\\_founders/bam/Founders.chr16.vcf.gz.phased.vcf.gz'\n",
       "\\item '/moto/ziab/users/jr3950/data/genomes/tmp\\_founders/bam/Founders.chr17.vcf.gz.phased.vcf.gz'\n",
       "\\item '/moto/ziab/users/jr3950/data/genomes/tmp\\_founders/bam/Founders.chr18.vcf.gz.phased.vcf.gz'\n",
       "\\item '/moto/ziab/users/jr3950/data/genomes/tmp\\_founders/bam/Founders.chr19.vcf.gz.phased.vcf.gz'\n",
       "\\end{enumerate*}\n"
      ],
      "text/markdown": [
       "1. '/moto/ziab/users/jr3950/data/genomes/tmp_founders/bam/Founders.chr1.vcf.gz.phased.vcf.gz'\n",
       "2. '/moto/ziab/users/jr3950/data/genomes/tmp_founders/bam/Founders.chr2.vcf.gz.phased.vcf.gz'\n",
       "3. '/moto/ziab/users/jr3950/data/genomes/tmp_founders/bam/Founders.chr3.vcf.gz.phased.vcf.gz'\n",
       "4. '/moto/ziab/users/jr3950/data/genomes/tmp_founders/bam/Founders.chr4.vcf.gz.phased.vcf.gz'\n",
       "5. '/moto/ziab/users/jr3950/data/genomes/tmp_founders/bam/Founders.chr5.vcf.gz.phased.vcf.gz'\n",
       "6. '/moto/ziab/users/jr3950/data/genomes/tmp_founders/bam/Founders.chr6.vcf.gz.phased.vcf.gz'\n",
       "7. '/moto/ziab/users/jr3950/data/genomes/tmp_founders/bam/Founders.chr7.vcf.gz.phased.vcf.gz'\n",
       "8. '/moto/ziab/users/jr3950/data/genomes/tmp_founders/bam/Founders.chr8.vcf.gz.phased.vcf.gz'\n",
       "9. '/moto/ziab/users/jr3950/data/genomes/tmp_founders/bam/Founders.chr9.vcf.gz.phased.vcf.gz'\n",
       "10. '/moto/ziab/users/jr3950/data/genomes/tmp_founders/bam/Founders.chr10.vcf.gz.phased.vcf.gz'\n",
       "11. '/moto/ziab/users/jr3950/data/genomes/tmp_founders/bam/Founders.chr11.vcf.gz.phased.vcf.gz'\n",
       "12. '/moto/ziab/users/jr3950/data/genomes/tmp_founders/bam/Founders.chr12.vcf.gz.phased.vcf.gz'\n",
       "13. '/moto/ziab/users/jr3950/data/genomes/tmp_founders/bam/Founders.chr13.vcf.gz.phased.vcf.gz'\n",
       "14. '/moto/ziab/users/jr3950/data/genomes/tmp_founders/bam/Founders.chr14.vcf.gz.phased.vcf.gz'\n",
       "15. '/moto/ziab/users/jr3950/data/genomes/tmp_founders/bam/Founders.chr15.vcf.gz.phased.vcf.gz'\n",
       "16. '/moto/ziab/users/jr3950/data/genomes/tmp_founders/bam/Founders.chr16.vcf.gz.phased.vcf.gz'\n",
       "17. '/moto/ziab/users/jr3950/data/genomes/tmp_founders/bam/Founders.chr17.vcf.gz.phased.vcf.gz'\n",
       "18. '/moto/ziab/users/jr3950/data/genomes/tmp_founders/bam/Founders.chr18.vcf.gz.phased.vcf.gz'\n",
       "19. '/moto/ziab/users/jr3950/data/genomes/tmp_founders/bam/Founders.chr19.vcf.gz.phased.vcf.gz'\n",
       "\n",
       "\n"
      ],
      "text/plain": [
       " [1] \"/moto/ziab/users/jr3950/data/genomes/tmp_founders/bam/Founders.chr1.vcf.gz.phased.vcf.gz\" \n",
       " [2] \"/moto/ziab/users/jr3950/data/genomes/tmp_founders/bam/Founders.chr2.vcf.gz.phased.vcf.gz\" \n",
       " [3] \"/moto/ziab/users/jr3950/data/genomes/tmp_founders/bam/Founders.chr3.vcf.gz.phased.vcf.gz\" \n",
       " [4] \"/moto/ziab/users/jr3950/data/genomes/tmp_founders/bam/Founders.chr4.vcf.gz.phased.vcf.gz\" \n",
       " [5] \"/moto/ziab/users/jr3950/data/genomes/tmp_founders/bam/Founders.chr5.vcf.gz.phased.vcf.gz\" \n",
       " [6] \"/moto/ziab/users/jr3950/data/genomes/tmp_founders/bam/Founders.chr6.vcf.gz.phased.vcf.gz\" \n",
       " [7] \"/moto/ziab/users/jr3950/data/genomes/tmp_founders/bam/Founders.chr7.vcf.gz.phased.vcf.gz\" \n",
       " [8] \"/moto/ziab/users/jr3950/data/genomes/tmp_founders/bam/Founders.chr8.vcf.gz.phased.vcf.gz\" \n",
       " [9] \"/moto/ziab/users/jr3950/data/genomes/tmp_founders/bam/Founders.chr9.vcf.gz.phased.vcf.gz\" \n",
       "[10] \"/moto/ziab/users/jr3950/data/genomes/tmp_founders/bam/Founders.chr10.vcf.gz.phased.vcf.gz\"\n",
       "[11] \"/moto/ziab/users/jr3950/data/genomes/tmp_founders/bam/Founders.chr11.vcf.gz.phased.vcf.gz\"\n",
       "[12] \"/moto/ziab/users/jr3950/data/genomes/tmp_founders/bam/Founders.chr12.vcf.gz.phased.vcf.gz\"\n",
       "[13] \"/moto/ziab/users/jr3950/data/genomes/tmp_founders/bam/Founders.chr13.vcf.gz.phased.vcf.gz\"\n",
       "[14] \"/moto/ziab/users/jr3950/data/genomes/tmp_founders/bam/Founders.chr14.vcf.gz.phased.vcf.gz\"\n",
       "[15] \"/moto/ziab/users/jr3950/data/genomes/tmp_founders/bam/Founders.chr15.vcf.gz.phased.vcf.gz\"\n",
       "[16] \"/moto/ziab/users/jr3950/data/genomes/tmp_founders/bam/Founders.chr16.vcf.gz.phased.vcf.gz\"\n",
       "[17] \"/moto/ziab/users/jr3950/data/genomes/tmp_founders/bam/Founders.chr17.vcf.gz.phased.vcf.gz\"\n",
       "[18] \"/moto/ziab/users/jr3950/data/genomes/tmp_founders/bam/Founders.chr18.vcf.gz.phased.vcf.gz\"\n",
       "[19] \"/moto/ziab/users/jr3950/data/genomes/tmp_founders/bam/Founders.chr19.vcf.gz.phased.vcf.gz\""
      ]
     },
     "metadata": {},
     "output_type": "display_data"
    }
   ],
   "source": [
    "files=naturalsort(list.files(path = bam_dir, pattern=\"chr[0-9].*.phased.vcf.gz$\", full.names = TRUE))\n",
    "files"
   ]
  },
  {
   "cell_type": "code",
   "execution_count": 5,
   "id": "fd5a0a07-8b1d-4ae8-9617-fe031860a776",
   "metadata": {
    "tags": []
   },
   "outputs": [],
   "source": [
    "# first, lets get the DP info of the unfiltered file\n",
    "jobname=\"getDP\"\n",
    "for(f in files){\n",
    "    cmd=paste0(\"sh -xe \",Barn_Mice_dir,\"01_Genotyping/01_Founders/05_Filtering-getDP.sh \",\n",
    "          f)\n",
    "    \n",
    "    if(file.exists(paste0(f,\".DP.txt.gz\"))){\n",
    "        next\n",
    "    }\n",
    "    \n",
    "    execute_cmd_sbatch(cmd, mem=\"4gb\", cpu=\"1\", time=\"short\", env=env_mapping_etc, jobname=jobname,\n",
    "                          activateEnvScript=paste0(Barn_Mice_dir,\"activateEnv.sh\")) \n",
    "        Sys.sleep(1)\n",
    "}"
   ]
  },
  {
   "cell_type": "code",
   "execution_count": 6,
   "id": "a1e3be86-2ad8-47ed-8e21-0b27a07e79ff",
   "metadata": {
    "tags": []
   },
   "outputs": [
    {
     "data": {
      "text/html": [
       "'getDP'"
      ],
      "text/latex": [
       "'getDP'"
      ],
      "text/markdown": [
       "'getDP'"
      ],
      "text/plain": [
       "[1] \"getDP\""
      ]
     },
     "metadata": {},
     "output_type": "display_data"
    }
   ],
   "source": [
    "jobname\n",
    "while(slurm_check_jobs_still_running(columbia_username,jobname)){\n",
    "    Sys.sleep(60)\n",
    "}"
   ]
  },
  {
   "cell_type": "code",
   "execution_count": 7,
   "id": "a1cd163d-5e44-423e-b292-3bb278a4a7db",
   "metadata": {
    "tags": []
   },
   "outputs": [
    {
     "data": {
      "text/html": [
       "<table class=\"dataframe\">\n",
       "<caption>A tidytable: 6 x 4</caption>\n",
       "<thead>\n",
       "\t<tr><th scope=col>V1</th><th scope=col>V2</th><th scope=col>V3</th><th scope=col>file</th></tr>\n",
       "\t<tr><th scope=col>&lt;chr&gt;</th><th scope=col>&lt;int&gt;</th><th scope=col>&lt;int&gt;</th><th scope=col>&lt;chr&gt;</th></tr>\n",
       "</thead>\n",
       "<tbody>\n",
       "\t<tr><td>NC_000067.6</td><td>3000023</td><td>15</td><td>/moto/ziab/users/jr3950/data/genomes/tmp_founders/bam/Founders.chr1.vcf.gz.phased.vcf.gz.DP.txt.gz</td></tr>\n",
       "\t<tr><td>NC_000067.6</td><td>3000126</td><td>24</td><td>/moto/ziab/users/jr3950/data/genomes/tmp_founders/bam/Founders.chr1.vcf.gz.phased.vcf.gz.DP.txt.gz</td></tr>\n",
       "\t<tr><td>NC_000067.6</td><td>3000181</td><td>74</td><td>/moto/ziab/users/jr3950/data/genomes/tmp_founders/bam/Founders.chr1.vcf.gz.phased.vcf.gz.DP.txt.gz</td></tr>\n",
       "\t<tr><td>NC_000067.6</td><td>3000185</td><td>74</td><td>/moto/ziab/users/jr3950/data/genomes/tmp_founders/bam/Founders.chr1.vcf.gz.phased.vcf.gz.DP.txt.gz</td></tr>\n",
       "\t<tr><td>NC_000067.6</td><td>3000191</td><td>80</td><td>/moto/ziab/users/jr3950/data/genomes/tmp_founders/bam/Founders.chr1.vcf.gz.phased.vcf.gz.DP.txt.gz</td></tr>\n",
       "\t<tr><td>NC_000067.6</td><td>3000201</td><td>83</td><td>/moto/ziab/users/jr3950/data/genomes/tmp_founders/bam/Founders.chr1.vcf.gz.phased.vcf.gz.DP.txt.gz</td></tr>\n",
       "</tbody>\n",
       "</table>\n"
      ],
      "text/latex": [
       "A tidytable: 6 x 4\n",
       "\\begin{tabular}{llll}\n",
       " V1 & V2 & V3 & file\\\\\n",
       " <chr> & <int> & <int> & <chr>\\\\\n",
       "\\hline\n",
       "\t NC\\_000067.6 & 3000023 & 15 & /moto/ziab/users/jr3950/data/genomes/tmp\\_founders/bam/Founders.chr1.vcf.gz.phased.vcf.gz.DP.txt.gz\\\\\n",
       "\t NC\\_000067.6 & 3000126 & 24 & /moto/ziab/users/jr3950/data/genomes/tmp\\_founders/bam/Founders.chr1.vcf.gz.phased.vcf.gz.DP.txt.gz\\\\\n",
       "\t NC\\_000067.6 & 3000181 & 74 & /moto/ziab/users/jr3950/data/genomes/tmp\\_founders/bam/Founders.chr1.vcf.gz.phased.vcf.gz.DP.txt.gz\\\\\n",
       "\t NC\\_000067.6 & 3000185 & 74 & /moto/ziab/users/jr3950/data/genomes/tmp\\_founders/bam/Founders.chr1.vcf.gz.phased.vcf.gz.DP.txt.gz\\\\\n",
       "\t NC\\_000067.6 & 3000191 & 80 & /moto/ziab/users/jr3950/data/genomes/tmp\\_founders/bam/Founders.chr1.vcf.gz.phased.vcf.gz.DP.txt.gz\\\\\n",
       "\t NC\\_000067.6 & 3000201 & 83 & /moto/ziab/users/jr3950/data/genomes/tmp\\_founders/bam/Founders.chr1.vcf.gz.phased.vcf.gz.DP.txt.gz\\\\\n",
       "\\end{tabular}\n"
      ],
      "text/markdown": [
       "\n",
       "A tidytable: 6 x 4\n",
       "\n",
       "| V1 &lt;chr&gt; | V2 &lt;int&gt; | V3 &lt;int&gt; | file &lt;chr&gt; |\n",
       "|---|---|---|---|\n",
       "| NC_000067.6 | 3000023 | 15 | /moto/ziab/users/jr3950/data/genomes/tmp_founders/bam/Founders.chr1.vcf.gz.phased.vcf.gz.DP.txt.gz |\n",
       "| NC_000067.6 | 3000126 | 24 | /moto/ziab/users/jr3950/data/genomes/tmp_founders/bam/Founders.chr1.vcf.gz.phased.vcf.gz.DP.txt.gz |\n",
       "| NC_000067.6 | 3000181 | 74 | /moto/ziab/users/jr3950/data/genomes/tmp_founders/bam/Founders.chr1.vcf.gz.phased.vcf.gz.DP.txt.gz |\n",
       "| NC_000067.6 | 3000185 | 74 | /moto/ziab/users/jr3950/data/genomes/tmp_founders/bam/Founders.chr1.vcf.gz.phased.vcf.gz.DP.txt.gz |\n",
       "| NC_000067.6 | 3000191 | 80 | /moto/ziab/users/jr3950/data/genomes/tmp_founders/bam/Founders.chr1.vcf.gz.phased.vcf.gz.DP.txt.gz |\n",
       "| NC_000067.6 | 3000201 | 83 | /moto/ziab/users/jr3950/data/genomes/tmp_founders/bam/Founders.chr1.vcf.gz.phased.vcf.gz.DP.txt.gz |\n",
       "\n"
      ],
      "text/plain": [
       "  V1          V2      V3\n",
       "1 NC_000067.6 3000023 15\n",
       "2 NC_000067.6 3000126 24\n",
       "3 NC_000067.6 3000181 74\n",
       "4 NC_000067.6 3000185 74\n",
       "5 NC_000067.6 3000191 80\n",
       "6 NC_000067.6 3000201 83\n",
       "  file                                                                                              \n",
       "1 /moto/ziab/users/jr3950/data/genomes/tmp_founders/bam/Founders.chr1.vcf.gz.phased.vcf.gz.DP.txt.gz\n",
       "2 /moto/ziab/users/jr3950/data/genomes/tmp_founders/bam/Founders.chr1.vcf.gz.phased.vcf.gz.DP.txt.gz\n",
       "3 /moto/ziab/users/jr3950/data/genomes/tmp_founders/bam/Founders.chr1.vcf.gz.phased.vcf.gz.DP.txt.gz\n",
       "4 /moto/ziab/users/jr3950/data/genomes/tmp_founders/bam/Founders.chr1.vcf.gz.phased.vcf.gz.DP.txt.gz\n",
       "5 /moto/ziab/users/jr3950/data/genomes/tmp_founders/bam/Founders.chr1.vcf.gz.phased.vcf.gz.DP.txt.gz\n",
       "6 /moto/ziab/users/jr3950/data/genomes/tmp_founders/bam/Founders.chr1.vcf.gz.phased.vcf.gz.DP.txt.gz"
      ]
     },
     "metadata": {},
     "output_type": "display_data"
    }
   ],
   "source": [
    "DP_data=fread_and_bind_files(paste0(files,\".DP.txt.gz\"))\n",
    "head(DP_data)"
   ]
  },
  {
   "cell_type": "code",
   "execution_count": 8,
   "id": "c80feac7-cbad-446a-9c4a-970cdf87500a",
   "metadata": {
    "tags": []
   },
   "outputs": [],
   "source": [
    "min_DP=quantile(DP_data$V3, c(0.1))\n",
    "max_DP=quantile(DP_data$V3, c(0.9))"
   ]
  },
  {
   "cell_type": "code",
   "execution_count": 9,
   "id": "2d7a4bd0-ca90-4e35-9105-901374a9dbc2",
   "metadata": {
    "tags": []
   },
   "outputs": [],
   "source": [
    "DP_data$V2=as.numeric(as.character(DP_data$V2))"
   ]
  },
  {
   "cell_type": "code",
   "execution_count": 10,
   "id": "54332356-71ef-41f2-abcd-4cec0e5d1e7b",
   "metadata": {
    "tags": []
   },
   "outputs": [],
   "source": [
    "# outside the red lines: filtered out\n",
    "# DP here is summed across samples; so that we filter out bad sites on average\n",
    "ggplot(DP_data, aes(V2,V3))+\n",
    "geom_point(shape=1,alpha=0.1)+\n",
    "geom_hline(yintercept = c(min_DP,max_DP), color=\"red\")+\n",
    "facet_wrap(~V1)+theme_bw(18)+scale_y_log10()"
   ]
  },
  {
   "cell_type": "code",
   "execution_count": 11,
   "id": "9f0b2079-ccae-4035-bca7-f555de67bf80",
   "metadata": {
    "tags": []
   },
   "outputs": [],
   "source": [
    "# filter by DP percentile; GQ and DP; setting genotypes to ./. if not passing for later filtering of sites that are not missing *in founders*\n",
    "jobname=\"filterDPGQDP\"\n",
    "for(f in files){\n",
    "    cmd=paste0(\"sh -xe \",Barn_Mice_dir,\"01_Genotyping/01_Founders/05_FilterDPGQ.sh \",\n",
    "          paste(min_DP,max_DP,GQ_filter,DP_filter,f))\n",
    "    if(file.exists(paste0(f,\".Cov\",min_DP,\"to\",max_DP,\".GQ\",GQ_filter,\".DP\",DP_filter,\".vcf.gz\"))){\n",
    "        next\n",
    "    }\n",
    "    execute_cmd_sbatch(cmd, mem=\"4gb\", cpu=\"1\", time=\"short\", env=env_mapping_etc, jobname=jobname,\n",
    "                          activateEnvScript=paste0(Barn_Mice_dir,\"activateEnv.sh\")) \n",
    "        Sys.sleep(1)\n",
    "}\n"
   ]
  },
  {
   "cell_type": "code",
   "execution_count": 12,
   "id": "d0bbcbea-fa89-4d19-b81e-0fde34edf9ce",
   "metadata": {
    "tags": []
   },
   "outputs": [
    {
     "data": {
      "text/html": [
       "'filterDPGQDP'"
      ],
      "text/latex": [
       "'filterDPGQDP'"
      ],
      "text/markdown": [
       "'filterDPGQDP'"
      ],
      "text/plain": [
       "[1] \"filterDPGQDP\""
      ]
     },
     "metadata": {},
     "output_type": "display_data"
    }
   ],
   "source": [
    "jobname\n",
    "while(slurm_check_jobs_still_running(columbia_username,jobname)){\n",
    "    Sys.sleep(60)\n",
    "}"
   ]
  },
  {
   "cell_type": "code",
   "execution_count": 13,
   "id": "fa377e94-6b67-4355-b874-8db99a54adda",
   "metadata": {
    "tags": []
   },
   "outputs": [
    {
     "data": {
      "text/html": [
       "<style>\n",
       ".list-inline {list-style: none; margin:0; padding: 0}\n",
       ".list-inline>li {display: inline-block}\n",
       ".list-inline>li:not(:last-child)::after {content: \"\\00b7\"; padding: 0 .5ex}\n",
       "</style>\n",
       "<ol class=list-inline><li>'/moto/ziab/users/jr3950/data/genomes/tmp_founders/bam/Founders.chr1.vcf.gz.phased.vcf.gz.Cov105to361.GQ20.DP5.vcf.gz'</li><li>'/moto/ziab/users/jr3950/data/genomes/tmp_founders/bam/Founders.chr2.vcf.gz.phased.vcf.gz.Cov105to361.GQ20.DP5.vcf.gz'</li><li>'/moto/ziab/users/jr3950/data/genomes/tmp_founders/bam/Founders.chr3.vcf.gz.phased.vcf.gz.Cov105to361.GQ20.DP5.vcf.gz'</li><li>'/moto/ziab/users/jr3950/data/genomes/tmp_founders/bam/Founders.chr4.vcf.gz.phased.vcf.gz.Cov105to361.GQ20.DP5.vcf.gz'</li><li>'/moto/ziab/users/jr3950/data/genomes/tmp_founders/bam/Founders.chr5.vcf.gz.phased.vcf.gz.Cov105to361.GQ20.DP5.vcf.gz'</li><li>'/moto/ziab/users/jr3950/data/genomes/tmp_founders/bam/Founders.chr6.vcf.gz.phased.vcf.gz.Cov105to361.GQ20.DP5.vcf.gz'</li><li>'/moto/ziab/users/jr3950/data/genomes/tmp_founders/bam/Founders.chr7.vcf.gz.phased.vcf.gz.Cov105to361.GQ20.DP5.vcf.gz'</li><li>'/moto/ziab/users/jr3950/data/genomes/tmp_founders/bam/Founders.chr8.vcf.gz.phased.vcf.gz.Cov105to361.GQ20.DP5.vcf.gz'</li><li>'/moto/ziab/users/jr3950/data/genomes/tmp_founders/bam/Founders.chr9.vcf.gz.phased.vcf.gz.Cov105to361.GQ20.DP5.vcf.gz'</li><li>'/moto/ziab/users/jr3950/data/genomes/tmp_founders/bam/Founders.chr10.vcf.gz.phased.vcf.gz.Cov105to361.GQ20.DP5.vcf.gz'</li><li>'/moto/ziab/users/jr3950/data/genomes/tmp_founders/bam/Founders.chr11.vcf.gz.phased.vcf.gz.Cov105to361.GQ20.DP5.vcf.gz'</li><li>'/moto/ziab/users/jr3950/data/genomes/tmp_founders/bam/Founders.chr12.vcf.gz.phased.vcf.gz.Cov105to361.GQ20.DP5.vcf.gz'</li><li>'/moto/ziab/users/jr3950/data/genomes/tmp_founders/bam/Founders.chr13.vcf.gz.phased.vcf.gz.Cov105to361.GQ20.DP5.vcf.gz'</li><li>'/moto/ziab/users/jr3950/data/genomes/tmp_founders/bam/Founders.chr14.vcf.gz.phased.vcf.gz.Cov105to361.GQ20.DP5.vcf.gz'</li><li>'/moto/ziab/users/jr3950/data/genomes/tmp_founders/bam/Founders.chr15.vcf.gz.phased.vcf.gz.Cov105to361.GQ20.DP5.vcf.gz'</li><li>'/moto/ziab/users/jr3950/data/genomes/tmp_founders/bam/Founders.chr16.vcf.gz.phased.vcf.gz.Cov105to361.GQ20.DP5.vcf.gz'</li><li>'/moto/ziab/users/jr3950/data/genomes/tmp_founders/bam/Founders.chr17.vcf.gz.phased.vcf.gz.Cov105to361.GQ20.DP5.vcf.gz'</li><li>'/moto/ziab/users/jr3950/data/genomes/tmp_founders/bam/Founders.chr18.vcf.gz.phased.vcf.gz.Cov105to361.GQ20.DP5.vcf.gz'</li><li>'/moto/ziab/users/jr3950/data/genomes/tmp_founders/bam/Founders.chr19.vcf.gz.phased.vcf.gz.Cov105to361.GQ20.DP5.vcf.gz'</li></ol>\n"
      ],
      "text/latex": [
       "\\begin{enumerate*}\n",
       "\\item '/moto/ziab/users/jr3950/data/genomes/tmp\\_founders/bam/Founders.chr1.vcf.gz.phased.vcf.gz.Cov105to361.GQ20.DP5.vcf.gz'\n",
       "\\item '/moto/ziab/users/jr3950/data/genomes/tmp\\_founders/bam/Founders.chr2.vcf.gz.phased.vcf.gz.Cov105to361.GQ20.DP5.vcf.gz'\n",
       "\\item '/moto/ziab/users/jr3950/data/genomes/tmp\\_founders/bam/Founders.chr3.vcf.gz.phased.vcf.gz.Cov105to361.GQ20.DP5.vcf.gz'\n",
       "\\item '/moto/ziab/users/jr3950/data/genomes/tmp\\_founders/bam/Founders.chr4.vcf.gz.phased.vcf.gz.Cov105to361.GQ20.DP5.vcf.gz'\n",
       "\\item '/moto/ziab/users/jr3950/data/genomes/tmp\\_founders/bam/Founders.chr5.vcf.gz.phased.vcf.gz.Cov105to361.GQ20.DP5.vcf.gz'\n",
       "\\item '/moto/ziab/users/jr3950/data/genomes/tmp\\_founders/bam/Founders.chr6.vcf.gz.phased.vcf.gz.Cov105to361.GQ20.DP5.vcf.gz'\n",
       "\\item '/moto/ziab/users/jr3950/data/genomes/tmp\\_founders/bam/Founders.chr7.vcf.gz.phased.vcf.gz.Cov105to361.GQ20.DP5.vcf.gz'\n",
       "\\item '/moto/ziab/users/jr3950/data/genomes/tmp\\_founders/bam/Founders.chr8.vcf.gz.phased.vcf.gz.Cov105to361.GQ20.DP5.vcf.gz'\n",
       "\\item '/moto/ziab/users/jr3950/data/genomes/tmp\\_founders/bam/Founders.chr9.vcf.gz.phased.vcf.gz.Cov105to361.GQ20.DP5.vcf.gz'\n",
       "\\item '/moto/ziab/users/jr3950/data/genomes/tmp\\_founders/bam/Founders.chr10.vcf.gz.phased.vcf.gz.Cov105to361.GQ20.DP5.vcf.gz'\n",
       "\\item '/moto/ziab/users/jr3950/data/genomes/tmp\\_founders/bam/Founders.chr11.vcf.gz.phased.vcf.gz.Cov105to361.GQ20.DP5.vcf.gz'\n",
       "\\item '/moto/ziab/users/jr3950/data/genomes/tmp\\_founders/bam/Founders.chr12.vcf.gz.phased.vcf.gz.Cov105to361.GQ20.DP5.vcf.gz'\n",
       "\\item '/moto/ziab/users/jr3950/data/genomes/tmp\\_founders/bam/Founders.chr13.vcf.gz.phased.vcf.gz.Cov105to361.GQ20.DP5.vcf.gz'\n",
       "\\item '/moto/ziab/users/jr3950/data/genomes/tmp\\_founders/bam/Founders.chr14.vcf.gz.phased.vcf.gz.Cov105to361.GQ20.DP5.vcf.gz'\n",
       "\\item '/moto/ziab/users/jr3950/data/genomes/tmp\\_founders/bam/Founders.chr15.vcf.gz.phased.vcf.gz.Cov105to361.GQ20.DP5.vcf.gz'\n",
       "\\item '/moto/ziab/users/jr3950/data/genomes/tmp\\_founders/bam/Founders.chr16.vcf.gz.phased.vcf.gz.Cov105to361.GQ20.DP5.vcf.gz'\n",
       "\\item '/moto/ziab/users/jr3950/data/genomes/tmp\\_founders/bam/Founders.chr17.vcf.gz.phased.vcf.gz.Cov105to361.GQ20.DP5.vcf.gz'\n",
       "\\item '/moto/ziab/users/jr3950/data/genomes/tmp\\_founders/bam/Founders.chr18.vcf.gz.phased.vcf.gz.Cov105to361.GQ20.DP5.vcf.gz'\n",
       "\\item '/moto/ziab/users/jr3950/data/genomes/tmp\\_founders/bam/Founders.chr19.vcf.gz.phased.vcf.gz.Cov105to361.GQ20.DP5.vcf.gz'\n",
       "\\end{enumerate*}\n"
      ],
      "text/markdown": [
       "1. '/moto/ziab/users/jr3950/data/genomes/tmp_founders/bam/Founders.chr1.vcf.gz.phased.vcf.gz.Cov105to361.GQ20.DP5.vcf.gz'\n",
       "2. '/moto/ziab/users/jr3950/data/genomes/tmp_founders/bam/Founders.chr2.vcf.gz.phased.vcf.gz.Cov105to361.GQ20.DP5.vcf.gz'\n",
       "3. '/moto/ziab/users/jr3950/data/genomes/tmp_founders/bam/Founders.chr3.vcf.gz.phased.vcf.gz.Cov105to361.GQ20.DP5.vcf.gz'\n",
       "4. '/moto/ziab/users/jr3950/data/genomes/tmp_founders/bam/Founders.chr4.vcf.gz.phased.vcf.gz.Cov105to361.GQ20.DP5.vcf.gz'\n",
       "5. '/moto/ziab/users/jr3950/data/genomes/tmp_founders/bam/Founders.chr5.vcf.gz.phased.vcf.gz.Cov105to361.GQ20.DP5.vcf.gz'\n",
       "6. '/moto/ziab/users/jr3950/data/genomes/tmp_founders/bam/Founders.chr6.vcf.gz.phased.vcf.gz.Cov105to361.GQ20.DP5.vcf.gz'\n",
       "7. '/moto/ziab/users/jr3950/data/genomes/tmp_founders/bam/Founders.chr7.vcf.gz.phased.vcf.gz.Cov105to361.GQ20.DP5.vcf.gz'\n",
       "8. '/moto/ziab/users/jr3950/data/genomes/tmp_founders/bam/Founders.chr8.vcf.gz.phased.vcf.gz.Cov105to361.GQ20.DP5.vcf.gz'\n",
       "9. '/moto/ziab/users/jr3950/data/genomes/tmp_founders/bam/Founders.chr9.vcf.gz.phased.vcf.gz.Cov105to361.GQ20.DP5.vcf.gz'\n",
       "10. '/moto/ziab/users/jr3950/data/genomes/tmp_founders/bam/Founders.chr10.vcf.gz.phased.vcf.gz.Cov105to361.GQ20.DP5.vcf.gz'\n",
       "11. '/moto/ziab/users/jr3950/data/genomes/tmp_founders/bam/Founders.chr11.vcf.gz.phased.vcf.gz.Cov105to361.GQ20.DP5.vcf.gz'\n",
       "12. '/moto/ziab/users/jr3950/data/genomes/tmp_founders/bam/Founders.chr12.vcf.gz.phased.vcf.gz.Cov105to361.GQ20.DP5.vcf.gz'\n",
       "13. '/moto/ziab/users/jr3950/data/genomes/tmp_founders/bam/Founders.chr13.vcf.gz.phased.vcf.gz.Cov105to361.GQ20.DP5.vcf.gz'\n",
       "14. '/moto/ziab/users/jr3950/data/genomes/tmp_founders/bam/Founders.chr14.vcf.gz.phased.vcf.gz.Cov105to361.GQ20.DP5.vcf.gz'\n",
       "15. '/moto/ziab/users/jr3950/data/genomes/tmp_founders/bam/Founders.chr15.vcf.gz.phased.vcf.gz.Cov105to361.GQ20.DP5.vcf.gz'\n",
       "16. '/moto/ziab/users/jr3950/data/genomes/tmp_founders/bam/Founders.chr16.vcf.gz.phased.vcf.gz.Cov105to361.GQ20.DP5.vcf.gz'\n",
       "17. '/moto/ziab/users/jr3950/data/genomes/tmp_founders/bam/Founders.chr17.vcf.gz.phased.vcf.gz.Cov105to361.GQ20.DP5.vcf.gz'\n",
       "18. '/moto/ziab/users/jr3950/data/genomes/tmp_founders/bam/Founders.chr18.vcf.gz.phased.vcf.gz.Cov105to361.GQ20.DP5.vcf.gz'\n",
       "19. '/moto/ziab/users/jr3950/data/genomes/tmp_founders/bam/Founders.chr19.vcf.gz.phased.vcf.gz.Cov105to361.GQ20.DP5.vcf.gz'\n",
       "\n",
       "\n"
      ],
      "text/plain": [
       " [1] \"/moto/ziab/users/jr3950/data/genomes/tmp_founders/bam/Founders.chr1.vcf.gz.phased.vcf.gz.Cov105to361.GQ20.DP5.vcf.gz\" \n",
       " [2] \"/moto/ziab/users/jr3950/data/genomes/tmp_founders/bam/Founders.chr2.vcf.gz.phased.vcf.gz.Cov105to361.GQ20.DP5.vcf.gz\" \n",
       " [3] \"/moto/ziab/users/jr3950/data/genomes/tmp_founders/bam/Founders.chr3.vcf.gz.phased.vcf.gz.Cov105to361.GQ20.DP5.vcf.gz\" \n",
       " [4] \"/moto/ziab/users/jr3950/data/genomes/tmp_founders/bam/Founders.chr4.vcf.gz.phased.vcf.gz.Cov105to361.GQ20.DP5.vcf.gz\" \n",
       " [5] \"/moto/ziab/users/jr3950/data/genomes/tmp_founders/bam/Founders.chr5.vcf.gz.phased.vcf.gz.Cov105to361.GQ20.DP5.vcf.gz\" \n",
       " [6] \"/moto/ziab/users/jr3950/data/genomes/tmp_founders/bam/Founders.chr6.vcf.gz.phased.vcf.gz.Cov105to361.GQ20.DP5.vcf.gz\" \n",
       " [7] \"/moto/ziab/users/jr3950/data/genomes/tmp_founders/bam/Founders.chr7.vcf.gz.phased.vcf.gz.Cov105to361.GQ20.DP5.vcf.gz\" \n",
       " [8] \"/moto/ziab/users/jr3950/data/genomes/tmp_founders/bam/Founders.chr8.vcf.gz.phased.vcf.gz.Cov105to361.GQ20.DP5.vcf.gz\" \n",
       " [9] \"/moto/ziab/users/jr3950/data/genomes/tmp_founders/bam/Founders.chr9.vcf.gz.phased.vcf.gz.Cov105to361.GQ20.DP5.vcf.gz\" \n",
       "[10] \"/moto/ziab/users/jr3950/data/genomes/tmp_founders/bam/Founders.chr10.vcf.gz.phased.vcf.gz.Cov105to361.GQ20.DP5.vcf.gz\"\n",
       "[11] \"/moto/ziab/users/jr3950/data/genomes/tmp_founders/bam/Founders.chr11.vcf.gz.phased.vcf.gz.Cov105to361.GQ20.DP5.vcf.gz\"\n",
       "[12] \"/moto/ziab/users/jr3950/data/genomes/tmp_founders/bam/Founders.chr12.vcf.gz.phased.vcf.gz.Cov105to361.GQ20.DP5.vcf.gz\"\n",
       "[13] \"/moto/ziab/users/jr3950/data/genomes/tmp_founders/bam/Founders.chr13.vcf.gz.phased.vcf.gz.Cov105to361.GQ20.DP5.vcf.gz\"\n",
       "[14] \"/moto/ziab/users/jr3950/data/genomes/tmp_founders/bam/Founders.chr14.vcf.gz.phased.vcf.gz.Cov105to361.GQ20.DP5.vcf.gz\"\n",
       "[15] \"/moto/ziab/users/jr3950/data/genomes/tmp_founders/bam/Founders.chr15.vcf.gz.phased.vcf.gz.Cov105to361.GQ20.DP5.vcf.gz\"\n",
       "[16] \"/moto/ziab/users/jr3950/data/genomes/tmp_founders/bam/Founders.chr16.vcf.gz.phased.vcf.gz.Cov105to361.GQ20.DP5.vcf.gz\"\n",
       "[17] \"/moto/ziab/users/jr3950/data/genomes/tmp_founders/bam/Founders.chr17.vcf.gz.phased.vcf.gz.Cov105to361.GQ20.DP5.vcf.gz\"\n",
       "[18] \"/moto/ziab/users/jr3950/data/genomes/tmp_founders/bam/Founders.chr18.vcf.gz.phased.vcf.gz.Cov105to361.GQ20.DP5.vcf.gz\"\n",
       "[19] \"/moto/ziab/users/jr3950/data/genomes/tmp_founders/bam/Founders.chr19.vcf.gz.phased.vcf.gz.Cov105to361.GQ20.DP5.vcf.gz\""
      ]
     },
     "metadata": {},
     "output_type": "display_data"
    }
   ],
   "source": [
    "files=naturalsort(list.files(path=bam_dir, pattern=paste0(\"phased.vcf.gz.Cov\",min_DP,\"to\",max_DP,\".GQ\",GQ_filter,\".DP\",DP_filter,\".vcf.gz$\"), full.names=TRUE))\n",
    "files"
   ]
  },
  {
   "cell_type": "code",
   "execution_count": 14,
   "id": "a1b4a57c-dbf8-4364-b8eb-c013d5134fa7",
   "metadata": {
    "tags": []
   },
   "outputs": [],
   "source": [
    "# get Mendelian trio errors\n",
    "# convert PED file to the new format that the author had to come up with\n",
    "# need mother,father,child\n",
    "\n",
    "jobname=\"FilterF0F1Mendelian\"\n",
    "\n",
    "PED=fread(paste0(Barn_Mice_dir, \"XX_Data/FoundersF1.no1140.ped\"))\n",
    "trios=select(PED, Mother, Father, Individual)\n",
    "fwrite(trios, paste0(bam_dir,\"/trios.txt\"), sep=\",\", col.names = FALSE)\n",
    "\n",
    "for(f in files){\n",
    "    \n",
    "    if(file.exists(paste0(f,\".MendelianAnnotated.vcf.gz\"))){\n",
    "        next\n",
    "    }\n",
    "    \n",
    "    cmd=paste0(\"sh -xe \",Barn_Mice_dir,\"01_Genotyping/01_Founders/05_Filtering-Mendelian.sh \", f, \" \", paste0(bam_dir,\"/trios.txt\"))\n",
    "    execute_cmd_sbatch(cmd, mem=\"4gb\", cpu=\"1\", time=\"short\", env=env_mapping_etc, jobname=jobname,\n",
    "                          activateEnvScript=paste0(Barn_Mice_dir,\"activateEnv.sh\")) \n",
    "        Sys.sleep(1)\n",
    "}"
   ]
  },
  {
   "cell_type": "code",
   "execution_count": 15,
   "id": "632624d6-0c26-49bb-a7c4-228e31fd1bae",
   "metadata": {
    "tags": []
   },
   "outputs": [
    {
     "data": {
      "text/html": [
       "'FilterF0F1Mendelian'"
      ],
      "text/latex": [
       "'FilterF0F1Mendelian'"
      ],
      "text/markdown": [
       "'FilterF0F1Mendelian'"
      ],
      "text/plain": [
       "[1] \"FilterF0F1Mendelian\""
      ]
     },
     "metadata": {},
     "output_type": "display_data"
    }
   ],
   "source": [
    "jobname\n",
    "while(slurm_check_jobs_still_running(columbia_username,jobname)){\n",
    "    Sys.sleep(60)\n",
    "}"
   ]
  },
  {
   "cell_type": "code",
   "execution_count": 16,
   "id": "f40eb90d-8e60-45f5-a02d-591e42941954",
   "metadata": {
    "tags": []
   },
   "outputs": [
    {
     "data": {
      "text/plain": [
       "   Min. 1st Qu.  Median    Mean 3rd Qu.    Max. \n",
       "0.00000 0.00000 0.00000 0.04354 0.00000 4.00000 "
      ]
     },
     "metadata": {},
     "output_type": "display_data"
    }
   ],
   "source": [
    "# show MERR data from f.MendelianAnnotated.vcf.gz.MERR.txt.gz\n",
    "\n",
    "MendelianErrors=as.numeric(system(command=paste0(\"zcat \",paste0(files,\".MendelianAnnotated.vcf.gz.MERR.txt.gz\")), intern=TRUE))\n",
    "summary(MendelianErrors)"
   ]
  },
  {
   "cell_type": "code",
   "execution_count": 17,
   "id": "80af35c3-1665-4e2b-a2df-8c4e1dcf8e13",
   "metadata": {
    "tags": []
   },
   "outputs": [
    {
     "data": {
      "text/html": [
       "<style>\n",
       ".list-inline {list-style: none; margin:0; padding: 0}\n",
       ".list-inline>li {display: inline-block}\n",
       ".list-inline>li:not(:last-child)::after {content: \"\\00b7\"; padding: 0 .5ex}\n",
       "</style>\n",
       "<ol class=list-inline><li>'/moto/ziab/users/jr3950/data/genomes/tmp_founders/bam/Founders.chr1.vcf.gz.phased.vcf.gz.Cov105to361.GQ20.DP5.vcf.gz.MendelianAnnotated.vcf.gz'</li><li>'/moto/ziab/users/jr3950/data/genomes/tmp_founders/bam/Founders.chr2.vcf.gz.phased.vcf.gz.Cov105to361.GQ20.DP5.vcf.gz.MendelianAnnotated.vcf.gz'</li><li>'/moto/ziab/users/jr3950/data/genomes/tmp_founders/bam/Founders.chr3.vcf.gz.phased.vcf.gz.Cov105to361.GQ20.DP5.vcf.gz.MendelianAnnotated.vcf.gz'</li><li>'/moto/ziab/users/jr3950/data/genomes/tmp_founders/bam/Founders.chr4.vcf.gz.phased.vcf.gz.Cov105to361.GQ20.DP5.vcf.gz.MendelianAnnotated.vcf.gz'</li><li>'/moto/ziab/users/jr3950/data/genomes/tmp_founders/bam/Founders.chr5.vcf.gz.phased.vcf.gz.Cov105to361.GQ20.DP5.vcf.gz.MendelianAnnotated.vcf.gz'</li><li>'/moto/ziab/users/jr3950/data/genomes/tmp_founders/bam/Founders.chr6.vcf.gz.phased.vcf.gz.Cov105to361.GQ20.DP5.vcf.gz.MendelianAnnotated.vcf.gz'</li><li>'/moto/ziab/users/jr3950/data/genomes/tmp_founders/bam/Founders.chr7.vcf.gz.phased.vcf.gz.Cov105to361.GQ20.DP5.vcf.gz.MendelianAnnotated.vcf.gz'</li><li>'/moto/ziab/users/jr3950/data/genomes/tmp_founders/bam/Founders.chr8.vcf.gz.phased.vcf.gz.Cov105to361.GQ20.DP5.vcf.gz.MendelianAnnotated.vcf.gz'</li><li>'/moto/ziab/users/jr3950/data/genomes/tmp_founders/bam/Founders.chr9.vcf.gz.phased.vcf.gz.Cov105to361.GQ20.DP5.vcf.gz.MendelianAnnotated.vcf.gz'</li><li>'/moto/ziab/users/jr3950/data/genomes/tmp_founders/bam/Founders.chr10.vcf.gz.phased.vcf.gz.Cov105to361.GQ20.DP5.vcf.gz.MendelianAnnotated.vcf.gz'</li><li>'/moto/ziab/users/jr3950/data/genomes/tmp_founders/bam/Founders.chr11.vcf.gz.phased.vcf.gz.Cov105to361.GQ20.DP5.vcf.gz.MendelianAnnotated.vcf.gz'</li><li>'/moto/ziab/users/jr3950/data/genomes/tmp_founders/bam/Founders.chr12.vcf.gz.phased.vcf.gz.Cov105to361.GQ20.DP5.vcf.gz.MendelianAnnotated.vcf.gz'</li><li>'/moto/ziab/users/jr3950/data/genomes/tmp_founders/bam/Founders.chr13.vcf.gz.phased.vcf.gz.Cov105to361.GQ20.DP5.vcf.gz.MendelianAnnotated.vcf.gz'</li><li>'/moto/ziab/users/jr3950/data/genomes/tmp_founders/bam/Founders.chr14.vcf.gz.phased.vcf.gz.Cov105to361.GQ20.DP5.vcf.gz.MendelianAnnotated.vcf.gz'</li><li>'/moto/ziab/users/jr3950/data/genomes/tmp_founders/bam/Founders.chr15.vcf.gz.phased.vcf.gz.Cov105to361.GQ20.DP5.vcf.gz.MendelianAnnotated.vcf.gz'</li><li>'/moto/ziab/users/jr3950/data/genomes/tmp_founders/bam/Founders.chr16.vcf.gz.phased.vcf.gz.Cov105to361.GQ20.DP5.vcf.gz.MendelianAnnotated.vcf.gz'</li><li>'/moto/ziab/users/jr3950/data/genomes/tmp_founders/bam/Founders.chr17.vcf.gz.phased.vcf.gz.Cov105to361.GQ20.DP5.vcf.gz.MendelianAnnotated.vcf.gz'</li><li>'/moto/ziab/users/jr3950/data/genomes/tmp_founders/bam/Founders.chr18.vcf.gz.phased.vcf.gz.Cov105to361.GQ20.DP5.vcf.gz.MendelianAnnotated.vcf.gz'</li><li>'/moto/ziab/users/jr3950/data/genomes/tmp_founders/bam/Founders.chr19.vcf.gz.phased.vcf.gz.Cov105to361.GQ20.DP5.vcf.gz.MendelianAnnotated.vcf.gz'</li></ol>\n"
      ],
      "text/latex": [
       "\\begin{enumerate*}\n",
       "\\item '/moto/ziab/users/jr3950/data/genomes/tmp\\_founders/bam/Founders.chr1.vcf.gz.phased.vcf.gz.Cov105to361.GQ20.DP5.vcf.gz.MendelianAnnotated.vcf.gz'\n",
       "\\item '/moto/ziab/users/jr3950/data/genomes/tmp\\_founders/bam/Founders.chr2.vcf.gz.phased.vcf.gz.Cov105to361.GQ20.DP5.vcf.gz.MendelianAnnotated.vcf.gz'\n",
       "\\item '/moto/ziab/users/jr3950/data/genomes/tmp\\_founders/bam/Founders.chr3.vcf.gz.phased.vcf.gz.Cov105to361.GQ20.DP5.vcf.gz.MendelianAnnotated.vcf.gz'\n",
       "\\item '/moto/ziab/users/jr3950/data/genomes/tmp\\_founders/bam/Founders.chr4.vcf.gz.phased.vcf.gz.Cov105to361.GQ20.DP5.vcf.gz.MendelianAnnotated.vcf.gz'\n",
       "\\item '/moto/ziab/users/jr3950/data/genomes/tmp\\_founders/bam/Founders.chr5.vcf.gz.phased.vcf.gz.Cov105to361.GQ20.DP5.vcf.gz.MendelianAnnotated.vcf.gz'\n",
       "\\item '/moto/ziab/users/jr3950/data/genomes/tmp\\_founders/bam/Founders.chr6.vcf.gz.phased.vcf.gz.Cov105to361.GQ20.DP5.vcf.gz.MendelianAnnotated.vcf.gz'\n",
       "\\item '/moto/ziab/users/jr3950/data/genomes/tmp\\_founders/bam/Founders.chr7.vcf.gz.phased.vcf.gz.Cov105to361.GQ20.DP5.vcf.gz.MendelianAnnotated.vcf.gz'\n",
       "\\item '/moto/ziab/users/jr3950/data/genomes/tmp\\_founders/bam/Founders.chr8.vcf.gz.phased.vcf.gz.Cov105to361.GQ20.DP5.vcf.gz.MendelianAnnotated.vcf.gz'\n",
       "\\item '/moto/ziab/users/jr3950/data/genomes/tmp\\_founders/bam/Founders.chr9.vcf.gz.phased.vcf.gz.Cov105to361.GQ20.DP5.vcf.gz.MendelianAnnotated.vcf.gz'\n",
       "\\item '/moto/ziab/users/jr3950/data/genomes/tmp\\_founders/bam/Founders.chr10.vcf.gz.phased.vcf.gz.Cov105to361.GQ20.DP5.vcf.gz.MendelianAnnotated.vcf.gz'\n",
       "\\item '/moto/ziab/users/jr3950/data/genomes/tmp\\_founders/bam/Founders.chr11.vcf.gz.phased.vcf.gz.Cov105to361.GQ20.DP5.vcf.gz.MendelianAnnotated.vcf.gz'\n",
       "\\item '/moto/ziab/users/jr3950/data/genomes/tmp\\_founders/bam/Founders.chr12.vcf.gz.phased.vcf.gz.Cov105to361.GQ20.DP5.vcf.gz.MendelianAnnotated.vcf.gz'\n",
       "\\item '/moto/ziab/users/jr3950/data/genomes/tmp\\_founders/bam/Founders.chr13.vcf.gz.phased.vcf.gz.Cov105to361.GQ20.DP5.vcf.gz.MendelianAnnotated.vcf.gz'\n",
       "\\item '/moto/ziab/users/jr3950/data/genomes/tmp\\_founders/bam/Founders.chr14.vcf.gz.phased.vcf.gz.Cov105to361.GQ20.DP5.vcf.gz.MendelianAnnotated.vcf.gz'\n",
       "\\item '/moto/ziab/users/jr3950/data/genomes/tmp\\_founders/bam/Founders.chr15.vcf.gz.phased.vcf.gz.Cov105to361.GQ20.DP5.vcf.gz.MendelianAnnotated.vcf.gz'\n",
       "\\item '/moto/ziab/users/jr3950/data/genomes/tmp\\_founders/bam/Founders.chr16.vcf.gz.phased.vcf.gz.Cov105to361.GQ20.DP5.vcf.gz.MendelianAnnotated.vcf.gz'\n",
       "\\item '/moto/ziab/users/jr3950/data/genomes/tmp\\_founders/bam/Founders.chr17.vcf.gz.phased.vcf.gz.Cov105to361.GQ20.DP5.vcf.gz.MendelianAnnotated.vcf.gz'\n",
       "\\item '/moto/ziab/users/jr3950/data/genomes/tmp\\_founders/bam/Founders.chr18.vcf.gz.phased.vcf.gz.Cov105to361.GQ20.DP5.vcf.gz.MendelianAnnotated.vcf.gz'\n",
       "\\item '/moto/ziab/users/jr3950/data/genomes/tmp\\_founders/bam/Founders.chr19.vcf.gz.phased.vcf.gz.Cov105to361.GQ20.DP5.vcf.gz.MendelianAnnotated.vcf.gz'\n",
       "\\end{enumerate*}\n"
      ],
      "text/markdown": [
       "1. '/moto/ziab/users/jr3950/data/genomes/tmp_founders/bam/Founders.chr1.vcf.gz.phased.vcf.gz.Cov105to361.GQ20.DP5.vcf.gz.MendelianAnnotated.vcf.gz'\n",
       "2. '/moto/ziab/users/jr3950/data/genomes/tmp_founders/bam/Founders.chr2.vcf.gz.phased.vcf.gz.Cov105to361.GQ20.DP5.vcf.gz.MendelianAnnotated.vcf.gz'\n",
       "3. '/moto/ziab/users/jr3950/data/genomes/tmp_founders/bam/Founders.chr3.vcf.gz.phased.vcf.gz.Cov105to361.GQ20.DP5.vcf.gz.MendelianAnnotated.vcf.gz'\n",
       "4. '/moto/ziab/users/jr3950/data/genomes/tmp_founders/bam/Founders.chr4.vcf.gz.phased.vcf.gz.Cov105to361.GQ20.DP5.vcf.gz.MendelianAnnotated.vcf.gz'\n",
       "5. '/moto/ziab/users/jr3950/data/genomes/tmp_founders/bam/Founders.chr5.vcf.gz.phased.vcf.gz.Cov105to361.GQ20.DP5.vcf.gz.MendelianAnnotated.vcf.gz'\n",
       "6. '/moto/ziab/users/jr3950/data/genomes/tmp_founders/bam/Founders.chr6.vcf.gz.phased.vcf.gz.Cov105to361.GQ20.DP5.vcf.gz.MendelianAnnotated.vcf.gz'\n",
       "7. '/moto/ziab/users/jr3950/data/genomes/tmp_founders/bam/Founders.chr7.vcf.gz.phased.vcf.gz.Cov105to361.GQ20.DP5.vcf.gz.MendelianAnnotated.vcf.gz'\n",
       "8. '/moto/ziab/users/jr3950/data/genomes/tmp_founders/bam/Founders.chr8.vcf.gz.phased.vcf.gz.Cov105to361.GQ20.DP5.vcf.gz.MendelianAnnotated.vcf.gz'\n",
       "9. '/moto/ziab/users/jr3950/data/genomes/tmp_founders/bam/Founders.chr9.vcf.gz.phased.vcf.gz.Cov105to361.GQ20.DP5.vcf.gz.MendelianAnnotated.vcf.gz'\n",
       "10. '/moto/ziab/users/jr3950/data/genomes/tmp_founders/bam/Founders.chr10.vcf.gz.phased.vcf.gz.Cov105to361.GQ20.DP5.vcf.gz.MendelianAnnotated.vcf.gz'\n",
       "11. '/moto/ziab/users/jr3950/data/genomes/tmp_founders/bam/Founders.chr11.vcf.gz.phased.vcf.gz.Cov105to361.GQ20.DP5.vcf.gz.MendelianAnnotated.vcf.gz'\n",
       "12. '/moto/ziab/users/jr3950/data/genomes/tmp_founders/bam/Founders.chr12.vcf.gz.phased.vcf.gz.Cov105to361.GQ20.DP5.vcf.gz.MendelianAnnotated.vcf.gz'\n",
       "13. '/moto/ziab/users/jr3950/data/genomes/tmp_founders/bam/Founders.chr13.vcf.gz.phased.vcf.gz.Cov105to361.GQ20.DP5.vcf.gz.MendelianAnnotated.vcf.gz'\n",
       "14. '/moto/ziab/users/jr3950/data/genomes/tmp_founders/bam/Founders.chr14.vcf.gz.phased.vcf.gz.Cov105to361.GQ20.DP5.vcf.gz.MendelianAnnotated.vcf.gz'\n",
       "15. '/moto/ziab/users/jr3950/data/genomes/tmp_founders/bam/Founders.chr15.vcf.gz.phased.vcf.gz.Cov105to361.GQ20.DP5.vcf.gz.MendelianAnnotated.vcf.gz'\n",
       "16. '/moto/ziab/users/jr3950/data/genomes/tmp_founders/bam/Founders.chr16.vcf.gz.phased.vcf.gz.Cov105to361.GQ20.DP5.vcf.gz.MendelianAnnotated.vcf.gz'\n",
       "17. '/moto/ziab/users/jr3950/data/genomes/tmp_founders/bam/Founders.chr17.vcf.gz.phased.vcf.gz.Cov105to361.GQ20.DP5.vcf.gz.MendelianAnnotated.vcf.gz'\n",
       "18. '/moto/ziab/users/jr3950/data/genomes/tmp_founders/bam/Founders.chr18.vcf.gz.phased.vcf.gz.Cov105to361.GQ20.DP5.vcf.gz.MendelianAnnotated.vcf.gz'\n",
       "19. '/moto/ziab/users/jr3950/data/genomes/tmp_founders/bam/Founders.chr19.vcf.gz.phased.vcf.gz.Cov105to361.GQ20.DP5.vcf.gz.MendelianAnnotated.vcf.gz'\n",
       "\n",
       "\n"
      ],
      "text/plain": [
       " [1] \"/moto/ziab/users/jr3950/data/genomes/tmp_founders/bam/Founders.chr1.vcf.gz.phased.vcf.gz.Cov105to361.GQ20.DP5.vcf.gz.MendelianAnnotated.vcf.gz\" \n",
       " [2] \"/moto/ziab/users/jr3950/data/genomes/tmp_founders/bam/Founders.chr2.vcf.gz.phased.vcf.gz.Cov105to361.GQ20.DP5.vcf.gz.MendelianAnnotated.vcf.gz\" \n",
       " [3] \"/moto/ziab/users/jr3950/data/genomes/tmp_founders/bam/Founders.chr3.vcf.gz.phased.vcf.gz.Cov105to361.GQ20.DP5.vcf.gz.MendelianAnnotated.vcf.gz\" \n",
       " [4] \"/moto/ziab/users/jr3950/data/genomes/tmp_founders/bam/Founders.chr4.vcf.gz.phased.vcf.gz.Cov105to361.GQ20.DP5.vcf.gz.MendelianAnnotated.vcf.gz\" \n",
       " [5] \"/moto/ziab/users/jr3950/data/genomes/tmp_founders/bam/Founders.chr5.vcf.gz.phased.vcf.gz.Cov105to361.GQ20.DP5.vcf.gz.MendelianAnnotated.vcf.gz\" \n",
       " [6] \"/moto/ziab/users/jr3950/data/genomes/tmp_founders/bam/Founders.chr6.vcf.gz.phased.vcf.gz.Cov105to361.GQ20.DP5.vcf.gz.MendelianAnnotated.vcf.gz\" \n",
       " [7] \"/moto/ziab/users/jr3950/data/genomes/tmp_founders/bam/Founders.chr7.vcf.gz.phased.vcf.gz.Cov105to361.GQ20.DP5.vcf.gz.MendelianAnnotated.vcf.gz\" \n",
       " [8] \"/moto/ziab/users/jr3950/data/genomes/tmp_founders/bam/Founders.chr8.vcf.gz.phased.vcf.gz.Cov105to361.GQ20.DP5.vcf.gz.MendelianAnnotated.vcf.gz\" \n",
       " [9] \"/moto/ziab/users/jr3950/data/genomes/tmp_founders/bam/Founders.chr9.vcf.gz.phased.vcf.gz.Cov105to361.GQ20.DP5.vcf.gz.MendelianAnnotated.vcf.gz\" \n",
       "[10] \"/moto/ziab/users/jr3950/data/genomes/tmp_founders/bam/Founders.chr10.vcf.gz.phased.vcf.gz.Cov105to361.GQ20.DP5.vcf.gz.MendelianAnnotated.vcf.gz\"\n",
       "[11] \"/moto/ziab/users/jr3950/data/genomes/tmp_founders/bam/Founders.chr11.vcf.gz.phased.vcf.gz.Cov105to361.GQ20.DP5.vcf.gz.MendelianAnnotated.vcf.gz\"\n",
       "[12] \"/moto/ziab/users/jr3950/data/genomes/tmp_founders/bam/Founders.chr12.vcf.gz.phased.vcf.gz.Cov105to361.GQ20.DP5.vcf.gz.MendelianAnnotated.vcf.gz\"\n",
       "[13] \"/moto/ziab/users/jr3950/data/genomes/tmp_founders/bam/Founders.chr13.vcf.gz.phased.vcf.gz.Cov105to361.GQ20.DP5.vcf.gz.MendelianAnnotated.vcf.gz\"\n",
       "[14] \"/moto/ziab/users/jr3950/data/genomes/tmp_founders/bam/Founders.chr14.vcf.gz.phased.vcf.gz.Cov105to361.GQ20.DP5.vcf.gz.MendelianAnnotated.vcf.gz\"\n",
       "[15] \"/moto/ziab/users/jr3950/data/genomes/tmp_founders/bam/Founders.chr15.vcf.gz.phased.vcf.gz.Cov105to361.GQ20.DP5.vcf.gz.MendelianAnnotated.vcf.gz\"\n",
       "[16] \"/moto/ziab/users/jr3950/data/genomes/tmp_founders/bam/Founders.chr16.vcf.gz.phased.vcf.gz.Cov105to361.GQ20.DP5.vcf.gz.MendelianAnnotated.vcf.gz\"\n",
       "[17] \"/moto/ziab/users/jr3950/data/genomes/tmp_founders/bam/Founders.chr17.vcf.gz.phased.vcf.gz.Cov105to361.GQ20.DP5.vcf.gz.MendelianAnnotated.vcf.gz\"\n",
       "[18] \"/moto/ziab/users/jr3950/data/genomes/tmp_founders/bam/Founders.chr18.vcf.gz.phased.vcf.gz.Cov105to361.GQ20.DP5.vcf.gz.MendelianAnnotated.vcf.gz\"\n",
       "[19] \"/moto/ziab/users/jr3950/data/genomes/tmp_founders/bam/Founders.chr19.vcf.gz.phased.vcf.gz.Cov105to361.GQ20.DP5.vcf.gz.MendelianAnnotated.vcf.gz\""
      ]
     },
     "metadata": {},
     "output_type": "display_data"
    }
   ],
   "source": [
    "files=naturalsort(list.files(path=bam_dir, pattern=paste0(\"phased.vcf.gz.Cov\",min_DP,\"to\",max_DP,\".GQ\",GQ_filter,\".DP\",DP_filter,\".vcf.gz.MendelianAnnotated.vcf.gz$\"), full.names=TRUE))\n",
    "files"
   ]
  },
  {
   "cell_type": "code",
   "execution_count": 18,
   "id": "ce763340-3827-4549-9906-2bbb34e828ad",
   "metadata": {
    "tags": []
   },
   "outputs": [],
   "source": [
    "# select founders only\n",
    "\n",
    "# no mendelian errors\n",
    "\n",
    "# only biallelic and zero missing genotypes\n",
    "\n",
    "jobname=\"FilterF0\"\n",
    "\n",
    "for(f in files){\n",
    "    \n",
    "    if(file.exists(paste0(f,\".F0.0MERR.0Missing.m2M2.vcf.gz\"))){\n",
    "        next\n",
    "    }\n",
    "    \n",
    "    cmd=paste0(\"sh -xe \",Barn_Mice_dir,\"01_Genotyping/01_Founders/05_Filter-FinalSteps.sh \", f)\n",
    "    print(cmd)\n",
    "    execute_cmd_sbatch(cmd, mem=\"4gb\", cpu=\"1\", time=\"short\", env=env_mapping_etc, jobname=jobname,\n",
    "                          activateEnvScript=paste0(Barn_Mice_dir,\"activateEnv.sh\")) \n",
    "        Sys.sleep(1)\n",
    "}\n",
    "\n"
   ]
  },
  {
   "cell_type": "code",
   "execution_count": null,
   "id": "987547c6-8005-4571-8adf-de14e9f79b5a",
   "metadata": {},
   "outputs": [],
   "source": [
    "jobname\n",
    "while(slurm_check_jobs_still_running(columbia_username,jobname)){\n",
    "    Sys.sleep(60)\n",
    "}"
   ]
  },
  {
   "cell_type": "code",
   "execution_count": 37,
   "id": "fd097628-0c76-4d36-bcde-39d43a1fa802",
   "metadata": {
    "tags": []
   },
   "outputs": [
    {
     "data": {
      "text/html": [
       "<style>\n",
       ".list-inline {list-style: none; margin:0; padding: 0}\n",
       ".list-inline>li {display: inline-block}\n",
       ".list-inline>li:not(:last-child)::after {content: \"\\00b7\"; padding: 0 .5ex}\n",
       "</style>\n",
       "<ol class=list-inline><li>'/moto/ziab/users/jr3950/data/genomes/tmp_founders/bam/Founders.chr1.vcf.gz.phased.vcf.gz'</li><li>'/moto/ziab/users/jr3950/data/genomes/tmp_founders/bam/Founders.chr1.vcf.gz.phased.vcf.gz.Cov105to361.GQ20.DP5.vcf.gz'</li><li>'/moto/ziab/users/jr3950/data/genomes/tmp_founders/bam/Founders.chr1.vcf.gz.phased.vcf.gz.Cov105to361.GQ20.DP5.vcf.gz.MendelianAnnotated.vcf.gz.F0.0MERR.0Missing.m2M2.vcf.gz'</li><li>'/moto/ziab/users/jr3950/data/genomes/tmp_founders/bam/Founders.chr2.vcf.gz.phased.vcf.gz'</li><li>'/moto/ziab/users/jr3950/data/genomes/tmp_founders/bam/Founders.chr2.vcf.gz.phased.vcf.gz.Cov105to361.GQ20.DP5.vcf.gz'</li><li>'/moto/ziab/users/jr3950/data/genomes/tmp_founders/bam/Founders.chr2.vcf.gz.phased.vcf.gz.Cov105to361.GQ20.DP5.vcf.gz.MendelianAnnotated.vcf.gz.F0.0MERR.0Missing.m2M2.vcf.gz'</li><li>'/moto/ziab/users/jr3950/data/genomes/tmp_founders/bam/Founders.chr3.vcf.gz.phased.vcf.gz'</li><li>'/moto/ziab/users/jr3950/data/genomes/tmp_founders/bam/Founders.chr3.vcf.gz.phased.vcf.gz.Cov105to361.GQ20.DP5.vcf.gz'</li><li>'/moto/ziab/users/jr3950/data/genomes/tmp_founders/bam/Founders.chr3.vcf.gz.phased.vcf.gz.Cov105to361.GQ20.DP5.vcf.gz.MendelianAnnotated.vcf.gz.F0.0MERR.0Missing.m2M2.vcf.gz'</li><li>'/moto/ziab/users/jr3950/data/genomes/tmp_founders/bam/Founders.chr4.vcf.gz.phased.vcf.gz'</li><li>'/moto/ziab/users/jr3950/data/genomes/tmp_founders/bam/Founders.chr4.vcf.gz.phased.vcf.gz.Cov105to361.GQ20.DP5.vcf.gz'</li><li>'/moto/ziab/users/jr3950/data/genomes/tmp_founders/bam/Founders.chr4.vcf.gz.phased.vcf.gz.Cov105to361.GQ20.DP5.vcf.gz.MendelianAnnotated.vcf.gz.F0.0MERR.0Missing.m2M2.vcf.gz'</li><li>'/moto/ziab/users/jr3950/data/genomes/tmp_founders/bam/Founders.chr5.vcf.gz.phased.vcf.gz'</li><li>'/moto/ziab/users/jr3950/data/genomes/tmp_founders/bam/Founders.chr5.vcf.gz.phased.vcf.gz.Cov105to361.GQ20.DP5.vcf.gz'</li><li>'/moto/ziab/users/jr3950/data/genomes/tmp_founders/bam/Founders.chr5.vcf.gz.phased.vcf.gz.Cov105to361.GQ20.DP5.vcf.gz.MendelianAnnotated.vcf.gz.F0.0MERR.0Missing.m2M2.vcf.gz'</li><li>'/moto/ziab/users/jr3950/data/genomes/tmp_founders/bam/Founders.chr6.vcf.gz.phased.vcf.gz'</li><li>'/moto/ziab/users/jr3950/data/genomes/tmp_founders/bam/Founders.chr6.vcf.gz.phased.vcf.gz.Cov105to361.GQ20.DP5.vcf.gz'</li><li>'/moto/ziab/users/jr3950/data/genomes/tmp_founders/bam/Founders.chr6.vcf.gz.phased.vcf.gz.Cov105to361.GQ20.DP5.vcf.gz.MendelianAnnotated.vcf.gz.F0.0MERR.0Missing.m2M2.vcf.gz'</li><li>'/moto/ziab/users/jr3950/data/genomes/tmp_founders/bam/Founders.chr7.vcf.gz.phased.vcf.gz'</li><li>'/moto/ziab/users/jr3950/data/genomes/tmp_founders/bam/Founders.chr7.vcf.gz.phased.vcf.gz.Cov105to361.GQ20.DP5.vcf.gz'</li><li>'/moto/ziab/users/jr3950/data/genomes/tmp_founders/bam/Founders.chr7.vcf.gz.phased.vcf.gz.Cov105to361.GQ20.DP5.vcf.gz.MendelianAnnotated.vcf.gz.F0.0MERR.0Missing.m2M2.vcf.gz'</li><li>'/moto/ziab/users/jr3950/data/genomes/tmp_founders/bam/Founders.chr8.vcf.gz.phased.vcf.gz'</li><li>'/moto/ziab/users/jr3950/data/genomes/tmp_founders/bam/Founders.chr8.vcf.gz.phased.vcf.gz.Cov105to361.GQ20.DP5.vcf.gz'</li><li>'/moto/ziab/users/jr3950/data/genomes/tmp_founders/bam/Founders.chr8.vcf.gz.phased.vcf.gz.Cov105to361.GQ20.DP5.vcf.gz.MendelianAnnotated.vcf.gz.F0.0MERR.0Missing.m2M2.vcf.gz'</li><li>'/moto/ziab/users/jr3950/data/genomes/tmp_founders/bam/Founders.chr9.vcf.gz.phased.vcf.gz'</li><li>'/moto/ziab/users/jr3950/data/genomes/tmp_founders/bam/Founders.chr9.vcf.gz.phased.vcf.gz.Cov105to361.GQ20.DP5.vcf.gz'</li><li>'/moto/ziab/users/jr3950/data/genomes/tmp_founders/bam/Founders.chr9.vcf.gz.phased.vcf.gz.Cov105to361.GQ20.DP5.vcf.gz.MendelianAnnotated.vcf.gz.F0.0MERR.0Missing.m2M2.vcf.gz'</li><li>'/moto/ziab/users/jr3950/data/genomes/tmp_founders/bam/Founders.chr10.vcf.gz.phased.vcf.gz'</li><li>'/moto/ziab/users/jr3950/data/genomes/tmp_founders/bam/Founders.chr10.vcf.gz.phased.vcf.gz.Cov105to361.GQ20.DP5.vcf.gz'</li><li>'/moto/ziab/users/jr3950/data/genomes/tmp_founders/bam/Founders.chr10.vcf.gz.phased.vcf.gz.Cov105to361.GQ20.DP5.vcf.gz.MendelianAnnotated.vcf.gz.F0.0MERR.0Missing.m2M2.vcf.gz'</li><li>'/moto/ziab/users/jr3950/data/genomes/tmp_founders/bam/Founders.chr11.vcf.gz.phased.vcf.gz'</li><li>'/moto/ziab/users/jr3950/data/genomes/tmp_founders/bam/Founders.chr11.vcf.gz.phased.vcf.gz.Cov105to361.GQ20.DP5.vcf.gz'</li><li>'/moto/ziab/users/jr3950/data/genomes/tmp_founders/bam/Founders.chr11.vcf.gz.phased.vcf.gz.Cov105to361.GQ20.DP5.vcf.gz.MendelianAnnotated.vcf.gz.F0.0MERR.0Missing.m2M2.vcf.gz'</li><li>'/moto/ziab/users/jr3950/data/genomes/tmp_founders/bam/Founders.chr12.vcf.gz.phased.vcf.gz'</li><li>'/moto/ziab/users/jr3950/data/genomes/tmp_founders/bam/Founders.chr12.vcf.gz.phased.vcf.gz.Cov105to361.GQ20.DP5.vcf.gz'</li><li>'/moto/ziab/users/jr3950/data/genomes/tmp_founders/bam/Founders.chr12.vcf.gz.phased.vcf.gz.Cov105to361.GQ20.DP5.vcf.gz.MendelianAnnotated.vcf.gz.F0.0MERR.0Missing.m2M2.vcf.gz'</li><li>'/moto/ziab/users/jr3950/data/genomes/tmp_founders/bam/Founders.chr13.vcf.gz.phased.vcf.gz'</li><li>'/moto/ziab/users/jr3950/data/genomes/tmp_founders/bam/Founders.chr13.vcf.gz.phased.vcf.gz.Cov105to361.GQ20.DP5.vcf.gz'</li><li>'/moto/ziab/users/jr3950/data/genomes/tmp_founders/bam/Founders.chr13.vcf.gz.phased.vcf.gz.Cov105to361.GQ20.DP5.vcf.gz.MendelianAnnotated.vcf.gz.F0.0MERR.0Missing.m2M2.vcf.gz'</li><li>'/moto/ziab/users/jr3950/data/genomes/tmp_founders/bam/Founders.chr14.vcf.gz.phased.vcf.gz'</li><li>'/moto/ziab/users/jr3950/data/genomes/tmp_founders/bam/Founders.chr14.vcf.gz.phased.vcf.gz.Cov105to361.GQ20.DP5.vcf.gz'</li><li>'/moto/ziab/users/jr3950/data/genomes/tmp_founders/bam/Founders.chr14.vcf.gz.phased.vcf.gz.Cov105to361.GQ20.DP5.vcf.gz.MendelianAnnotated.vcf.gz.F0.0MERR.0Missing.m2M2.vcf.gz'</li><li>'/moto/ziab/users/jr3950/data/genomes/tmp_founders/bam/Founders.chr15.vcf.gz.phased.vcf.gz'</li><li>'/moto/ziab/users/jr3950/data/genomes/tmp_founders/bam/Founders.chr15.vcf.gz.phased.vcf.gz.Cov105to361.GQ20.DP5.vcf.gz'</li><li>'/moto/ziab/users/jr3950/data/genomes/tmp_founders/bam/Founders.chr15.vcf.gz.phased.vcf.gz.Cov105to361.GQ20.DP5.vcf.gz.MendelianAnnotated.vcf.gz.F0.0MERR.0Missing.m2M2.vcf.gz'</li><li>'/moto/ziab/users/jr3950/data/genomes/tmp_founders/bam/Founders.chr16.vcf.gz.phased.vcf.gz'</li><li>'/moto/ziab/users/jr3950/data/genomes/tmp_founders/bam/Founders.chr16.vcf.gz.phased.vcf.gz.Cov105to361.GQ20.DP5.vcf.gz'</li><li>'/moto/ziab/users/jr3950/data/genomes/tmp_founders/bam/Founders.chr16.vcf.gz.phased.vcf.gz.Cov105to361.GQ20.DP5.vcf.gz.MendelianAnnotated.vcf.gz.F0.0MERR.0Missing.m2M2.vcf.gz'</li><li>'/moto/ziab/users/jr3950/data/genomes/tmp_founders/bam/Founders.chr17.vcf.gz.phased.vcf.gz'</li><li>'/moto/ziab/users/jr3950/data/genomes/tmp_founders/bam/Founders.chr17.vcf.gz.phased.vcf.gz.Cov105to361.GQ20.DP5.vcf.gz'</li><li>'/moto/ziab/users/jr3950/data/genomes/tmp_founders/bam/Founders.chr17.vcf.gz.phased.vcf.gz.Cov105to361.GQ20.DP5.vcf.gz.MendelianAnnotated.vcf.gz.F0.0MERR.0Missing.m2M2.vcf.gz'</li><li>'/moto/ziab/users/jr3950/data/genomes/tmp_founders/bam/Founders.chr18.vcf.gz.phased.vcf.gz'</li><li>'/moto/ziab/users/jr3950/data/genomes/tmp_founders/bam/Founders.chr18.vcf.gz.phased.vcf.gz.Cov105to361.GQ20.DP5.vcf.gz'</li><li>'/moto/ziab/users/jr3950/data/genomes/tmp_founders/bam/Founders.chr18.vcf.gz.phased.vcf.gz.Cov105to361.GQ20.DP5.vcf.gz.MendelianAnnotated.vcf.gz.F0.0MERR.0Missing.m2M2.vcf.gz'</li><li>'/moto/ziab/users/jr3950/data/genomes/tmp_founders/bam/Founders.chr19.vcf.gz.phased.vcf.gz'</li><li>'/moto/ziab/users/jr3950/data/genomes/tmp_founders/bam/Founders.chr19.vcf.gz.phased.vcf.gz.Cov105to361.GQ20.DP5.vcf.gz'</li><li>'/moto/ziab/users/jr3950/data/genomes/tmp_founders/bam/Founders.chr19.vcf.gz.phased.vcf.gz.Cov105to361.GQ20.DP5.vcf.gz.MendelianAnnotated.vcf.gz.F0.0MERR.0Missing.m2M2.vcf.gz'</li></ol>\n"
      ],
      "text/latex": [
       "\\begin{enumerate*}\n",
       "\\item '/moto/ziab/users/jr3950/data/genomes/tmp\\_founders/bam/Founders.chr1.vcf.gz.phased.vcf.gz'\n",
       "\\item '/moto/ziab/users/jr3950/data/genomes/tmp\\_founders/bam/Founders.chr1.vcf.gz.phased.vcf.gz.Cov105to361.GQ20.DP5.vcf.gz'\n",
       "\\item '/moto/ziab/users/jr3950/data/genomes/tmp\\_founders/bam/Founders.chr1.vcf.gz.phased.vcf.gz.Cov105to361.GQ20.DP5.vcf.gz.MendelianAnnotated.vcf.gz.F0.0MERR.0Missing.m2M2.vcf.gz'\n",
       "\\item '/moto/ziab/users/jr3950/data/genomes/tmp\\_founders/bam/Founders.chr2.vcf.gz.phased.vcf.gz'\n",
       "\\item '/moto/ziab/users/jr3950/data/genomes/tmp\\_founders/bam/Founders.chr2.vcf.gz.phased.vcf.gz.Cov105to361.GQ20.DP5.vcf.gz'\n",
       "\\item '/moto/ziab/users/jr3950/data/genomes/tmp\\_founders/bam/Founders.chr2.vcf.gz.phased.vcf.gz.Cov105to361.GQ20.DP5.vcf.gz.MendelianAnnotated.vcf.gz.F0.0MERR.0Missing.m2M2.vcf.gz'\n",
       "\\item '/moto/ziab/users/jr3950/data/genomes/tmp\\_founders/bam/Founders.chr3.vcf.gz.phased.vcf.gz'\n",
       "\\item '/moto/ziab/users/jr3950/data/genomes/tmp\\_founders/bam/Founders.chr3.vcf.gz.phased.vcf.gz.Cov105to361.GQ20.DP5.vcf.gz'\n",
       "\\item '/moto/ziab/users/jr3950/data/genomes/tmp\\_founders/bam/Founders.chr3.vcf.gz.phased.vcf.gz.Cov105to361.GQ20.DP5.vcf.gz.MendelianAnnotated.vcf.gz.F0.0MERR.0Missing.m2M2.vcf.gz'\n",
       "\\item '/moto/ziab/users/jr3950/data/genomes/tmp\\_founders/bam/Founders.chr4.vcf.gz.phased.vcf.gz'\n",
       "\\item '/moto/ziab/users/jr3950/data/genomes/tmp\\_founders/bam/Founders.chr4.vcf.gz.phased.vcf.gz.Cov105to361.GQ20.DP5.vcf.gz'\n",
       "\\item '/moto/ziab/users/jr3950/data/genomes/tmp\\_founders/bam/Founders.chr4.vcf.gz.phased.vcf.gz.Cov105to361.GQ20.DP5.vcf.gz.MendelianAnnotated.vcf.gz.F0.0MERR.0Missing.m2M2.vcf.gz'\n",
       "\\item '/moto/ziab/users/jr3950/data/genomes/tmp\\_founders/bam/Founders.chr5.vcf.gz.phased.vcf.gz'\n",
       "\\item '/moto/ziab/users/jr3950/data/genomes/tmp\\_founders/bam/Founders.chr5.vcf.gz.phased.vcf.gz.Cov105to361.GQ20.DP5.vcf.gz'\n",
       "\\item '/moto/ziab/users/jr3950/data/genomes/tmp\\_founders/bam/Founders.chr5.vcf.gz.phased.vcf.gz.Cov105to361.GQ20.DP5.vcf.gz.MendelianAnnotated.vcf.gz.F0.0MERR.0Missing.m2M2.vcf.gz'\n",
       "\\item '/moto/ziab/users/jr3950/data/genomes/tmp\\_founders/bam/Founders.chr6.vcf.gz.phased.vcf.gz'\n",
       "\\item '/moto/ziab/users/jr3950/data/genomes/tmp\\_founders/bam/Founders.chr6.vcf.gz.phased.vcf.gz.Cov105to361.GQ20.DP5.vcf.gz'\n",
       "\\item '/moto/ziab/users/jr3950/data/genomes/tmp\\_founders/bam/Founders.chr6.vcf.gz.phased.vcf.gz.Cov105to361.GQ20.DP5.vcf.gz.MendelianAnnotated.vcf.gz.F0.0MERR.0Missing.m2M2.vcf.gz'\n",
       "\\item '/moto/ziab/users/jr3950/data/genomes/tmp\\_founders/bam/Founders.chr7.vcf.gz.phased.vcf.gz'\n",
       "\\item '/moto/ziab/users/jr3950/data/genomes/tmp\\_founders/bam/Founders.chr7.vcf.gz.phased.vcf.gz.Cov105to361.GQ20.DP5.vcf.gz'\n",
       "\\item '/moto/ziab/users/jr3950/data/genomes/tmp\\_founders/bam/Founders.chr7.vcf.gz.phased.vcf.gz.Cov105to361.GQ20.DP5.vcf.gz.MendelianAnnotated.vcf.gz.F0.0MERR.0Missing.m2M2.vcf.gz'\n",
       "\\item '/moto/ziab/users/jr3950/data/genomes/tmp\\_founders/bam/Founders.chr8.vcf.gz.phased.vcf.gz'\n",
       "\\item '/moto/ziab/users/jr3950/data/genomes/tmp\\_founders/bam/Founders.chr8.vcf.gz.phased.vcf.gz.Cov105to361.GQ20.DP5.vcf.gz'\n",
       "\\item '/moto/ziab/users/jr3950/data/genomes/tmp\\_founders/bam/Founders.chr8.vcf.gz.phased.vcf.gz.Cov105to361.GQ20.DP5.vcf.gz.MendelianAnnotated.vcf.gz.F0.0MERR.0Missing.m2M2.vcf.gz'\n",
       "\\item '/moto/ziab/users/jr3950/data/genomes/tmp\\_founders/bam/Founders.chr9.vcf.gz.phased.vcf.gz'\n",
       "\\item '/moto/ziab/users/jr3950/data/genomes/tmp\\_founders/bam/Founders.chr9.vcf.gz.phased.vcf.gz.Cov105to361.GQ20.DP5.vcf.gz'\n",
       "\\item '/moto/ziab/users/jr3950/data/genomes/tmp\\_founders/bam/Founders.chr9.vcf.gz.phased.vcf.gz.Cov105to361.GQ20.DP5.vcf.gz.MendelianAnnotated.vcf.gz.F0.0MERR.0Missing.m2M2.vcf.gz'\n",
       "\\item '/moto/ziab/users/jr3950/data/genomes/tmp\\_founders/bam/Founders.chr10.vcf.gz.phased.vcf.gz'\n",
       "\\item '/moto/ziab/users/jr3950/data/genomes/tmp\\_founders/bam/Founders.chr10.vcf.gz.phased.vcf.gz.Cov105to361.GQ20.DP5.vcf.gz'\n",
       "\\item '/moto/ziab/users/jr3950/data/genomes/tmp\\_founders/bam/Founders.chr10.vcf.gz.phased.vcf.gz.Cov105to361.GQ20.DP5.vcf.gz.MendelianAnnotated.vcf.gz.F0.0MERR.0Missing.m2M2.vcf.gz'\n",
       "\\item '/moto/ziab/users/jr3950/data/genomes/tmp\\_founders/bam/Founders.chr11.vcf.gz.phased.vcf.gz'\n",
       "\\item '/moto/ziab/users/jr3950/data/genomes/tmp\\_founders/bam/Founders.chr11.vcf.gz.phased.vcf.gz.Cov105to361.GQ20.DP5.vcf.gz'\n",
       "\\item '/moto/ziab/users/jr3950/data/genomes/tmp\\_founders/bam/Founders.chr11.vcf.gz.phased.vcf.gz.Cov105to361.GQ20.DP5.vcf.gz.MendelianAnnotated.vcf.gz.F0.0MERR.0Missing.m2M2.vcf.gz'\n",
       "\\item '/moto/ziab/users/jr3950/data/genomes/tmp\\_founders/bam/Founders.chr12.vcf.gz.phased.vcf.gz'\n",
       "\\item '/moto/ziab/users/jr3950/data/genomes/tmp\\_founders/bam/Founders.chr12.vcf.gz.phased.vcf.gz.Cov105to361.GQ20.DP5.vcf.gz'\n",
       "\\item '/moto/ziab/users/jr3950/data/genomes/tmp\\_founders/bam/Founders.chr12.vcf.gz.phased.vcf.gz.Cov105to361.GQ20.DP5.vcf.gz.MendelianAnnotated.vcf.gz.F0.0MERR.0Missing.m2M2.vcf.gz'\n",
       "\\item '/moto/ziab/users/jr3950/data/genomes/tmp\\_founders/bam/Founders.chr13.vcf.gz.phased.vcf.gz'\n",
       "\\item '/moto/ziab/users/jr3950/data/genomes/tmp\\_founders/bam/Founders.chr13.vcf.gz.phased.vcf.gz.Cov105to361.GQ20.DP5.vcf.gz'\n",
       "\\item '/moto/ziab/users/jr3950/data/genomes/tmp\\_founders/bam/Founders.chr13.vcf.gz.phased.vcf.gz.Cov105to361.GQ20.DP5.vcf.gz.MendelianAnnotated.vcf.gz.F0.0MERR.0Missing.m2M2.vcf.gz'\n",
       "\\item '/moto/ziab/users/jr3950/data/genomes/tmp\\_founders/bam/Founders.chr14.vcf.gz.phased.vcf.gz'\n",
       "\\item '/moto/ziab/users/jr3950/data/genomes/tmp\\_founders/bam/Founders.chr14.vcf.gz.phased.vcf.gz.Cov105to361.GQ20.DP5.vcf.gz'\n",
       "\\item '/moto/ziab/users/jr3950/data/genomes/tmp\\_founders/bam/Founders.chr14.vcf.gz.phased.vcf.gz.Cov105to361.GQ20.DP5.vcf.gz.MendelianAnnotated.vcf.gz.F0.0MERR.0Missing.m2M2.vcf.gz'\n",
       "\\item '/moto/ziab/users/jr3950/data/genomes/tmp\\_founders/bam/Founders.chr15.vcf.gz.phased.vcf.gz'\n",
       "\\item '/moto/ziab/users/jr3950/data/genomes/tmp\\_founders/bam/Founders.chr15.vcf.gz.phased.vcf.gz.Cov105to361.GQ20.DP5.vcf.gz'\n",
       "\\item '/moto/ziab/users/jr3950/data/genomes/tmp\\_founders/bam/Founders.chr15.vcf.gz.phased.vcf.gz.Cov105to361.GQ20.DP5.vcf.gz.MendelianAnnotated.vcf.gz.F0.0MERR.0Missing.m2M2.vcf.gz'\n",
       "\\item '/moto/ziab/users/jr3950/data/genomes/tmp\\_founders/bam/Founders.chr16.vcf.gz.phased.vcf.gz'\n",
       "\\item '/moto/ziab/users/jr3950/data/genomes/tmp\\_founders/bam/Founders.chr16.vcf.gz.phased.vcf.gz.Cov105to361.GQ20.DP5.vcf.gz'\n",
       "\\item '/moto/ziab/users/jr3950/data/genomes/tmp\\_founders/bam/Founders.chr16.vcf.gz.phased.vcf.gz.Cov105to361.GQ20.DP5.vcf.gz.MendelianAnnotated.vcf.gz.F0.0MERR.0Missing.m2M2.vcf.gz'\n",
       "\\item '/moto/ziab/users/jr3950/data/genomes/tmp\\_founders/bam/Founders.chr17.vcf.gz.phased.vcf.gz'\n",
       "\\item '/moto/ziab/users/jr3950/data/genomes/tmp\\_founders/bam/Founders.chr17.vcf.gz.phased.vcf.gz.Cov105to361.GQ20.DP5.vcf.gz'\n",
       "\\item '/moto/ziab/users/jr3950/data/genomes/tmp\\_founders/bam/Founders.chr17.vcf.gz.phased.vcf.gz.Cov105to361.GQ20.DP5.vcf.gz.MendelianAnnotated.vcf.gz.F0.0MERR.0Missing.m2M2.vcf.gz'\n",
       "\\item '/moto/ziab/users/jr3950/data/genomes/tmp\\_founders/bam/Founders.chr18.vcf.gz.phased.vcf.gz'\n",
       "\\item '/moto/ziab/users/jr3950/data/genomes/tmp\\_founders/bam/Founders.chr18.vcf.gz.phased.vcf.gz.Cov105to361.GQ20.DP5.vcf.gz'\n",
       "\\item '/moto/ziab/users/jr3950/data/genomes/tmp\\_founders/bam/Founders.chr18.vcf.gz.phased.vcf.gz.Cov105to361.GQ20.DP5.vcf.gz.MendelianAnnotated.vcf.gz.F0.0MERR.0Missing.m2M2.vcf.gz'\n",
       "\\item '/moto/ziab/users/jr3950/data/genomes/tmp\\_founders/bam/Founders.chr19.vcf.gz.phased.vcf.gz'\n",
       "\\item '/moto/ziab/users/jr3950/data/genomes/tmp\\_founders/bam/Founders.chr19.vcf.gz.phased.vcf.gz.Cov105to361.GQ20.DP5.vcf.gz'\n",
       "\\item '/moto/ziab/users/jr3950/data/genomes/tmp\\_founders/bam/Founders.chr19.vcf.gz.phased.vcf.gz.Cov105to361.GQ20.DP5.vcf.gz.MendelianAnnotated.vcf.gz.F0.0MERR.0Missing.m2M2.vcf.gz'\n",
       "\\end{enumerate*}\n"
      ],
      "text/markdown": [
       "1. '/moto/ziab/users/jr3950/data/genomes/tmp_founders/bam/Founders.chr1.vcf.gz.phased.vcf.gz'\n",
       "2. '/moto/ziab/users/jr3950/data/genomes/tmp_founders/bam/Founders.chr1.vcf.gz.phased.vcf.gz.Cov105to361.GQ20.DP5.vcf.gz'\n",
       "3. '/moto/ziab/users/jr3950/data/genomes/tmp_founders/bam/Founders.chr1.vcf.gz.phased.vcf.gz.Cov105to361.GQ20.DP5.vcf.gz.MendelianAnnotated.vcf.gz.F0.0MERR.0Missing.m2M2.vcf.gz'\n",
       "4. '/moto/ziab/users/jr3950/data/genomes/tmp_founders/bam/Founders.chr2.vcf.gz.phased.vcf.gz'\n",
       "5. '/moto/ziab/users/jr3950/data/genomes/tmp_founders/bam/Founders.chr2.vcf.gz.phased.vcf.gz.Cov105to361.GQ20.DP5.vcf.gz'\n",
       "6. '/moto/ziab/users/jr3950/data/genomes/tmp_founders/bam/Founders.chr2.vcf.gz.phased.vcf.gz.Cov105to361.GQ20.DP5.vcf.gz.MendelianAnnotated.vcf.gz.F0.0MERR.0Missing.m2M2.vcf.gz'\n",
       "7. '/moto/ziab/users/jr3950/data/genomes/tmp_founders/bam/Founders.chr3.vcf.gz.phased.vcf.gz'\n",
       "8. '/moto/ziab/users/jr3950/data/genomes/tmp_founders/bam/Founders.chr3.vcf.gz.phased.vcf.gz.Cov105to361.GQ20.DP5.vcf.gz'\n",
       "9. '/moto/ziab/users/jr3950/data/genomes/tmp_founders/bam/Founders.chr3.vcf.gz.phased.vcf.gz.Cov105to361.GQ20.DP5.vcf.gz.MendelianAnnotated.vcf.gz.F0.0MERR.0Missing.m2M2.vcf.gz'\n",
       "10. '/moto/ziab/users/jr3950/data/genomes/tmp_founders/bam/Founders.chr4.vcf.gz.phased.vcf.gz'\n",
       "11. '/moto/ziab/users/jr3950/data/genomes/tmp_founders/bam/Founders.chr4.vcf.gz.phased.vcf.gz.Cov105to361.GQ20.DP5.vcf.gz'\n",
       "12. '/moto/ziab/users/jr3950/data/genomes/tmp_founders/bam/Founders.chr4.vcf.gz.phased.vcf.gz.Cov105to361.GQ20.DP5.vcf.gz.MendelianAnnotated.vcf.gz.F0.0MERR.0Missing.m2M2.vcf.gz'\n",
       "13. '/moto/ziab/users/jr3950/data/genomes/tmp_founders/bam/Founders.chr5.vcf.gz.phased.vcf.gz'\n",
       "14. '/moto/ziab/users/jr3950/data/genomes/tmp_founders/bam/Founders.chr5.vcf.gz.phased.vcf.gz.Cov105to361.GQ20.DP5.vcf.gz'\n",
       "15. '/moto/ziab/users/jr3950/data/genomes/tmp_founders/bam/Founders.chr5.vcf.gz.phased.vcf.gz.Cov105to361.GQ20.DP5.vcf.gz.MendelianAnnotated.vcf.gz.F0.0MERR.0Missing.m2M2.vcf.gz'\n",
       "16. '/moto/ziab/users/jr3950/data/genomes/tmp_founders/bam/Founders.chr6.vcf.gz.phased.vcf.gz'\n",
       "17. '/moto/ziab/users/jr3950/data/genomes/tmp_founders/bam/Founders.chr6.vcf.gz.phased.vcf.gz.Cov105to361.GQ20.DP5.vcf.gz'\n",
       "18. '/moto/ziab/users/jr3950/data/genomes/tmp_founders/bam/Founders.chr6.vcf.gz.phased.vcf.gz.Cov105to361.GQ20.DP5.vcf.gz.MendelianAnnotated.vcf.gz.F0.0MERR.0Missing.m2M2.vcf.gz'\n",
       "19. '/moto/ziab/users/jr3950/data/genomes/tmp_founders/bam/Founders.chr7.vcf.gz.phased.vcf.gz'\n",
       "20. '/moto/ziab/users/jr3950/data/genomes/tmp_founders/bam/Founders.chr7.vcf.gz.phased.vcf.gz.Cov105to361.GQ20.DP5.vcf.gz'\n",
       "21. '/moto/ziab/users/jr3950/data/genomes/tmp_founders/bam/Founders.chr7.vcf.gz.phased.vcf.gz.Cov105to361.GQ20.DP5.vcf.gz.MendelianAnnotated.vcf.gz.F0.0MERR.0Missing.m2M2.vcf.gz'\n",
       "22. '/moto/ziab/users/jr3950/data/genomes/tmp_founders/bam/Founders.chr8.vcf.gz.phased.vcf.gz'\n",
       "23. '/moto/ziab/users/jr3950/data/genomes/tmp_founders/bam/Founders.chr8.vcf.gz.phased.vcf.gz.Cov105to361.GQ20.DP5.vcf.gz'\n",
       "24. '/moto/ziab/users/jr3950/data/genomes/tmp_founders/bam/Founders.chr8.vcf.gz.phased.vcf.gz.Cov105to361.GQ20.DP5.vcf.gz.MendelianAnnotated.vcf.gz.F0.0MERR.0Missing.m2M2.vcf.gz'\n",
       "25. '/moto/ziab/users/jr3950/data/genomes/tmp_founders/bam/Founders.chr9.vcf.gz.phased.vcf.gz'\n",
       "26. '/moto/ziab/users/jr3950/data/genomes/tmp_founders/bam/Founders.chr9.vcf.gz.phased.vcf.gz.Cov105to361.GQ20.DP5.vcf.gz'\n",
       "27. '/moto/ziab/users/jr3950/data/genomes/tmp_founders/bam/Founders.chr9.vcf.gz.phased.vcf.gz.Cov105to361.GQ20.DP5.vcf.gz.MendelianAnnotated.vcf.gz.F0.0MERR.0Missing.m2M2.vcf.gz'\n",
       "28. '/moto/ziab/users/jr3950/data/genomes/tmp_founders/bam/Founders.chr10.vcf.gz.phased.vcf.gz'\n",
       "29. '/moto/ziab/users/jr3950/data/genomes/tmp_founders/bam/Founders.chr10.vcf.gz.phased.vcf.gz.Cov105to361.GQ20.DP5.vcf.gz'\n",
       "30. '/moto/ziab/users/jr3950/data/genomes/tmp_founders/bam/Founders.chr10.vcf.gz.phased.vcf.gz.Cov105to361.GQ20.DP5.vcf.gz.MendelianAnnotated.vcf.gz.F0.0MERR.0Missing.m2M2.vcf.gz'\n",
       "31. '/moto/ziab/users/jr3950/data/genomes/tmp_founders/bam/Founders.chr11.vcf.gz.phased.vcf.gz'\n",
       "32. '/moto/ziab/users/jr3950/data/genomes/tmp_founders/bam/Founders.chr11.vcf.gz.phased.vcf.gz.Cov105to361.GQ20.DP5.vcf.gz'\n",
       "33. '/moto/ziab/users/jr3950/data/genomes/tmp_founders/bam/Founders.chr11.vcf.gz.phased.vcf.gz.Cov105to361.GQ20.DP5.vcf.gz.MendelianAnnotated.vcf.gz.F0.0MERR.0Missing.m2M2.vcf.gz'\n",
       "34. '/moto/ziab/users/jr3950/data/genomes/tmp_founders/bam/Founders.chr12.vcf.gz.phased.vcf.gz'\n",
       "35. '/moto/ziab/users/jr3950/data/genomes/tmp_founders/bam/Founders.chr12.vcf.gz.phased.vcf.gz.Cov105to361.GQ20.DP5.vcf.gz'\n",
       "36. '/moto/ziab/users/jr3950/data/genomes/tmp_founders/bam/Founders.chr12.vcf.gz.phased.vcf.gz.Cov105to361.GQ20.DP5.vcf.gz.MendelianAnnotated.vcf.gz.F0.0MERR.0Missing.m2M2.vcf.gz'\n",
       "37. '/moto/ziab/users/jr3950/data/genomes/tmp_founders/bam/Founders.chr13.vcf.gz.phased.vcf.gz'\n",
       "38. '/moto/ziab/users/jr3950/data/genomes/tmp_founders/bam/Founders.chr13.vcf.gz.phased.vcf.gz.Cov105to361.GQ20.DP5.vcf.gz'\n",
       "39. '/moto/ziab/users/jr3950/data/genomes/tmp_founders/bam/Founders.chr13.vcf.gz.phased.vcf.gz.Cov105to361.GQ20.DP5.vcf.gz.MendelianAnnotated.vcf.gz.F0.0MERR.0Missing.m2M2.vcf.gz'\n",
       "40. '/moto/ziab/users/jr3950/data/genomes/tmp_founders/bam/Founders.chr14.vcf.gz.phased.vcf.gz'\n",
       "41. '/moto/ziab/users/jr3950/data/genomes/tmp_founders/bam/Founders.chr14.vcf.gz.phased.vcf.gz.Cov105to361.GQ20.DP5.vcf.gz'\n",
       "42. '/moto/ziab/users/jr3950/data/genomes/tmp_founders/bam/Founders.chr14.vcf.gz.phased.vcf.gz.Cov105to361.GQ20.DP5.vcf.gz.MendelianAnnotated.vcf.gz.F0.0MERR.0Missing.m2M2.vcf.gz'\n",
       "43. '/moto/ziab/users/jr3950/data/genomes/tmp_founders/bam/Founders.chr15.vcf.gz.phased.vcf.gz'\n",
       "44. '/moto/ziab/users/jr3950/data/genomes/tmp_founders/bam/Founders.chr15.vcf.gz.phased.vcf.gz.Cov105to361.GQ20.DP5.vcf.gz'\n",
       "45. '/moto/ziab/users/jr3950/data/genomes/tmp_founders/bam/Founders.chr15.vcf.gz.phased.vcf.gz.Cov105to361.GQ20.DP5.vcf.gz.MendelianAnnotated.vcf.gz.F0.0MERR.0Missing.m2M2.vcf.gz'\n",
       "46. '/moto/ziab/users/jr3950/data/genomes/tmp_founders/bam/Founders.chr16.vcf.gz.phased.vcf.gz'\n",
       "47. '/moto/ziab/users/jr3950/data/genomes/tmp_founders/bam/Founders.chr16.vcf.gz.phased.vcf.gz.Cov105to361.GQ20.DP5.vcf.gz'\n",
       "48. '/moto/ziab/users/jr3950/data/genomes/tmp_founders/bam/Founders.chr16.vcf.gz.phased.vcf.gz.Cov105to361.GQ20.DP5.vcf.gz.MendelianAnnotated.vcf.gz.F0.0MERR.0Missing.m2M2.vcf.gz'\n",
       "49. '/moto/ziab/users/jr3950/data/genomes/tmp_founders/bam/Founders.chr17.vcf.gz.phased.vcf.gz'\n",
       "50. '/moto/ziab/users/jr3950/data/genomes/tmp_founders/bam/Founders.chr17.vcf.gz.phased.vcf.gz.Cov105to361.GQ20.DP5.vcf.gz'\n",
       "51. '/moto/ziab/users/jr3950/data/genomes/tmp_founders/bam/Founders.chr17.vcf.gz.phased.vcf.gz.Cov105to361.GQ20.DP5.vcf.gz.MendelianAnnotated.vcf.gz.F0.0MERR.0Missing.m2M2.vcf.gz'\n",
       "52. '/moto/ziab/users/jr3950/data/genomes/tmp_founders/bam/Founders.chr18.vcf.gz.phased.vcf.gz'\n",
       "53. '/moto/ziab/users/jr3950/data/genomes/tmp_founders/bam/Founders.chr18.vcf.gz.phased.vcf.gz.Cov105to361.GQ20.DP5.vcf.gz'\n",
       "54. '/moto/ziab/users/jr3950/data/genomes/tmp_founders/bam/Founders.chr18.vcf.gz.phased.vcf.gz.Cov105to361.GQ20.DP5.vcf.gz.MendelianAnnotated.vcf.gz.F0.0MERR.0Missing.m2M2.vcf.gz'\n",
       "55. '/moto/ziab/users/jr3950/data/genomes/tmp_founders/bam/Founders.chr19.vcf.gz.phased.vcf.gz'\n",
       "56. '/moto/ziab/users/jr3950/data/genomes/tmp_founders/bam/Founders.chr19.vcf.gz.phased.vcf.gz.Cov105to361.GQ20.DP5.vcf.gz'\n",
       "57. '/moto/ziab/users/jr3950/data/genomes/tmp_founders/bam/Founders.chr19.vcf.gz.phased.vcf.gz.Cov105to361.GQ20.DP5.vcf.gz.MendelianAnnotated.vcf.gz.F0.0MERR.0Missing.m2M2.vcf.gz'\n",
       "\n",
       "\n"
      ],
      "text/plain": [
       " [1] \"/moto/ziab/users/jr3950/data/genomes/tmp_founders/bam/Founders.chr1.vcf.gz.phased.vcf.gz\"                                                                                     \n",
       " [2] \"/moto/ziab/users/jr3950/data/genomes/tmp_founders/bam/Founders.chr1.vcf.gz.phased.vcf.gz.Cov105to361.GQ20.DP5.vcf.gz\"                                                         \n",
       " [3] \"/moto/ziab/users/jr3950/data/genomes/tmp_founders/bam/Founders.chr1.vcf.gz.phased.vcf.gz.Cov105to361.GQ20.DP5.vcf.gz.MendelianAnnotated.vcf.gz.F0.0MERR.0Missing.m2M2.vcf.gz\" \n",
       " [4] \"/moto/ziab/users/jr3950/data/genomes/tmp_founders/bam/Founders.chr2.vcf.gz.phased.vcf.gz\"                                                                                     \n",
       " [5] \"/moto/ziab/users/jr3950/data/genomes/tmp_founders/bam/Founders.chr2.vcf.gz.phased.vcf.gz.Cov105to361.GQ20.DP5.vcf.gz\"                                                         \n",
       " [6] \"/moto/ziab/users/jr3950/data/genomes/tmp_founders/bam/Founders.chr2.vcf.gz.phased.vcf.gz.Cov105to361.GQ20.DP5.vcf.gz.MendelianAnnotated.vcf.gz.F0.0MERR.0Missing.m2M2.vcf.gz\" \n",
       " [7] \"/moto/ziab/users/jr3950/data/genomes/tmp_founders/bam/Founders.chr3.vcf.gz.phased.vcf.gz\"                                                                                     \n",
       " [8] \"/moto/ziab/users/jr3950/data/genomes/tmp_founders/bam/Founders.chr3.vcf.gz.phased.vcf.gz.Cov105to361.GQ20.DP5.vcf.gz\"                                                         \n",
       " [9] \"/moto/ziab/users/jr3950/data/genomes/tmp_founders/bam/Founders.chr3.vcf.gz.phased.vcf.gz.Cov105to361.GQ20.DP5.vcf.gz.MendelianAnnotated.vcf.gz.F0.0MERR.0Missing.m2M2.vcf.gz\" \n",
       "[10] \"/moto/ziab/users/jr3950/data/genomes/tmp_founders/bam/Founders.chr4.vcf.gz.phased.vcf.gz\"                                                                                     \n",
       "[11] \"/moto/ziab/users/jr3950/data/genomes/tmp_founders/bam/Founders.chr4.vcf.gz.phased.vcf.gz.Cov105to361.GQ20.DP5.vcf.gz\"                                                         \n",
       "[12] \"/moto/ziab/users/jr3950/data/genomes/tmp_founders/bam/Founders.chr4.vcf.gz.phased.vcf.gz.Cov105to361.GQ20.DP5.vcf.gz.MendelianAnnotated.vcf.gz.F0.0MERR.0Missing.m2M2.vcf.gz\" \n",
       "[13] \"/moto/ziab/users/jr3950/data/genomes/tmp_founders/bam/Founders.chr5.vcf.gz.phased.vcf.gz\"                                                                                     \n",
       "[14] \"/moto/ziab/users/jr3950/data/genomes/tmp_founders/bam/Founders.chr5.vcf.gz.phased.vcf.gz.Cov105to361.GQ20.DP5.vcf.gz\"                                                         \n",
       "[15] \"/moto/ziab/users/jr3950/data/genomes/tmp_founders/bam/Founders.chr5.vcf.gz.phased.vcf.gz.Cov105to361.GQ20.DP5.vcf.gz.MendelianAnnotated.vcf.gz.F0.0MERR.0Missing.m2M2.vcf.gz\" \n",
       "[16] \"/moto/ziab/users/jr3950/data/genomes/tmp_founders/bam/Founders.chr6.vcf.gz.phased.vcf.gz\"                                                                                     \n",
       "[17] \"/moto/ziab/users/jr3950/data/genomes/tmp_founders/bam/Founders.chr6.vcf.gz.phased.vcf.gz.Cov105to361.GQ20.DP5.vcf.gz\"                                                         \n",
       "[18] \"/moto/ziab/users/jr3950/data/genomes/tmp_founders/bam/Founders.chr6.vcf.gz.phased.vcf.gz.Cov105to361.GQ20.DP5.vcf.gz.MendelianAnnotated.vcf.gz.F0.0MERR.0Missing.m2M2.vcf.gz\" \n",
       "[19] \"/moto/ziab/users/jr3950/data/genomes/tmp_founders/bam/Founders.chr7.vcf.gz.phased.vcf.gz\"                                                                                     \n",
       "[20] \"/moto/ziab/users/jr3950/data/genomes/tmp_founders/bam/Founders.chr7.vcf.gz.phased.vcf.gz.Cov105to361.GQ20.DP5.vcf.gz\"                                                         \n",
       "[21] \"/moto/ziab/users/jr3950/data/genomes/tmp_founders/bam/Founders.chr7.vcf.gz.phased.vcf.gz.Cov105to361.GQ20.DP5.vcf.gz.MendelianAnnotated.vcf.gz.F0.0MERR.0Missing.m2M2.vcf.gz\" \n",
       "[22] \"/moto/ziab/users/jr3950/data/genomes/tmp_founders/bam/Founders.chr8.vcf.gz.phased.vcf.gz\"                                                                                     \n",
       "[23] \"/moto/ziab/users/jr3950/data/genomes/tmp_founders/bam/Founders.chr8.vcf.gz.phased.vcf.gz.Cov105to361.GQ20.DP5.vcf.gz\"                                                         \n",
       "[24] \"/moto/ziab/users/jr3950/data/genomes/tmp_founders/bam/Founders.chr8.vcf.gz.phased.vcf.gz.Cov105to361.GQ20.DP5.vcf.gz.MendelianAnnotated.vcf.gz.F0.0MERR.0Missing.m2M2.vcf.gz\" \n",
       "[25] \"/moto/ziab/users/jr3950/data/genomes/tmp_founders/bam/Founders.chr9.vcf.gz.phased.vcf.gz\"                                                                                     \n",
       "[26] \"/moto/ziab/users/jr3950/data/genomes/tmp_founders/bam/Founders.chr9.vcf.gz.phased.vcf.gz.Cov105to361.GQ20.DP5.vcf.gz\"                                                         \n",
       "[27] \"/moto/ziab/users/jr3950/data/genomes/tmp_founders/bam/Founders.chr9.vcf.gz.phased.vcf.gz.Cov105to361.GQ20.DP5.vcf.gz.MendelianAnnotated.vcf.gz.F0.0MERR.0Missing.m2M2.vcf.gz\" \n",
       "[28] \"/moto/ziab/users/jr3950/data/genomes/tmp_founders/bam/Founders.chr10.vcf.gz.phased.vcf.gz\"                                                                                    \n",
       "[29] \"/moto/ziab/users/jr3950/data/genomes/tmp_founders/bam/Founders.chr10.vcf.gz.phased.vcf.gz.Cov105to361.GQ20.DP5.vcf.gz\"                                                        \n",
       "[30] \"/moto/ziab/users/jr3950/data/genomes/tmp_founders/bam/Founders.chr10.vcf.gz.phased.vcf.gz.Cov105to361.GQ20.DP5.vcf.gz.MendelianAnnotated.vcf.gz.F0.0MERR.0Missing.m2M2.vcf.gz\"\n",
       "[31] \"/moto/ziab/users/jr3950/data/genomes/tmp_founders/bam/Founders.chr11.vcf.gz.phased.vcf.gz\"                                                                                    \n",
       "[32] \"/moto/ziab/users/jr3950/data/genomes/tmp_founders/bam/Founders.chr11.vcf.gz.phased.vcf.gz.Cov105to361.GQ20.DP5.vcf.gz\"                                                        \n",
       "[33] \"/moto/ziab/users/jr3950/data/genomes/tmp_founders/bam/Founders.chr11.vcf.gz.phased.vcf.gz.Cov105to361.GQ20.DP5.vcf.gz.MendelianAnnotated.vcf.gz.F0.0MERR.0Missing.m2M2.vcf.gz\"\n",
       "[34] \"/moto/ziab/users/jr3950/data/genomes/tmp_founders/bam/Founders.chr12.vcf.gz.phased.vcf.gz\"                                                                                    \n",
       "[35] \"/moto/ziab/users/jr3950/data/genomes/tmp_founders/bam/Founders.chr12.vcf.gz.phased.vcf.gz.Cov105to361.GQ20.DP5.vcf.gz\"                                                        \n",
       "[36] \"/moto/ziab/users/jr3950/data/genomes/tmp_founders/bam/Founders.chr12.vcf.gz.phased.vcf.gz.Cov105to361.GQ20.DP5.vcf.gz.MendelianAnnotated.vcf.gz.F0.0MERR.0Missing.m2M2.vcf.gz\"\n",
       "[37] \"/moto/ziab/users/jr3950/data/genomes/tmp_founders/bam/Founders.chr13.vcf.gz.phased.vcf.gz\"                                                                                    \n",
       "[38] \"/moto/ziab/users/jr3950/data/genomes/tmp_founders/bam/Founders.chr13.vcf.gz.phased.vcf.gz.Cov105to361.GQ20.DP5.vcf.gz\"                                                        \n",
       "[39] \"/moto/ziab/users/jr3950/data/genomes/tmp_founders/bam/Founders.chr13.vcf.gz.phased.vcf.gz.Cov105to361.GQ20.DP5.vcf.gz.MendelianAnnotated.vcf.gz.F0.0MERR.0Missing.m2M2.vcf.gz\"\n",
       "[40] \"/moto/ziab/users/jr3950/data/genomes/tmp_founders/bam/Founders.chr14.vcf.gz.phased.vcf.gz\"                                                                                    \n",
       "[41] \"/moto/ziab/users/jr3950/data/genomes/tmp_founders/bam/Founders.chr14.vcf.gz.phased.vcf.gz.Cov105to361.GQ20.DP5.vcf.gz\"                                                        \n",
       "[42] \"/moto/ziab/users/jr3950/data/genomes/tmp_founders/bam/Founders.chr14.vcf.gz.phased.vcf.gz.Cov105to361.GQ20.DP5.vcf.gz.MendelianAnnotated.vcf.gz.F0.0MERR.0Missing.m2M2.vcf.gz\"\n",
       "[43] \"/moto/ziab/users/jr3950/data/genomes/tmp_founders/bam/Founders.chr15.vcf.gz.phased.vcf.gz\"                                                                                    \n",
       "[44] \"/moto/ziab/users/jr3950/data/genomes/tmp_founders/bam/Founders.chr15.vcf.gz.phased.vcf.gz.Cov105to361.GQ20.DP5.vcf.gz\"                                                        \n",
       "[45] \"/moto/ziab/users/jr3950/data/genomes/tmp_founders/bam/Founders.chr15.vcf.gz.phased.vcf.gz.Cov105to361.GQ20.DP5.vcf.gz.MendelianAnnotated.vcf.gz.F0.0MERR.0Missing.m2M2.vcf.gz\"\n",
       "[46] \"/moto/ziab/users/jr3950/data/genomes/tmp_founders/bam/Founders.chr16.vcf.gz.phased.vcf.gz\"                                                                                    \n",
       "[47] \"/moto/ziab/users/jr3950/data/genomes/tmp_founders/bam/Founders.chr16.vcf.gz.phased.vcf.gz.Cov105to361.GQ20.DP5.vcf.gz\"                                                        \n",
       "[48] \"/moto/ziab/users/jr3950/data/genomes/tmp_founders/bam/Founders.chr16.vcf.gz.phased.vcf.gz.Cov105to361.GQ20.DP5.vcf.gz.MendelianAnnotated.vcf.gz.F0.0MERR.0Missing.m2M2.vcf.gz\"\n",
       "[49] \"/moto/ziab/users/jr3950/data/genomes/tmp_founders/bam/Founders.chr17.vcf.gz.phased.vcf.gz\"                                                                                    \n",
       "[50] \"/moto/ziab/users/jr3950/data/genomes/tmp_founders/bam/Founders.chr17.vcf.gz.phased.vcf.gz.Cov105to361.GQ20.DP5.vcf.gz\"                                                        \n",
       "[51] \"/moto/ziab/users/jr3950/data/genomes/tmp_founders/bam/Founders.chr17.vcf.gz.phased.vcf.gz.Cov105to361.GQ20.DP5.vcf.gz.MendelianAnnotated.vcf.gz.F0.0MERR.0Missing.m2M2.vcf.gz\"\n",
       "[52] \"/moto/ziab/users/jr3950/data/genomes/tmp_founders/bam/Founders.chr18.vcf.gz.phased.vcf.gz\"                                                                                    \n",
       "[53] \"/moto/ziab/users/jr3950/data/genomes/tmp_founders/bam/Founders.chr18.vcf.gz.phased.vcf.gz.Cov105to361.GQ20.DP5.vcf.gz\"                                                        \n",
       "[54] \"/moto/ziab/users/jr3950/data/genomes/tmp_founders/bam/Founders.chr18.vcf.gz.phased.vcf.gz.Cov105to361.GQ20.DP5.vcf.gz.MendelianAnnotated.vcf.gz.F0.0MERR.0Missing.m2M2.vcf.gz\"\n",
       "[55] \"/moto/ziab/users/jr3950/data/genomes/tmp_founders/bam/Founders.chr19.vcf.gz.phased.vcf.gz\"                                                                                    \n",
       "[56] \"/moto/ziab/users/jr3950/data/genomes/tmp_founders/bam/Founders.chr19.vcf.gz.phased.vcf.gz.Cov105to361.GQ20.DP5.vcf.gz\"                                                        \n",
       "[57] \"/moto/ziab/users/jr3950/data/genomes/tmp_founders/bam/Founders.chr19.vcf.gz.phased.vcf.gz.Cov105to361.GQ20.DP5.vcf.gz.MendelianAnnotated.vcf.gz.F0.0MERR.0Missing.m2M2.vcf.gz\""
      ]
     },
     "metadata": {},
     "output_type": "display_data"
    }
   ],
   "source": [
    "all_vcf_files=c(naturalsort(list.files(path = bam_dir, pattern=\"chr[0-9].*.phased.vcf.gz$\", full.names = TRUE)),\n",
    "               naturalsort(list.files(path=bam_dir, pattern=paste0(\"phased.vcf.gz.Cov\",min_DP,\"to\",max_DP,\".GQ\",GQ_filter,\".DP\",DP_filter,\".vcf.gz$\"), full.names=TRUE)),\n",
    "               naturalsort(list.files(path=bam_dir, pattern=paste0(\"phased.vcf.gz.Cov\",min_DP,\"to\",max_DP,\".GQ\",GQ_filter,\".DP\",DP_filter,\".vcf.gz.MendelianAnnotated.vcf.gz.F0.0MERR.0Missing.m2M2.vcf.gz$\"), full.names=TRUE)))\n",
    "all_vcf_files=naturalsort(all_vcf_files)"
   ]
  },
  {
   "cell_type": "code",
   "execution_count": 41,
   "id": "d32d9ba7-dc6e-451e-a545-e6d41310f79b",
   "metadata": {},
   "outputs": [
    {
     "data": {
      "text/html": [
       "<table class=\"dataframe\">\n",
       "<caption>A tidytable: 4 x 2</caption>\n",
       "<thead>\n",
       "\t<tr><th scope=col>filtering_step</th><th scope=col>number_of_loci</th></tr>\n",
       "\t<tr><th scope=col>&lt;chr&gt;</th><th scope=col>&lt;int&gt;</th></tr>\n",
       "</thead>\n",
       "<tbody>\n",
       "\t<tr><td>vcf.gz.phased.vcf.gz                                                                                    </td><td>20926458</td></tr>\n",
       "\t<tr><td>vcf.gz.phased.vcf.gz.Cov105to361.GQ20.DP5.vcf.gz                                                        </td><td>16780994</td></tr>\n",
       "\t<tr><td>vcf.gz.phased.vcf.gz.Cov105to361.GQ20.DP5.vcf.gz.MendelianAnnotated.vcf.gz                              </td><td>16780994</td></tr>\n",
       "\t<tr><td>vcf.gz.phased.vcf.gz.Cov105to361.GQ20.DP5.vcf.gz.MendelianAnnotated.vcf.gz.F0.0MERR.0Missing.m2M2.vcf.gz</td><td> 3142133</td></tr>\n",
       "</tbody>\n",
       "</table>\n"
      ],
      "text/latex": [
       "A tidytable: 4 x 2\n",
       "\\begin{tabular}{ll}\n",
       " filtering\\_step & number\\_of\\_loci\\\\\n",
       " <chr> & <int>\\\\\n",
       "\\hline\n",
       "\t vcf.gz.phased.vcf.gz                                                                                     & 20926458\\\\\n",
       "\t vcf.gz.phased.vcf.gz.Cov105to361.GQ20.DP5.vcf.gz                                                         & 16780994\\\\\n",
       "\t vcf.gz.phased.vcf.gz.Cov105to361.GQ20.DP5.vcf.gz.MendelianAnnotated.vcf.gz                               & 16780994\\\\\n",
       "\t vcf.gz.phased.vcf.gz.Cov105to361.GQ20.DP5.vcf.gz.MendelianAnnotated.vcf.gz.F0.0MERR.0Missing.m2M2.vcf.gz &  3142133\\\\\n",
       "\\end{tabular}\n"
      ],
      "text/markdown": [
       "\n",
       "A tidytable: 4 x 2\n",
       "\n",
       "| filtering_step &lt;chr&gt; | number_of_loci &lt;int&gt; |\n",
       "|---|---|\n",
       "| vcf.gz.phased.vcf.gz                                                                                     | 20926458 |\n",
       "| vcf.gz.phased.vcf.gz.Cov105to361.GQ20.DP5.vcf.gz                                                         | 16780994 |\n",
       "| vcf.gz.phased.vcf.gz.Cov105to361.GQ20.DP5.vcf.gz.MendelianAnnotated.vcf.gz                               | 16780994 |\n",
       "| vcf.gz.phased.vcf.gz.Cov105to361.GQ20.DP5.vcf.gz.MendelianAnnotated.vcf.gz.F0.0MERR.0Missing.m2M2.vcf.gz |  3142133 |\n",
       "\n"
      ],
      "text/plain": [
       "  filtering_step                                                                                          \n",
       "1 vcf.gz.phased.vcf.gz                                                                                    \n",
       "2 vcf.gz.phased.vcf.gz.Cov105to361.GQ20.DP5.vcf.gz                                                        \n",
       "3 vcf.gz.phased.vcf.gz.Cov105to361.GQ20.DP5.vcf.gz.MendelianAnnotated.vcf.gz                              \n",
       "4 vcf.gz.phased.vcf.gz.Cov105to361.GQ20.DP5.vcf.gz.MendelianAnnotated.vcf.gz.F0.0MERR.0Missing.m2M2.vcf.gz\n",
       "  number_of_loci\n",
       "1 20926458      \n",
       "2 16780994      \n",
       "3 16780994      \n",
       "4  3142133      "
      ]
     },
     "metadata": {},
     "output_type": "display_data"
    }
   ],
   "source": [
    "# get a number of loci removed for each filtering step\n",
    "\n",
    "list_vcf_path<-file.path(bam_dir,\"listvcf\")\n",
    "if(max(file.mtime(all_vcf_files))>file.mtime(paste0(list_vcf_path,\".counts.txt\"))){\n",
    "    writeLines(all_vcf_files, list_vcf_path)\n",
    "    cmd=paste0(\"sh -xe ~/ColumbiaProjects/Barn_Mice/01_Genotyping/01_Founders/05_CountLoci.sh \", list_vcf_path)\n",
    "    execute_cmd_sbatch(cmd, mem=\"4gb\", cpu=\"1\", time=\"short\", env=env_mapping_etc, jobname=\"countLoci\",\n",
    "                              activateEnvScript=paste0(Barn_Mice_dir,\"activateEnv.sh\")) \n",
    "    Sys.sleep(5)\n",
    "    while(slurm_check_jobs_still_running(columbia_username,\"countLoci\")){\n",
    "        Sys.sleep(60)\n",
    "    }\n",
    "}\n",
    "countLoci_df<-fread(paste0(list_vcf_path,\".counts.txt\"), sep=\"\\t\", header=FALSE)\n",
    "countLoci_df %>%\n",
    "  mutate(filtering_step = str_extract(V1, \"vcf.gz.*\")) %>%\n",
    "  group_by(filtering_step) %>%\n",
    "  summarise(number_of_loci = sum(V2))\n"
   ]
  },
  {
   "cell_type": "markdown",
   "id": "ea30db84-5c71-4af6-9a7b-e1480d4b450c",
   "metadata": {},
   "source": [
    "Note that in the \"vcf.gz.phased.vcf.gz.Cov105to361.GQ20.DP5.vcf.gz\" (or similar if you change the code / data) step, only the summed coverage is filtered (i.e. poorly covered or perhaps repeat regions are removed), while in the final step, the GQ and DP filter is applied such that all F0 genotypes at a given site need to pass those thresholds."
   ]
  },
  {
   "cell_type": "code",
   "execution_count": 48,
   "id": "7499f617-6cbd-4526-b8ae-8ef2f4101d6f",
   "metadata": {
    "tags": []
   },
   "outputs": [
    {
     "data": {
      "text/html": [
       "<style>\n",
       ".list-inline {list-style: none; margin:0; padding: 0}\n",
       ".list-inline>li {display: inline-block}\n",
       ".list-inline>li:not(:last-child)::after {content: \"\\00b7\"; padding: 0 .5ex}\n",
       "</style>\n",
       "<ol class=list-inline><li>'/moto/ziab/users/jr3950/data/genomes/tmp_founders/bam/Founders.chr1.vcf.gz.phased.vcf.gz.Cov105to361.GQ20.DP5.vcf.gz.MendelianAnnotated.vcf.gz.F0.0MERR.0Missing.m2M2.vcf.gz'</li><li>'/moto/ziab/users/jr3950/data/genomes/tmp_founders/bam/Founders.chr2.vcf.gz.phased.vcf.gz.Cov105to361.GQ20.DP5.vcf.gz.MendelianAnnotated.vcf.gz.F0.0MERR.0Missing.m2M2.vcf.gz'</li><li>'/moto/ziab/users/jr3950/data/genomes/tmp_founders/bam/Founders.chr3.vcf.gz.phased.vcf.gz.Cov105to361.GQ20.DP5.vcf.gz.MendelianAnnotated.vcf.gz.F0.0MERR.0Missing.m2M2.vcf.gz'</li><li>'/moto/ziab/users/jr3950/data/genomes/tmp_founders/bam/Founders.chr4.vcf.gz.phased.vcf.gz.Cov105to361.GQ20.DP5.vcf.gz.MendelianAnnotated.vcf.gz.F0.0MERR.0Missing.m2M2.vcf.gz'</li><li>'/moto/ziab/users/jr3950/data/genomes/tmp_founders/bam/Founders.chr5.vcf.gz.phased.vcf.gz.Cov105to361.GQ20.DP5.vcf.gz.MendelianAnnotated.vcf.gz.F0.0MERR.0Missing.m2M2.vcf.gz'</li><li>'/moto/ziab/users/jr3950/data/genomes/tmp_founders/bam/Founders.chr6.vcf.gz.phased.vcf.gz.Cov105to361.GQ20.DP5.vcf.gz.MendelianAnnotated.vcf.gz.F0.0MERR.0Missing.m2M2.vcf.gz'</li><li>'/moto/ziab/users/jr3950/data/genomes/tmp_founders/bam/Founders.chr7.vcf.gz.phased.vcf.gz.Cov105to361.GQ20.DP5.vcf.gz.MendelianAnnotated.vcf.gz.F0.0MERR.0Missing.m2M2.vcf.gz'</li><li>'/moto/ziab/users/jr3950/data/genomes/tmp_founders/bam/Founders.chr8.vcf.gz.phased.vcf.gz.Cov105to361.GQ20.DP5.vcf.gz.MendelianAnnotated.vcf.gz.F0.0MERR.0Missing.m2M2.vcf.gz'</li><li>'/moto/ziab/users/jr3950/data/genomes/tmp_founders/bam/Founders.chr9.vcf.gz.phased.vcf.gz.Cov105to361.GQ20.DP5.vcf.gz.MendelianAnnotated.vcf.gz.F0.0MERR.0Missing.m2M2.vcf.gz'</li><li>'/moto/ziab/users/jr3950/data/genomes/tmp_founders/bam/Founders.chr10.vcf.gz.phased.vcf.gz.Cov105to361.GQ20.DP5.vcf.gz.MendelianAnnotated.vcf.gz.F0.0MERR.0Missing.m2M2.vcf.gz'</li><li>'/moto/ziab/users/jr3950/data/genomes/tmp_founders/bam/Founders.chr11.vcf.gz.phased.vcf.gz.Cov105to361.GQ20.DP5.vcf.gz.MendelianAnnotated.vcf.gz.F0.0MERR.0Missing.m2M2.vcf.gz'</li><li>'/moto/ziab/users/jr3950/data/genomes/tmp_founders/bam/Founders.chr12.vcf.gz.phased.vcf.gz.Cov105to361.GQ20.DP5.vcf.gz.MendelianAnnotated.vcf.gz.F0.0MERR.0Missing.m2M2.vcf.gz'</li><li>'/moto/ziab/users/jr3950/data/genomes/tmp_founders/bam/Founders.chr13.vcf.gz.phased.vcf.gz.Cov105to361.GQ20.DP5.vcf.gz.MendelianAnnotated.vcf.gz.F0.0MERR.0Missing.m2M2.vcf.gz'</li><li>'/moto/ziab/users/jr3950/data/genomes/tmp_founders/bam/Founders.chr14.vcf.gz.phased.vcf.gz.Cov105to361.GQ20.DP5.vcf.gz.MendelianAnnotated.vcf.gz.F0.0MERR.0Missing.m2M2.vcf.gz'</li><li>'/moto/ziab/users/jr3950/data/genomes/tmp_founders/bam/Founders.chr15.vcf.gz.phased.vcf.gz.Cov105to361.GQ20.DP5.vcf.gz.MendelianAnnotated.vcf.gz.F0.0MERR.0Missing.m2M2.vcf.gz'</li><li>'/moto/ziab/users/jr3950/data/genomes/tmp_founders/bam/Founders.chr16.vcf.gz.phased.vcf.gz.Cov105to361.GQ20.DP5.vcf.gz.MendelianAnnotated.vcf.gz.F0.0MERR.0Missing.m2M2.vcf.gz'</li><li>'/moto/ziab/users/jr3950/data/genomes/tmp_founders/bam/Founders.chr17.vcf.gz.phased.vcf.gz.Cov105to361.GQ20.DP5.vcf.gz.MendelianAnnotated.vcf.gz.F0.0MERR.0Missing.m2M2.vcf.gz'</li><li>'/moto/ziab/users/jr3950/data/genomes/tmp_founders/bam/Founders.chr18.vcf.gz.phased.vcf.gz.Cov105to361.GQ20.DP5.vcf.gz.MendelianAnnotated.vcf.gz.F0.0MERR.0Missing.m2M2.vcf.gz'</li><li>'/moto/ziab/users/jr3950/data/genomes/tmp_founders/bam/Founders.chr19.vcf.gz.phased.vcf.gz.Cov105to361.GQ20.DP5.vcf.gz.MendelianAnnotated.vcf.gz.F0.0MERR.0Missing.m2M2.vcf.gz'</li></ol>\n"
      ],
      "text/latex": [
       "\\begin{enumerate*}\n",
       "\\item '/moto/ziab/users/jr3950/data/genomes/tmp\\_founders/bam/Founders.chr1.vcf.gz.phased.vcf.gz.Cov105to361.GQ20.DP5.vcf.gz.MendelianAnnotated.vcf.gz.F0.0MERR.0Missing.m2M2.vcf.gz'\n",
       "\\item '/moto/ziab/users/jr3950/data/genomes/tmp\\_founders/bam/Founders.chr2.vcf.gz.phased.vcf.gz.Cov105to361.GQ20.DP5.vcf.gz.MendelianAnnotated.vcf.gz.F0.0MERR.0Missing.m2M2.vcf.gz'\n",
       "\\item '/moto/ziab/users/jr3950/data/genomes/tmp\\_founders/bam/Founders.chr3.vcf.gz.phased.vcf.gz.Cov105to361.GQ20.DP5.vcf.gz.MendelianAnnotated.vcf.gz.F0.0MERR.0Missing.m2M2.vcf.gz'\n",
       "\\item '/moto/ziab/users/jr3950/data/genomes/tmp\\_founders/bam/Founders.chr4.vcf.gz.phased.vcf.gz.Cov105to361.GQ20.DP5.vcf.gz.MendelianAnnotated.vcf.gz.F0.0MERR.0Missing.m2M2.vcf.gz'\n",
       "\\item '/moto/ziab/users/jr3950/data/genomes/tmp\\_founders/bam/Founders.chr5.vcf.gz.phased.vcf.gz.Cov105to361.GQ20.DP5.vcf.gz.MendelianAnnotated.vcf.gz.F0.0MERR.0Missing.m2M2.vcf.gz'\n",
       "\\item '/moto/ziab/users/jr3950/data/genomes/tmp\\_founders/bam/Founders.chr6.vcf.gz.phased.vcf.gz.Cov105to361.GQ20.DP5.vcf.gz.MendelianAnnotated.vcf.gz.F0.0MERR.0Missing.m2M2.vcf.gz'\n",
       "\\item '/moto/ziab/users/jr3950/data/genomes/tmp\\_founders/bam/Founders.chr7.vcf.gz.phased.vcf.gz.Cov105to361.GQ20.DP5.vcf.gz.MendelianAnnotated.vcf.gz.F0.0MERR.0Missing.m2M2.vcf.gz'\n",
       "\\item '/moto/ziab/users/jr3950/data/genomes/tmp\\_founders/bam/Founders.chr8.vcf.gz.phased.vcf.gz.Cov105to361.GQ20.DP5.vcf.gz.MendelianAnnotated.vcf.gz.F0.0MERR.0Missing.m2M2.vcf.gz'\n",
       "\\item '/moto/ziab/users/jr3950/data/genomes/tmp\\_founders/bam/Founders.chr9.vcf.gz.phased.vcf.gz.Cov105to361.GQ20.DP5.vcf.gz.MendelianAnnotated.vcf.gz.F0.0MERR.0Missing.m2M2.vcf.gz'\n",
       "\\item '/moto/ziab/users/jr3950/data/genomes/tmp\\_founders/bam/Founders.chr10.vcf.gz.phased.vcf.gz.Cov105to361.GQ20.DP5.vcf.gz.MendelianAnnotated.vcf.gz.F0.0MERR.0Missing.m2M2.vcf.gz'\n",
       "\\item '/moto/ziab/users/jr3950/data/genomes/tmp\\_founders/bam/Founders.chr11.vcf.gz.phased.vcf.gz.Cov105to361.GQ20.DP5.vcf.gz.MendelianAnnotated.vcf.gz.F0.0MERR.0Missing.m2M2.vcf.gz'\n",
       "\\item '/moto/ziab/users/jr3950/data/genomes/tmp\\_founders/bam/Founders.chr12.vcf.gz.phased.vcf.gz.Cov105to361.GQ20.DP5.vcf.gz.MendelianAnnotated.vcf.gz.F0.0MERR.0Missing.m2M2.vcf.gz'\n",
       "\\item '/moto/ziab/users/jr3950/data/genomes/tmp\\_founders/bam/Founders.chr13.vcf.gz.phased.vcf.gz.Cov105to361.GQ20.DP5.vcf.gz.MendelianAnnotated.vcf.gz.F0.0MERR.0Missing.m2M2.vcf.gz'\n",
       "\\item '/moto/ziab/users/jr3950/data/genomes/tmp\\_founders/bam/Founders.chr14.vcf.gz.phased.vcf.gz.Cov105to361.GQ20.DP5.vcf.gz.MendelianAnnotated.vcf.gz.F0.0MERR.0Missing.m2M2.vcf.gz'\n",
       "\\item '/moto/ziab/users/jr3950/data/genomes/tmp\\_founders/bam/Founders.chr15.vcf.gz.phased.vcf.gz.Cov105to361.GQ20.DP5.vcf.gz.MendelianAnnotated.vcf.gz.F0.0MERR.0Missing.m2M2.vcf.gz'\n",
       "\\item '/moto/ziab/users/jr3950/data/genomes/tmp\\_founders/bam/Founders.chr16.vcf.gz.phased.vcf.gz.Cov105to361.GQ20.DP5.vcf.gz.MendelianAnnotated.vcf.gz.F0.0MERR.0Missing.m2M2.vcf.gz'\n",
       "\\item '/moto/ziab/users/jr3950/data/genomes/tmp\\_founders/bam/Founders.chr17.vcf.gz.phased.vcf.gz.Cov105to361.GQ20.DP5.vcf.gz.MendelianAnnotated.vcf.gz.F0.0MERR.0Missing.m2M2.vcf.gz'\n",
       "\\item '/moto/ziab/users/jr3950/data/genomes/tmp\\_founders/bam/Founders.chr18.vcf.gz.phased.vcf.gz.Cov105to361.GQ20.DP5.vcf.gz.MendelianAnnotated.vcf.gz.F0.0MERR.0Missing.m2M2.vcf.gz'\n",
       "\\item '/moto/ziab/users/jr3950/data/genomes/tmp\\_founders/bam/Founders.chr19.vcf.gz.phased.vcf.gz.Cov105to361.GQ20.DP5.vcf.gz.MendelianAnnotated.vcf.gz.F0.0MERR.0Missing.m2M2.vcf.gz'\n",
       "\\end{enumerate*}\n"
      ],
      "text/markdown": [
       "1. '/moto/ziab/users/jr3950/data/genomes/tmp_founders/bam/Founders.chr1.vcf.gz.phased.vcf.gz.Cov105to361.GQ20.DP5.vcf.gz.MendelianAnnotated.vcf.gz.F0.0MERR.0Missing.m2M2.vcf.gz'\n",
       "2. '/moto/ziab/users/jr3950/data/genomes/tmp_founders/bam/Founders.chr2.vcf.gz.phased.vcf.gz.Cov105to361.GQ20.DP5.vcf.gz.MendelianAnnotated.vcf.gz.F0.0MERR.0Missing.m2M2.vcf.gz'\n",
       "3. '/moto/ziab/users/jr3950/data/genomes/tmp_founders/bam/Founders.chr3.vcf.gz.phased.vcf.gz.Cov105to361.GQ20.DP5.vcf.gz.MendelianAnnotated.vcf.gz.F0.0MERR.0Missing.m2M2.vcf.gz'\n",
       "4. '/moto/ziab/users/jr3950/data/genomes/tmp_founders/bam/Founders.chr4.vcf.gz.phased.vcf.gz.Cov105to361.GQ20.DP5.vcf.gz.MendelianAnnotated.vcf.gz.F0.0MERR.0Missing.m2M2.vcf.gz'\n",
       "5. '/moto/ziab/users/jr3950/data/genomes/tmp_founders/bam/Founders.chr5.vcf.gz.phased.vcf.gz.Cov105to361.GQ20.DP5.vcf.gz.MendelianAnnotated.vcf.gz.F0.0MERR.0Missing.m2M2.vcf.gz'\n",
       "6. '/moto/ziab/users/jr3950/data/genomes/tmp_founders/bam/Founders.chr6.vcf.gz.phased.vcf.gz.Cov105to361.GQ20.DP5.vcf.gz.MendelianAnnotated.vcf.gz.F0.0MERR.0Missing.m2M2.vcf.gz'\n",
       "7. '/moto/ziab/users/jr3950/data/genomes/tmp_founders/bam/Founders.chr7.vcf.gz.phased.vcf.gz.Cov105to361.GQ20.DP5.vcf.gz.MendelianAnnotated.vcf.gz.F0.0MERR.0Missing.m2M2.vcf.gz'\n",
       "8. '/moto/ziab/users/jr3950/data/genomes/tmp_founders/bam/Founders.chr8.vcf.gz.phased.vcf.gz.Cov105to361.GQ20.DP5.vcf.gz.MendelianAnnotated.vcf.gz.F0.0MERR.0Missing.m2M2.vcf.gz'\n",
       "9. '/moto/ziab/users/jr3950/data/genomes/tmp_founders/bam/Founders.chr9.vcf.gz.phased.vcf.gz.Cov105to361.GQ20.DP5.vcf.gz.MendelianAnnotated.vcf.gz.F0.0MERR.0Missing.m2M2.vcf.gz'\n",
       "10. '/moto/ziab/users/jr3950/data/genomes/tmp_founders/bam/Founders.chr10.vcf.gz.phased.vcf.gz.Cov105to361.GQ20.DP5.vcf.gz.MendelianAnnotated.vcf.gz.F0.0MERR.0Missing.m2M2.vcf.gz'\n",
       "11. '/moto/ziab/users/jr3950/data/genomes/tmp_founders/bam/Founders.chr11.vcf.gz.phased.vcf.gz.Cov105to361.GQ20.DP5.vcf.gz.MendelianAnnotated.vcf.gz.F0.0MERR.0Missing.m2M2.vcf.gz'\n",
       "12. '/moto/ziab/users/jr3950/data/genomes/tmp_founders/bam/Founders.chr12.vcf.gz.phased.vcf.gz.Cov105to361.GQ20.DP5.vcf.gz.MendelianAnnotated.vcf.gz.F0.0MERR.0Missing.m2M2.vcf.gz'\n",
       "13. '/moto/ziab/users/jr3950/data/genomes/tmp_founders/bam/Founders.chr13.vcf.gz.phased.vcf.gz.Cov105to361.GQ20.DP5.vcf.gz.MendelianAnnotated.vcf.gz.F0.0MERR.0Missing.m2M2.vcf.gz'\n",
       "14. '/moto/ziab/users/jr3950/data/genomes/tmp_founders/bam/Founders.chr14.vcf.gz.phased.vcf.gz.Cov105to361.GQ20.DP5.vcf.gz.MendelianAnnotated.vcf.gz.F0.0MERR.0Missing.m2M2.vcf.gz'\n",
       "15. '/moto/ziab/users/jr3950/data/genomes/tmp_founders/bam/Founders.chr15.vcf.gz.phased.vcf.gz.Cov105to361.GQ20.DP5.vcf.gz.MendelianAnnotated.vcf.gz.F0.0MERR.0Missing.m2M2.vcf.gz'\n",
       "16. '/moto/ziab/users/jr3950/data/genomes/tmp_founders/bam/Founders.chr16.vcf.gz.phased.vcf.gz.Cov105to361.GQ20.DP5.vcf.gz.MendelianAnnotated.vcf.gz.F0.0MERR.0Missing.m2M2.vcf.gz'\n",
       "17. '/moto/ziab/users/jr3950/data/genomes/tmp_founders/bam/Founders.chr17.vcf.gz.phased.vcf.gz.Cov105to361.GQ20.DP5.vcf.gz.MendelianAnnotated.vcf.gz.F0.0MERR.0Missing.m2M2.vcf.gz'\n",
       "18. '/moto/ziab/users/jr3950/data/genomes/tmp_founders/bam/Founders.chr18.vcf.gz.phased.vcf.gz.Cov105to361.GQ20.DP5.vcf.gz.MendelianAnnotated.vcf.gz.F0.0MERR.0Missing.m2M2.vcf.gz'\n",
       "19. '/moto/ziab/users/jr3950/data/genomes/tmp_founders/bam/Founders.chr19.vcf.gz.phased.vcf.gz.Cov105to361.GQ20.DP5.vcf.gz.MendelianAnnotated.vcf.gz.F0.0MERR.0Missing.m2M2.vcf.gz'\n",
       "\n",
       "\n"
      ],
      "text/plain": [
       " [1] \"/moto/ziab/users/jr3950/data/genomes/tmp_founders/bam/Founders.chr1.vcf.gz.phased.vcf.gz.Cov105to361.GQ20.DP5.vcf.gz.MendelianAnnotated.vcf.gz.F0.0MERR.0Missing.m2M2.vcf.gz\" \n",
       " [2] \"/moto/ziab/users/jr3950/data/genomes/tmp_founders/bam/Founders.chr2.vcf.gz.phased.vcf.gz.Cov105to361.GQ20.DP5.vcf.gz.MendelianAnnotated.vcf.gz.F0.0MERR.0Missing.m2M2.vcf.gz\" \n",
       " [3] \"/moto/ziab/users/jr3950/data/genomes/tmp_founders/bam/Founders.chr3.vcf.gz.phased.vcf.gz.Cov105to361.GQ20.DP5.vcf.gz.MendelianAnnotated.vcf.gz.F0.0MERR.0Missing.m2M2.vcf.gz\" \n",
       " [4] \"/moto/ziab/users/jr3950/data/genomes/tmp_founders/bam/Founders.chr4.vcf.gz.phased.vcf.gz.Cov105to361.GQ20.DP5.vcf.gz.MendelianAnnotated.vcf.gz.F0.0MERR.0Missing.m2M2.vcf.gz\" \n",
       " [5] \"/moto/ziab/users/jr3950/data/genomes/tmp_founders/bam/Founders.chr5.vcf.gz.phased.vcf.gz.Cov105to361.GQ20.DP5.vcf.gz.MendelianAnnotated.vcf.gz.F0.0MERR.0Missing.m2M2.vcf.gz\" \n",
       " [6] \"/moto/ziab/users/jr3950/data/genomes/tmp_founders/bam/Founders.chr6.vcf.gz.phased.vcf.gz.Cov105to361.GQ20.DP5.vcf.gz.MendelianAnnotated.vcf.gz.F0.0MERR.0Missing.m2M2.vcf.gz\" \n",
       " [7] \"/moto/ziab/users/jr3950/data/genomes/tmp_founders/bam/Founders.chr7.vcf.gz.phased.vcf.gz.Cov105to361.GQ20.DP5.vcf.gz.MendelianAnnotated.vcf.gz.F0.0MERR.0Missing.m2M2.vcf.gz\" \n",
       " [8] \"/moto/ziab/users/jr3950/data/genomes/tmp_founders/bam/Founders.chr8.vcf.gz.phased.vcf.gz.Cov105to361.GQ20.DP5.vcf.gz.MendelianAnnotated.vcf.gz.F0.0MERR.0Missing.m2M2.vcf.gz\" \n",
       " [9] \"/moto/ziab/users/jr3950/data/genomes/tmp_founders/bam/Founders.chr9.vcf.gz.phased.vcf.gz.Cov105to361.GQ20.DP5.vcf.gz.MendelianAnnotated.vcf.gz.F0.0MERR.0Missing.m2M2.vcf.gz\" \n",
       "[10] \"/moto/ziab/users/jr3950/data/genomes/tmp_founders/bam/Founders.chr10.vcf.gz.phased.vcf.gz.Cov105to361.GQ20.DP5.vcf.gz.MendelianAnnotated.vcf.gz.F0.0MERR.0Missing.m2M2.vcf.gz\"\n",
       "[11] \"/moto/ziab/users/jr3950/data/genomes/tmp_founders/bam/Founders.chr11.vcf.gz.phased.vcf.gz.Cov105to361.GQ20.DP5.vcf.gz.MendelianAnnotated.vcf.gz.F0.0MERR.0Missing.m2M2.vcf.gz\"\n",
       "[12] \"/moto/ziab/users/jr3950/data/genomes/tmp_founders/bam/Founders.chr12.vcf.gz.phased.vcf.gz.Cov105to361.GQ20.DP5.vcf.gz.MendelianAnnotated.vcf.gz.F0.0MERR.0Missing.m2M2.vcf.gz\"\n",
       "[13] \"/moto/ziab/users/jr3950/data/genomes/tmp_founders/bam/Founders.chr13.vcf.gz.phased.vcf.gz.Cov105to361.GQ20.DP5.vcf.gz.MendelianAnnotated.vcf.gz.F0.0MERR.0Missing.m2M2.vcf.gz\"\n",
       "[14] \"/moto/ziab/users/jr3950/data/genomes/tmp_founders/bam/Founders.chr14.vcf.gz.phased.vcf.gz.Cov105to361.GQ20.DP5.vcf.gz.MendelianAnnotated.vcf.gz.F0.0MERR.0Missing.m2M2.vcf.gz\"\n",
       "[15] \"/moto/ziab/users/jr3950/data/genomes/tmp_founders/bam/Founders.chr15.vcf.gz.phased.vcf.gz.Cov105to361.GQ20.DP5.vcf.gz.MendelianAnnotated.vcf.gz.F0.0MERR.0Missing.m2M2.vcf.gz\"\n",
       "[16] \"/moto/ziab/users/jr3950/data/genomes/tmp_founders/bam/Founders.chr16.vcf.gz.phased.vcf.gz.Cov105to361.GQ20.DP5.vcf.gz.MendelianAnnotated.vcf.gz.F0.0MERR.0Missing.m2M2.vcf.gz\"\n",
       "[17] \"/moto/ziab/users/jr3950/data/genomes/tmp_founders/bam/Founders.chr17.vcf.gz.phased.vcf.gz.Cov105to361.GQ20.DP5.vcf.gz.MendelianAnnotated.vcf.gz.F0.0MERR.0Missing.m2M2.vcf.gz\"\n",
       "[18] \"/moto/ziab/users/jr3950/data/genomes/tmp_founders/bam/Founders.chr18.vcf.gz.phased.vcf.gz.Cov105to361.GQ20.DP5.vcf.gz.MendelianAnnotated.vcf.gz.F0.0MERR.0Missing.m2M2.vcf.gz\"\n",
       "[19] \"/moto/ziab/users/jr3950/data/genomes/tmp_founders/bam/Founders.chr19.vcf.gz.phased.vcf.gz.Cov105to361.GQ20.DP5.vcf.gz.MendelianAnnotated.vcf.gz.F0.0MERR.0Missing.m2M2.vcf.gz\""
      ]
     },
     "metadata": {},
     "output_type": "display_data"
    },
    {
     "name": "stdout",
     "output_type": "stream",
     "text": [
      " [1] \"SM_SW_1\"  \"SM_SW_2\"  \"SM_SW_3\"  \"SM_SW_4\"  \"SM_SW_5\"  \"SM_SW_6\" \n",
      " [7] \"SM_SW_7\"  \"SM_SW_8\"  \"SM_SW_9\"  \"SM_SW_10\" \"SM_SW_11\" \"SM_SW_12\"\n",
      " [1] \"SM_SW_1\"  \"SM_SW_2\"  \"SM_SW_3\"  \"SM_SW_4\"  \"SM_SW_5\"  \"SM_SW_6\" \n",
      " [7] \"SM_SW_7\"  \"SM_SW_8\"  \"SM_SW_9\"  \"SM_SW_10\" \"SM_SW_11\" \"SM_SW_12\"\n",
      " [1] \"SM_SW_1\"  \"SM_SW_2\"  \"SM_SW_3\"  \"SM_SW_4\"  \"SM_SW_5\"  \"SM_SW_6\" \n",
      " [7] \"SM_SW_7\"  \"SM_SW_8\"  \"SM_SW_9\"  \"SM_SW_10\" \"SM_SW_11\" \"SM_SW_12\"\n",
      " [1] \"SM_SW_1\"  \"SM_SW_2\"  \"SM_SW_3\"  \"SM_SW_4\"  \"SM_SW_5\"  \"SM_SW_6\" \n",
      " [7] \"SM_SW_7\"  \"SM_SW_8\"  \"SM_SW_9\"  \"SM_SW_10\" \"SM_SW_11\" \"SM_SW_12\"\n",
      " [1] \"SM_SW_1\"  \"SM_SW_2\"  \"SM_SW_3\"  \"SM_SW_4\"  \"SM_SW_5\"  \"SM_SW_6\" \n",
      " [7] \"SM_SW_7\"  \"SM_SW_8\"  \"SM_SW_9\"  \"SM_SW_10\" \"SM_SW_11\" \"SM_SW_12\"\n",
      " [1] \"SM_SW_1\"  \"SM_SW_2\"  \"SM_SW_3\"  \"SM_SW_4\"  \"SM_SW_5\"  \"SM_SW_6\" \n",
      " [7] \"SM_SW_7\"  \"SM_SW_8\"  \"SM_SW_9\"  \"SM_SW_10\" \"SM_SW_11\" \"SM_SW_12\"\n",
      " [1] \"SM_SW_1\"  \"SM_SW_2\"  \"SM_SW_3\"  \"SM_SW_4\"  \"SM_SW_5\"  \"SM_SW_6\" \n",
      " [7] \"SM_SW_7\"  \"SM_SW_8\"  \"SM_SW_9\"  \"SM_SW_10\" \"SM_SW_11\" \"SM_SW_12\"\n",
      " [1] \"SM_SW_1\"  \"SM_SW_2\"  \"SM_SW_3\"  \"SM_SW_4\"  \"SM_SW_5\"  \"SM_SW_6\" \n",
      " [7] \"SM_SW_7\"  \"SM_SW_8\"  \"SM_SW_9\"  \"SM_SW_10\" \"SM_SW_11\" \"SM_SW_12\"\n",
      " [1] \"SM_SW_1\"  \"SM_SW_2\"  \"SM_SW_3\"  \"SM_SW_4\"  \"SM_SW_5\"  \"SM_SW_6\" \n",
      " [7] \"SM_SW_7\"  \"SM_SW_8\"  \"SM_SW_9\"  \"SM_SW_10\" \"SM_SW_11\" \"SM_SW_12\"\n",
      " [1] \"SM_SW_1\"  \"SM_SW_2\"  \"SM_SW_3\"  \"SM_SW_4\"  \"SM_SW_5\"  \"SM_SW_6\" \n",
      " [7] \"SM_SW_7\"  \"SM_SW_8\"  \"SM_SW_9\"  \"SM_SW_10\" \"SM_SW_11\" \"SM_SW_12\"\n",
      " [1] \"SM_SW_1\"  \"SM_SW_2\"  \"SM_SW_3\"  \"SM_SW_4\"  \"SM_SW_5\"  \"SM_SW_6\" \n",
      " [7] \"SM_SW_7\"  \"SM_SW_8\"  \"SM_SW_9\"  \"SM_SW_10\" \"SM_SW_11\" \"SM_SW_12\"\n",
      " [1] \"SM_SW_1\"  \"SM_SW_2\"  \"SM_SW_3\"  \"SM_SW_4\"  \"SM_SW_5\"  \"SM_SW_6\" \n",
      " [7] \"SM_SW_7\"  \"SM_SW_8\"  \"SM_SW_9\"  \"SM_SW_10\" \"SM_SW_11\" \"SM_SW_12\"\n",
      " [1] \"SM_SW_1\"  \"SM_SW_2\"  \"SM_SW_3\"  \"SM_SW_4\"  \"SM_SW_5\"  \"SM_SW_6\" \n",
      " [7] \"SM_SW_7\"  \"SM_SW_8\"  \"SM_SW_9\"  \"SM_SW_10\" \"SM_SW_11\" \"SM_SW_12\"\n",
      " [1] \"SM_SW_1\"  \"SM_SW_2\"  \"SM_SW_3\"  \"SM_SW_4\"  \"SM_SW_5\"  \"SM_SW_6\" \n",
      " [7] \"SM_SW_7\"  \"SM_SW_8\"  \"SM_SW_9\"  \"SM_SW_10\" \"SM_SW_11\" \"SM_SW_12\"\n",
      " [1] \"SM_SW_1\"  \"SM_SW_2\"  \"SM_SW_3\"  \"SM_SW_4\"  \"SM_SW_5\"  \"SM_SW_6\" \n",
      " [7] \"SM_SW_7\"  \"SM_SW_8\"  \"SM_SW_9\"  \"SM_SW_10\" \"SM_SW_11\" \"SM_SW_12\"\n",
      " [1] \"SM_SW_1\"  \"SM_SW_2\"  \"SM_SW_3\"  \"SM_SW_4\"  \"SM_SW_5\"  \"SM_SW_6\" \n",
      " [7] \"SM_SW_7\"  \"SM_SW_8\"  \"SM_SW_9\"  \"SM_SW_10\" \"SM_SW_11\" \"SM_SW_12\"\n",
      " [1] \"SM_SW_1\"  \"SM_SW_2\"  \"SM_SW_3\"  \"SM_SW_4\"  \"SM_SW_5\"  \"SM_SW_6\" \n",
      " [7] \"SM_SW_7\"  \"SM_SW_8\"  \"SM_SW_9\"  \"SM_SW_10\" \"SM_SW_11\" \"SM_SW_12\"\n",
      " [1] \"SM_SW_1\"  \"SM_SW_2\"  \"SM_SW_3\"  \"SM_SW_4\"  \"SM_SW_5\"  \"SM_SW_6\" \n",
      " [7] \"SM_SW_7\"  \"SM_SW_8\"  \"SM_SW_9\"  \"SM_SW_10\" \"SM_SW_11\" \"SM_SW_12\"\n",
      " [1] \"SM_SW_1\"  \"SM_SW_2\"  \"SM_SW_3\"  \"SM_SW_4\"  \"SM_SW_5\"  \"SM_SW_6\" \n",
      " [7] \"SM_SW_7\"  \"SM_SW_8\"  \"SM_SW_9\"  \"SM_SW_10\" \"SM_SW_11\" \"SM_SW_12\"\n"
     ]
    }
   ],
   "source": [
    "# merge vcf\n",
    "\n",
    "# double-check that sample names are in the same order across vcf.\n",
    "files=naturalsort(list.files(path=bam_dir, pattern=paste0(\"phased.vcf.gz.Cov\",min_DP,\"to\",max_DP,\".GQ\",GQ_filter,\".DP\",DP_filter,\".vcf.gz.MendelianAnnotated.vcf.gz.F0.0MERR.0Missing.m2M2.vcf.gz$\"), full.names=TRUE))\n",
    "files\n",
    "\n",
    "for(f in files){\n",
    "    cmd=paste0(\"bcftools query -l \", f, \" > \",f,\".samples\")\n",
    "    execute_cmd_sbatch(cmd, mem=\"4gb\", cpu=\"1\", time=\"short\", env=env_mapping_etc, jobname=\"getSamples\",\n",
    "                              activateEnvScript=paste0(Barn_Mice_dir,\"activateEnv.sh\")) \n",
    "    Sys.sleep(1)\n",
    "    \n",
    "}\n",
    "Sys.sleep(5)\n",
    "while(slurm_check_jobs_still_running(columbia_username,\"getSamples\")){\n",
    "        Sys.sleep(60)\n",
    "    }\n",
    "\n",
    "\n",
    "samples=list()\n",
    "for(f in files){\n",
    "    samples[[f]]=readLines(paste0(f,\".samples\"))\n",
    "    print(samples[[f]])\n",
    "}\n",
    "\n",
    "are_all_vectors_identical <- all(sapply(samples[-1], identical, samples[[1]]))\n",
    "\n",
    "print(are_all_vectors_identical)\n",
    "\n",
    "if(!are_all_vectors_identical){\n",
    "    stop(\"Assumption of same samples / order in each vcf not met. Please fix.\")\n",
    "}\n"
   ]
  },
  {
   "cell_type": "code",
   "execution_count": 51,
   "id": "9ad417be-6dc5-4283-90b8-cd730a248aec",
   "metadata": {
    "tags": []
   },
   "outputs": [
    {
     "name": "stdout",
     "output_type": "stream",
     "text": [
      "[1] \"sbatch -c 4 --mem=8gb --job-name=MergeVCF -A ziab -t 11:59:00 --wrap '. ~/ColumbiaProjects/Barn_Mice/activateEnv.sh samtools-116; bcftools concat -Oz -o /moto/ziab/users/jr3950/data/genomes/tmp_founders/Founders.filtered.vcf.gz --threads 4 /moto/ziab/users/jr3950/data/genomes/tmp_founders/bam/Founders.chr1.vcf.gz.phased.vcf.gz.Cov105to361.GQ20.DP5.vcf.gz.MendelianAnnotated.vcf.gz.F0.0MERR.0Missing.m2M2.vcf.gz /moto/ziab/users/jr3950/data/genomes/tmp_founders/bam/Founders.chr2.vcf.gz.phased.vcf.gz.Cov105to361.GQ20.DP5.vcf.gz.MendelianAnnotated.vcf.gz.F0.0MERR.0Missing.m2M2.vcf.gz /moto/ziab/users/jr3950/data/genomes/tmp_founders/bam/Founders.chr3.vcf.gz.phased.vcf.gz.Cov105to361.GQ20.DP5.vcf.gz.MendelianAnnotated.vcf.gz.F0.0MERR.0Missing.m2M2.vcf.gz /moto/ziab/users/jr3950/data/genomes/tmp_founders/bam/Founders.chr4.vcf.gz.phased.vcf.gz.Cov105to361.GQ20.DP5.vcf.gz.MendelianAnnotated.vcf.gz.F0.0MERR.0Missing.m2M2.vcf.gz /moto/ziab/users/jr3950/data/genomes/tmp_founders/bam/Founders.chr5.vcf.gz.phased.vcf.gz.Cov105to361.GQ20.DP5.vcf.gz.MendelianAnnotated.vcf.gz.F0.0MERR.0Missing.m2M2.vcf.gz /moto/ziab/users/jr3950/data/genomes/tmp_founders/bam/Founders.chr6.vcf.gz.phased.vcf.gz.Cov105to361.GQ20.DP5.vcf.gz.MendelianAnnotated.vcf.gz.F0.0MERR.0Missing.m2M2.vcf.gz /moto/ziab/users/jr3950/data/genomes/tmp_founders/bam/Founders.chr7.vcf.gz.phased.vcf.gz.Cov105to361.GQ20.DP5.vcf.gz.MendelianAnnotated.vcf.gz.F0.0MERR.0Missing.m2M2.vcf.gz /moto/ziab/users/jr3950/data/genomes/tmp_founders/bam/Founders.chr8.vcf.gz.phased.vcf.gz.Cov105to361.GQ20.DP5.vcf.gz.MendelianAnnotated.vcf.gz.F0.0MERR.0Missing.m2M2.vcf.gz /moto/ziab/users/jr3950/data/genomes/tmp_founders/bam/Founders.chr9.vcf.gz.phased.vcf.gz.Cov105to361.GQ20.DP5.vcf.gz.MendelianAnnotated.vcf.gz.F0.0MERR.0Missing.m2M2.vcf.gz /moto/ziab/users/jr3950/data/genomes/tmp_founders/bam/Founders.chr10.vcf.gz.phased.vcf.gz.Cov105to361.GQ20.DP5.vcf.gz.MendelianAnnotated.vcf.gz.F0.0MERR.0Missing.m2M2.vcf.gz /moto/ziab/users/jr3950/data/genomes/tmp_founders/bam/Founders.chr11.vcf.gz.phased.vcf.gz.Cov105to361.GQ20.DP5.vcf.gz.MendelianAnnotated.vcf.gz.F0.0MERR.0Missing.m2M2.vcf.gz /moto/ziab/users/jr3950/data/genomes/tmp_founders/bam/Founders.chr12.vcf.gz.phased.vcf.gz.Cov105to361.GQ20.DP5.vcf.gz.MendelianAnnotated.vcf.gz.F0.0MERR.0Missing.m2M2.vcf.gz /moto/ziab/users/jr3950/data/genomes/tmp_founders/bam/Founders.chr13.vcf.gz.phased.vcf.gz.Cov105to361.GQ20.DP5.vcf.gz.MendelianAnnotated.vcf.gz.F0.0MERR.0Missing.m2M2.vcf.gz /moto/ziab/users/jr3950/data/genomes/tmp_founders/bam/Founders.chr14.vcf.gz.phased.vcf.gz.Cov105to361.GQ20.DP5.vcf.gz.MendelianAnnotated.vcf.gz.F0.0MERR.0Missing.m2M2.vcf.gz /moto/ziab/users/jr3950/data/genomes/tmp_founders/bam/Founders.chr15.vcf.gz.phased.vcf.gz.Cov105to361.GQ20.DP5.vcf.gz.MendelianAnnotated.vcf.gz.F0.0MERR.0Missing.m2M2.vcf.gz /moto/ziab/users/jr3950/data/genomes/tmp_founders/bam/Founders.chr16.vcf.gz.phased.vcf.gz.Cov105to361.GQ20.DP5.vcf.gz.MendelianAnnotated.vcf.gz.F0.0MERR.0Missing.m2M2.vcf.gz /moto/ziab/users/jr3950/data/genomes/tmp_founders/bam/Founders.chr17.vcf.gz.phased.vcf.gz.Cov105to361.GQ20.DP5.vcf.gz.MendelianAnnotated.vcf.gz.F0.0MERR.0Missing.m2M2.vcf.gz /moto/ziab/users/jr3950/data/genomes/tmp_founders/bam/Founders.chr18.vcf.gz.phased.vcf.gz.Cov105to361.GQ20.DP5.vcf.gz.MendelianAnnotated.vcf.gz.F0.0MERR.0Missing.m2M2.vcf.gz /moto/ziab/users/jr3950/data/genomes/tmp_founders/bam/Founders.chr19.vcf.gz.phased.vcf.gz.Cov105to361.GQ20.DP5.vcf.gz.MendelianAnnotated.vcf.gz.F0.0MERR.0Missing.m2M2.vcf.gz'\"\n",
      "[1] \"Submitted batch job 13535378\"\n"
     ]
    }
   ],
   "source": [
    "cmd=paste0(\"bcftools concat -Oz -o \",folder_for_sequences,\"Founders.filtered.vcf.gz --threads 4 \",paste(files,collapse=\" \"))\n",
    "execute_cmd_sbatch(cmd, mem=\"8gb\", cpu=\"4\", time=\"short\", env=env_mapping_etc, jobname=\"MergeVCF\",\n",
    "                              activateEnvScript=paste0(Barn_Mice_dir,\"activateEnv.sh\")) \n",
    "    Sys.sleep(5)\n",
    "    \n",
    "\n",
    "while(slurm_check_jobs_still_running(columbia_username,\"MergeVCF\")){\n",
    "        Sys.sleep(60)\n",
    "    }\n"
   ]
  },
  {
   "cell_type": "code",
   "execution_count": 53,
   "id": "a479dbe0-fa04-4d98-9181-050c2e872c92",
   "metadata": {
    "tags": []
   },
   "outputs": [
    {
     "data": {
      "text/html": [
       "<style>\n",
       ".list-inline {list-style: none; margin:0; padding: 0}\n",
       ".list-inline>li {display: inline-block}\n",
       ".list-inline>li:not(:last-child)::after {content: \"\\00b7\"; padding: 0 .5ex}\n",
       "</style>\n",
       "<ol class=list-inline><li>'/moto/ziab/users/jr3950/data/genomes/tmp_founders/bam/Founders.chr1.vcf.gz.phased.vcf.gz'</li><li>'/moto/ziab/users/jr3950/data/genomes/tmp_founders/bam/Founders.chr2.vcf.gz.phased.vcf.gz'</li><li>'/moto/ziab/users/jr3950/data/genomes/tmp_founders/bam/Founders.chr3.vcf.gz.phased.vcf.gz'</li><li>'/moto/ziab/users/jr3950/data/genomes/tmp_founders/bam/Founders.chr4.vcf.gz.phased.vcf.gz'</li><li>'/moto/ziab/users/jr3950/data/genomes/tmp_founders/bam/Founders.chr5.vcf.gz.phased.vcf.gz'</li><li>'/moto/ziab/users/jr3950/data/genomes/tmp_founders/bam/Founders.chr6.vcf.gz.phased.vcf.gz'</li><li>'/moto/ziab/users/jr3950/data/genomes/tmp_founders/bam/Founders.chr7.vcf.gz.phased.vcf.gz'</li><li>'/moto/ziab/users/jr3950/data/genomes/tmp_founders/bam/Founders.chr8.vcf.gz.phased.vcf.gz'</li><li>'/moto/ziab/users/jr3950/data/genomes/tmp_founders/bam/Founders.chr9.vcf.gz.phased.vcf.gz'</li><li>'/moto/ziab/users/jr3950/data/genomes/tmp_founders/bam/Founders.chr10.vcf.gz.phased.vcf.gz'</li><li>'/moto/ziab/users/jr3950/data/genomes/tmp_founders/bam/Founders.chr11.vcf.gz.phased.vcf.gz'</li><li>'/moto/ziab/users/jr3950/data/genomes/tmp_founders/bam/Founders.chr12.vcf.gz.phased.vcf.gz'</li><li>'/moto/ziab/users/jr3950/data/genomes/tmp_founders/bam/Founders.chr13.vcf.gz.phased.vcf.gz'</li><li>'/moto/ziab/users/jr3950/data/genomes/tmp_founders/bam/Founders.chr14.vcf.gz.phased.vcf.gz'</li><li>'/moto/ziab/users/jr3950/data/genomes/tmp_founders/bam/Founders.chr15.vcf.gz.phased.vcf.gz'</li><li>'/moto/ziab/users/jr3950/data/genomes/tmp_founders/bam/Founders.chr16.vcf.gz.phased.vcf.gz'</li><li>'/moto/ziab/users/jr3950/data/genomes/tmp_founders/bam/Founders.chr17.vcf.gz.phased.vcf.gz'</li><li>'/moto/ziab/users/jr3950/data/genomes/tmp_founders/bam/Founders.chr18.vcf.gz.phased.vcf.gz'</li><li>'/moto/ziab/users/jr3950/data/genomes/tmp_founders/bam/Founders.chr19.vcf.gz.phased.vcf.gz'</li></ol>\n"
      ],
      "text/latex": [
       "\\begin{enumerate*}\n",
       "\\item '/moto/ziab/users/jr3950/data/genomes/tmp\\_founders/bam/Founders.chr1.vcf.gz.phased.vcf.gz'\n",
       "\\item '/moto/ziab/users/jr3950/data/genomes/tmp\\_founders/bam/Founders.chr2.vcf.gz.phased.vcf.gz'\n",
       "\\item '/moto/ziab/users/jr3950/data/genomes/tmp\\_founders/bam/Founders.chr3.vcf.gz.phased.vcf.gz'\n",
       "\\item '/moto/ziab/users/jr3950/data/genomes/tmp\\_founders/bam/Founders.chr4.vcf.gz.phased.vcf.gz'\n",
       "\\item '/moto/ziab/users/jr3950/data/genomes/tmp\\_founders/bam/Founders.chr5.vcf.gz.phased.vcf.gz'\n",
       "\\item '/moto/ziab/users/jr3950/data/genomes/tmp\\_founders/bam/Founders.chr6.vcf.gz.phased.vcf.gz'\n",
       "\\item '/moto/ziab/users/jr3950/data/genomes/tmp\\_founders/bam/Founders.chr7.vcf.gz.phased.vcf.gz'\n",
       "\\item '/moto/ziab/users/jr3950/data/genomes/tmp\\_founders/bam/Founders.chr8.vcf.gz.phased.vcf.gz'\n",
       "\\item '/moto/ziab/users/jr3950/data/genomes/tmp\\_founders/bam/Founders.chr9.vcf.gz.phased.vcf.gz'\n",
       "\\item '/moto/ziab/users/jr3950/data/genomes/tmp\\_founders/bam/Founders.chr10.vcf.gz.phased.vcf.gz'\n",
       "\\item '/moto/ziab/users/jr3950/data/genomes/tmp\\_founders/bam/Founders.chr11.vcf.gz.phased.vcf.gz'\n",
       "\\item '/moto/ziab/users/jr3950/data/genomes/tmp\\_founders/bam/Founders.chr12.vcf.gz.phased.vcf.gz'\n",
       "\\item '/moto/ziab/users/jr3950/data/genomes/tmp\\_founders/bam/Founders.chr13.vcf.gz.phased.vcf.gz'\n",
       "\\item '/moto/ziab/users/jr3950/data/genomes/tmp\\_founders/bam/Founders.chr14.vcf.gz.phased.vcf.gz'\n",
       "\\item '/moto/ziab/users/jr3950/data/genomes/tmp\\_founders/bam/Founders.chr15.vcf.gz.phased.vcf.gz'\n",
       "\\item '/moto/ziab/users/jr3950/data/genomes/tmp\\_founders/bam/Founders.chr16.vcf.gz.phased.vcf.gz'\n",
       "\\item '/moto/ziab/users/jr3950/data/genomes/tmp\\_founders/bam/Founders.chr17.vcf.gz.phased.vcf.gz'\n",
       "\\item '/moto/ziab/users/jr3950/data/genomes/tmp\\_founders/bam/Founders.chr18.vcf.gz.phased.vcf.gz'\n",
       "\\item '/moto/ziab/users/jr3950/data/genomes/tmp\\_founders/bam/Founders.chr19.vcf.gz.phased.vcf.gz'\n",
       "\\end{enumerate*}\n"
      ],
      "text/markdown": [
       "1. '/moto/ziab/users/jr3950/data/genomes/tmp_founders/bam/Founders.chr1.vcf.gz.phased.vcf.gz'\n",
       "2. '/moto/ziab/users/jr3950/data/genomes/tmp_founders/bam/Founders.chr2.vcf.gz.phased.vcf.gz'\n",
       "3. '/moto/ziab/users/jr3950/data/genomes/tmp_founders/bam/Founders.chr3.vcf.gz.phased.vcf.gz'\n",
       "4. '/moto/ziab/users/jr3950/data/genomes/tmp_founders/bam/Founders.chr4.vcf.gz.phased.vcf.gz'\n",
       "5. '/moto/ziab/users/jr3950/data/genomes/tmp_founders/bam/Founders.chr5.vcf.gz.phased.vcf.gz'\n",
       "6. '/moto/ziab/users/jr3950/data/genomes/tmp_founders/bam/Founders.chr6.vcf.gz.phased.vcf.gz'\n",
       "7. '/moto/ziab/users/jr3950/data/genomes/tmp_founders/bam/Founders.chr7.vcf.gz.phased.vcf.gz'\n",
       "8. '/moto/ziab/users/jr3950/data/genomes/tmp_founders/bam/Founders.chr8.vcf.gz.phased.vcf.gz'\n",
       "9. '/moto/ziab/users/jr3950/data/genomes/tmp_founders/bam/Founders.chr9.vcf.gz.phased.vcf.gz'\n",
       "10. '/moto/ziab/users/jr3950/data/genomes/tmp_founders/bam/Founders.chr10.vcf.gz.phased.vcf.gz'\n",
       "11. '/moto/ziab/users/jr3950/data/genomes/tmp_founders/bam/Founders.chr11.vcf.gz.phased.vcf.gz'\n",
       "12. '/moto/ziab/users/jr3950/data/genomes/tmp_founders/bam/Founders.chr12.vcf.gz.phased.vcf.gz'\n",
       "13. '/moto/ziab/users/jr3950/data/genomes/tmp_founders/bam/Founders.chr13.vcf.gz.phased.vcf.gz'\n",
       "14. '/moto/ziab/users/jr3950/data/genomes/tmp_founders/bam/Founders.chr14.vcf.gz.phased.vcf.gz'\n",
       "15. '/moto/ziab/users/jr3950/data/genomes/tmp_founders/bam/Founders.chr15.vcf.gz.phased.vcf.gz'\n",
       "16. '/moto/ziab/users/jr3950/data/genomes/tmp_founders/bam/Founders.chr16.vcf.gz.phased.vcf.gz'\n",
       "17. '/moto/ziab/users/jr3950/data/genomes/tmp_founders/bam/Founders.chr17.vcf.gz.phased.vcf.gz'\n",
       "18. '/moto/ziab/users/jr3950/data/genomes/tmp_founders/bam/Founders.chr18.vcf.gz.phased.vcf.gz'\n",
       "19. '/moto/ziab/users/jr3950/data/genomes/tmp_founders/bam/Founders.chr19.vcf.gz.phased.vcf.gz'\n",
       "\n",
       "\n"
      ],
      "text/plain": [
       " [1] \"/moto/ziab/users/jr3950/data/genomes/tmp_founders/bam/Founders.chr1.vcf.gz.phased.vcf.gz\" \n",
       " [2] \"/moto/ziab/users/jr3950/data/genomes/tmp_founders/bam/Founders.chr2.vcf.gz.phased.vcf.gz\" \n",
       " [3] \"/moto/ziab/users/jr3950/data/genomes/tmp_founders/bam/Founders.chr3.vcf.gz.phased.vcf.gz\" \n",
       " [4] \"/moto/ziab/users/jr3950/data/genomes/tmp_founders/bam/Founders.chr4.vcf.gz.phased.vcf.gz\" \n",
       " [5] \"/moto/ziab/users/jr3950/data/genomes/tmp_founders/bam/Founders.chr5.vcf.gz.phased.vcf.gz\" \n",
       " [6] \"/moto/ziab/users/jr3950/data/genomes/tmp_founders/bam/Founders.chr6.vcf.gz.phased.vcf.gz\" \n",
       " [7] \"/moto/ziab/users/jr3950/data/genomes/tmp_founders/bam/Founders.chr7.vcf.gz.phased.vcf.gz\" \n",
       " [8] \"/moto/ziab/users/jr3950/data/genomes/tmp_founders/bam/Founders.chr8.vcf.gz.phased.vcf.gz\" \n",
       " [9] \"/moto/ziab/users/jr3950/data/genomes/tmp_founders/bam/Founders.chr9.vcf.gz.phased.vcf.gz\" \n",
       "[10] \"/moto/ziab/users/jr3950/data/genomes/tmp_founders/bam/Founders.chr10.vcf.gz.phased.vcf.gz\"\n",
       "[11] \"/moto/ziab/users/jr3950/data/genomes/tmp_founders/bam/Founders.chr11.vcf.gz.phased.vcf.gz\"\n",
       "[12] \"/moto/ziab/users/jr3950/data/genomes/tmp_founders/bam/Founders.chr12.vcf.gz.phased.vcf.gz\"\n",
       "[13] \"/moto/ziab/users/jr3950/data/genomes/tmp_founders/bam/Founders.chr13.vcf.gz.phased.vcf.gz\"\n",
       "[14] \"/moto/ziab/users/jr3950/data/genomes/tmp_founders/bam/Founders.chr14.vcf.gz.phased.vcf.gz\"\n",
       "[15] \"/moto/ziab/users/jr3950/data/genomes/tmp_founders/bam/Founders.chr15.vcf.gz.phased.vcf.gz\"\n",
       "[16] \"/moto/ziab/users/jr3950/data/genomes/tmp_founders/bam/Founders.chr16.vcf.gz.phased.vcf.gz\"\n",
       "[17] \"/moto/ziab/users/jr3950/data/genomes/tmp_founders/bam/Founders.chr17.vcf.gz.phased.vcf.gz\"\n",
       "[18] \"/moto/ziab/users/jr3950/data/genomes/tmp_founders/bam/Founders.chr18.vcf.gz.phased.vcf.gz\"\n",
       "[19] \"/moto/ziab/users/jr3950/data/genomes/tmp_founders/bam/Founders.chr19.vcf.gz.phased.vcf.gz\""
      ]
     },
     "metadata": {},
     "output_type": "display_data"
    },
    {
     "name": "stdout",
     "output_type": "stream",
     "text": [
      "[1] \"sbatch -c 1 --mem=4gb --job-name=getSamples -A ziab -t 11:59:00 --wrap '. ~/ColumbiaProjects/Barn_Mice/activateEnv.sh samtools-116; bcftools query -l /moto/ziab/users/jr3950/data/genomes/tmp_founders/bam/Founders.chr1.vcf.gz.phased.vcf.gz > /moto/ziab/users/jr3950/data/genomes/tmp_founders/bam/Founders.chr1.vcf.gz.phased.vcf.gz.samples'\"\n",
      "[1] \"Submitted batch job 13535379\"\n",
      "[1] \"sbatch -c 1 --mem=4gb --job-name=getSamples -A ziab -t 11:59:00 --wrap '. ~/ColumbiaProjects/Barn_Mice/activateEnv.sh samtools-116; bcftools query -l /moto/ziab/users/jr3950/data/genomes/tmp_founders/bam/Founders.chr2.vcf.gz.phased.vcf.gz > /moto/ziab/users/jr3950/data/genomes/tmp_founders/bam/Founders.chr2.vcf.gz.phased.vcf.gz.samples'\"\n",
      "[1] \"Submitted batch job 13535380\"\n",
      "[1] \"sbatch -c 1 --mem=4gb --job-name=getSamples -A ziab -t 11:59:00 --wrap '. ~/ColumbiaProjects/Barn_Mice/activateEnv.sh samtools-116; bcftools query -l /moto/ziab/users/jr3950/data/genomes/tmp_founders/bam/Founders.chr3.vcf.gz.phased.vcf.gz > /moto/ziab/users/jr3950/data/genomes/tmp_founders/bam/Founders.chr3.vcf.gz.phased.vcf.gz.samples'\"\n",
      "[1] \"Submitted batch job 13535381\"\n",
      "[1] \"sbatch -c 1 --mem=4gb --job-name=getSamples -A ziab -t 11:59:00 --wrap '. ~/ColumbiaProjects/Barn_Mice/activateEnv.sh samtools-116; bcftools query -l /moto/ziab/users/jr3950/data/genomes/tmp_founders/bam/Founders.chr4.vcf.gz.phased.vcf.gz > /moto/ziab/users/jr3950/data/genomes/tmp_founders/bam/Founders.chr4.vcf.gz.phased.vcf.gz.samples'\"\n",
      "[1] \"Submitted batch job 13535382\"\n",
      "[1] \"sbatch -c 1 --mem=4gb --job-name=getSamples -A ziab -t 11:59:00 --wrap '. ~/ColumbiaProjects/Barn_Mice/activateEnv.sh samtools-116; bcftools query -l /moto/ziab/users/jr3950/data/genomes/tmp_founders/bam/Founders.chr5.vcf.gz.phased.vcf.gz > /moto/ziab/users/jr3950/data/genomes/tmp_founders/bam/Founders.chr5.vcf.gz.phased.vcf.gz.samples'\"\n",
      "[1] \"Submitted batch job 13535383\"\n",
      "[1] \"sbatch -c 1 --mem=4gb --job-name=getSamples -A ziab -t 11:59:00 --wrap '. ~/ColumbiaProjects/Barn_Mice/activateEnv.sh samtools-116; bcftools query -l /moto/ziab/users/jr3950/data/genomes/tmp_founders/bam/Founders.chr6.vcf.gz.phased.vcf.gz > /moto/ziab/users/jr3950/data/genomes/tmp_founders/bam/Founders.chr6.vcf.gz.phased.vcf.gz.samples'\"\n",
      "[1] \"Submitted batch job 13535384\"\n",
      "[1] \"sbatch -c 1 --mem=4gb --job-name=getSamples -A ziab -t 11:59:00 --wrap '. ~/ColumbiaProjects/Barn_Mice/activateEnv.sh samtools-116; bcftools query -l /moto/ziab/users/jr3950/data/genomes/tmp_founders/bam/Founders.chr7.vcf.gz.phased.vcf.gz > /moto/ziab/users/jr3950/data/genomes/tmp_founders/bam/Founders.chr7.vcf.gz.phased.vcf.gz.samples'\"\n",
      "[1] \"Submitted batch job 13535385\"\n",
      "[1] \"sbatch -c 1 --mem=4gb --job-name=getSamples -A ziab -t 11:59:00 --wrap '. ~/ColumbiaProjects/Barn_Mice/activateEnv.sh samtools-116; bcftools query -l /moto/ziab/users/jr3950/data/genomes/tmp_founders/bam/Founders.chr8.vcf.gz.phased.vcf.gz > /moto/ziab/users/jr3950/data/genomes/tmp_founders/bam/Founders.chr8.vcf.gz.phased.vcf.gz.samples'\"\n",
      "[1] \"Submitted batch job 13535386\"\n",
      "[1] \"sbatch -c 1 --mem=4gb --job-name=getSamples -A ziab -t 11:59:00 --wrap '. ~/ColumbiaProjects/Barn_Mice/activateEnv.sh samtools-116; bcftools query -l /moto/ziab/users/jr3950/data/genomes/tmp_founders/bam/Founders.chr9.vcf.gz.phased.vcf.gz > /moto/ziab/users/jr3950/data/genomes/tmp_founders/bam/Founders.chr9.vcf.gz.phased.vcf.gz.samples'\"\n",
      "[1] \"Submitted batch job 13535387\"\n",
      "[1] \"sbatch -c 1 --mem=4gb --job-name=getSamples -A ziab -t 11:59:00 --wrap '. ~/ColumbiaProjects/Barn_Mice/activateEnv.sh samtools-116; bcftools query -l /moto/ziab/users/jr3950/data/genomes/tmp_founders/bam/Founders.chr10.vcf.gz.phased.vcf.gz > /moto/ziab/users/jr3950/data/genomes/tmp_founders/bam/Founders.chr10.vcf.gz.phased.vcf.gz.samples'\"\n",
      "[1] \"Submitted batch job 13535388\"\n",
      "[1] \"sbatch -c 1 --mem=4gb --job-name=getSamples -A ziab -t 11:59:00 --wrap '. ~/ColumbiaProjects/Barn_Mice/activateEnv.sh samtools-116; bcftools query -l /moto/ziab/users/jr3950/data/genomes/tmp_founders/bam/Founders.chr11.vcf.gz.phased.vcf.gz > /moto/ziab/users/jr3950/data/genomes/tmp_founders/bam/Founders.chr11.vcf.gz.phased.vcf.gz.samples'\"\n",
      "[1] \"Submitted batch job 13535389\"\n",
      "[1] \"sbatch -c 1 --mem=4gb --job-name=getSamples -A ziab -t 11:59:00 --wrap '. ~/ColumbiaProjects/Barn_Mice/activateEnv.sh samtools-116; bcftools query -l /moto/ziab/users/jr3950/data/genomes/tmp_founders/bam/Founders.chr12.vcf.gz.phased.vcf.gz > /moto/ziab/users/jr3950/data/genomes/tmp_founders/bam/Founders.chr12.vcf.gz.phased.vcf.gz.samples'\"\n",
      "[1] \"Submitted batch job 13535390\"\n",
      "[1] \"sbatch -c 1 --mem=4gb --job-name=getSamples -A ziab -t 11:59:00 --wrap '. ~/ColumbiaProjects/Barn_Mice/activateEnv.sh samtools-116; bcftools query -l /moto/ziab/users/jr3950/data/genomes/tmp_founders/bam/Founders.chr13.vcf.gz.phased.vcf.gz > /moto/ziab/users/jr3950/data/genomes/tmp_founders/bam/Founders.chr13.vcf.gz.phased.vcf.gz.samples'\"\n",
      "[1] \"Submitted batch job 13535391\"\n",
      "[1] \"sbatch -c 1 --mem=4gb --job-name=getSamples -A ziab -t 11:59:00 --wrap '. ~/ColumbiaProjects/Barn_Mice/activateEnv.sh samtools-116; bcftools query -l /moto/ziab/users/jr3950/data/genomes/tmp_founders/bam/Founders.chr14.vcf.gz.phased.vcf.gz > /moto/ziab/users/jr3950/data/genomes/tmp_founders/bam/Founders.chr14.vcf.gz.phased.vcf.gz.samples'\"\n",
      "[1] \"Submitted batch job 13535392\"\n",
      "[1] \"sbatch -c 1 --mem=4gb --job-name=getSamples -A ziab -t 11:59:00 --wrap '. ~/ColumbiaProjects/Barn_Mice/activateEnv.sh samtools-116; bcftools query -l /moto/ziab/users/jr3950/data/genomes/tmp_founders/bam/Founders.chr15.vcf.gz.phased.vcf.gz > /moto/ziab/users/jr3950/data/genomes/tmp_founders/bam/Founders.chr15.vcf.gz.phased.vcf.gz.samples'\"\n",
      "[1] \"Submitted batch job 13535393\"\n",
      "[1] \"sbatch -c 1 --mem=4gb --job-name=getSamples -A ziab -t 11:59:00 --wrap '. ~/ColumbiaProjects/Barn_Mice/activateEnv.sh samtools-116; bcftools query -l /moto/ziab/users/jr3950/data/genomes/tmp_founders/bam/Founders.chr16.vcf.gz.phased.vcf.gz > /moto/ziab/users/jr3950/data/genomes/tmp_founders/bam/Founders.chr16.vcf.gz.phased.vcf.gz.samples'\"\n",
      "[1] \"Submitted batch job 13535394\"\n",
      "[1] \"sbatch -c 1 --mem=4gb --job-name=getSamples -A ziab -t 11:59:00 --wrap '. ~/ColumbiaProjects/Barn_Mice/activateEnv.sh samtools-116; bcftools query -l /moto/ziab/users/jr3950/data/genomes/tmp_founders/bam/Founders.chr17.vcf.gz.phased.vcf.gz > /moto/ziab/users/jr3950/data/genomes/tmp_founders/bam/Founders.chr17.vcf.gz.phased.vcf.gz.samples'\"\n",
      "[1] \"Submitted batch job 13535395\"\n",
      "[1] \"sbatch -c 1 --mem=4gb --job-name=getSamples -A ziab -t 11:59:00 --wrap '. ~/ColumbiaProjects/Barn_Mice/activateEnv.sh samtools-116; bcftools query -l /moto/ziab/users/jr3950/data/genomes/tmp_founders/bam/Founders.chr18.vcf.gz.phased.vcf.gz > /moto/ziab/users/jr3950/data/genomes/tmp_founders/bam/Founders.chr18.vcf.gz.phased.vcf.gz.samples'\"\n",
      "[1] \"Submitted batch job 13535396\"\n",
      "[1] \"sbatch -c 1 --mem=4gb --job-name=getSamples -A ziab -t 11:59:00 --wrap '. ~/ColumbiaProjects/Barn_Mice/activateEnv.sh samtools-116; bcftools query -l /moto/ziab/users/jr3950/data/genomes/tmp_founders/bam/Founders.chr19.vcf.gz.phased.vcf.gz > /moto/ziab/users/jr3950/data/genomes/tmp_founders/bam/Founders.chr19.vcf.gz.phased.vcf.gz.samples'\"\n",
      "[1] \"Submitted batch job 13535397\"\n",
      " [1] \"SM_SW_8\"    \"SM_SW_7\"    \"SM_SW_11\"   \"SM_SW_10\"   \"SM_SW_4\"   \n",
      " [6] \"SM_SW_1\"    \"SM_SW_2\"    \"SM_SW_5\"    \"SM_SW_25\"   \"SM_SW_9\"   \n",
      "[11] \"SM_SW_12\"   \"SM_SW_6\"    \"SM_SW_3\"    \"SM_SW_1133\" \"SM_SW_31\"  \n",
      "[16] \"SM_SW_80\"   \"SM_SW_85\"   \"SM_SW_87\"   \"SM_SW_90\"   \"SM_SW_84\"  \n",
      " [1] \"SM_SW_8\"    \"SM_SW_7\"    \"SM_SW_11\"   \"SM_SW_10\"   \"SM_SW_4\"   \n",
      " [6] \"SM_SW_1\"    \"SM_SW_2\"    \"SM_SW_5\"    \"SM_SW_25\"   \"SM_SW_9\"   \n",
      "[11] \"SM_SW_12\"   \"SM_SW_6\"    \"SM_SW_3\"    \"SM_SW_1133\" \"SM_SW_31\"  \n",
      "[16] \"SM_SW_80\"   \"SM_SW_85\"   \"SM_SW_87\"   \"SM_SW_90\"   \"SM_SW_84\"  \n",
      " [1] \"SM_SW_8\"    \"SM_SW_7\"    \"SM_SW_11\"   \"SM_SW_10\"   \"SM_SW_4\"   \n",
      " [6] \"SM_SW_1\"    \"SM_SW_2\"    \"SM_SW_5\"    \"SM_SW_25\"   \"SM_SW_9\"   \n",
      "[11] \"SM_SW_12\"   \"SM_SW_6\"    \"SM_SW_3\"    \"SM_SW_1133\" \"SM_SW_31\"  \n",
      "[16] \"SM_SW_80\"   \"SM_SW_85\"   \"SM_SW_87\"   \"SM_SW_90\"   \"SM_SW_84\"  \n",
      " [1] \"SM_SW_8\"    \"SM_SW_7\"    \"SM_SW_11\"   \"SM_SW_10\"   \"SM_SW_4\"   \n",
      " [6] \"SM_SW_1\"    \"SM_SW_2\"    \"SM_SW_5\"    \"SM_SW_25\"   \"SM_SW_9\"   \n",
      "[11] \"SM_SW_12\"   \"SM_SW_6\"    \"SM_SW_3\"    \"SM_SW_1133\" \"SM_SW_31\"  \n",
      "[16] \"SM_SW_80\"   \"SM_SW_85\"   \"SM_SW_87\"   \"SM_SW_90\"   \"SM_SW_84\"  \n",
      " [1] \"SM_SW_8\"    \"SM_SW_7\"    \"SM_SW_11\"   \"SM_SW_10\"   \"SM_SW_4\"   \n",
      " [6] \"SM_SW_1\"    \"SM_SW_2\"    \"SM_SW_5\"    \"SM_SW_25\"   \"SM_SW_9\"   \n",
      "[11] \"SM_SW_12\"   \"SM_SW_6\"    \"SM_SW_3\"    \"SM_SW_1133\" \"SM_SW_31\"  \n",
      "[16] \"SM_SW_80\"   \"SM_SW_85\"   \"SM_SW_87\"   \"SM_SW_90\"   \"SM_SW_84\"  \n",
      " [1] \"SM_SW_8\"    \"SM_SW_7\"    \"SM_SW_11\"   \"SM_SW_10\"   \"SM_SW_4\"   \n",
      " [6] \"SM_SW_1\"    \"SM_SW_2\"    \"SM_SW_5\"    \"SM_SW_25\"   \"SM_SW_9\"   \n",
      "[11] \"SM_SW_12\"   \"SM_SW_6\"    \"SM_SW_3\"    \"SM_SW_1133\" \"SM_SW_31\"  \n",
      "[16] \"SM_SW_80\"   \"SM_SW_85\"   \"SM_SW_87\"   \"SM_SW_90\"   \"SM_SW_84\"  \n",
      " [1] \"SM_SW_8\"    \"SM_SW_7\"    \"SM_SW_11\"   \"SM_SW_10\"   \"SM_SW_4\"   \n",
      " [6] \"SM_SW_1\"    \"SM_SW_2\"    \"SM_SW_5\"    \"SM_SW_25\"   \"SM_SW_9\"   \n",
      "[11] \"SM_SW_12\"   \"SM_SW_6\"    \"SM_SW_3\"    \"SM_SW_1133\" \"SM_SW_31\"  \n",
      "[16] \"SM_SW_80\"   \"SM_SW_85\"   \"SM_SW_87\"   \"SM_SW_90\"   \"SM_SW_84\"  \n",
      " [1] \"SM_SW_8\"    \"SM_SW_7\"    \"SM_SW_11\"   \"SM_SW_10\"   \"SM_SW_4\"   \n",
      " [6] \"SM_SW_1\"    \"SM_SW_2\"    \"SM_SW_5\"    \"SM_SW_25\"   \"SM_SW_9\"   \n",
      "[11] \"SM_SW_12\"   \"SM_SW_6\"    \"SM_SW_3\"    \"SM_SW_1133\" \"SM_SW_31\"  \n",
      "[16] \"SM_SW_80\"   \"SM_SW_85\"   \"SM_SW_87\"   \"SM_SW_90\"   \"SM_SW_84\"  \n",
      " [1] \"SM_SW_8\"    \"SM_SW_7\"    \"SM_SW_11\"   \"SM_SW_10\"   \"SM_SW_4\"   \n",
      " [6] \"SM_SW_1\"    \"SM_SW_2\"    \"SM_SW_5\"    \"SM_SW_25\"   \"SM_SW_9\"   \n",
      "[11] \"SM_SW_12\"   \"SM_SW_6\"    \"SM_SW_3\"    \"SM_SW_1133\" \"SM_SW_31\"  \n",
      "[16] \"SM_SW_80\"   \"SM_SW_85\"   \"SM_SW_87\"   \"SM_SW_90\"   \"SM_SW_84\"  \n",
      " [1] \"SM_SW_8\"    \"SM_SW_7\"    \"SM_SW_11\"   \"SM_SW_10\"   \"SM_SW_4\"   \n",
      " [6] \"SM_SW_1\"    \"SM_SW_2\"    \"SM_SW_5\"    \"SM_SW_25\"   \"SM_SW_9\"   \n",
      "[11] \"SM_SW_12\"   \"SM_SW_6\"    \"SM_SW_3\"    \"SM_SW_1133\" \"SM_SW_31\"  \n",
      "[16] \"SM_SW_80\"   \"SM_SW_85\"   \"SM_SW_87\"   \"SM_SW_90\"   \"SM_SW_84\"  \n",
      " [1] \"SM_SW_8\"    \"SM_SW_7\"    \"SM_SW_11\"   \"SM_SW_10\"   \"SM_SW_4\"   \n",
      " [6] \"SM_SW_1\"    \"SM_SW_2\"    \"SM_SW_5\"    \"SM_SW_25\"   \"SM_SW_9\"   \n",
      "[11] \"SM_SW_12\"   \"SM_SW_6\"    \"SM_SW_3\"    \"SM_SW_1133\" \"SM_SW_31\"  \n",
      "[16] \"SM_SW_80\"   \"SM_SW_85\"   \"SM_SW_87\"   \"SM_SW_90\"   \"SM_SW_84\"  \n",
      " [1] \"SM_SW_8\"    \"SM_SW_7\"    \"SM_SW_11\"   \"SM_SW_10\"   \"SM_SW_4\"   \n",
      " [6] \"SM_SW_1\"    \"SM_SW_2\"    \"SM_SW_5\"    \"SM_SW_25\"   \"SM_SW_9\"   \n",
      "[11] \"SM_SW_12\"   \"SM_SW_6\"    \"SM_SW_3\"    \"SM_SW_1133\" \"SM_SW_31\"  \n",
      "[16] \"SM_SW_80\"   \"SM_SW_85\"   \"SM_SW_87\"   \"SM_SW_90\"   \"SM_SW_84\"  \n",
      " [1] \"SM_SW_8\"    \"SM_SW_7\"    \"SM_SW_11\"   \"SM_SW_10\"   \"SM_SW_4\"   \n",
      " [6] \"SM_SW_1\"    \"SM_SW_2\"    \"SM_SW_5\"    \"SM_SW_25\"   \"SM_SW_9\"   \n",
      "[11] \"SM_SW_12\"   \"SM_SW_6\"    \"SM_SW_3\"    \"SM_SW_1133\" \"SM_SW_31\"  \n",
      "[16] \"SM_SW_80\"   \"SM_SW_85\"   \"SM_SW_87\"   \"SM_SW_90\"   \"SM_SW_84\"  \n",
      " [1] \"SM_SW_8\"    \"SM_SW_7\"    \"SM_SW_11\"   \"SM_SW_10\"   \"SM_SW_4\"   \n",
      " [6] \"SM_SW_1\"    \"SM_SW_2\"    \"SM_SW_5\"    \"SM_SW_25\"   \"SM_SW_9\"   \n",
      "[11] \"SM_SW_12\"   \"SM_SW_6\"    \"SM_SW_3\"    \"SM_SW_1133\" \"SM_SW_31\"  \n",
      "[16] \"SM_SW_80\"   \"SM_SW_85\"   \"SM_SW_87\"   \"SM_SW_90\"   \"SM_SW_84\"  \n",
      " [1] \"SM_SW_8\"    \"SM_SW_7\"    \"SM_SW_11\"   \"SM_SW_10\"   \"SM_SW_4\"   \n",
      " [6] \"SM_SW_1\"    \"SM_SW_2\"    \"SM_SW_5\"    \"SM_SW_25\"   \"SM_SW_9\"   \n",
      "[11] \"SM_SW_12\"   \"SM_SW_6\"    \"SM_SW_3\"    \"SM_SW_1133\" \"SM_SW_31\"  \n",
      "[16] \"SM_SW_80\"   \"SM_SW_85\"   \"SM_SW_87\"   \"SM_SW_90\"   \"SM_SW_84\"  \n",
      " [1] \"SM_SW_8\"    \"SM_SW_7\"    \"SM_SW_11\"   \"SM_SW_10\"   \"SM_SW_4\"   \n",
      " [6] \"SM_SW_1\"    \"SM_SW_2\"    \"SM_SW_5\"    \"SM_SW_25\"   \"SM_SW_9\"   \n",
      "[11] \"SM_SW_12\"   \"SM_SW_6\"    \"SM_SW_3\"    \"SM_SW_1133\" \"SM_SW_31\"  \n",
      "[16] \"SM_SW_80\"   \"SM_SW_85\"   \"SM_SW_87\"   \"SM_SW_90\"   \"SM_SW_84\"  \n",
      " [1] \"SM_SW_8\"    \"SM_SW_7\"    \"SM_SW_11\"   \"SM_SW_10\"   \"SM_SW_4\"   \n",
      " [6] \"SM_SW_1\"    \"SM_SW_2\"    \"SM_SW_5\"    \"SM_SW_25\"   \"SM_SW_9\"   \n",
      "[11] \"SM_SW_12\"   \"SM_SW_6\"    \"SM_SW_3\"    \"SM_SW_1133\" \"SM_SW_31\"  \n",
      "[16] \"SM_SW_80\"   \"SM_SW_85\"   \"SM_SW_87\"   \"SM_SW_90\"   \"SM_SW_84\"  \n",
      " [1] \"SM_SW_8\"    \"SM_SW_7\"    \"SM_SW_11\"   \"SM_SW_10\"   \"SM_SW_4\"   \n",
      " [6] \"SM_SW_1\"    \"SM_SW_2\"    \"SM_SW_5\"    \"SM_SW_25\"   \"SM_SW_9\"   \n",
      "[11] \"SM_SW_12\"   \"SM_SW_6\"    \"SM_SW_3\"    \"SM_SW_1133\" \"SM_SW_31\"  \n",
      "[16] \"SM_SW_80\"   \"SM_SW_85\"   \"SM_SW_87\"   \"SM_SW_90\"   \"SM_SW_84\"  \n",
      " [1] \"SM_SW_8\"    \"SM_SW_7\"    \"SM_SW_11\"   \"SM_SW_10\"   \"SM_SW_4\"   \n",
      " [6] \"SM_SW_1\"    \"SM_SW_2\"    \"SM_SW_5\"    \"SM_SW_25\"   \"SM_SW_9\"   \n",
      "[11] \"SM_SW_12\"   \"SM_SW_6\"    \"SM_SW_3\"    \"SM_SW_1133\" \"SM_SW_31\"  \n",
      "[16] \"SM_SW_80\"   \"SM_SW_85\"   \"SM_SW_87\"   \"SM_SW_90\"   \"SM_SW_84\"  \n",
      "[1] TRUE\n"
     ]
    }
   ],
   "source": [
    "# merge vcf unfiltered and F0 and F1 in case one wants it\n",
    "\n",
    "# double-check that sample names are in the same order across vcf.\n",
    "files=naturalsort(list.files(path=bam_dir, pattern=paste0(\"phased.vcf.gz$\"), full.names=TRUE))\n",
    "files\n",
    "\n",
    "for(f in files){\n",
    "    cmd=paste0(\"bcftools query -l \", f, \" > \",f,\".samples\")\n",
    "    execute_cmd_sbatch(cmd, mem=\"4gb\", cpu=\"1\", time=\"short\", env=env_mapping_etc, jobname=\"getSamples\",\n",
    "                              activateEnvScript=paste0(Barn_Mice_dir,\"activateEnv.sh\")) \n",
    "    Sys.sleep(1)\n",
    "    \n",
    "}\n",
    "Sys.sleep(5)\n",
    "while(slurm_check_jobs_still_running(columbia_username,\"getSamples\")){\n",
    "        Sys.sleep(60)\n",
    "    }\n",
    "\n",
    "\n",
    "samples=list()\n",
    "for(f in files){\n",
    "    samples[[f]]=readLines(paste0(f,\".samples\"))\n",
    "    print(samples[[f]])\n",
    "}\n",
    "\n",
    "are_all_vectors_identical <- all(sapply(samples[-1], identical, samples[[1]]))\n",
    "\n",
    "print(are_all_vectors_identical)\n",
    "\n",
    "if(!are_all_vectors_identical){\n",
    "    stop(\"Assumption of same samples / order in each vcf not met. Please fix.\")\n",
    "}\n",
    "\n",
    "\n",
    "\n"
   ]
  },
  {
   "cell_type": "code",
   "execution_count": 55,
   "id": "75c354e0-30d3-4c12-9657-55fe5680ec28",
   "metadata": {
    "tags": []
   },
   "outputs": [
    {
     "name": "stdout",
     "output_type": "stream",
     "text": [
      "[1] \"sbatch -c 4 --mem=8gb --job-name=MergeVCF2 -A ziab -t 11:59:00 --wrap '. ~/ColumbiaProjects/Barn_Mice/activateEnv.sh samtools-116; bcftools concat -Ob -o /moto/ziab/users/jr3950/data/genomes/tmp_founders/FoundersAndF1.unfiltered.bcf --threads 4 /moto/ziab/users/jr3950/data/genomes/tmp_founders/bam/Founders.chr1.vcf.gz.phased.vcf.gz /moto/ziab/users/jr3950/data/genomes/tmp_founders/bam/Founders.chr2.vcf.gz.phased.vcf.gz /moto/ziab/users/jr3950/data/genomes/tmp_founders/bam/Founders.chr3.vcf.gz.phased.vcf.gz /moto/ziab/users/jr3950/data/genomes/tmp_founders/bam/Founders.chr4.vcf.gz.phased.vcf.gz /moto/ziab/users/jr3950/data/genomes/tmp_founders/bam/Founders.chr5.vcf.gz.phased.vcf.gz /moto/ziab/users/jr3950/data/genomes/tmp_founders/bam/Founders.chr6.vcf.gz.phased.vcf.gz /moto/ziab/users/jr3950/data/genomes/tmp_founders/bam/Founders.chr7.vcf.gz.phased.vcf.gz /moto/ziab/users/jr3950/data/genomes/tmp_founders/bam/Founders.chr8.vcf.gz.phased.vcf.gz /moto/ziab/users/jr3950/data/genomes/tmp_founders/bam/Founders.chr9.vcf.gz.phased.vcf.gz /moto/ziab/users/jr3950/data/genomes/tmp_founders/bam/Founders.chr10.vcf.gz.phased.vcf.gz /moto/ziab/users/jr3950/data/genomes/tmp_founders/bam/Founders.chr11.vcf.gz.phased.vcf.gz /moto/ziab/users/jr3950/data/genomes/tmp_founders/bam/Founders.chr12.vcf.gz.phased.vcf.gz /moto/ziab/users/jr3950/data/genomes/tmp_founders/bam/Founders.chr13.vcf.gz.phased.vcf.gz /moto/ziab/users/jr3950/data/genomes/tmp_founders/bam/Founders.chr14.vcf.gz.phased.vcf.gz /moto/ziab/users/jr3950/data/genomes/tmp_founders/bam/Founders.chr15.vcf.gz.phased.vcf.gz /moto/ziab/users/jr3950/data/genomes/tmp_founders/bam/Founders.chr16.vcf.gz.phased.vcf.gz /moto/ziab/users/jr3950/data/genomes/tmp_founders/bam/Founders.chr17.vcf.gz.phased.vcf.gz /moto/ziab/users/jr3950/data/genomes/tmp_founders/bam/Founders.chr18.vcf.gz.phased.vcf.gz /moto/ziab/users/jr3950/data/genomes/tmp_founders/bam/Founders.chr19.vcf.gz.phased.vcf.gz'\"\n",
      "[1] \"Submitted batch job 13535399\"\n"
     ]
    }
   ],
   "source": [
    "cmd=paste0(\"bcftools concat -Ob -o \",folder_for_sequences,\"FoundersAndF1.unfiltered.bcf --threads 4 \",paste(files,collapse=\" \"))\n",
    "execute_cmd_sbatch(cmd, mem=\"8gb\", cpu=\"4\", time=\"short\", env=env_mapping_etc, jobname=\"MergeVCF2\",\n",
    "                              activateEnvScript=paste0(Barn_Mice_dir,\"activateEnv.sh\")) \n",
    "    Sys.sleep(5)\n",
    "    \n",
    "\n",
    "while(slurm_check_jobs_still_running(columbia_username,\"MergeVCF2\")){\n",
    "        Sys.sleep(60)\n",
    "    }\n"
   ]
  },
  {
   "cell_type": "code",
   "execution_count": 4,
   "id": "188c3d02-3efe-4127-8a4c-d1cc19f1ca04",
   "metadata": {
    "tags": []
   },
   "outputs": [
    {
     "name": "stdout",
     "output_type": "stream",
     "text": [
      "[1] \"sbatch -c 1 --mem=8gb --job-name=FinalFilter -A ziab -t 11:59:00 --wrap '. ~/ColumbiaProjects/Barn_Mice/activateEnv.sh samtools-116; cd /moto/ziab/users/jr3950/data/genomes/tmp_founders/ && sh -xe ~/ColumbiaProjects/Barn_Mice/01_Genotyping/01_Founders/05_FinalACFilter.sh'\"\n",
      "[1] \"Submitted batch job 13584214\"\n"
     ]
    }
   ],
   "source": [
    "cmd=paste0(\"cd \",folder_for_sequences,\" && sh -xe \", Barn_Mice_dir, \"01_Genotyping/01_Founders/05_FinalACFilter.sh\")\n",
    "execute_cmd_sbatch(cmd, mem=\"8gb\", cpu=\"1\", time=\"short\", env=env_mapping_etc, jobname=\"FinalFilter\",\n",
    "                              activateEnvScript=paste0(Barn_Mice_dir,\"activateEnv.sh\")) \n",
    "    Sys.sleep(5)\n",
    "    \n",
    "\n",
    "while(slurm_check_jobs_still_running(columbia_username,\"FinalFilter\")){\n",
    "        Sys.sleep(60)\n",
    "    }\n"
   ]
  }
 ],
 "metadata": {
  "kernelspec": {
   "display_name": "R",
   "language": "R",
   "name": "ir"
  },
  "language_info": {
   "codemirror_mode": "r",
   "file_extension": ".r",
   "mimetype": "text/x-r-source",
   "name": "R",
   "pygments_lexer": "r",
   "version": "4.2.3"
  }
 },
 "nbformat": 4,
 "nbformat_minor": 5
}
