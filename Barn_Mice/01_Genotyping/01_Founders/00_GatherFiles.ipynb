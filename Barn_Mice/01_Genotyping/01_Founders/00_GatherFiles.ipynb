{
 "cells": [
  {
   "cell_type": "markdown",
   "metadata": {},
   "source": [
    "This will gather **ALL** founder sequence files based on <REDACTED> to a folder specified by you which will then be used for the other scripts, too."
   ]
  },
  {
   "cell_type": "markdown",
   "metadata": {},
   "source": [
    "You need a authenticated access to the spreadsheet from within the Jupyter session. It needs to open the browser, so I recommend getting the auth file on your local machine and copying it to the server.\n",
    "\n",
    "do this locally with your email\n",
    "````r\n",
    "library(\"googlesheets4\")\n",
    "gs4_auth(email = \"USER@REDACTED\",cache=\"~/gcache\")\n",
    "````\n",
    "then copy `~/gcache` (a folder) to the the server and proceed with your account below.\n",
    "\n",
    "To effortlessly get the data from engram, you also need to enable a key-based authentification so that no password is needed to move files from engram to the cluster\n",
    "\n",
    "````bash\n",
    "\n",
    "# password-free key (should still be as save as the file is only on the password-protected cluster)\n",
    "ssh-keygen -t rsa -P \"\" -f ~/.ssh/REDACTED\n",
    "ssh-copy-id -i ~/.ssh/REDACTED USER@REDACTED\n",
    "\n",
    "# now this should work w/o password\n",
    "ssh -o \"IdentitiesOnly=yes\" -i ~/.ssh/engram USER@REDACTED\n",
    "\n",
    "````"
   ]
  },
  {
   "cell_type": "code",
   "execution_count": 1,
   "metadata": {},
   "outputs": [
    {
     "name": "stderr",
     "output_type": "stream",
     "text": [
      "\u001b[32mv\u001b[39m Reading from \u001b[36mStatus of mouse sequencing\u001b[39m.\n",
      "\n",
      "\u001b[32mv\u001b[39m Range '\u001b[33m'All founder files'\u001b[39m'.\n",
      "\n",
      "\n",
      "Attaching package: 'dplyr'\n",
      "\n",
      "\n",
      "The following objects are masked from 'package:stats':\n",
      "\n",
      "    filter, lag\n",
      "\n",
      "\n",
      "The following objects are masked from 'package:base':\n",
      "\n",
      "    intersect, setdiff, setequal, union\n",
      "\n",
      "\n",
      "\n",
      "Attaching package: 'data.table'\n",
      "\n",
      "\n",
      "The following objects are masked from 'package:dplyr':\n",
      "\n",
      "    between, first, last\n",
      "\n",
      "\n",
      "Warning: tidytable was loaded after dplyr.\n",
      "This can lead to most dplyr functions being overwritten by tidytable functions.\n",
      "\n",
      "Warning: tidytable was loaded after tidyr.\n",
      "This can lead to most tidyr functions being overwritten by tidytable functions.\n",
      "\n",
      "\n",
      "Attaching package: 'tidytable'\n",
      "\n",
      "\n",
      "The following objects are masked from 'package:data.table':\n",
      "\n",
      "    between, first, fread, last\n",
      "\n",
      "\n",
      "The following objects are masked from 'package:tidyr':\n",
      "\n",
      "    complete, crossing, drop_na, expand, expand_grid, extract, fill,\n",
      "    nest, nesting, pivot_longer, pivot_wider, replace_na, separate,\n",
      "    separate_longer_delim, separate_rows, separate_wider_delim,\n",
      "    separate_wider_regex, tribble, uncount, unite, unnest,\n",
      "    unnest_longer, unnest_wider\n",
      "\n",
      "\n",
      "The following objects are masked from 'package:dplyr':\n",
      "\n",
      "    across, add_count, add_tally, anti_join, arrange, between,\n",
      "    bind_cols, bind_rows, c_across, case_match, case_when, coalesce,\n",
      "    consecutive_id, count, cross_join, cume_dist, cur_column, cur_data,\n",
      "    cur_group_id, cur_group_rows, dense_rank, desc, distinct, filter,\n",
      "    first, full_join, group_by, group_cols, group_split, group_vars,\n",
      "    if_all, if_any, if_else, inner_join, is_grouped_df, lag, last,\n",
      "    lead, left_join, min_rank, mutate, n, n_distinct, na_if, nest_by,\n",
      "    nest_join, nth, percent_rank, pick, pull, recode, relocate, rename,\n",
      "    rename_with, right_join, row_number, rowwise, select, semi_join,\n",
      "    slice, slice_head, slice_max, slice_min, slice_sample, slice_tail,\n",
      "    summarise, summarize, tally, top_n, transmute, tribble, ungroup\n",
      "\n",
      "\n",
      "The following objects are masked from 'package:stats':\n",
      "\n",
      "    dt, filter, lag\n",
      "\n",
      "\n",
      "The following object is masked from 'package:base':\n",
      "\n",
      "    %in%\n",
      "\n",
      "\n"
     ]
    }
   ],
   "source": [
    "# set important data in the config file first!\n",
    "source(\"config.R\")\n",
    "source(\"../../extra-R-functions.R\")\n",
    "# this user needs to have access to engram and google sheet 'REDACTED'"
   ]
  },
  {
   "cell_type": "code",
   "execution_count": 2,
   "metadata": {},
   "outputs": [],
   "source": [
    "# unifying whether folders end with \"/\"\n",
    "files_df$Engram_folder[!endsWith(files_df$Engram_folder, \"/\")]=paste0(files_df$Engram_folder[!endsWith(files_df$Engram_folder, \"/\")], \"/\")"
   ]
  },
  {
   "cell_type": "code",
   "execution_count": 3,
   "metadata": {},
   "outputs": [
    {
     "data": {
      "text/html": [
       "<table class=\"dataframe\">\n",
       "<caption>A tibble: 6 x 4</caption>\n",
       "<thead>\n",
       "\t<tr><th scope=col>File1</th><th scope=col>File2</th><th scope=col>ID</th><th scope=col>Engram_folder</th></tr>\n",
       "\t<tr><th scope=col>&lt;chr&gt;</th><th scope=col>&lt;chr&gt;</th><th scope=col>&lt;chr&gt;</th><th scope=col>&lt;chr&gt;</th></tr>\n",
       "</thead>\n",
       "<tbody>\n",
       "\t<tr><td>F1_fwd_paired.fq.gz</td><td>F1_rev_paired.fq.gz</td><td>SW_1</td><td>/home/jr3950/mnt/sequencing_data/201810xx/Founders-99592493/trimmed/</td></tr>\n",
       "\t<tr><td>F2_fwd_paired.fq.gz</td><td>F2_rev_paired.fq.gz</td><td>SW_2</td><td>/home/jr3950/mnt/sequencing_data/201810xx/Founders-99592493/trimmed/</td></tr>\n",
       "\t<tr><td>F3_fwd_paired.fq.gz</td><td>F3_rev_paired.fq.gz</td><td>SW_3</td><td>/home/jr3950/mnt/sequencing_data/201810xx/Founders-99592493/trimmed/</td></tr>\n",
       "\t<tr><td>F4_fwd_paired.fq.gz</td><td>F4_rev_paired.fq.gz</td><td>SW_4</td><td>/home/jr3950/mnt/sequencing_data/201810xx/Founders-99592493/trimmed/</td></tr>\n",
       "\t<tr><td>F5_fwd_paired.fq.gz</td><td>F5_rev_paired.fq.gz</td><td>SW_5</td><td>/home/jr3950/mnt/sequencing_data/201810xx/Founders-99592493/trimmed/</td></tr>\n",
       "\t<tr><td>F6_fwd_paired.fq.gz</td><td>F6_rev_paired.fq.gz</td><td>SW_6</td><td>/home/jr3950/mnt/sequencing_data/201810xx/Founders-99592493/trimmed/</td></tr>\n",
       "</tbody>\n",
       "</table>\n"
      ],
      "text/latex": [
       "A tibble: 6 x 4\n",
       "\\begin{tabular}{llll}\n",
       " File1 & File2 & ID & Engram\\_folder\\\\\n",
       " <chr> & <chr> & <chr> & <chr>\\\\\n",
       "\\hline\n",
       "\t F1\\_fwd\\_paired.fq.gz & F1\\_rev\\_paired.fq.gz & SW\\_1 & /home/jr3950/mnt/sequencing\\_data/201810xx/Founders-99592493/trimmed/\\\\\n",
       "\t F2\\_fwd\\_paired.fq.gz & F2\\_rev\\_paired.fq.gz & SW\\_2 & /home/jr3950/mnt/sequencing\\_data/201810xx/Founders-99592493/trimmed/\\\\\n",
       "\t F3\\_fwd\\_paired.fq.gz & F3\\_rev\\_paired.fq.gz & SW\\_3 & /home/jr3950/mnt/sequencing\\_data/201810xx/Founders-99592493/trimmed/\\\\\n",
       "\t F4\\_fwd\\_paired.fq.gz & F4\\_rev\\_paired.fq.gz & SW\\_4 & /home/jr3950/mnt/sequencing\\_data/201810xx/Founders-99592493/trimmed/\\\\\n",
       "\t F5\\_fwd\\_paired.fq.gz & F5\\_rev\\_paired.fq.gz & SW\\_5 & /home/jr3950/mnt/sequencing\\_data/201810xx/Founders-99592493/trimmed/\\\\\n",
       "\t F6\\_fwd\\_paired.fq.gz & F6\\_rev\\_paired.fq.gz & SW\\_6 & /home/jr3950/mnt/sequencing\\_data/201810xx/Founders-99592493/trimmed/\\\\\n",
       "\\end{tabular}\n"
      ],
      "text/markdown": [
       "\n",
       "A tibble: 6 x 4\n",
       "\n",
       "| File1 &lt;chr&gt; | File2 &lt;chr&gt; | ID &lt;chr&gt; | Engram_folder &lt;chr&gt; |\n",
       "|---|---|---|---|\n",
       "| F1_fwd_paired.fq.gz | F1_rev_paired.fq.gz | SW_1 | /home/jr3950/mnt/sequencing_data/201810xx/Founders-99592493/trimmed/ |\n",
       "| F2_fwd_paired.fq.gz | F2_rev_paired.fq.gz | SW_2 | /home/jr3950/mnt/sequencing_data/201810xx/Founders-99592493/trimmed/ |\n",
       "| F3_fwd_paired.fq.gz | F3_rev_paired.fq.gz | SW_3 | /home/jr3950/mnt/sequencing_data/201810xx/Founders-99592493/trimmed/ |\n",
       "| F4_fwd_paired.fq.gz | F4_rev_paired.fq.gz | SW_4 | /home/jr3950/mnt/sequencing_data/201810xx/Founders-99592493/trimmed/ |\n",
       "| F5_fwd_paired.fq.gz | F5_rev_paired.fq.gz | SW_5 | /home/jr3950/mnt/sequencing_data/201810xx/Founders-99592493/trimmed/ |\n",
       "| F6_fwd_paired.fq.gz | F6_rev_paired.fq.gz | SW_6 | /home/jr3950/mnt/sequencing_data/201810xx/Founders-99592493/trimmed/ |\n",
       "\n"
      ],
      "text/plain": [
       "  File1               File2               ID  \n",
       "1 F1_fwd_paired.fq.gz F1_rev_paired.fq.gz SW_1\n",
       "2 F2_fwd_paired.fq.gz F2_rev_paired.fq.gz SW_2\n",
       "3 F3_fwd_paired.fq.gz F3_rev_paired.fq.gz SW_3\n",
       "4 F4_fwd_paired.fq.gz F4_rev_paired.fq.gz SW_4\n",
       "5 F5_fwd_paired.fq.gz F5_rev_paired.fq.gz SW_5\n",
       "6 F6_fwd_paired.fq.gz F6_rev_paired.fq.gz SW_6\n",
       "  Engram_folder                                                       \n",
       "1 /home/jr3950/mnt/sequencing_data/201810xx/Founders-99592493/trimmed/\n",
       "2 /home/jr3950/mnt/sequencing_data/201810xx/Founders-99592493/trimmed/\n",
       "3 /home/jr3950/mnt/sequencing_data/201810xx/Founders-99592493/trimmed/\n",
       "4 /home/jr3950/mnt/sequencing_data/201810xx/Founders-99592493/trimmed/\n",
       "5 /home/jr3950/mnt/sequencing_data/201810xx/Founders-99592493/trimmed/\n",
       "6 /home/jr3950/mnt/sequencing_data/201810xx/Founders-99592493/trimmed/"
      ]
     },
     "metadata": {},
     "output_type": "display_data"
    }
   ],
   "source": [
    "head(files_df)"
   ]
  },
  {
   "cell_type": "code",
   "execution_count": 4,
   "metadata": {},
   "outputs": [],
   "source": [
    "if(!dir.exists(folder_for_sequences)){\n",
    "    dir.create(folder_for_sequences)\n",
    "}"
   ]
  },
  {
   "cell_type": "code",
   "execution_count": 5,
   "metadata": {},
   "outputs": [
    {
     "name": "stdout",
     "output_type": "stream",
     "text": [
      "[1] \"missing /moto/ziab/users/jr3950/data/genomes/tmp_founders/bam/SW_4.2.bam\"\n",
      "[1] \"missing /moto/ziab/users/jr3950/data/genomes/tmp_founders/bam/SW_31.1.bam\"\n",
      "[1] \"missing /moto/ziab/users/jr3950/data/genomes/tmp_founders/bam/SW_85.1.bam\"\n",
      "[1] \"missing /moto/ziab/users/jr3950/data/genomes/tmp_founders/bam/SW_87.1.bam\"\n",
      "[1] \"missing /moto/ziab/users/jr3950/data/genomes/tmp_founders/bam/SW_1133.6.bam\"\n"
     ]
    }
   ],
   "source": [
    "# lets check if maybe the trimmed version or final bam is already there!\n",
    "# so that it is easy to add data / fix issues like I am doing right now...\n",
    "files_df$skip=FALSE\n",
    "for(i in 1:nrow(files_df)){\n",
    "    ID=files_df$ID[i]\n",
    "    ID_subset=files_df[files_df$ID==ID,]\n",
    "    nthSequenceOfID=which(ID_subset$File1==files_df$File1[i])\n",
    "    final_bam=paste0(bam_dir,\"/\",ID,\".\",nthSequenceOfID,\".bam\")\n",
    "    trimmed_files_expected_1=paste0(trim_dir,\"/\",str_replace(str_replace(basename(files_df$File1[i]),fixed(\".fq.gz\"),\n",
    "                                                \"\"),fixed(\".fastq.gz\"),\"\"),\"_val_1.fq.gz\")\n",
    "    trimmed_files_expected_2=paste0(trim_dir,\"/\",str_replace(str_replace(basename(files_df$File2[i]),fixed(\".fq.gz\"),\n",
    "                                                \"\"),fixed(\".fastq.gz\"),\"\"),\"_val_2.fq.gz\")\n",
    "    if(file.exists(final_bam) | (file.exists(trimmed_files_expected_1)&file.exists(trimmed_files_expected_2))){\n",
    "        files_df$skip[i]=TRUE\n",
    "        \n",
    "    }else{\n",
    "        print(paste(\"missing\",final_bam))\n",
    "    }\n",
    "}"
   ]
  },
  {
   "cell_type": "code",
   "execution_count": 6,
   "metadata": {},
   "outputs": [
    {
     "data": {
      "text/html": [
       "<table class=\"dataframe\">\n",
       "<caption>A tibble: 5 x 5</caption>\n",
       "<thead>\n",
       "\t<tr><th scope=col>File1</th><th scope=col>File2</th><th scope=col>ID</th><th scope=col>Engram_folder</th><th scope=col>skip</th></tr>\n",
       "\t<tr><th scope=col>&lt;chr&gt;</th><th scope=col>&lt;chr&gt;</th><th scope=col>&lt;chr&gt;</th><th scope=col>&lt;chr&gt;</th><th scope=col>&lt;lgl&gt;</th></tr>\n",
       "</thead>\n",
       "<tbody>\n",
       "\t<tr><td>18163FL-02-01-01_S1_L006_R1_001.fastq.gz</td><td>18163FL-02-01-01_S1_L006_R2_001.fastq.gz</td><td>SW_4   </td><td>/home/jr3950/mnt/sequencing_data/20190124/18163-02/</td><td>FALSE</td></tr>\n",
       "\t<tr><td>18163FL-02-01-04_S4_L006_R1_001.fastq.gz</td><td>18163FL-02-01-04_S4_L006_R2_001.fastq.gz</td><td>SW_31  </td><td>/home/jr3950/mnt/sequencing_data/20190124/18163-02/</td><td>FALSE</td></tr>\n",
       "\t<tr><td>18163FL-02-01-06_S6_L006_R1_001.fastq.gz</td><td>18163FL-02-01-06_S6_L006_R2_001.fastq.gz</td><td>SW_85  </td><td>/home/jr3950/mnt/sequencing_data/20190124/18163-02/</td><td>FALSE</td></tr>\n",
       "\t<tr><td>18163FL-02-01-07_S7_L006_R1_001.fastq.gz</td><td>18163FL-02-01-07_S7_L006_R2_001.fastq.gz</td><td>SW_87  </td><td>/home/jr3950/mnt/sequencing_data/20190124/18163-02/</td><td>FALSE</td></tr>\n",
       "\t<tr><td>18163FL-08-01-02_S2_R1_001.fastq.gz     </td><td>18163FL-08-01-02_S2_R2_001.fastq.gz     </td><td>SW_1133</td><td>/home/jr3950/mnt/sequencing_data/20191118/18163-08/</td><td>FALSE</td></tr>\n",
       "</tbody>\n",
       "</table>\n"
      ],
      "text/latex": [
       "A tibble: 5 x 5\n",
       "\\begin{tabular}{lllll}\n",
       " File1 & File2 & ID & Engram\\_folder & skip\\\\\n",
       " <chr> & <chr> & <chr> & <chr> & <lgl>\\\\\n",
       "\\hline\n",
       "\t 18163FL-02-01-01\\_S1\\_L006\\_R1\\_001.fastq.gz & 18163FL-02-01-01\\_S1\\_L006\\_R2\\_001.fastq.gz & SW\\_4    & /home/jr3950/mnt/sequencing\\_data/20190124/18163-02/ & FALSE\\\\\n",
       "\t 18163FL-02-01-04\\_S4\\_L006\\_R1\\_001.fastq.gz & 18163FL-02-01-04\\_S4\\_L006\\_R2\\_001.fastq.gz & SW\\_31   & /home/jr3950/mnt/sequencing\\_data/20190124/18163-02/ & FALSE\\\\\n",
       "\t 18163FL-02-01-06\\_S6\\_L006\\_R1\\_001.fastq.gz & 18163FL-02-01-06\\_S6\\_L006\\_R2\\_001.fastq.gz & SW\\_85   & /home/jr3950/mnt/sequencing\\_data/20190124/18163-02/ & FALSE\\\\\n",
       "\t 18163FL-02-01-07\\_S7\\_L006\\_R1\\_001.fastq.gz & 18163FL-02-01-07\\_S7\\_L006\\_R2\\_001.fastq.gz & SW\\_87   & /home/jr3950/mnt/sequencing\\_data/20190124/18163-02/ & FALSE\\\\\n",
       "\t 18163FL-08-01-02\\_S2\\_R1\\_001.fastq.gz      & 18163FL-08-01-02\\_S2\\_R2\\_001.fastq.gz      & SW\\_1133 & /home/jr3950/mnt/sequencing\\_data/20191118/18163-08/ & FALSE\\\\\n",
       "\\end{tabular}\n"
      ],
      "text/markdown": [
       "\n",
       "A tibble: 5 x 5\n",
       "\n",
       "| File1 &lt;chr&gt; | File2 &lt;chr&gt; | ID &lt;chr&gt; | Engram_folder &lt;chr&gt; | skip &lt;lgl&gt; |\n",
       "|---|---|---|---|---|\n",
       "| 18163FL-02-01-01_S1_L006_R1_001.fastq.gz | 18163FL-02-01-01_S1_L006_R2_001.fastq.gz | SW_4    | /home/jr3950/mnt/sequencing_data/20190124/18163-02/ | FALSE |\n",
       "| 18163FL-02-01-04_S4_L006_R1_001.fastq.gz | 18163FL-02-01-04_S4_L006_R2_001.fastq.gz | SW_31   | /home/jr3950/mnt/sequencing_data/20190124/18163-02/ | FALSE |\n",
       "| 18163FL-02-01-06_S6_L006_R1_001.fastq.gz | 18163FL-02-01-06_S6_L006_R2_001.fastq.gz | SW_85   | /home/jr3950/mnt/sequencing_data/20190124/18163-02/ | FALSE |\n",
       "| 18163FL-02-01-07_S7_L006_R1_001.fastq.gz | 18163FL-02-01-07_S7_L006_R2_001.fastq.gz | SW_87   | /home/jr3950/mnt/sequencing_data/20190124/18163-02/ | FALSE |\n",
       "| 18163FL-08-01-02_S2_R1_001.fastq.gz      | 18163FL-08-01-02_S2_R2_001.fastq.gz      | SW_1133 | /home/jr3950/mnt/sequencing_data/20191118/18163-08/ | FALSE |\n",
       "\n"
      ],
      "text/plain": [
       "  File1                                   \n",
       "1 18163FL-02-01-01_S1_L006_R1_001.fastq.gz\n",
       "2 18163FL-02-01-04_S4_L006_R1_001.fastq.gz\n",
       "3 18163FL-02-01-06_S6_L006_R1_001.fastq.gz\n",
       "4 18163FL-02-01-07_S7_L006_R1_001.fastq.gz\n",
       "5 18163FL-08-01-02_S2_R1_001.fastq.gz     \n",
       "  File2                                    ID     \n",
       "1 18163FL-02-01-01_S1_L006_R2_001.fastq.gz SW_4   \n",
       "2 18163FL-02-01-04_S4_L006_R2_001.fastq.gz SW_31  \n",
       "3 18163FL-02-01-06_S6_L006_R2_001.fastq.gz SW_85  \n",
       "4 18163FL-02-01-07_S7_L006_R2_001.fastq.gz SW_87  \n",
       "5 18163FL-08-01-02_S2_R2_001.fastq.gz      SW_1133\n",
       "  Engram_folder                                       skip \n",
       "1 /home/jr3950/mnt/sequencing_data/20190124/18163-02/ FALSE\n",
       "2 /home/jr3950/mnt/sequencing_data/20190124/18163-02/ FALSE\n",
       "3 /home/jr3950/mnt/sequencing_data/20190124/18163-02/ FALSE\n",
       "4 /home/jr3950/mnt/sequencing_data/20190124/18163-02/ FALSE\n",
       "5 /home/jr3950/mnt/sequencing_data/20191118/18163-08/ FALSE"
      ]
     },
     "metadata": {},
     "output_type": "display_data"
    }
   ],
   "source": [
    "files_df[files_df$skip==FALSE,]"
   ]
  },
  {
   "cell_type": "code",
   "execution_count": 7,
   "metadata": {
    "tags": []
   },
   "outputs": [
    {
     "data": {
      "text/html": [
       "5"
      ],
      "text/latex": [
       "5"
      ],
      "text/markdown": [
       "5"
      ],
      "text/plain": [
       "[1] 5"
      ]
     },
     "metadata": {},
     "output_type": "display_data"
    }
   ],
   "source": [
    "if(sum(files_df$skip==FALSE)==0){\n",
    "    stop(\"nothing to do\")\n",
    "    }"
   ]
  },
  {
   "cell_type": "code",
   "execution_count": 8,
   "metadata": {},
   "outputs": [
    {
     "name": "stdout",
     "output_type": "stream",
     "text": [
      "[1] \"receiving incremental file list\"                   \n",
      "[2] \"\"                                                  \n",
      "[3] \"sent 11 bytes  received 88 bytes  198.00 bytes/sec\"\n",
      "[4] \"total size is 4.04G  speedup is 40,774,271.39\"     \n",
      "[1] \"receiving incremental file list\"                  \n",
      "[2] \"\"                                                 \n",
      "[3] \"sent 11 bytes  received 88 bytes  66.00 bytes/sec\"\n",
      "[4] \"total size is 4.33G  speedup is 43,705,792.26\"    \n",
      "[1] \"receiving incremental file list\"                   \n",
      "[2] \"\"                                                  \n",
      "[3] \"sent 11 bytes  received 88 bytes  198.00 bytes/sec\"\n",
      "[4] \"total size is 4.44G  speedup is 44,803,048.62\"     \n",
      "[1] \"receiving incremental file list\"                  \n",
      "[2] \"\"                                                 \n",
      "[3] \"sent 11 bytes  received 88 bytes  66.00 bytes/sec\"\n",
      "[4] \"total size is 4.82G  speedup is 48,650,067.24\"    \n",
      "[1] \"receiving incremental file list\"                   \n",
      "[2] \"\"                                                  \n",
      "[3] \"sent 11 bytes  received 88 bytes  198.00 bytes/sec\"\n",
      "[4] \"total size is 3.71G  speedup is 37,518,673.90\"     \n",
      "[1] \"receiving incremental file list\"                   \n",
      "[2] \"\"                                                  \n",
      "[3] \"sent 11 bytes  received 88 bytes  198.00 bytes/sec\"\n",
      "[4] \"total size is 4.00G  speedup is 40,393,041.46\"     \n",
      "[1] \"receiving incremental file list\"                  \n",
      "[2] \"\"                                                 \n",
      "[3] \"sent 11 bytes  received 88 bytes  66.00 bytes/sec\"\n",
      "[4] \"total size is 4.43G  speedup is 44,796,195.57\"    \n",
      "[1] \"receiving incremental file list\"                   \n",
      "[2] \"\"                                                  \n",
      "[3] \"sent 11 bytes  received 88 bytes  198.00 bytes/sec\"\n",
      "[4] \"total size is 4.81G  speedup is 48,612,797.10\"     \n",
      "[1] \"receiving incremental file list\"                   \n",
      "[2] \"\"                                                  \n",
      "[3] \"sent 11 bytes  received 82 bytes  186.00 bytes/sec\"\n",
      "[4] \"total size is 1.07G  speedup is 11,480,411.15\"     \n",
      "[1] \"receiving incremental file list\"                  \n",
      "[2] \"\"                                                 \n",
      "[3] \"sent 11 bytes  received 82 bytes  62.00 bytes/sec\"\n",
      "[4] \"total size is 1.03G  speedup is 11,101,463.96\"    \n"
     ]
    }
   ],
   "source": [
    "for(i in which(files_df$skip==FALSE)){\n",
    "    cmd=paste0(\"rsync -avzPhe \\\"ssh -o 'IdentitiesOnly=yes' -i /moto/home/\",columbia_username,\"/.ssh/engram\\\" \",columbia_username,\"@engram-xfer-01.rc.zi.columbia.edu:\",files_df$Engram_folder[i],files_df$File1[i],\" \",folder_for_sequences)\n",
    "    print(system(command=cmd, intern=TRUE))\n",
    "    cmd=paste0(\"rsync -avzPhe \\\"ssh -o 'IdentitiesOnly=yes' -i /moto/home/\",columbia_username,\"/.ssh/engram\\\" \",columbia_username,\"@engram-xfer-01.rc.zi.columbia.edu:\",files_df$Engram_folder[i],files_df$File2[i],\" \",folder_for_sequences)\n",
    "    print(system(command=cmd, intern=TRUE))\n",
    "}"
   ]
  }
 ],
 "metadata": {
  "kernelspec": {
   "display_name": "R",
   "language": "R",
   "name": "ir"
  },
  "language_info": {
   "codemirror_mode": "r",
   "file_extension": ".r",
   "mimetype": "text/x-r-source",
   "name": "R",
   "pygments_lexer": "r",
   "version": "4.2.3"
  }
 },
 "nbformat": 4,
 "nbformat_minor": 4
}
