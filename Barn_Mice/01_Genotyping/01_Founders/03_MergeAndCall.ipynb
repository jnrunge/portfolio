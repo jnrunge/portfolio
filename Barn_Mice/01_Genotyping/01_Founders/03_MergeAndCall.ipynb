{
 "cells": [
  {
   "cell_type": "markdown",
   "metadata": {},
   "source": [
    "Here we go from individual bams to chr-separated VCFs with all samples in each VCF (WhatsHap needs separation by chr, so we merge later)\n",
    "\n",
    "*Note* \n",
    "This expects the ref file to bei faidx-indexed and the chromosome names to begin with \"NC\", the order of which determines then autosomes, x, y, mt as is the case in `GCF_000001635.26_GRCm38.p6_genomic.fna`"
   ]
  },
  {
   "cell_type": "code",
   "execution_count": 1,
   "metadata": {},
   "outputs": [
    {
     "name": "stderr",
     "output_type": "stream",
     "text": [
      "\u001b[32mv\u001b[39m Reading from \u001b[36mStatus of mouse sequencing\u001b[39m.\n",
      "\n",
      "\u001b[32mv\u001b[39m Range '\u001b[33m'All founder files'\u001b[39m'.\n",
      "\n",
      "\n",
      "Attaching package: 'tidytable'\n",
      "\n",
      "\n",
      "The following objects are masked from 'package:stats':\n",
      "\n",
      "    dt, filter, lag\n",
      "\n",
      "\n",
      "The following object is masked from 'package:base':\n",
      "\n",
      "    %in%\n",
      "\n",
      "\n"
     ]
    }
   ],
   "source": [
    "# set important data in the config file first!\n",
    "source(\"config.R\")\n",
    "source(\"../../extra-R-functions.R\")"
   ]
  },
  {
   "cell_type": "code",
   "execution_count": 2,
   "metadata": {},
   "outputs": [],
   "source": [
    "library(naturalsort)"
   ]
  },
  {
   "cell_type": "code",
   "execution_count": 3,
   "metadata": {},
   "outputs": [
    {
     "data": {
      "text/html": [],
      "text/latex": [],
      "text/markdown": [],
      "text/plain": [
       "character(0)"
      ]
     },
     "metadata": {},
     "output_type": "display_data"
    }
   ],
   "source": [
    "files=list.files(path = bam_dir, pattern=\"[0-9].bam$\", full.names = TRUE)\n",
    "\n",
    "files"
   ]
  },
  {
   "cell_type": "code",
   "execution_count": 4,
   "metadata": {},
   "outputs": [],
   "source": [
    "jobname=\"samtools_merge\"\n"
   ]
  },
  {
   "cell_type": "code",
   "execution_count": 5,
   "metadata": {},
   "outputs": [
    {
     "name": "stdout",
     "output_type": "stream",
     "text": [
      "[1] \"SW_1 MISSING FILES\"\n",
      "[1] \"SW_10 MISSING FILES\"\n",
      "[1] \"SW_11 MISSING FILES\"\n",
      "[1] \"SW_1133 MISSING FILES\"\n",
      "[1] \"SW_1140 MISSING FILES\"\n",
      "[1] \"SW_12 MISSING FILES\"\n",
      "[1] \"SW_2 MISSING FILES\"\n",
      "[1] \"SW_25 MISSING FILES\"\n",
      "[1] \"SW_3 MISSING FILES\"\n",
      "[1] \"SW_31 MISSING FILES\"\n",
      "[1] \"SW_4 MISSING FILES\"\n",
      "[1] \"SW_5 MISSING FILES\"\n",
      "[1] \"SW_6 MISSING FILES\"\n",
      "[1] \"SW_7 MISSING FILES\"\n",
      "[1] \"SW_8 MISSING FILES\"\n",
      "[1] \"SW_80 MISSING FILES\"\n",
      "[1] \"SW_84 MISSING FILES\"\n",
      "[1] \"SW_85 MISSING FILES\"\n",
      "[1] \"SW_87 MISSING FILES\"\n",
      "[1] \"SW_9 MISSING FILES\"\n",
      "[1] \"SW_90 MISSING FILES\"\n"
     ]
    }
   ],
   "source": [
    "indivs=as.data.frame(table(files_df$ID))\n",
    "for(i in 1:nrow(indivs)){\n",
    "    #check if all bams that should exist do exist\n",
    "    filenames=paste0(indivs$Var1[i],\".\",1:indivs$Freq[i],\".bam\")\n",
    "\n",
    "    if(sum(!(filenames%in%basename(files)))==0){\n",
    "        print(paste(indivs$Var1[i],\"files completely present\"))\n",
    "        if(file.exists(paste0(bam_dir,\"/\",indivs$Var1[i],\n",
    "                   \".merged.bam\"))){\n",
    "            print(paste(indivs$Var1[i],\"already merged, but files still exist? skipping...\"))\n",
    "        }\n",
    "        cmd=paste0(\"cd \",bam_dir, \" && samtools merge -cf -o \",indivs$Var1[i],\n",
    "                   \".merged.bam \",paste(filenames, collapse = \" \"))\n",
    "        cmd=paste0(cmd,\" && \",\n",
    "                  \"samtools index \",indivs$Var1[i],\n",
    "                   \".merged.bam && \",\n",
    "                  paste(paste0(\"touch \",filenames,\".merged\"), collapse = \" && \"),\n",
    "                   \" && \",\n",
    "                  \"rm -f \",paste(filenames, collapse = \" \"))\n",
    "        #print(cmd)\n",
    "        execute_cmd_sbatch(cmd, mem=\"16gb\", cpu=\"1\", time=\"short\", env=env_mapping_etc, jobname=jobname,\n",
    "                          activateEnvScript=paste0(Barn_Mice_dir,\"activateEnv.sh\")) \n",
    "        Sys.sleep(1)\n",
    "    }else{\n",
    "        print(paste(indivs$Var1[i],\"MISSING FILES\"))\n",
    "        }\n",
    "}"
   ]
  },
  {
   "cell_type": "code",
   "execution_count": 6,
   "metadata": {},
   "outputs": [],
   "source": [
    "while(slurm_check_jobs_still_running(columbia_username,jobname)){\n",
    "    Sys.sleep(60)\n",
    "}"
   ]
  },
  {
   "cell_type": "code",
   "execution_count": 7,
   "metadata": {},
   "outputs": [],
   "source": [
    "files=list.files(path = bam_dir, pattern=\"merged.bam$\", full.names = TRUE)\n",
    "# this individual is not needed\n",
    "if(paste0(bam_dir,\"/\",\"SW_1140.merged.bam\") %in% files){\n",
    "    file.remove(paste0(bam_dir,\"/\",\"SW_1140.merged.bam\"))\n",
    "    files=list.files(path = bam_dir, pattern=\"merged.bam$\", full.names = TRUE)\n",
    "}"
   ]
  },
  {
   "cell_type": "code",
   "execution_count": 8,
   "metadata": {
    "tags": []
   },
   "outputs": [
    {
     "data": {
      "text/html": [
       "<style>\n",
       ".list-inline {list-style: none; margin:0; padding: 0}\n",
       ".list-inline>li {display: inline-block}\n",
       ".list-inline>li:not(:last-child)::after {content: \"\\00b7\"; padding: 0 .5ex}\n",
       "</style>\n",
       "<ol class=list-inline><li>'/moto/ziab/users/jr3950/data/genomes/tmp_founders/bam/SW_1.merged.bam'</li><li>'/moto/ziab/users/jr3950/data/genomes/tmp_founders/bam/SW_10.merged.bam'</li><li>'/moto/ziab/users/jr3950/data/genomes/tmp_founders/bam/SW_11.merged.bam'</li><li>'/moto/ziab/users/jr3950/data/genomes/tmp_founders/bam/SW_1133.merged.bam'</li><li>'/moto/ziab/users/jr3950/data/genomes/tmp_founders/bam/SW_12.merged.bam'</li><li>'/moto/ziab/users/jr3950/data/genomes/tmp_founders/bam/SW_2.merged.bam'</li><li>'/moto/ziab/users/jr3950/data/genomes/tmp_founders/bam/SW_25.merged.bam'</li><li>'/moto/ziab/users/jr3950/data/genomes/tmp_founders/bam/SW_3.merged.bam'</li><li>'/moto/ziab/users/jr3950/data/genomes/tmp_founders/bam/SW_31.merged.bam'</li><li>'/moto/ziab/users/jr3950/data/genomes/tmp_founders/bam/SW_4.merged.bam'</li><li>'/moto/ziab/users/jr3950/data/genomes/tmp_founders/bam/SW_5.merged.bam'</li><li>'/moto/ziab/users/jr3950/data/genomes/tmp_founders/bam/SW_6.merged.bam'</li><li>'/moto/ziab/users/jr3950/data/genomes/tmp_founders/bam/SW_7.merged.bam'</li><li>'/moto/ziab/users/jr3950/data/genomes/tmp_founders/bam/SW_8.merged.bam'</li><li>'/moto/ziab/users/jr3950/data/genomes/tmp_founders/bam/SW_80.merged.bam'</li><li>'/moto/ziab/users/jr3950/data/genomes/tmp_founders/bam/SW_84.merged.bam'</li><li>'/moto/ziab/users/jr3950/data/genomes/tmp_founders/bam/SW_85.merged.bam'</li><li>'/moto/ziab/users/jr3950/data/genomes/tmp_founders/bam/SW_87.merged.bam'</li><li>'/moto/ziab/users/jr3950/data/genomes/tmp_founders/bam/SW_9.merged.bam'</li><li>'/moto/ziab/users/jr3950/data/genomes/tmp_founders/bam/SW_90.merged.bam'</li></ol>\n"
      ],
      "text/latex": [
       "\\begin{enumerate*}\n",
       "\\item '/moto/ziab/users/jr3950/data/genomes/tmp\\_founders/bam/SW\\_1.merged.bam'\n",
       "\\item '/moto/ziab/users/jr3950/data/genomes/tmp\\_founders/bam/SW\\_10.merged.bam'\n",
       "\\item '/moto/ziab/users/jr3950/data/genomes/tmp\\_founders/bam/SW\\_11.merged.bam'\n",
       "\\item '/moto/ziab/users/jr3950/data/genomes/tmp\\_founders/bam/SW\\_1133.merged.bam'\n",
       "\\item '/moto/ziab/users/jr3950/data/genomes/tmp\\_founders/bam/SW\\_12.merged.bam'\n",
       "\\item '/moto/ziab/users/jr3950/data/genomes/tmp\\_founders/bam/SW\\_2.merged.bam'\n",
       "\\item '/moto/ziab/users/jr3950/data/genomes/tmp\\_founders/bam/SW\\_25.merged.bam'\n",
       "\\item '/moto/ziab/users/jr3950/data/genomes/tmp\\_founders/bam/SW\\_3.merged.bam'\n",
       "\\item '/moto/ziab/users/jr3950/data/genomes/tmp\\_founders/bam/SW\\_31.merged.bam'\n",
       "\\item '/moto/ziab/users/jr3950/data/genomes/tmp\\_founders/bam/SW\\_4.merged.bam'\n",
       "\\item '/moto/ziab/users/jr3950/data/genomes/tmp\\_founders/bam/SW\\_5.merged.bam'\n",
       "\\item '/moto/ziab/users/jr3950/data/genomes/tmp\\_founders/bam/SW\\_6.merged.bam'\n",
       "\\item '/moto/ziab/users/jr3950/data/genomes/tmp\\_founders/bam/SW\\_7.merged.bam'\n",
       "\\item '/moto/ziab/users/jr3950/data/genomes/tmp\\_founders/bam/SW\\_8.merged.bam'\n",
       "\\item '/moto/ziab/users/jr3950/data/genomes/tmp\\_founders/bam/SW\\_80.merged.bam'\n",
       "\\item '/moto/ziab/users/jr3950/data/genomes/tmp\\_founders/bam/SW\\_84.merged.bam'\n",
       "\\item '/moto/ziab/users/jr3950/data/genomes/tmp\\_founders/bam/SW\\_85.merged.bam'\n",
       "\\item '/moto/ziab/users/jr3950/data/genomes/tmp\\_founders/bam/SW\\_87.merged.bam'\n",
       "\\item '/moto/ziab/users/jr3950/data/genomes/tmp\\_founders/bam/SW\\_9.merged.bam'\n",
       "\\item '/moto/ziab/users/jr3950/data/genomes/tmp\\_founders/bam/SW\\_90.merged.bam'\n",
       "\\end{enumerate*}\n"
      ],
      "text/markdown": [
       "1. '/moto/ziab/users/jr3950/data/genomes/tmp_founders/bam/SW_1.merged.bam'\n",
       "2. '/moto/ziab/users/jr3950/data/genomes/tmp_founders/bam/SW_10.merged.bam'\n",
       "3. '/moto/ziab/users/jr3950/data/genomes/tmp_founders/bam/SW_11.merged.bam'\n",
       "4. '/moto/ziab/users/jr3950/data/genomes/tmp_founders/bam/SW_1133.merged.bam'\n",
       "5. '/moto/ziab/users/jr3950/data/genomes/tmp_founders/bam/SW_12.merged.bam'\n",
       "6. '/moto/ziab/users/jr3950/data/genomes/tmp_founders/bam/SW_2.merged.bam'\n",
       "7. '/moto/ziab/users/jr3950/data/genomes/tmp_founders/bam/SW_25.merged.bam'\n",
       "8. '/moto/ziab/users/jr3950/data/genomes/tmp_founders/bam/SW_3.merged.bam'\n",
       "9. '/moto/ziab/users/jr3950/data/genomes/tmp_founders/bam/SW_31.merged.bam'\n",
       "10. '/moto/ziab/users/jr3950/data/genomes/tmp_founders/bam/SW_4.merged.bam'\n",
       "11. '/moto/ziab/users/jr3950/data/genomes/tmp_founders/bam/SW_5.merged.bam'\n",
       "12. '/moto/ziab/users/jr3950/data/genomes/tmp_founders/bam/SW_6.merged.bam'\n",
       "13. '/moto/ziab/users/jr3950/data/genomes/tmp_founders/bam/SW_7.merged.bam'\n",
       "14. '/moto/ziab/users/jr3950/data/genomes/tmp_founders/bam/SW_8.merged.bam'\n",
       "15. '/moto/ziab/users/jr3950/data/genomes/tmp_founders/bam/SW_80.merged.bam'\n",
       "16. '/moto/ziab/users/jr3950/data/genomes/tmp_founders/bam/SW_84.merged.bam'\n",
       "17. '/moto/ziab/users/jr3950/data/genomes/tmp_founders/bam/SW_85.merged.bam'\n",
       "18. '/moto/ziab/users/jr3950/data/genomes/tmp_founders/bam/SW_87.merged.bam'\n",
       "19. '/moto/ziab/users/jr3950/data/genomes/tmp_founders/bam/SW_9.merged.bam'\n",
       "20. '/moto/ziab/users/jr3950/data/genomes/tmp_founders/bam/SW_90.merged.bam'\n",
       "\n",
       "\n"
      ],
      "text/plain": [
       " [1] \"/moto/ziab/users/jr3950/data/genomes/tmp_founders/bam/SW_1.merged.bam\"   \n",
       " [2] \"/moto/ziab/users/jr3950/data/genomes/tmp_founders/bam/SW_10.merged.bam\"  \n",
       " [3] \"/moto/ziab/users/jr3950/data/genomes/tmp_founders/bam/SW_11.merged.bam\"  \n",
       " [4] \"/moto/ziab/users/jr3950/data/genomes/tmp_founders/bam/SW_1133.merged.bam\"\n",
       " [5] \"/moto/ziab/users/jr3950/data/genomes/tmp_founders/bam/SW_12.merged.bam\"  \n",
       " [6] \"/moto/ziab/users/jr3950/data/genomes/tmp_founders/bam/SW_2.merged.bam\"   \n",
       " [7] \"/moto/ziab/users/jr3950/data/genomes/tmp_founders/bam/SW_25.merged.bam\"  \n",
       " [8] \"/moto/ziab/users/jr3950/data/genomes/tmp_founders/bam/SW_3.merged.bam\"   \n",
       " [9] \"/moto/ziab/users/jr3950/data/genomes/tmp_founders/bam/SW_31.merged.bam\"  \n",
       "[10] \"/moto/ziab/users/jr3950/data/genomes/tmp_founders/bam/SW_4.merged.bam\"   \n",
       "[11] \"/moto/ziab/users/jr3950/data/genomes/tmp_founders/bam/SW_5.merged.bam\"   \n",
       "[12] \"/moto/ziab/users/jr3950/data/genomes/tmp_founders/bam/SW_6.merged.bam\"   \n",
       "[13] \"/moto/ziab/users/jr3950/data/genomes/tmp_founders/bam/SW_7.merged.bam\"   \n",
       "[14] \"/moto/ziab/users/jr3950/data/genomes/tmp_founders/bam/SW_8.merged.bam\"   \n",
       "[15] \"/moto/ziab/users/jr3950/data/genomes/tmp_founders/bam/SW_80.merged.bam\"  \n",
       "[16] \"/moto/ziab/users/jr3950/data/genomes/tmp_founders/bam/SW_84.merged.bam\"  \n",
       "[17] \"/moto/ziab/users/jr3950/data/genomes/tmp_founders/bam/SW_85.merged.bam\"  \n",
       "[18] \"/moto/ziab/users/jr3950/data/genomes/tmp_founders/bam/SW_87.merged.bam\"  \n",
       "[19] \"/moto/ziab/users/jr3950/data/genomes/tmp_founders/bam/SW_9.merged.bam\"   \n",
       "[20] \"/moto/ziab/users/jr3950/data/genomes/tmp_founders/bam/SW_90.merged.bam\"  "
      ]
     },
     "metadata": {},
     "output_type": "display_data"
    }
   ],
   "source": [
    "files"
   ]
  },
  {
   "cell_type": "code",
   "execution_count": 9,
   "metadata": {},
   "outputs": [],
   "source": [
    "# PED file  with samplename\\tM/F\n",
    "ped=fread(\"../../XX_Data/FoundersF1.no1140.ped\")\n",
    "females=ped%>%select(Mother)%>% \n",
    "           unlist(., use.names=FALSE)\n",
    "females=c(females,\n",
    "         ped%>%filter(Sex==\"F\")%>%select(Individual)%>% \n",
    "           unlist(., use.names=FALSE))\n",
    "females=unique(females)\n",
    "males=ped%>%select(Father)%>% \n",
    "           unlist(., use.names=FALSE)\n",
    "males=c(males,\n",
    "         ped%>%filter(Sex==\"M\")%>%select(Individual)%>% \n",
    "           unlist(., use.names=FALSE))\n",
    "males=unique(males)\n",
    "fwrite(data.table(ID=c(females,males),Sex=c(rep(\"F\",length(females)),\n",
    "                                rep(\"M\",length(males)))),\n",
    "          PED_file<-paste0(bam_dir,\"/\",\"PED.tsv\"),col.names=FALSE,sep=\"\\t\")"
   ]
  },
  {
   "cell_type": "code",
   "execution_count": 10,
   "metadata": {},
   "outputs": [
    {
     "data": {
      "text/html": [
       "<table class=\"dataframe\">\n",
       "<caption>A data.table: 22 x 2</caption>\n",
       "<thead>\n",
       "\t<tr><th scope=col>chrFasta</th><th scope=col>chrSimple</th></tr>\n",
       "\t<tr><th scope=col>&lt;chr&gt;</th><th scope=col>&lt;chr&gt;</th></tr>\n",
       "</thead>\n",
       "<tbody>\n",
       "\t<tr><td>NC_000067.6</td><td>chr1 </td></tr>\n",
       "\t<tr><td>NC_000068.7</td><td>chr2 </td></tr>\n",
       "\t<tr><td>NC_000069.6</td><td>chr3 </td></tr>\n",
       "\t<tr><td>NC_000070.6</td><td>chr4 </td></tr>\n",
       "\t<tr><td>NC_000071.6</td><td>chr5 </td></tr>\n",
       "\t<tr><td>NC_000072.6</td><td>chr6 </td></tr>\n",
       "\t<tr><td>NC_000073.6</td><td>chr7 </td></tr>\n",
       "\t<tr><td>NC_000074.6</td><td>chr8 </td></tr>\n",
       "\t<tr><td>NC_000075.6</td><td>chr9 </td></tr>\n",
       "\t<tr><td>NC_000076.6</td><td>chr10</td></tr>\n",
       "\t<tr><td>NC_000077.6</td><td>chr11</td></tr>\n",
       "\t<tr><td>NC_000078.6</td><td>chr12</td></tr>\n",
       "\t<tr><td>NC_000079.6</td><td>chr13</td></tr>\n",
       "\t<tr><td>NC_000080.6</td><td>chr14</td></tr>\n",
       "\t<tr><td>NC_000081.6</td><td>chr15</td></tr>\n",
       "\t<tr><td>NC_000082.6</td><td>chr16</td></tr>\n",
       "\t<tr><td>NC_000083.6</td><td>chr17</td></tr>\n",
       "\t<tr><td>NC_000084.6</td><td>chr18</td></tr>\n",
       "\t<tr><td>NC_000085.6</td><td>chr19</td></tr>\n",
       "\t<tr><td>NC_000086.7</td><td>chrX </td></tr>\n",
       "\t<tr><td>NC_000087.7</td><td>chrY </td></tr>\n",
       "\t<tr><td>NC_005089.1</td><td>chrMT</td></tr>\n",
       "</tbody>\n",
       "</table>\n"
      ],
      "text/latex": [
       "A data.table: 22 x 2\n",
       "\\begin{tabular}{ll}\n",
       " chrFasta & chrSimple\\\\\n",
       " <chr> & <chr>\\\\\n",
       "\\hline\n",
       "\t NC\\_000067.6 & chr1 \\\\\n",
       "\t NC\\_000068.7 & chr2 \\\\\n",
       "\t NC\\_000069.6 & chr3 \\\\\n",
       "\t NC\\_000070.6 & chr4 \\\\\n",
       "\t NC\\_000071.6 & chr5 \\\\\n",
       "\t NC\\_000072.6 & chr6 \\\\\n",
       "\t NC\\_000073.6 & chr7 \\\\\n",
       "\t NC\\_000074.6 & chr8 \\\\\n",
       "\t NC\\_000075.6 & chr9 \\\\\n",
       "\t NC\\_000076.6 & chr10\\\\\n",
       "\t NC\\_000077.6 & chr11\\\\\n",
       "\t NC\\_000078.6 & chr12\\\\\n",
       "\t NC\\_000079.6 & chr13\\\\\n",
       "\t NC\\_000080.6 & chr14\\\\\n",
       "\t NC\\_000081.6 & chr15\\\\\n",
       "\t NC\\_000082.6 & chr16\\\\\n",
       "\t NC\\_000083.6 & chr17\\\\\n",
       "\t NC\\_000084.6 & chr18\\\\\n",
       "\t NC\\_000085.6 & chr19\\\\\n",
       "\t NC\\_000086.7 & chrX \\\\\n",
       "\t NC\\_000087.7 & chrY \\\\\n",
       "\t NC\\_005089.1 & chrMT\\\\\n",
       "\\end{tabular}\n"
      ],
      "text/markdown": [
       "\n",
       "A data.table: 22 x 2\n",
       "\n",
       "| chrFasta &lt;chr&gt; | chrSimple &lt;chr&gt; |\n",
       "|---|---|\n",
       "| NC_000067.6 | chr1  |\n",
       "| NC_000068.7 | chr2  |\n",
       "| NC_000069.6 | chr3  |\n",
       "| NC_000070.6 | chr4  |\n",
       "| NC_000071.6 | chr5  |\n",
       "| NC_000072.6 | chr6  |\n",
       "| NC_000073.6 | chr7  |\n",
       "| NC_000074.6 | chr8  |\n",
       "| NC_000075.6 | chr9  |\n",
       "| NC_000076.6 | chr10 |\n",
       "| NC_000077.6 | chr11 |\n",
       "| NC_000078.6 | chr12 |\n",
       "| NC_000079.6 | chr13 |\n",
       "| NC_000080.6 | chr14 |\n",
       "| NC_000081.6 | chr15 |\n",
       "| NC_000082.6 | chr16 |\n",
       "| NC_000083.6 | chr17 |\n",
       "| NC_000084.6 | chr18 |\n",
       "| NC_000085.6 | chr19 |\n",
       "| NC_000086.7 | chrX  |\n",
       "| NC_000087.7 | chrY  |\n",
       "| NC_005089.1 | chrMT |\n",
       "\n"
      ],
      "text/plain": [
       "   chrFasta    chrSimple\n",
       "1  NC_000067.6 chr1     \n",
       "2  NC_000068.7 chr2     \n",
       "3  NC_000069.6 chr3     \n",
       "4  NC_000070.6 chr4     \n",
       "5  NC_000071.6 chr5     \n",
       "6  NC_000072.6 chr6     \n",
       "7  NC_000073.6 chr7     \n",
       "8  NC_000074.6 chr8     \n",
       "9  NC_000075.6 chr9     \n",
       "10 NC_000076.6 chr10    \n",
       "11 NC_000077.6 chr11    \n",
       "12 NC_000078.6 chr12    \n",
       "13 NC_000079.6 chr13    \n",
       "14 NC_000080.6 chr14    \n",
       "15 NC_000081.6 chr15    \n",
       "16 NC_000082.6 chr16    \n",
       "17 NC_000083.6 chr17    \n",
       "18 NC_000084.6 chr18    \n",
       "19 NC_000085.6 chr19    \n",
       "20 NC_000086.7 chrX     \n",
       "21 NC_000087.7 chrY     \n",
       "22 NC_005089.1 chrMT    "
      ]
     },
     "metadata": {},
     "output_type": "display_data"
    }
   ],
   "source": [
    "chrs=fread(cmd=paste0('grep \"^NC\" ',ref_file,\".fai\"))\n",
    "chrs=select(chrs,V1)%>% \n",
    "           unlist(., use.names=FALSE)\n",
    "chrs=sort(chrs)\n",
    "chrs=data.table(chrFasta=chrs,\n",
    "           chrSimple=paste0(\"chr\",c(1:(length(chrs)-3),\"X\",\"Y\",\"MT\")))\n",
    "chrs"
   ]
  },
  {
   "cell_type": "code",
   "execution_count": 11,
   "metadata": {},
   "outputs": [],
   "source": [
    "jobname=\"F0_mpileup\""
   ]
  },
  {
   "cell_type": "code",
   "execution_count": 12,
   "metadata": {},
   "outputs": [],
   "source": [
    "for(i in 1:nrow(chrs)){\n",
    "    output=paste0(\"Founders.\",chrs$chrSimple[i],\".mpileup\")\n",
    "    if(file.exists(paste0(bam_dir,\"/\",output))){\n",
    "        next\n",
    "    }\n",
    "    cmd=paste0(\"cd \",bam_dir,\" && bcftools mpileup --threads 8 -f \", ref_file, \" -q 30 -Q 30 \",\n",
    "          \"--skip-indels -a FORMAT/AD,FORMAT/DP,INFO/AD -r \",\n",
    "          chrs$chrFasta[i], \" -Ob -o \",output, \" \", paste(basename(files),collapse=\" \"))\n",
    "    print(cmd)\n",
    "    execute_cmd_sbatch(cmd=cmd, mem=\"16G\", cpu=\"8\", time=\"long\", acc=slurm_acc, env=env_mapping_etc, jobname=jobname<-\"F0_mpileup\",\n",
    "                      activateEnvScript=paste0(Barn_Mice_dir,\"activateEnv.sh\"))\n",
    "    Sys.sleep(1)\n",
    "}"
   ]
  },
  {
   "cell_type": "code",
   "execution_count": 13,
   "metadata": {},
   "outputs": [
    {
     "data": {
      "text/html": [
       "'F0_mpileup'"
      ],
      "text/latex": [
       "'F0\\_mpileup'"
      ],
      "text/markdown": [
       "'F0_mpileup'"
      ],
      "text/plain": [
       "[1] \"F0_mpileup\""
      ]
     },
     "metadata": {},
     "output_type": "display_data"
    },
    {
     "data": {
      "text/html": [
       "<style>\n",
       ".list-inline {list-style: none; margin:0; padding: 0}\n",
       ".list-inline>li {display: inline-block}\n",
       ".list-inline>li:not(:last-child)::after {content: \"\\00b7\"; padding: 0 .5ex}\n",
       "</style>\n",
       "<ol class=list-inline><li>'/moto/ziab/users/jr3950/data/genomes/tmp_founders/bam/Founders.chr1.mpileup'</li><li>'/moto/ziab/users/jr3950/data/genomes/tmp_founders/bam/Founders.chr2.mpileup'</li><li>'/moto/ziab/users/jr3950/data/genomes/tmp_founders/bam/Founders.chr3.mpileup'</li><li>'/moto/ziab/users/jr3950/data/genomes/tmp_founders/bam/Founders.chr4.mpileup'</li><li>'/moto/ziab/users/jr3950/data/genomes/tmp_founders/bam/Founders.chr5.mpileup'</li><li>'/moto/ziab/users/jr3950/data/genomes/tmp_founders/bam/Founders.chr6.mpileup'</li><li>'/moto/ziab/users/jr3950/data/genomes/tmp_founders/bam/Founders.chr7.mpileup'</li><li>'/moto/ziab/users/jr3950/data/genomes/tmp_founders/bam/Founders.chr8.mpileup'</li><li>'/moto/ziab/users/jr3950/data/genomes/tmp_founders/bam/Founders.chr9.mpileup'</li><li>'/moto/ziab/users/jr3950/data/genomes/tmp_founders/bam/Founders.chr10.mpileup'</li><li>'/moto/ziab/users/jr3950/data/genomes/tmp_founders/bam/Founders.chr11.mpileup'</li><li>'/moto/ziab/users/jr3950/data/genomes/tmp_founders/bam/Founders.chr12.mpileup'</li><li>'/moto/ziab/users/jr3950/data/genomes/tmp_founders/bam/Founders.chr13.mpileup'</li><li>'/moto/ziab/users/jr3950/data/genomes/tmp_founders/bam/Founders.chr14.mpileup'</li><li>'/moto/ziab/users/jr3950/data/genomes/tmp_founders/bam/Founders.chr15.mpileup'</li><li>'/moto/ziab/users/jr3950/data/genomes/tmp_founders/bam/Founders.chr16.mpileup'</li><li>'/moto/ziab/users/jr3950/data/genomes/tmp_founders/bam/Founders.chr17.mpileup'</li><li>'/moto/ziab/users/jr3950/data/genomes/tmp_founders/bam/Founders.chr18.mpileup'</li><li>'/moto/ziab/users/jr3950/data/genomes/tmp_founders/bam/Founders.chr19.mpileup'</li><li>'/moto/ziab/users/jr3950/data/genomes/tmp_founders/bam/Founders.chrMT.mpileup'</li><li>'/moto/ziab/users/jr3950/data/genomes/tmp_founders/bam/Founders.chrX.mpileup'</li><li>'/moto/ziab/users/jr3950/data/genomes/tmp_founders/bam/Founders.chrY.mpileup'</li></ol>\n"
      ],
      "text/latex": [
       "\\begin{enumerate*}\n",
       "\\item '/moto/ziab/users/jr3950/data/genomes/tmp\\_founders/bam/Founders.chr1.mpileup'\n",
       "\\item '/moto/ziab/users/jr3950/data/genomes/tmp\\_founders/bam/Founders.chr2.mpileup'\n",
       "\\item '/moto/ziab/users/jr3950/data/genomes/tmp\\_founders/bam/Founders.chr3.mpileup'\n",
       "\\item '/moto/ziab/users/jr3950/data/genomes/tmp\\_founders/bam/Founders.chr4.mpileup'\n",
       "\\item '/moto/ziab/users/jr3950/data/genomes/tmp\\_founders/bam/Founders.chr5.mpileup'\n",
       "\\item '/moto/ziab/users/jr3950/data/genomes/tmp\\_founders/bam/Founders.chr6.mpileup'\n",
       "\\item '/moto/ziab/users/jr3950/data/genomes/tmp\\_founders/bam/Founders.chr7.mpileup'\n",
       "\\item '/moto/ziab/users/jr3950/data/genomes/tmp\\_founders/bam/Founders.chr8.mpileup'\n",
       "\\item '/moto/ziab/users/jr3950/data/genomes/tmp\\_founders/bam/Founders.chr9.mpileup'\n",
       "\\item '/moto/ziab/users/jr3950/data/genomes/tmp\\_founders/bam/Founders.chr10.mpileup'\n",
       "\\item '/moto/ziab/users/jr3950/data/genomes/tmp\\_founders/bam/Founders.chr11.mpileup'\n",
       "\\item '/moto/ziab/users/jr3950/data/genomes/tmp\\_founders/bam/Founders.chr12.mpileup'\n",
       "\\item '/moto/ziab/users/jr3950/data/genomes/tmp\\_founders/bam/Founders.chr13.mpileup'\n",
       "\\item '/moto/ziab/users/jr3950/data/genomes/tmp\\_founders/bam/Founders.chr14.mpileup'\n",
       "\\item '/moto/ziab/users/jr3950/data/genomes/tmp\\_founders/bam/Founders.chr15.mpileup'\n",
       "\\item '/moto/ziab/users/jr3950/data/genomes/tmp\\_founders/bam/Founders.chr16.mpileup'\n",
       "\\item '/moto/ziab/users/jr3950/data/genomes/tmp\\_founders/bam/Founders.chr17.mpileup'\n",
       "\\item '/moto/ziab/users/jr3950/data/genomes/tmp\\_founders/bam/Founders.chr18.mpileup'\n",
       "\\item '/moto/ziab/users/jr3950/data/genomes/tmp\\_founders/bam/Founders.chr19.mpileup'\n",
       "\\item '/moto/ziab/users/jr3950/data/genomes/tmp\\_founders/bam/Founders.chrMT.mpileup'\n",
       "\\item '/moto/ziab/users/jr3950/data/genomes/tmp\\_founders/bam/Founders.chrX.mpileup'\n",
       "\\item '/moto/ziab/users/jr3950/data/genomes/tmp\\_founders/bam/Founders.chrY.mpileup'\n",
       "\\end{enumerate*}\n"
      ],
      "text/markdown": [
       "1. '/moto/ziab/users/jr3950/data/genomes/tmp_founders/bam/Founders.chr1.mpileup'\n",
       "2. '/moto/ziab/users/jr3950/data/genomes/tmp_founders/bam/Founders.chr2.mpileup'\n",
       "3. '/moto/ziab/users/jr3950/data/genomes/tmp_founders/bam/Founders.chr3.mpileup'\n",
       "4. '/moto/ziab/users/jr3950/data/genomes/tmp_founders/bam/Founders.chr4.mpileup'\n",
       "5. '/moto/ziab/users/jr3950/data/genomes/tmp_founders/bam/Founders.chr5.mpileup'\n",
       "6. '/moto/ziab/users/jr3950/data/genomes/tmp_founders/bam/Founders.chr6.mpileup'\n",
       "7. '/moto/ziab/users/jr3950/data/genomes/tmp_founders/bam/Founders.chr7.mpileup'\n",
       "8. '/moto/ziab/users/jr3950/data/genomes/tmp_founders/bam/Founders.chr8.mpileup'\n",
       "9. '/moto/ziab/users/jr3950/data/genomes/tmp_founders/bam/Founders.chr9.mpileup'\n",
       "10. '/moto/ziab/users/jr3950/data/genomes/tmp_founders/bam/Founders.chr10.mpileup'\n",
       "11. '/moto/ziab/users/jr3950/data/genomes/tmp_founders/bam/Founders.chr11.mpileup'\n",
       "12. '/moto/ziab/users/jr3950/data/genomes/tmp_founders/bam/Founders.chr12.mpileup'\n",
       "13. '/moto/ziab/users/jr3950/data/genomes/tmp_founders/bam/Founders.chr13.mpileup'\n",
       "14. '/moto/ziab/users/jr3950/data/genomes/tmp_founders/bam/Founders.chr14.mpileup'\n",
       "15. '/moto/ziab/users/jr3950/data/genomes/tmp_founders/bam/Founders.chr15.mpileup'\n",
       "16. '/moto/ziab/users/jr3950/data/genomes/tmp_founders/bam/Founders.chr16.mpileup'\n",
       "17. '/moto/ziab/users/jr3950/data/genomes/tmp_founders/bam/Founders.chr17.mpileup'\n",
       "18. '/moto/ziab/users/jr3950/data/genomes/tmp_founders/bam/Founders.chr18.mpileup'\n",
       "19. '/moto/ziab/users/jr3950/data/genomes/tmp_founders/bam/Founders.chr19.mpileup'\n",
       "20. '/moto/ziab/users/jr3950/data/genomes/tmp_founders/bam/Founders.chrMT.mpileup'\n",
       "21. '/moto/ziab/users/jr3950/data/genomes/tmp_founders/bam/Founders.chrX.mpileup'\n",
       "22. '/moto/ziab/users/jr3950/data/genomes/tmp_founders/bam/Founders.chrY.mpileup'\n",
       "\n",
       "\n"
      ],
      "text/plain": [
       " [1] \"/moto/ziab/users/jr3950/data/genomes/tmp_founders/bam/Founders.chr1.mpileup\" \n",
       " [2] \"/moto/ziab/users/jr3950/data/genomes/tmp_founders/bam/Founders.chr2.mpileup\" \n",
       " [3] \"/moto/ziab/users/jr3950/data/genomes/tmp_founders/bam/Founders.chr3.mpileup\" \n",
       " [4] \"/moto/ziab/users/jr3950/data/genomes/tmp_founders/bam/Founders.chr4.mpileup\" \n",
       " [5] \"/moto/ziab/users/jr3950/data/genomes/tmp_founders/bam/Founders.chr5.mpileup\" \n",
       " [6] \"/moto/ziab/users/jr3950/data/genomes/tmp_founders/bam/Founders.chr6.mpileup\" \n",
       " [7] \"/moto/ziab/users/jr3950/data/genomes/tmp_founders/bam/Founders.chr7.mpileup\" \n",
       " [8] \"/moto/ziab/users/jr3950/data/genomes/tmp_founders/bam/Founders.chr8.mpileup\" \n",
       " [9] \"/moto/ziab/users/jr3950/data/genomes/tmp_founders/bam/Founders.chr9.mpileup\" \n",
       "[10] \"/moto/ziab/users/jr3950/data/genomes/tmp_founders/bam/Founders.chr10.mpileup\"\n",
       "[11] \"/moto/ziab/users/jr3950/data/genomes/tmp_founders/bam/Founders.chr11.mpileup\"\n",
       "[12] \"/moto/ziab/users/jr3950/data/genomes/tmp_founders/bam/Founders.chr12.mpileup\"\n",
       "[13] \"/moto/ziab/users/jr3950/data/genomes/tmp_founders/bam/Founders.chr13.mpileup\"\n",
       "[14] \"/moto/ziab/users/jr3950/data/genomes/tmp_founders/bam/Founders.chr14.mpileup\"\n",
       "[15] \"/moto/ziab/users/jr3950/data/genomes/tmp_founders/bam/Founders.chr15.mpileup\"\n",
       "[16] \"/moto/ziab/users/jr3950/data/genomes/tmp_founders/bam/Founders.chr16.mpileup\"\n",
       "[17] \"/moto/ziab/users/jr3950/data/genomes/tmp_founders/bam/Founders.chr17.mpileup\"\n",
       "[18] \"/moto/ziab/users/jr3950/data/genomes/tmp_founders/bam/Founders.chr18.mpileup\"\n",
       "[19] \"/moto/ziab/users/jr3950/data/genomes/tmp_founders/bam/Founders.chr19.mpileup\"\n",
       "[20] \"/moto/ziab/users/jr3950/data/genomes/tmp_founders/bam/Founders.chrMT.mpileup\"\n",
       "[21] \"/moto/ziab/users/jr3950/data/genomes/tmp_founders/bam/Founders.chrX.mpileup\" \n",
       "[22] \"/moto/ziab/users/jr3950/data/genomes/tmp_founders/bam/Founders.chrY.mpileup\" "
      ]
     },
     "metadata": {},
     "output_type": "display_data"
    }
   ],
   "source": [
    "jobname\n",
    "while(slurm_check_jobs_still_running(columbia_username,jobname)){\n",
    "    Sys.sleep(60)\n",
    "}\n",
    "files=naturalsort(list.files(path = bam_dir, pattern=\".mpileup$\", full.names = TRUE))\n",
    "files"
   ]
  },
  {
   "cell_type": "code",
   "execution_count": 14,
   "metadata": {
    "tags": []
   },
   "outputs": [
    {
     "data": {
      "text/html": [
       "'/moto/ziab/users/jr3950/data/genomes/tmp_founders/bam/PED.tsv'"
      ],
      "text/latex": [
       "'/moto/ziab/users/jr3950/data/genomes/tmp\\_founders/bam/PED.tsv'"
      ],
      "text/markdown": [
       "'/moto/ziab/users/jr3950/data/genomes/tmp_founders/bam/PED.tsv'"
      ],
      "text/plain": [
       "[1] \"/moto/ziab/users/jr3950/data/genomes/tmp_founders/bam/PED.tsv\""
      ]
     },
     "metadata": {},
     "output_type": "display_data"
    }
   ],
   "source": [
    "PED_file"
   ]
  },
  {
   "cell_type": "code",
   "execution_count": 15,
   "metadata": {},
   "outputs": [
    {
     "name": "stdout",
     "output_type": "stream",
     "text": [
      "[1] \"cd /moto/ziab/users/jr3950/data/genomes/tmp_founders/bam && bcftools call -Oz -o /moto/ziab/users/jr3950/data/genomes/tmp_founders/bam/Founders.chr1.vcf.gz --ploidy 2 --threads 8 -a FORMAT/GQ,FORMAT/GP -m -v -V indels -S /moto/ziab/users/jr3950/data/genomes/tmp_founders/bam/PED.tsv /moto/ziab/users/jr3950/data/genomes/tmp_founders/bam/Founders.chr1.mpileup && bcftools index /moto/ziab/users/jr3950/data/genomes/tmp_founders/bam/Founders.chr1.vcf.gz && bcftools query -l /moto/ziab/users/jr3950/data/genomes/tmp_founders/bam/Founders.chr1.vcf.gz > /moto/ziab/users/jr3950/data/genomes/tmp_founders/bam/Founders.chr1.vcf.gz.samples\"\n",
      "[1] \"sbatch -c 8 --mem=16G --job-name=F0_call -A ziab -t 11:59:00 --wrap '. ~/ColumbiaProjects/Barn_Mice/activateEnv.sh samtools-116; cd /moto/ziab/users/jr3950/data/genomes/tmp_founders/bam && bcftools call -Oz -o /moto/ziab/users/jr3950/data/genomes/tmp_founders/bam/Founders.chr1.vcf.gz --ploidy 2 --threads 8 -a FORMAT/GQ,FORMAT/GP -m -v -V indels -S /moto/ziab/users/jr3950/data/genomes/tmp_founders/bam/PED.tsv /moto/ziab/users/jr3950/data/genomes/tmp_founders/bam/Founders.chr1.mpileup && bcftools index /moto/ziab/users/jr3950/data/genomes/tmp_founders/bam/Founders.chr1.vcf.gz && bcftools query -l /moto/ziab/users/jr3950/data/genomes/tmp_founders/bam/Founders.chr1.vcf.gz > /moto/ziab/users/jr3950/data/genomes/tmp_founders/bam/Founders.chr1.vcf.gz.samples'\"\n",
      "[1] \"Submitted batch job 13460414\"\n",
      "[1] \"cd /moto/ziab/users/jr3950/data/genomes/tmp_founders/bam && bcftools call -Oz -o /moto/ziab/users/jr3950/data/genomes/tmp_founders/bam/Founders.chr2.vcf.gz --ploidy 2 --threads 8 -a FORMAT/GQ,FORMAT/GP -m -v -V indels -S /moto/ziab/users/jr3950/data/genomes/tmp_founders/bam/PED.tsv /moto/ziab/users/jr3950/data/genomes/tmp_founders/bam/Founders.chr2.mpileup && bcftools index /moto/ziab/users/jr3950/data/genomes/tmp_founders/bam/Founders.chr2.vcf.gz && bcftools query -l /moto/ziab/users/jr3950/data/genomes/tmp_founders/bam/Founders.chr2.vcf.gz > /moto/ziab/users/jr3950/data/genomes/tmp_founders/bam/Founders.chr2.vcf.gz.samples\"\n",
      "[1] \"sbatch -c 8 --mem=16G --job-name=F0_call -A ziab -t 11:59:00 --wrap '. ~/ColumbiaProjects/Barn_Mice/activateEnv.sh samtools-116; cd /moto/ziab/users/jr3950/data/genomes/tmp_founders/bam && bcftools call -Oz -o /moto/ziab/users/jr3950/data/genomes/tmp_founders/bam/Founders.chr2.vcf.gz --ploidy 2 --threads 8 -a FORMAT/GQ,FORMAT/GP -m -v -V indels -S /moto/ziab/users/jr3950/data/genomes/tmp_founders/bam/PED.tsv /moto/ziab/users/jr3950/data/genomes/tmp_founders/bam/Founders.chr2.mpileup && bcftools index /moto/ziab/users/jr3950/data/genomes/tmp_founders/bam/Founders.chr2.vcf.gz && bcftools query -l /moto/ziab/users/jr3950/data/genomes/tmp_founders/bam/Founders.chr2.vcf.gz > /moto/ziab/users/jr3950/data/genomes/tmp_founders/bam/Founders.chr2.vcf.gz.samples'\"\n",
      "[1] \"Submitted batch job 13460415\"\n",
      "[1] \"cd /moto/ziab/users/jr3950/data/genomes/tmp_founders/bam && bcftools call -Oz -o /moto/ziab/users/jr3950/data/genomes/tmp_founders/bam/Founders.chr3.vcf.gz --ploidy 2 --threads 8 -a FORMAT/GQ,FORMAT/GP -m -v -V indels -S /moto/ziab/users/jr3950/data/genomes/tmp_founders/bam/PED.tsv /moto/ziab/users/jr3950/data/genomes/tmp_founders/bam/Founders.chr3.mpileup && bcftools index /moto/ziab/users/jr3950/data/genomes/tmp_founders/bam/Founders.chr3.vcf.gz && bcftools query -l /moto/ziab/users/jr3950/data/genomes/tmp_founders/bam/Founders.chr3.vcf.gz > /moto/ziab/users/jr3950/data/genomes/tmp_founders/bam/Founders.chr3.vcf.gz.samples\"\n",
      "[1] \"sbatch -c 8 --mem=16G --job-name=F0_call -A ziab -t 11:59:00 --wrap '. ~/ColumbiaProjects/Barn_Mice/activateEnv.sh samtools-116; cd /moto/ziab/users/jr3950/data/genomes/tmp_founders/bam && bcftools call -Oz -o /moto/ziab/users/jr3950/data/genomes/tmp_founders/bam/Founders.chr3.vcf.gz --ploidy 2 --threads 8 -a FORMAT/GQ,FORMAT/GP -m -v -V indels -S /moto/ziab/users/jr3950/data/genomes/tmp_founders/bam/PED.tsv /moto/ziab/users/jr3950/data/genomes/tmp_founders/bam/Founders.chr3.mpileup && bcftools index /moto/ziab/users/jr3950/data/genomes/tmp_founders/bam/Founders.chr3.vcf.gz && bcftools query -l /moto/ziab/users/jr3950/data/genomes/tmp_founders/bam/Founders.chr3.vcf.gz > /moto/ziab/users/jr3950/data/genomes/tmp_founders/bam/Founders.chr3.vcf.gz.samples'\"\n",
      "[1] \"Submitted batch job 13460416\"\n",
      "[1] \"cd /moto/ziab/users/jr3950/data/genomes/tmp_founders/bam && bcftools call -Oz -o /moto/ziab/users/jr3950/data/genomes/tmp_founders/bam/Founders.chr4.vcf.gz --ploidy 2 --threads 8 -a FORMAT/GQ,FORMAT/GP -m -v -V indels -S /moto/ziab/users/jr3950/data/genomes/tmp_founders/bam/PED.tsv /moto/ziab/users/jr3950/data/genomes/tmp_founders/bam/Founders.chr4.mpileup && bcftools index /moto/ziab/users/jr3950/data/genomes/tmp_founders/bam/Founders.chr4.vcf.gz && bcftools query -l /moto/ziab/users/jr3950/data/genomes/tmp_founders/bam/Founders.chr4.vcf.gz > /moto/ziab/users/jr3950/data/genomes/tmp_founders/bam/Founders.chr4.vcf.gz.samples\"\n",
      "[1] \"sbatch -c 8 --mem=16G --job-name=F0_call -A ziab -t 11:59:00 --wrap '. ~/ColumbiaProjects/Barn_Mice/activateEnv.sh samtools-116; cd /moto/ziab/users/jr3950/data/genomes/tmp_founders/bam && bcftools call -Oz -o /moto/ziab/users/jr3950/data/genomes/tmp_founders/bam/Founders.chr4.vcf.gz --ploidy 2 --threads 8 -a FORMAT/GQ,FORMAT/GP -m -v -V indels -S /moto/ziab/users/jr3950/data/genomes/tmp_founders/bam/PED.tsv /moto/ziab/users/jr3950/data/genomes/tmp_founders/bam/Founders.chr4.mpileup && bcftools index /moto/ziab/users/jr3950/data/genomes/tmp_founders/bam/Founders.chr4.vcf.gz && bcftools query -l /moto/ziab/users/jr3950/data/genomes/tmp_founders/bam/Founders.chr4.vcf.gz > /moto/ziab/users/jr3950/data/genomes/tmp_founders/bam/Founders.chr4.vcf.gz.samples'\"\n",
      "[1] \"Submitted batch job 13460417\"\n",
      "[1] \"cd /moto/ziab/users/jr3950/data/genomes/tmp_founders/bam && bcftools call -Oz -o /moto/ziab/users/jr3950/data/genomes/tmp_founders/bam/Founders.chr5.vcf.gz --ploidy 2 --threads 8 -a FORMAT/GQ,FORMAT/GP -m -v -V indels -S /moto/ziab/users/jr3950/data/genomes/tmp_founders/bam/PED.tsv /moto/ziab/users/jr3950/data/genomes/tmp_founders/bam/Founders.chr5.mpileup && bcftools index /moto/ziab/users/jr3950/data/genomes/tmp_founders/bam/Founders.chr5.vcf.gz && bcftools query -l /moto/ziab/users/jr3950/data/genomes/tmp_founders/bam/Founders.chr5.vcf.gz > /moto/ziab/users/jr3950/data/genomes/tmp_founders/bam/Founders.chr5.vcf.gz.samples\"\n",
      "[1] \"sbatch -c 8 --mem=16G --job-name=F0_call -A ziab -t 11:59:00 --wrap '. ~/ColumbiaProjects/Barn_Mice/activateEnv.sh samtools-116; cd /moto/ziab/users/jr3950/data/genomes/tmp_founders/bam && bcftools call -Oz -o /moto/ziab/users/jr3950/data/genomes/tmp_founders/bam/Founders.chr5.vcf.gz --ploidy 2 --threads 8 -a FORMAT/GQ,FORMAT/GP -m -v -V indels -S /moto/ziab/users/jr3950/data/genomes/tmp_founders/bam/PED.tsv /moto/ziab/users/jr3950/data/genomes/tmp_founders/bam/Founders.chr5.mpileup && bcftools index /moto/ziab/users/jr3950/data/genomes/tmp_founders/bam/Founders.chr5.vcf.gz && bcftools query -l /moto/ziab/users/jr3950/data/genomes/tmp_founders/bam/Founders.chr5.vcf.gz > /moto/ziab/users/jr3950/data/genomes/tmp_founders/bam/Founders.chr5.vcf.gz.samples'\"\n",
      "[1] \"Submitted batch job 13460418\"\n",
      "[1] \"cd /moto/ziab/users/jr3950/data/genomes/tmp_founders/bam && bcftools call -Oz -o /moto/ziab/users/jr3950/data/genomes/tmp_founders/bam/Founders.chr6.vcf.gz --ploidy 2 --threads 8 -a FORMAT/GQ,FORMAT/GP -m -v -V indels -S /moto/ziab/users/jr3950/data/genomes/tmp_founders/bam/PED.tsv /moto/ziab/users/jr3950/data/genomes/tmp_founders/bam/Founders.chr6.mpileup && bcftools index /moto/ziab/users/jr3950/data/genomes/tmp_founders/bam/Founders.chr6.vcf.gz && bcftools query -l /moto/ziab/users/jr3950/data/genomes/tmp_founders/bam/Founders.chr6.vcf.gz > /moto/ziab/users/jr3950/data/genomes/tmp_founders/bam/Founders.chr6.vcf.gz.samples\"\n",
      "[1] \"sbatch -c 8 --mem=16G --job-name=F0_call -A ziab -t 11:59:00 --wrap '. ~/ColumbiaProjects/Barn_Mice/activateEnv.sh samtools-116; cd /moto/ziab/users/jr3950/data/genomes/tmp_founders/bam && bcftools call -Oz -o /moto/ziab/users/jr3950/data/genomes/tmp_founders/bam/Founders.chr6.vcf.gz --ploidy 2 --threads 8 -a FORMAT/GQ,FORMAT/GP -m -v -V indels -S /moto/ziab/users/jr3950/data/genomes/tmp_founders/bam/PED.tsv /moto/ziab/users/jr3950/data/genomes/tmp_founders/bam/Founders.chr6.mpileup && bcftools index /moto/ziab/users/jr3950/data/genomes/tmp_founders/bam/Founders.chr6.vcf.gz && bcftools query -l /moto/ziab/users/jr3950/data/genomes/tmp_founders/bam/Founders.chr6.vcf.gz > /moto/ziab/users/jr3950/data/genomes/tmp_founders/bam/Founders.chr6.vcf.gz.samples'\"\n",
      "[1] \"Submitted batch job 13460419\"\n",
      "[1] \"cd /moto/ziab/users/jr3950/data/genomes/tmp_founders/bam && bcftools call -Oz -o /moto/ziab/users/jr3950/data/genomes/tmp_founders/bam/Founders.chr7.vcf.gz --ploidy 2 --threads 8 -a FORMAT/GQ,FORMAT/GP -m -v -V indels -S /moto/ziab/users/jr3950/data/genomes/tmp_founders/bam/PED.tsv /moto/ziab/users/jr3950/data/genomes/tmp_founders/bam/Founders.chr7.mpileup && bcftools index /moto/ziab/users/jr3950/data/genomes/tmp_founders/bam/Founders.chr7.vcf.gz && bcftools query -l /moto/ziab/users/jr3950/data/genomes/tmp_founders/bam/Founders.chr7.vcf.gz > /moto/ziab/users/jr3950/data/genomes/tmp_founders/bam/Founders.chr7.vcf.gz.samples\"\n",
      "[1] \"sbatch -c 8 --mem=16G --job-name=F0_call -A ziab -t 11:59:00 --wrap '. ~/ColumbiaProjects/Barn_Mice/activateEnv.sh samtools-116; cd /moto/ziab/users/jr3950/data/genomes/tmp_founders/bam && bcftools call -Oz -o /moto/ziab/users/jr3950/data/genomes/tmp_founders/bam/Founders.chr7.vcf.gz --ploidy 2 --threads 8 -a FORMAT/GQ,FORMAT/GP -m -v -V indels -S /moto/ziab/users/jr3950/data/genomes/tmp_founders/bam/PED.tsv /moto/ziab/users/jr3950/data/genomes/tmp_founders/bam/Founders.chr7.mpileup && bcftools index /moto/ziab/users/jr3950/data/genomes/tmp_founders/bam/Founders.chr7.vcf.gz && bcftools query -l /moto/ziab/users/jr3950/data/genomes/tmp_founders/bam/Founders.chr7.vcf.gz > /moto/ziab/users/jr3950/data/genomes/tmp_founders/bam/Founders.chr7.vcf.gz.samples'\"\n",
      "[1] \"Submitted batch job 13460420\"\n",
      "[1] \"cd /moto/ziab/users/jr3950/data/genomes/tmp_founders/bam && bcftools call -Oz -o /moto/ziab/users/jr3950/data/genomes/tmp_founders/bam/Founders.chr8.vcf.gz --ploidy 2 --threads 8 -a FORMAT/GQ,FORMAT/GP -m -v -V indels -S /moto/ziab/users/jr3950/data/genomes/tmp_founders/bam/PED.tsv /moto/ziab/users/jr3950/data/genomes/tmp_founders/bam/Founders.chr8.mpileup && bcftools index /moto/ziab/users/jr3950/data/genomes/tmp_founders/bam/Founders.chr8.vcf.gz && bcftools query -l /moto/ziab/users/jr3950/data/genomes/tmp_founders/bam/Founders.chr8.vcf.gz > /moto/ziab/users/jr3950/data/genomes/tmp_founders/bam/Founders.chr8.vcf.gz.samples\"\n",
      "[1] \"sbatch -c 8 --mem=16G --job-name=F0_call -A ziab -t 11:59:00 --wrap '. ~/ColumbiaProjects/Barn_Mice/activateEnv.sh samtools-116; cd /moto/ziab/users/jr3950/data/genomes/tmp_founders/bam && bcftools call -Oz -o /moto/ziab/users/jr3950/data/genomes/tmp_founders/bam/Founders.chr8.vcf.gz --ploidy 2 --threads 8 -a FORMAT/GQ,FORMAT/GP -m -v -V indels -S /moto/ziab/users/jr3950/data/genomes/tmp_founders/bam/PED.tsv /moto/ziab/users/jr3950/data/genomes/tmp_founders/bam/Founders.chr8.mpileup && bcftools index /moto/ziab/users/jr3950/data/genomes/tmp_founders/bam/Founders.chr8.vcf.gz && bcftools query -l /moto/ziab/users/jr3950/data/genomes/tmp_founders/bam/Founders.chr8.vcf.gz > /moto/ziab/users/jr3950/data/genomes/tmp_founders/bam/Founders.chr8.vcf.gz.samples'\"\n",
      "[1] \"Submitted batch job 13460421\"\n",
      "[1] \"cd /moto/ziab/users/jr3950/data/genomes/tmp_founders/bam && bcftools call -Oz -o /moto/ziab/users/jr3950/data/genomes/tmp_founders/bam/Founders.chr9.vcf.gz --ploidy 2 --threads 8 -a FORMAT/GQ,FORMAT/GP -m -v -V indels -S /moto/ziab/users/jr3950/data/genomes/tmp_founders/bam/PED.tsv /moto/ziab/users/jr3950/data/genomes/tmp_founders/bam/Founders.chr9.mpileup && bcftools index /moto/ziab/users/jr3950/data/genomes/tmp_founders/bam/Founders.chr9.vcf.gz && bcftools query -l /moto/ziab/users/jr3950/data/genomes/tmp_founders/bam/Founders.chr9.vcf.gz > /moto/ziab/users/jr3950/data/genomes/tmp_founders/bam/Founders.chr9.vcf.gz.samples\"\n",
      "[1] \"sbatch -c 8 --mem=16G --job-name=F0_call -A ziab -t 11:59:00 --wrap '. ~/ColumbiaProjects/Barn_Mice/activateEnv.sh samtools-116; cd /moto/ziab/users/jr3950/data/genomes/tmp_founders/bam && bcftools call -Oz -o /moto/ziab/users/jr3950/data/genomes/tmp_founders/bam/Founders.chr9.vcf.gz --ploidy 2 --threads 8 -a FORMAT/GQ,FORMAT/GP -m -v -V indels -S /moto/ziab/users/jr3950/data/genomes/tmp_founders/bam/PED.tsv /moto/ziab/users/jr3950/data/genomes/tmp_founders/bam/Founders.chr9.mpileup && bcftools index /moto/ziab/users/jr3950/data/genomes/tmp_founders/bam/Founders.chr9.vcf.gz && bcftools query -l /moto/ziab/users/jr3950/data/genomes/tmp_founders/bam/Founders.chr9.vcf.gz > /moto/ziab/users/jr3950/data/genomes/tmp_founders/bam/Founders.chr9.vcf.gz.samples'\"\n",
      "[1] \"Submitted batch job 13460422\"\n",
      "[1] \"cd /moto/ziab/users/jr3950/data/genomes/tmp_founders/bam && bcftools call -Oz -o /moto/ziab/users/jr3950/data/genomes/tmp_founders/bam/Founders.chr10.vcf.gz --ploidy 2 --threads 8 -a FORMAT/GQ,FORMAT/GP -m -v -V indels -S /moto/ziab/users/jr3950/data/genomes/tmp_founders/bam/PED.tsv /moto/ziab/users/jr3950/data/genomes/tmp_founders/bam/Founders.chr10.mpileup && bcftools index /moto/ziab/users/jr3950/data/genomes/tmp_founders/bam/Founders.chr10.vcf.gz && bcftools query -l /moto/ziab/users/jr3950/data/genomes/tmp_founders/bam/Founders.chr10.vcf.gz > /moto/ziab/users/jr3950/data/genomes/tmp_founders/bam/Founders.chr10.vcf.gz.samples\"\n",
      "[1] \"sbatch -c 8 --mem=16G --job-name=F0_call -A ziab -t 11:59:00 --wrap '. ~/ColumbiaProjects/Barn_Mice/activateEnv.sh samtools-116; cd /moto/ziab/users/jr3950/data/genomes/tmp_founders/bam && bcftools call -Oz -o /moto/ziab/users/jr3950/data/genomes/tmp_founders/bam/Founders.chr10.vcf.gz --ploidy 2 --threads 8 -a FORMAT/GQ,FORMAT/GP -m -v -V indels -S /moto/ziab/users/jr3950/data/genomes/tmp_founders/bam/PED.tsv /moto/ziab/users/jr3950/data/genomes/tmp_founders/bam/Founders.chr10.mpileup && bcftools index /moto/ziab/users/jr3950/data/genomes/tmp_founders/bam/Founders.chr10.vcf.gz && bcftools query -l /moto/ziab/users/jr3950/data/genomes/tmp_founders/bam/Founders.chr10.vcf.gz > /moto/ziab/users/jr3950/data/genomes/tmp_founders/bam/Founders.chr10.vcf.gz.samples'\"\n",
      "[1] \"Submitted batch job 13460423\"\n",
      "[1] \"cd /moto/ziab/users/jr3950/data/genomes/tmp_founders/bam && bcftools call -Oz -o /moto/ziab/users/jr3950/data/genomes/tmp_founders/bam/Founders.chr11.vcf.gz --ploidy 2 --threads 8 -a FORMAT/GQ,FORMAT/GP -m -v -V indels -S /moto/ziab/users/jr3950/data/genomes/tmp_founders/bam/PED.tsv /moto/ziab/users/jr3950/data/genomes/tmp_founders/bam/Founders.chr11.mpileup && bcftools index /moto/ziab/users/jr3950/data/genomes/tmp_founders/bam/Founders.chr11.vcf.gz && bcftools query -l /moto/ziab/users/jr3950/data/genomes/tmp_founders/bam/Founders.chr11.vcf.gz > /moto/ziab/users/jr3950/data/genomes/tmp_founders/bam/Founders.chr11.vcf.gz.samples\"\n",
      "[1] \"sbatch -c 8 --mem=16G --job-name=F0_call -A ziab -t 11:59:00 --wrap '. ~/ColumbiaProjects/Barn_Mice/activateEnv.sh samtools-116; cd /moto/ziab/users/jr3950/data/genomes/tmp_founders/bam && bcftools call -Oz -o /moto/ziab/users/jr3950/data/genomes/tmp_founders/bam/Founders.chr11.vcf.gz --ploidy 2 --threads 8 -a FORMAT/GQ,FORMAT/GP -m -v -V indels -S /moto/ziab/users/jr3950/data/genomes/tmp_founders/bam/PED.tsv /moto/ziab/users/jr3950/data/genomes/tmp_founders/bam/Founders.chr11.mpileup && bcftools index /moto/ziab/users/jr3950/data/genomes/tmp_founders/bam/Founders.chr11.vcf.gz && bcftools query -l /moto/ziab/users/jr3950/data/genomes/tmp_founders/bam/Founders.chr11.vcf.gz > /moto/ziab/users/jr3950/data/genomes/tmp_founders/bam/Founders.chr11.vcf.gz.samples'\"\n",
      "[1] \"Submitted batch job 13460424\"\n",
      "[1] \"cd /moto/ziab/users/jr3950/data/genomes/tmp_founders/bam && bcftools call -Oz -o /moto/ziab/users/jr3950/data/genomes/tmp_founders/bam/Founders.chr12.vcf.gz --ploidy 2 --threads 8 -a FORMAT/GQ,FORMAT/GP -m -v -V indels -S /moto/ziab/users/jr3950/data/genomes/tmp_founders/bam/PED.tsv /moto/ziab/users/jr3950/data/genomes/tmp_founders/bam/Founders.chr12.mpileup && bcftools index /moto/ziab/users/jr3950/data/genomes/tmp_founders/bam/Founders.chr12.vcf.gz && bcftools query -l /moto/ziab/users/jr3950/data/genomes/tmp_founders/bam/Founders.chr12.vcf.gz > /moto/ziab/users/jr3950/data/genomes/tmp_founders/bam/Founders.chr12.vcf.gz.samples\"\n",
      "[1] \"sbatch -c 8 --mem=16G --job-name=F0_call -A ziab -t 11:59:00 --wrap '. ~/ColumbiaProjects/Barn_Mice/activateEnv.sh samtools-116; cd /moto/ziab/users/jr3950/data/genomes/tmp_founders/bam && bcftools call -Oz -o /moto/ziab/users/jr3950/data/genomes/tmp_founders/bam/Founders.chr12.vcf.gz --ploidy 2 --threads 8 -a FORMAT/GQ,FORMAT/GP -m -v -V indels -S /moto/ziab/users/jr3950/data/genomes/tmp_founders/bam/PED.tsv /moto/ziab/users/jr3950/data/genomes/tmp_founders/bam/Founders.chr12.mpileup && bcftools index /moto/ziab/users/jr3950/data/genomes/tmp_founders/bam/Founders.chr12.vcf.gz && bcftools query -l /moto/ziab/users/jr3950/data/genomes/tmp_founders/bam/Founders.chr12.vcf.gz > /moto/ziab/users/jr3950/data/genomes/tmp_founders/bam/Founders.chr12.vcf.gz.samples'\"\n",
      "[1] \"Submitted batch job 13460425\"\n",
      "[1] \"cd /moto/ziab/users/jr3950/data/genomes/tmp_founders/bam && bcftools call -Oz -o /moto/ziab/users/jr3950/data/genomes/tmp_founders/bam/Founders.chr13.vcf.gz --ploidy 2 --threads 8 -a FORMAT/GQ,FORMAT/GP -m -v -V indels -S /moto/ziab/users/jr3950/data/genomes/tmp_founders/bam/PED.tsv /moto/ziab/users/jr3950/data/genomes/tmp_founders/bam/Founders.chr13.mpileup && bcftools index /moto/ziab/users/jr3950/data/genomes/tmp_founders/bam/Founders.chr13.vcf.gz && bcftools query -l /moto/ziab/users/jr3950/data/genomes/tmp_founders/bam/Founders.chr13.vcf.gz > /moto/ziab/users/jr3950/data/genomes/tmp_founders/bam/Founders.chr13.vcf.gz.samples\"\n",
      "[1] \"sbatch -c 8 --mem=16G --job-name=F0_call -A ziab -t 11:59:00 --wrap '. ~/ColumbiaProjects/Barn_Mice/activateEnv.sh samtools-116; cd /moto/ziab/users/jr3950/data/genomes/tmp_founders/bam && bcftools call -Oz -o /moto/ziab/users/jr3950/data/genomes/tmp_founders/bam/Founders.chr13.vcf.gz --ploidy 2 --threads 8 -a FORMAT/GQ,FORMAT/GP -m -v -V indels -S /moto/ziab/users/jr3950/data/genomes/tmp_founders/bam/PED.tsv /moto/ziab/users/jr3950/data/genomes/tmp_founders/bam/Founders.chr13.mpileup && bcftools index /moto/ziab/users/jr3950/data/genomes/tmp_founders/bam/Founders.chr13.vcf.gz && bcftools query -l /moto/ziab/users/jr3950/data/genomes/tmp_founders/bam/Founders.chr13.vcf.gz > /moto/ziab/users/jr3950/data/genomes/tmp_founders/bam/Founders.chr13.vcf.gz.samples'\"\n",
      "[1] \"Submitted batch job 13460426\"\n",
      "[1] \"cd /moto/ziab/users/jr3950/data/genomes/tmp_founders/bam && bcftools call -Oz -o /moto/ziab/users/jr3950/data/genomes/tmp_founders/bam/Founders.chr14.vcf.gz --ploidy 2 --threads 8 -a FORMAT/GQ,FORMAT/GP -m -v -V indels -S /moto/ziab/users/jr3950/data/genomes/tmp_founders/bam/PED.tsv /moto/ziab/users/jr3950/data/genomes/tmp_founders/bam/Founders.chr14.mpileup && bcftools index /moto/ziab/users/jr3950/data/genomes/tmp_founders/bam/Founders.chr14.vcf.gz && bcftools query -l /moto/ziab/users/jr3950/data/genomes/tmp_founders/bam/Founders.chr14.vcf.gz > /moto/ziab/users/jr3950/data/genomes/tmp_founders/bam/Founders.chr14.vcf.gz.samples\"\n",
      "[1] \"sbatch -c 8 --mem=16G --job-name=F0_call -A ziab -t 11:59:00 --wrap '. ~/ColumbiaProjects/Barn_Mice/activateEnv.sh samtools-116; cd /moto/ziab/users/jr3950/data/genomes/tmp_founders/bam && bcftools call -Oz -o /moto/ziab/users/jr3950/data/genomes/tmp_founders/bam/Founders.chr14.vcf.gz --ploidy 2 --threads 8 -a FORMAT/GQ,FORMAT/GP -m -v -V indels -S /moto/ziab/users/jr3950/data/genomes/tmp_founders/bam/PED.tsv /moto/ziab/users/jr3950/data/genomes/tmp_founders/bam/Founders.chr14.mpileup && bcftools index /moto/ziab/users/jr3950/data/genomes/tmp_founders/bam/Founders.chr14.vcf.gz && bcftools query -l /moto/ziab/users/jr3950/data/genomes/tmp_founders/bam/Founders.chr14.vcf.gz > /moto/ziab/users/jr3950/data/genomes/tmp_founders/bam/Founders.chr14.vcf.gz.samples'\"\n",
      "[1] \"Submitted batch job 13460427\"\n",
      "[1] \"cd /moto/ziab/users/jr3950/data/genomes/tmp_founders/bam && bcftools call -Oz -o /moto/ziab/users/jr3950/data/genomes/tmp_founders/bam/Founders.chr15.vcf.gz --ploidy 2 --threads 8 -a FORMAT/GQ,FORMAT/GP -m -v -V indels -S /moto/ziab/users/jr3950/data/genomes/tmp_founders/bam/PED.tsv /moto/ziab/users/jr3950/data/genomes/tmp_founders/bam/Founders.chr15.mpileup && bcftools index /moto/ziab/users/jr3950/data/genomes/tmp_founders/bam/Founders.chr15.vcf.gz && bcftools query -l /moto/ziab/users/jr3950/data/genomes/tmp_founders/bam/Founders.chr15.vcf.gz > /moto/ziab/users/jr3950/data/genomes/tmp_founders/bam/Founders.chr15.vcf.gz.samples\"\n",
      "[1] \"sbatch -c 8 --mem=16G --job-name=F0_call -A ziab -t 11:59:00 --wrap '. ~/ColumbiaProjects/Barn_Mice/activateEnv.sh samtools-116; cd /moto/ziab/users/jr3950/data/genomes/tmp_founders/bam && bcftools call -Oz -o /moto/ziab/users/jr3950/data/genomes/tmp_founders/bam/Founders.chr15.vcf.gz --ploidy 2 --threads 8 -a FORMAT/GQ,FORMAT/GP -m -v -V indels -S /moto/ziab/users/jr3950/data/genomes/tmp_founders/bam/PED.tsv /moto/ziab/users/jr3950/data/genomes/tmp_founders/bam/Founders.chr15.mpileup && bcftools index /moto/ziab/users/jr3950/data/genomes/tmp_founders/bam/Founders.chr15.vcf.gz && bcftools query -l /moto/ziab/users/jr3950/data/genomes/tmp_founders/bam/Founders.chr15.vcf.gz > /moto/ziab/users/jr3950/data/genomes/tmp_founders/bam/Founders.chr15.vcf.gz.samples'\"\n",
      "[1] \"Submitted batch job 13460428\"\n",
      "[1] \"cd /moto/ziab/users/jr3950/data/genomes/tmp_founders/bam && bcftools call -Oz -o /moto/ziab/users/jr3950/data/genomes/tmp_founders/bam/Founders.chr16.vcf.gz --ploidy 2 --threads 8 -a FORMAT/GQ,FORMAT/GP -m -v -V indels -S /moto/ziab/users/jr3950/data/genomes/tmp_founders/bam/PED.tsv /moto/ziab/users/jr3950/data/genomes/tmp_founders/bam/Founders.chr16.mpileup && bcftools index /moto/ziab/users/jr3950/data/genomes/tmp_founders/bam/Founders.chr16.vcf.gz && bcftools query -l /moto/ziab/users/jr3950/data/genomes/tmp_founders/bam/Founders.chr16.vcf.gz > /moto/ziab/users/jr3950/data/genomes/tmp_founders/bam/Founders.chr16.vcf.gz.samples\"\n",
      "[1] \"sbatch -c 8 --mem=16G --job-name=F0_call -A ziab -t 11:59:00 --wrap '. ~/ColumbiaProjects/Barn_Mice/activateEnv.sh samtools-116; cd /moto/ziab/users/jr3950/data/genomes/tmp_founders/bam && bcftools call -Oz -o /moto/ziab/users/jr3950/data/genomes/tmp_founders/bam/Founders.chr16.vcf.gz --ploidy 2 --threads 8 -a FORMAT/GQ,FORMAT/GP -m -v -V indels -S /moto/ziab/users/jr3950/data/genomes/tmp_founders/bam/PED.tsv /moto/ziab/users/jr3950/data/genomes/tmp_founders/bam/Founders.chr16.mpileup && bcftools index /moto/ziab/users/jr3950/data/genomes/tmp_founders/bam/Founders.chr16.vcf.gz && bcftools query -l /moto/ziab/users/jr3950/data/genomes/tmp_founders/bam/Founders.chr16.vcf.gz > /moto/ziab/users/jr3950/data/genomes/tmp_founders/bam/Founders.chr16.vcf.gz.samples'\"\n",
      "[1] \"Submitted batch job 13460429\"\n",
      "[1] \"cd /moto/ziab/users/jr3950/data/genomes/tmp_founders/bam && bcftools call -Oz -o /moto/ziab/users/jr3950/data/genomes/tmp_founders/bam/Founders.chr17.vcf.gz --ploidy 2 --threads 8 -a FORMAT/GQ,FORMAT/GP -m -v -V indels -S /moto/ziab/users/jr3950/data/genomes/tmp_founders/bam/PED.tsv /moto/ziab/users/jr3950/data/genomes/tmp_founders/bam/Founders.chr17.mpileup && bcftools index /moto/ziab/users/jr3950/data/genomes/tmp_founders/bam/Founders.chr17.vcf.gz && bcftools query -l /moto/ziab/users/jr3950/data/genomes/tmp_founders/bam/Founders.chr17.vcf.gz > /moto/ziab/users/jr3950/data/genomes/tmp_founders/bam/Founders.chr17.vcf.gz.samples\"\n",
      "[1] \"sbatch -c 8 --mem=16G --job-name=F0_call -A ziab -t 11:59:00 --wrap '. ~/ColumbiaProjects/Barn_Mice/activateEnv.sh samtools-116; cd /moto/ziab/users/jr3950/data/genomes/tmp_founders/bam && bcftools call -Oz -o /moto/ziab/users/jr3950/data/genomes/tmp_founders/bam/Founders.chr17.vcf.gz --ploidy 2 --threads 8 -a FORMAT/GQ,FORMAT/GP -m -v -V indels -S /moto/ziab/users/jr3950/data/genomes/tmp_founders/bam/PED.tsv /moto/ziab/users/jr3950/data/genomes/tmp_founders/bam/Founders.chr17.mpileup && bcftools index /moto/ziab/users/jr3950/data/genomes/tmp_founders/bam/Founders.chr17.vcf.gz && bcftools query -l /moto/ziab/users/jr3950/data/genomes/tmp_founders/bam/Founders.chr17.vcf.gz > /moto/ziab/users/jr3950/data/genomes/tmp_founders/bam/Founders.chr17.vcf.gz.samples'\"\n",
      "[1] \"Submitted batch job 13460430\"\n",
      "[1] \"cd /moto/ziab/users/jr3950/data/genomes/tmp_founders/bam && bcftools call -Oz -o /moto/ziab/users/jr3950/data/genomes/tmp_founders/bam/Founders.chr18.vcf.gz --ploidy 2 --threads 8 -a FORMAT/GQ,FORMAT/GP -m -v -V indels -S /moto/ziab/users/jr3950/data/genomes/tmp_founders/bam/PED.tsv /moto/ziab/users/jr3950/data/genomes/tmp_founders/bam/Founders.chr18.mpileup && bcftools index /moto/ziab/users/jr3950/data/genomes/tmp_founders/bam/Founders.chr18.vcf.gz && bcftools query -l /moto/ziab/users/jr3950/data/genomes/tmp_founders/bam/Founders.chr18.vcf.gz > /moto/ziab/users/jr3950/data/genomes/tmp_founders/bam/Founders.chr18.vcf.gz.samples\"\n",
      "[1] \"sbatch -c 8 --mem=16G --job-name=F0_call -A ziab -t 11:59:00 --wrap '. ~/ColumbiaProjects/Barn_Mice/activateEnv.sh samtools-116; cd /moto/ziab/users/jr3950/data/genomes/tmp_founders/bam && bcftools call -Oz -o /moto/ziab/users/jr3950/data/genomes/tmp_founders/bam/Founders.chr18.vcf.gz --ploidy 2 --threads 8 -a FORMAT/GQ,FORMAT/GP -m -v -V indels -S /moto/ziab/users/jr3950/data/genomes/tmp_founders/bam/PED.tsv /moto/ziab/users/jr3950/data/genomes/tmp_founders/bam/Founders.chr18.mpileup && bcftools index /moto/ziab/users/jr3950/data/genomes/tmp_founders/bam/Founders.chr18.vcf.gz && bcftools query -l /moto/ziab/users/jr3950/data/genomes/tmp_founders/bam/Founders.chr18.vcf.gz > /moto/ziab/users/jr3950/data/genomes/tmp_founders/bam/Founders.chr18.vcf.gz.samples'\"\n",
      "[1] \"Submitted batch job 13460431\"\n",
      "[1] \"cd /moto/ziab/users/jr3950/data/genomes/tmp_founders/bam && bcftools call -Oz -o /moto/ziab/users/jr3950/data/genomes/tmp_founders/bam/Founders.chr19.vcf.gz --ploidy 2 --threads 8 -a FORMAT/GQ,FORMAT/GP -m -v -V indels -S /moto/ziab/users/jr3950/data/genomes/tmp_founders/bam/PED.tsv /moto/ziab/users/jr3950/data/genomes/tmp_founders/bam/Founders.chr19.mpileup && bcftools index /moto/ziab/users/jr3950/data/genomes/tmp_founders/bam/Founders.chr19.vcf.gz && bcftools query -l /moto/ziab/users/jr3950/data/genomes/tmp_founders/bam/Founders.chr19.vcf.gz > /moto/ziab/users/jr3950/data/genomes/tmp_founders/bam/Founders.chr19.vcf.gz.samples\"\n",
      "[1] \"sbatch -c 8 --mem=16G --job-name=F0_call -A ziab -t 11:59:00 --wrap '. ~/ColumbiaProjects/Barn_Mice/activateEnv.sh samtools-116; cd /moto/ziab/users/jr3950/data/genomes/tmp_founders/bam && bcftools call -Oz -o /moto/ziab/users/jr3950/data/genomes/tmp_founders/bam/Founders.chr19.vcf.gz --ploidy 2 --threads 8 -a FORMAT/GQ,FORMAT/GP -m -v -V indels -S /moto/ziab/users/jr3950/data/genomes/tmp_founders/bam/PED.tsv /moto/ziab/users/jr3950/data/genomes/tmp_founders/bam/Founders.chr19.mpileup && bcftools index /moto/ziab/users/jr3950/data/genomes/tmp_founders/bam/Founders.chr19.vcf.gz && bcftools query -l /moto/ziab/users/jr3950/data/genomes/tmp_founders/bam/Founders.chr19.vcf.gz > /moto/ziab/users/jr3950/data/genomes/tmp_founders/bam/Founders.chr19.vcf.gz.samples'\"\n",
      "[1] \"Submitted batch job 13460432\"\n",
      "[1] \"cd /moto/ziab/users/jr3950/data/genomes/tmp_founders/bam && bcftools call -Oz -o /moto/ziab/users/jr3950/data/genomes/tmp_founders/bam/Founders.chrMT.vcf.gz --ploidy 1 --threads 8 -a FORMAT/GQ,FORMAT/GP -m -v -V indels -S /moto/ziab/users/jr3950/data/genomes/tmp_founders/bam/PED.tsv /moto/ziab/users/jr3950/data/genomes/tmp_founders/bam/Founders.chrMT.mpileup && bcftools index /moto/ziab/users/jr3950/data/genomes/tmp_founders/bam/Founders.chrMT.vcf.gz && bcftools query -l /moto/ziab/users/jr3950/data/genomes/tmp_founders/bam/Founders.chrMT.vcf.gz > /moto/ziab/users/jr3950/data/genomes/tmp_founders/bam/Founders.chrMT.vcf.gz.samples\"\n",
      "[1] \"sbatch -c 8 --mem=16G --job-name=F0_call -A ziab -t 11:59:00 --wrap '. ~/ColumbiaProjects/Barn_Mice/activateEnv.sh samtools-116; cd /moto/ziab/users/jr3950/data/genomes/tmp_founders/bam && bcftools call -Oz -o /moto/ziab/users/jr3950/data/genomes/tmp_founders/bam/Founders.chrMT.vcf.gz --ploidy 1 --threads 8 -a FORMAT/GQ,FORMAT/GP -m -v -V indels -S /moto/ziab/users/jr3950/data/genomes/tmp_founders/bam/PED.tsv /moto/ziab/users/jr3950/data/genomes/tmp_founders/bam/Founders.chrMT.mpileup && bcftools index /moto/ziab/users/jr3950/data/genomes/tmp_founders/bam/Founders.chrMT.vcf.gz && bcftools query -l /moto/ziab/users/jr3950/data/genomes/tmp_founders/bam/Founders.chrMT.vcf.gz > /moto/ziab/users/jr3950/data/genomes/tmp_founders/bam/Founders.chrMT.vcf.gz.samples'\"\n",
      "[1] \"Submitted batch job 13460433\"\n",
      "[1] \"cd /moto/ziab/users/jr3950/data/genomes/tmp_founders/bam && bcftools call -Oz -o /moto/ziab/users/jr3950/data/genomes/tmp_founders/bam/Founders.chrX.vcf.gz -X --threads 8 -a FORMAT/GQ,FORMAT/GP -m -v -V indels -S /moto/ziab/users/jr3950/data/genomes/tmp_founders/bam/PED.tsv /moto/ziab/users/jr3950/data/genomes/tmp_founders/bam/Founders.chrX.mpileup && bcftools index /moto/ziab/users/jr3950/data/genomes/tmp_founders/bam/Founders.chrX.vcf.gz && bcftools query -l /moto/ziab/users/jr3950/data/genomes/tmp_founders/bam/Founders.chrX.vcf.gz > /moto/ziab/users/jr3950/data/genomes/tmp_founders/bam/Founders.chrX.vcf.gz.samples\"\n",
      "[1] \"sbatch -c 8 --mem=16G --job-name=F0_call -A ziab -t 11:59:00 --wrap '. ~/ColumbiaProjects/Barn_Mice/activateEnv.sh samtools-116; cd /moto/ziab/users/jr3950/data/genomes/tmp_founders/bam && bcftools call -Oz -o /moto/ziab/users/jr3950/data/genomes/tmp_founders/bam/Founders.chrX.vcf.gz -X --threads 8 -a FORMAT/GQ,FORMAT/GP -m -v -V indels -S /moto/ziab/users/jr3950/data/genomes/tmp_founders/bam/PED.tsv /moto/ziab/users/jr3950/data/genomes/tmp_founders/bam/Founders.chrX.mpileup && bcftools index /moto/ziab/users/jr3950/data/genomes/tmp_founders/bam/Founders.chrX.vcf.gz && bcftools query -l /moto/ziab/users/jr3950/data/genomes/tmp_founders/bam/Founders.chrX.vcf.gz > /moto/ziab/users/jr3950/data/genomes/tmp_founders/bam/Founders.chrX.vcf.gz.samples'\"\n",
      "[1] \"Submitted batch job 13460434\"\n",
      "[1] \"cd /moto/ziab/users/jr3950/data/genomes/tmp_founders/bam && bcftools call -Oz -o /moto/ziab/users/jr3950/data/genomes/tmp_founders/bam/Founders.chrY.vcf.gz -Y --threads 8 -a FORMAT/GQ,FORMAT/GP -m -v -V indels -S /moto/ziab/users/jr3950/data/genomes/tmp_founders/bam/PED.tsv /moto/ziab/users/jr3950/data/genomes/tmp_founders/bam/Founders.chrY.mpileup && bcftools index /moto/ziab/users/jr3950/data/genomes/tmp_founders/bam/Founders.chrY.vcf.gz && bcftools query -l /moto/ziab/users/jr3950/data/genomes/tmp_founders/bam/Founders.chrY.vcf.gz > /moto/ziab/users/jr3950/data/genomes/tmp_founders/bam/Founders.chrY.vcf.gz.samples\"\n",
      "[1] \"sbatch -c 8 --mem=16G --job-name=F0_call -A ziab -t 11:59:00 --wrap '. ~/ColumbiaProjects/Barn_Mice/activateEnv.sh samtools-116; cd /moto/ziab/users/jr3950/data/genomes/tmp_founders/bam && bcftools call -Oz -o /moto/ziab/users/jr3950/data/genomes/tmp_founders/bam/Founders.chrY.vcf.gz -Y --threads 8 -a FORMAT/GQ,FORMAT/GP -m -v -V indels -S /moto/ziab/users/jr3950/data/genomes/tmp_founders/bam/PED.tsv /moto/ziab/users/jr3950/data/genomes/tmp_founders/bam/Founders.chrY.mpileup && bcftools index /moto/ziab/users/jr3950/data/genomes/tmp_founders/bam/Founders.chrY.vcf.gz && bcftools query -l /moto/ziab/users/jr3950/data/genomes/tmp_founders/bam/Founders.chrY.vcf.gz > /moto/ziab/users/jr3950/data/genomes/tmp_founders/bam/Founders.chrY.vcf.gz.samples'\"\n",
      "[1] \"Submitted batch job 13460435\"\n"
     ]
    }
   ],
   "source": [
    "jobname=\"F0_call\"\n",
    "for(f in files){\n",
    "    c=getWhich(basename(f), split=\".\", which=2)\n",
    "\n",
    "    ploidy_flag=\"--ploidy 2\"\n",
    "    # -Y and -X for the sex chromosomes\n",
    "    # 1 for MT\n",
    "    if(c == \"chrY\"){\n",
    "        ploidy_flag=\"-Y\"\n",
    "    }\n",
    "    if(c == \"chrX\"){\n",
    "        ploidy_flag=\"-X\"\n",
    "    }\n",
    "    if(c == \"chrMT\"){\n",
    "        ploidy_flag=\"--ploidy 1\"\n",
    "    }\n",
    "    \n",
    "    filename=str_replace(f, fixed(\".mpileup\"), \".vcf.gz\")\n",
    "    \n",
    "    cmd=paste0(\"cd \",bam_dir, \" && bcftools call -Oz -o \",filename,\" \",\n",
    "              \"\",ploidy_flag,\" --threads 8 -a FORMAT/GQ,FORMAT/GP \",\n",
    "              \"-m -v -V indels -S \",PED_file, \" \", f, \" && bcftools index \",filename, \n",
    "               \" && bcftools query -l \",filename, \" > \",filename,\".samples\")\n",
    "    \n",
    "    print(cmd)\n",
    "    execute_cmd_sbatch(cmd=cmd, mem=\"16G\", cpu=\"8\", time=\"short\", acc=slurm_acc, env=env_mapping_etc, jobname=jobname,\n",
    "                      activateEnvScript=paste0(Barn_Mice_dir,\"activateEnv.sh\"))\n",
    "    Sys.sleep(1)\n",
    "}"
   ]
  },
  {
   "cell_type": "code",
   "execution_count": 16,
   "metadata": {
    "tags": []
   },
   "outputs": [
    {
     "data": {
      "text/html": [
       "'F0_call'"
      ],
      "text/latex": [
       "'F0\\_call'"
      ],
      "text/markdown": [
       "'F0_call'"
      ],
      "text/plain": [
       "[1] \"F0_call\""
      ]
     },
     "metadata": {},
     "output_type": "display_data"
    },
    {
     "name": "stdout",
     "output_type": "stream",
     "text": [
      "[1] \"sbatch -c 8 --mem=16G --job-name=Mendel -A ziab -t 11:59:00 --wrap '. ~/ColumbiaProjects/Barn_Mice/activateEnv.sh samtools-116; bcftools +mendelian /moto/ziab/users/jr3950/data/genomes/tmp_founders/bam/Founders.chr1.vcf.gz -T /moto/ziab/users/jr3950/data/genomes/tmp_founders/bam/test_trios.txt -m c > /moto/ziab/users/jr3950/data/genomes/tmp_founders/bam/Founders.chr1.vcf.gz.mendel.txt'\"\n",
      "[1] \"Submitted batch job 13460466\"\n",
      "[1] \"sbatch -c 8 --mem=16G --job-name=Mendel -A ziab -t 11:59:00 --wrap '. ~/ColumbiaProjects/Barn_Mice/activateEnv.sh samtools-116; bcftools +mendelian /moto/ziab/users/jr3950/data/genomes/tmp_founders/bam/Founders.chr2.vcf.gz -T /moto/ziab/users/jr3950/data/genomes/tmp_founders/bam/test_trios.txt -m c > /moto/ziab/users/jr3950/data/genomes/tmp_founders/bam/Founders.chr2.vcf.gz.mendel.txt'\"\n",
      "[1] \"Submitted batch job 13460467\"\n",
      "[1] \"sbatch -c 8 --mem=16G --job-name=Mendel -A ziab -t 11:59:00 --wrap '. ~/ColumbiaProjects/Barn_Mice/activateEnv.sh samtools-116; bcftools +mendelian /moto/ziab/users/jr3950/data/genomes/tmp_founders/bam/Founders.chr3.vcf.gz -T /moto/ziab/users/jr3950/data/genomes/tmp_founders/bam/test_trios.txt -m c > /moto/ziab/users/jr3950/data/genomes/tmp_founders/bam/Founders.chr3.vcf.gz.mendel.txt'\"\n",
      "[1] \"Submitted batch job 13460468\"\n",
      "[1] \"sbatch -c 8 --mem=16G --job-name=Mendel -A ziab -t 11:59:00 --wrap '. ~/ColumbiaProjects/Barn_Mice/activateEnv.sh samtools-116; bcftools +mendelian /moto/ziab/users/jr3950/data/genomes/tmp_founders/bam/Founders.chr4.vcf.gz -T /moto/ziab/users/jr3950/data/genomes/tmp_founders/bam/test_trios.txt -m c > /moto/ziab/users/jr3950/data/genomes/tmp_founders/bam/Founders.chr4.vcf.gz.mendel.txt'\"\n",
      "[1] \"Submitted batch job 13460469\"\n",
      "[1] \"sbatch -c 8 --mem=16G --job-name=Mendel -A ziab -t 11:59:00 --wrap '. ~/ColumbiaProjects/Barn_Mice/activateEnv.sh samtools-116; bcftools +mendelian /moto/ziab/users/jr3950/data/genomes/tmp_founders/bam/Founders.chr5.vcf.gz -T /moto/ziab/users/jr3950/data/genomes/tmp_founders/bam/test_trios.txt -m c > /moto/ziab/users/jr3950/data/genomes/tmp_founders/bam/Founders.chr5.vcf.gz.mendel.txt'\"\n",
      "[1] \"Submitted batch job 13460470\"\n",
      "[1] \"sbatch -c 8 --mem=16G --job-name=Mendel -A ziab -t 11:59:00 --wrap '. ~/ColumbiaProjects/Barn_Mice/activateEnv.sh samtools-116; bcftools +mendelian /moto/ziab/users/jr3950/data/genomes/tmp_founders/bam/Founders.chr6.vcf.gz -T /moto/ziab/users/jr3950/data/genomes/tmp_founders/bam/test_trios.txt -m c > /moto/ziab/users/jr3950/data/genomes/tmp_founders/bam/Founders.chr6.vcf.gz.mendel.txt'\"\n",
      "[1] \"Submitted batch job 13460471\"\n",
      "[1] \"sbatch -c 8 --mem=16G --job-name=Mendel -A ziab -t 11:59:00 --wrap '. ~/ColumbiaProjects/Barn_Mice/activateEnv.sh samtools-116; bcftools +mendelian /moto/ziab/users/jr3950/data/genomes/tmp_founders/bam/Founders.chr7.vcf.gz -T /moto/ziab/users/jr3950/data/genomes/tmp_founders/bam/test_trios.txt -m c > /moto/ziab/users/jr3950/data/genomes/tmp_founders/bam/Founders.chr7.vcf.gz.mendel.txt'\"\n",
      "[1] \"Submitted batch job 13460472\"\n",
      "[1] \"sbatch -c 8 --mem=16G --job-name=Mendel -A ziab -t 11:59:00 --wrap '. ~/ColumbiaProjects/Barn_Mice/activateEnv.sh samtools-116; bcftools +mendelian /moto/ziab/users/jr3950/data/genomes/tmp_founders/bam/Founders.chr8.vcf.gz -T /moto/ziab/users/jr3950/data/genomes/tmp_founders/bam/test_trios.txt -m c > /moto/ziab/users/jr3950/data/genomes/tmp_founders/bam/Founders.chr8.vcf.gz.mendel.txt'\"\n",
      "[1] \"Submitted batch job 13460473\"\n",
      "[1] \"sbatch -c 8 --mem=16G --job-name=Mendel -A ziab -t 11:59:00 --wrap '. ~/ColumbiaProjects/Barn_Mice/activateEnv.sh samtools-116; bcftools +mendelian /moto/ziab/users/jr3950/data/genomes/tmp_founders/bam/Founders.chr9.vcf.gz -T /moto/ziab/users/jr3950/data/genomes/tmp_founders/bam/test_trios.txt -m c > /moto/ziab/users/jr3950/data/genomes/tmp_founders/bam/Founders.chr9.vcf.gz.mendel.txt'\"\n",
      "[1] \"Submitted batch job 13460474\"\n",
      "[1] \"sbatch -c 8 --mem=16G --job-name=Mendel -A ziab -t 11:59:00 --wrap '. ~/ColumbiaProjects/Barn_Mice/activateEnv.sh samtools-116; bcftools +mendelian /moto/ziab/users/jr3950/data/genomes/tmp_founders/bam/Founders.chr10.vcf.gz -T /moto/ziab/users/jr3950/data/genomes/tmp_founders/bam/test_trios.txt -m c > /moto/ziab/users/jr3950/data/genomes/tmp_founders/bam/Founders.chr10.vcf.gz.mendel.txt'\"\n",
      "[1] \"Submitted batch job 13460475\"\n",
      "[1] \"sbatch -c 8 --mem=16G --job-name=Mendel -A ziab -t 11:59:00 --wrap '. ~/ColumbiaProjects/Barn_Mice/activateEnv.sh samtools-116; bcftools +mendelian /moto/ziab/users/jr3950/data/genomes/tmp_founders/bam/Founders.chr11.vcf.gz -T /moto/ziab/users/jr3950/data/genomes/tmp_founders/bam/test_trios.txt -m c > /moto/ziab/users/jr3950/data/genomes/tmp_founders/bam/Founders.chr11.vcf.gz.mendel.txt'\"\n",
      "[1] \"Submitted batch job 13460476\"\n",
      "[1] \"sbatch -c 8 --mem=16G --job-name=Mendel -A ziab -t 11:59:00 --wrap '. ~/ColumbiaProjects/Barn_Mice/activateEnv.sh samtools-116; bcftools +mendelian /moto/ziab/users/jr3950/data/genomes/tmp_founders/bam/Founders.chr12.vcf.gz -T /moto/ziab/users/jr3950/data/genomes/tmp_founders/bam/test_trios.txt -m c > /moto/ziab/users/jr3950/data/genomes/tmp_founders/bam/Founders.chr12.vcf.gz.mendel.txt'\"\n",
      "[1] \"Submitted batch job 13460477\"\n",
      "[1] \"sbatch -c 8 --mem=16G --job-name=Mendel -A ziab -t 11:59:00 --wrap '. ~/ColumbiaProjects/Barn_Mice/activateEnv.sh samtools-116; bcftools +mendelian /moto/ziab/users/jr3950/data/genomes/tmp_founders/bam/Founders.chr13.vcf.gz -T /moto/ziab/users/jr3950/data/genomes/tmp_founders/bam/test_trios.txt -m c > /moto/ziab/users/jr3950/data/genomes/tmp_founders/bam/Founders.chr13.vcf.gz.mendel.txt'\"\n",
      "[1] \"Submitted batch job 13460478\"\n",
      "[1] \"sbatch -c 8 --mem=16G --job-name=Mendel -A ziab -t 11:59:00 --wrap '. ~/ColumbiaProjects/Barn_Mice/activateEnv.sh samtools-116; bcftools +mendelian /moto/ziab/users/jr3950/data/genomes/tmp_founders/bam/Founders.chr14.vcf.gz -T /moto/ziab/users/jr3950/data/genomes/tmp_founders/bam/test_trios.txt -m c > /moto/ziab/users/jr3950/data/genomes/tmp_founders/bam/Founders.chr14.vcf.gz.mendel.txt'\"\n",
      "[1] \"Submitted batch job 13460479\"\n",
      "[1] \"sbatch -c 8 --mem=16G --job-name=Mendel -A ziab -t 11:59:00 --wrap '. ~/ColumbiaProjects/Barn_Mice/activateEnv.sh samtools-116; bcftools +mendelian /moto/ziab/users/jr3950/data/genomes/tmp_founders/bam/Founders.chr15.vcf.gz -T /moto/ziab/users/jr3950/data/genomes/tmp_founders/bam/test_trios.txt -m c > /moto/ziab/users/jr3950/data/genomes/tmp_founders/bam/Founders.chr15.vcf.gz.mendel.txt'\"\n",
      "[1] \"Submitted batch job 13460480\"\n",
      "[1] \"sbatch -c 8 --mem=16G --job-name=Mendel -A ziab -t 11:59:00 --wrap '. ~/ColumbiaProjects/Barn_Mice/activateEnv.sh samtools-116; bcftools +mendelian /moto/ziab/users/jr3950/data/genomes/tmp_founders/bam/Founders.chr16.vcf.gz -T /moto/ziab/users/jr3950/data/genomes/tmp_founders/bam/test_trios.txt -m c > /moto/ziab/users/jr3950/data/genomes/tmp_founders/bam/Founders.chr16.vcf.gz.mendel.txt'\"\n",
      "[1] \"Submitted batch job 13460481\"\n",
      "[1] \"sbatch -c 8 --mem=16G --job-name=Mendel -A ziab -t 11:59:00 --wrap '. ~/ColumbiaProjects/Barn_Mice/activateEnv.sh samtools-116; bcftools +mendelian /moto/ziab/users/jr3950/data/genomes/tmp_founders/bam/Founders.chr17.vcf.gz -T /moto/ziab/users/jr3950/data/genomes/tmp_founders/bam/test_trios.txt -m c > /moto/ziab/users/jr3950/data/genomes/tmp_founders/bam/Founders.chr17.vcf.gz.mendel.txt'\"\n",
      "[1] \"Submitted batch job 13460482\"\n",
      "[1] \"sbatch -c 8 --mem=16G --job-name=Mendel -A ziab -t 11:59:00 --wrap '. ~/ColumbiaProjects/Barn_Mice/activateEnv.sh samtools-116; bcftools +mendelian /moto/ziab/users/jr3950/data/genomes/tmp_founders/bam/Founders.chr18.vcf.gz -T /moto/ziab/users/jr3950/data/genomes/tmp_founders/bam/test_trios.txt -m c > /moto/ziab/users/jr3950/data/genomes/tmp_founders/bam/Founders.chr18.vcf.gz.mendel.txt'\"\n",
      "[1] \"Submitted batch job 13460483\"\n",
      "[1] \"sbatch -c 8 --mem=16G --job-name=Mendel -A ziab -t 11:59:00 --wrap '. ~/ColumbiaProjects/Barn_Mice/activateEnv.sh samtools-116; bcftools +mendelian /moto/ziab/users/jr3950/data/genomes/tmp_founders/bam/Founders.chr19.vcf.gz -T /moto/ziab/users/jr3950/data/genomes/tmp_founders/bam/test_trios.txt -m c > /moto/ziab/users/jr3950/data/genomes/tmp_founders/bam/Founders.chr19.vcf.gz.mendel.txt'\"\n",
      "[1] \"Submitted batch job 13460484\"\n"
     ]
    },
    {
     "data": {
      "text/html": [
       "'Mendel'"
      ],
      "text/latex": [
       "'Mendel'"
      ],
      "text/markdown": [
       "'Mendel'"
      ],
      "text/plain": [
       "[1] \"Mendel\""
      ]
     },
     "metadata": {},
     "output_type": "display_data"
    }
   ],
   "source": [
    "# check each combination of IDs for lowest Mendelian errors\n",
    "# sanity check\n",
    "trios=crossing(mother = females, father = males, offspring = c(females, males))\n",
    "trios=filter(trios, !(offspring%in%paste0(\"SM_SW_\",1:12)), mother %in% paste0(\"SM_SW_\",1:12),\n",
    "            father %in% paste0(\"SM_SW_\",1:12))\n",
    "fwrite(trios, paste0(bam_dir,\"/\",\"test_trios.txt\"), sep=\",\", col.names = FALSE)\n",
    "\n",
    "\n",
    "\n",
    "\n",
    "jobname\n",
    "while(slurm_check_jobs_still_running(columbia_username,jobname)){\n",
    "    Sys.sleep(60)\n",
    "}\n",
    "\n",
    "files=naturalsort(list.files(path = bam_dir, pattern=\"chr[0-9]*.vcf.gz$\", full.names = TRUE))\n",
    "jobname=\"Mendel\"\n",
    "for(f in files){\n",
    "    cmd=paste0(\"bcftools +mendelian \",f,\" -T \",paste0(bam_dir,\"/\",\"test_trios.txt\"),\" -m c > \",f,\".mendel.txt\")\n",
    "    execute_cmd_sbatch(cmd=cmd, mem=\"16G\", cpu=\"8\", time=\"short\", acc=slurm_acc, env=env_mapping_etc, jobname=jobname,\n",
    "                      activateEnvScript=paste0(Barn_Mice_dir,\"activateEnv.sh\"))\n",
    "    Sys.sleep(1)\n",
    "}\n",
    "jobname\n",
    "while(slurm_check_jobs_still_running(columbia_username,jobname)){\n",
    "    Sys.sleep(60)\n",
    "}\n"
   ]
  },
  {
   "cell_type": "code",
   "execution_count": 18,
   "metadata": {
    "tags": []
   },
   "outputs": [
    {
     "name": "stdout",
     "output_type": "stream",
     "text": [
      "[1] 0.1502124\n",
      "[1] 0.1684524\n",
      "\u001b[90m# A tidytable: 8 x 6\u001b[39m\n",
      "  Individual Father   father   Mother   mother   errors_per_child\n",
      "  \u001b[3m\u001b[90m<chr>\u001b[39m\u001b[23m      \u001b[3m\u001b[90m<chr>\u001b[39m\u001b[23m    \u001b[3m\u001b[90m<chr>\u001b[39m\u001b[23m    \u001b[3m\u001b[90m<chr>\u001b[39m\u001b[23m    \u001b[3m\u001b[90m<chr>\u001b[39m\u001b[23m               \u001b[3m\u001b[90m<dbl>\u001b[39m\u001b[23m\n",
      "\u001b[90m1\u001b[39m SM_SW_25   SM_SW_9  SM_SW_9  SM_SW_7  SM_SW_7            0.024\u001b[4m0\u001b[24m\n",
      "\u001b[90m2\u001b[39m SM_SW_90   SM_SW_3  SM_SW_3  SM_SW_2  SM_SW_2            0.025\u001b[4m7\u001b[24m\n",
      "\u001b[90m3\u001b[39m SM_SW_84   SM_SW_6  SM_SW_6  SM_SW_5  SM_SW_5            0.026\u001b[4m9\u001b[24m\n",
      "\u001b[90m4\u001b[39m SM_SW_87   SM_SW_3  SM_SW_3  SM_SW_1  SM_SW_1            0.027\u001b[4m1\u001b[24m\n",
      "\u001b[90m5\u001b[39m SM_SW_85   SM_SW_6  SM_SW_6  SM_SW_4  SM_SW_4            0.027\u001b[4m3\u001b[24m\n",
      "\u001b[90m6\u001b[39m SM_SW_80   SM_SW_12 SM_SW_12 SM_SW_10 SM_SW_10           0.027\u001b[4m4\u001b[24m\n",
      "\u001b[90m7\u001b[39m SM_SW_31   SM_SW_12 SM_SW_12 SM_SW_11 SM_SW_11           0.029\u001b[4m9\u001b[24m\n",
      "\u001b[90m8\u001b[39m SM_SW_1133 SM_SW_9  SM_SW_9  SM_SW_8  SM_SW_8            0.064\u001b[4m7\u001b[24m\n"
     ]
    }
   ],
   "source": [
    "\n",
    "# Read in the data for all chromosomes\n",
    "mendelian_counts <- lapply(1:19, function(chr) {\n",
    "  fread(paste0(\"/moto/ziab/users/jr3950/data/genomes/tmp_founders/bam/Founders.chr\", chr, \".vcf.gz.mendel.txt\"))\n",
    "}) %>%\n",
    "  bind_rows()\n",
    "\n",
    "# Rename the columns\n",
    "colnames(mendelian_counts) <- c(\"nOK\", \"nBad\", \"nSkipped\", \"Trio\")\n",
    "\n",
    "mendelian_counts=summarise(group_by(mendelian_counts, \n",
    "                                   Trio),\n",
    "                          nOK=sum(nOK), nBad=sum(nBad), nSkipped=sum(nSkipped))\n",
    "\n",
    "# Split the Trio column into separate mother, father, and child columns\n",
    "mendelian_counts <- separate(mendelian_counts, Trio, into = c(\"mother\", \"father\", \"child\"), sep = \",\")\n",
    "\n",
    "# Calculate the number of errors per child for each trio\n",
    "mendelian_counts <- mendelian_counts %>%\n",
    "  group_by(child) %>%\n",
    "  mutate(errors_per_child = nBad / (nBad+nOK))\n",
    "\n",
    "# Identify the trio with the lowest number of errors per child for each child\n",
    "best_trios <- mendelian_counts %>%\n",
    "  group_by(child) %>%\n",
    "  filter(errors_per_child == min(errors_per_child)) %>%\n",
    "  arrange(errors_per_child)\n",
    "\n",
    "print(mean(mendelian_counts$errors_per_child))\n",
    "\n",
    "print(mean(mendelian_counts$errors_per_child[mendelian_counts$child==\"SM_SW_1133\"]))\n",
    "\n",
    "merged_data <- merge(ped, best_trios, by.x = \"Individual\", by.y = \"child\")\n",
    "\n",
    "# Print the best trio for each child\n",
    "print(select(merged_data, Individual, Father, father, Mother, mother, errors_per_child) %>%\n",
    "  arrange(errors_per_child))"
   ]
  },
  {
   "cell_type": "code",
   "execution_count": 21,
   "metadata": {},
   "outputs": [
    {
     "data": {
      "text/html": [
       "'F0_call'"
      ],
      "text/latex": [
       "'F0\\_call'"
      ],
      "text/markdown": [
       "'F0_call'"
      ],
      "text/plain": [
       "[1] \"F0_call\""
      ]
     },
     "metadata": {},
     "output_type": "display_data"
    },
    {
     "data": {
      "text/html": [
       "<style>\n",
       ".list-inline {list-style: none; margin:0; padding: 0}\n",
       ".list-inline>li {display: inline-block}\n",
       ".list-inline>li:not(:last-child)::after {content: \"\\00b7\"; padding: 0 .5ex}\n",
       "</style>\n",
       "<ol class=list-inline><li>'/moto/ziab/users/jr3950/data/genomes/tmp_founders/bam/Founders.chr1.vcf.gz'</li><li>'/moto/ziab/users/jr3950/data/genomes/tmp_founders/bam/Founders.chr2.vcf.gz'</li><li>'/moto/ziab/users/jr3950/data/genomes/tmp_founders/bam/Founders.chr3.vcf.gz'</li><li>'/moto/ziab/users/jr3950/data/genomes/tmp_founders/bam/Founders.chr4.vcf.gz'</li><li>'/moto/ziab/users/jr3950/data/genomes/tmp_founders/bam/Founders.chr5.vcf.gz'</li><li>'/moto/ziab/users/jr3950/data/genomes/tmp_founders/bam/Founders.chr6.vcf.gz'</li><li>'/moto/ziab/users/jr3950/data/genomes/tmp_founders/bam/Founders.chr7.vcf.gz'</li><li>'/moto/ziab/users/jr3950/data/genomes/tmp_founders/bam/Founders.chr8.vcf.gz'</li><li>'/moto/ziab/users/jr3950/data/genomes/tmp_founders/bam/Founders.chr9.vcf.gz'</li><li>'/moto/ziab/users/jr3950/data/genomes/tmp_founders/bam/Founders.chr10.vcf.gz'</li><li>'/moto/ziab/users/jr3950/data/genomes/tmp_founders/bam/Founders.chr11.vcf.gz'</li><li>'/moto/ziab/users/jr3950/data/genomes/tmp_founders/bam/Founders.chr12.vcf.gz'</li><li>'/moto/ziab/users/jr3950/data/genomes/tmp_founders/bam/Founders.chr13.vcf.gz'</li><li>'/moto/ziab/users/jr3950/data/genomes/tmp_founders/bam/Founders.chr14.vcf.gz'</li><li>'/moto/ziab/users/jr3950/data/genomes/tmp_founders/bam/Founders.chr15.vcf.gz'</li><li>'/moto/ziab/users/jr3950/data/genomes/tmp_founders/bam/Founders.chr16.vcf.gz'</li><li>'/moto/ziab/users/jr3950/data/genomes/tmp_founders/bam/Founders.chr17.vcf.gz'</li><li>'/moto/ziab/users/jr3950/data/genomes/tmp_founders/bam/Founders.chr18.vcf.gz'</li><li>'/moto/ziab/users/jr3950/data/genomes/tmp_founders/bam/Founders.chr19.vcf.gz'</li><li>'/moto/ziab/users/jr3950/data/genomes/tmp_founders/bam/Founders.chrMT.vcf.gz'</li><li>'/moto/ziab/users/jr3950/data/genomes/tmp_founders/bam/Founders.chrX.vcf.gz'</li><li>'/moto/ziab/users/jr3950/data/genomes/tmp_founders/bam/Founders.chrY.vcf.gz'</li><li>'/moto/ziab/users/jr3950/data/genomes/tmp_founders/bam/Founders.merged.vcf.gz'</li></ol>\n"
      ],
      "text/latex": [
       "\\begin{enumerate*}\n",
       "\\item '/moto/ziab/users/jr3950/data/genomes/tmp\\_founders/bam/Founders.chr1.vcf.gz'\n",
       "\\item '/moto/ziab/users/jr3950/data/genomes/tmp\\_founders/bam/Founders.chr2.vcf.gz'\n",
       "\\item '/moto/ziab/users/jr3950/data/genomes/tmp\\_founders/bam/Founders.chr3.vcf.gz'\n",
       "\\item '/moto/ziab/users/jr3950/data/genomes/tmp\\_founders/bam/Founders.chr4.vcf.gz'\n",
       "\\item '/moto/ziab/users/jr3950/data/genomes/tmp\\_founders/bam/Founders.chr5.vcf.gz'\n",
       "\\item '/moto/ziab/users/jr3950/data/genomes/tmp\\_founders/bam/Founders.chr6.vcf.gz'\n",
       "\\item '/moto/ziab/users/jr3950/data/genomes/tmp\\_founders/bam/Founders.chr7.vcf.gz'\n",
       "\\item '/moto/ziab/users/jr3950/data/genomes/tmp\\_founders/bam/Founders.chr8.vcf.gz'\n",
       "\\item '/moto/ziab/users/jr3950/data/genomes/tmp\\_founders/bam/Founders.chr9.vcf.gz'\n",
       "\\item '/moto/ziab/users/jr3950/data/genomes/tmp\\_founders/bam/Founders.chr10.vcf.gz'\n",
       "\\item '/moto/ziab/users/jr3950/data/genomes/tmp\\_founders/bam/Founders.chr11.vcf.gz'\n",
       "\\item '/moto/ziab/users/jr3950/data/genomes/tmp\\_founders/bam/Founders.chr12.vcf.gz'\n",
       "\\item '/moto/ziab/users/jr3950/data/genomes/tmp\\_founders/bam/Founders.chr13.vcf.gz'\n",
       "\\item '/moto/ziab/users/jr3950/data/genomes/tmp\\_founders/bam/Founders.chr14.vcf.gz'\n",
       "\\item '/moto/ziab/users/jr3950/data/genomes/tmp\\_founders/bam/Founders.chr15.vcf.gz'\n",
       "\\item '/moto/ziab/users/jr3950/data/genomes/tmp\\_founders/bam/Founders.chr16.vcf.gz'\n",
       "\\item '/moto/ziab/users/jr3950/data/genomes/tmp\\_founders/bam/Founders.chr17.vcf.gz'\n",
       "\\item '/moto/ziab/users/jr3950/data/genomes/tmp\\_founders/bam/Founders.chr18.vcf.gz'\n",
       "\\item '/moto/ziab/users/jr3950/data/genomes/tmp\\_founders/bam/Founders.chr19.vcf.gz'\n",
       "\\item '/moto/ziab/users/jr3950/data/genomes/tmp\\_founders/bam/Founders.chrMT.vcf.gz'\n",
       "\\item '/moto/ziab/users/jr3950/data/genomes/tmp\\_founders/bam/Founders.chrX.vcf.gz'\n",
       "\\item '/moto/ziab/users/jr3950/data/genomes/tmp\\_founders/bam/Founders.chrY.vcf.gz'\n",
       "\\item '/moto/ziab/users/jr3950/data/genomes/tmp\\_founders/bam/Founders.merged.vcf.gz'\n",
       "\\end{enumerate*}\n"
      ],
      "text/markdown": [
       "1. '/moto/ziab/users/jr3950/data/genomes/tmp_founders/bam/Founders.chr1.vcf.gz'\n",
       "2. '/moto/ziab/users/jr3950/data/genomes/tmp_founders/bam/Founders.chr2.vcf.gz'\n",
       "3. '/moto/ziab/users/jr3950/data/genomes/tmp_founders/bam/Founders.chr3.vcf.gz'\n",
       "4. '/moto/ziab/users/jr3950/data/genomes/tmp_founders/bam/Founders.chr4.vcf.gz'\n",
       "5. '/moto/ziab/users/jr3950/data/genomes/tmp_founders/bam/Founders.chr5.vcf.gz'\n",
       "6. '/moto/ziab/users/jr3950/data/genomes/tmp_founders/bam/Founders.chr6.vcf.gz'\n",
       "7. '/moto/ziab/users/jr3950/data/genomes/tmp_founders/bam/Founders.chr7.vcf.gz'\n",
       "8. '/moto/ziab/users/jr3950/data/genomes/tmp_founders/bam/Founders.chr8.vcf.gz'\n",
       "9. '/moto/ziab/users/jr3950/data/genomes/tmp_founders/bam/Founders.chr9.vcf.gz'\n",
       "10. '/moto/ziab/users/jr3950/data/genomes/tmp_founders/bam/Founders.chr10.vcf.gz'\n",
       "11. '/moto/ziab/users/jr3950/data/genomes/tmp_founders/bam/Founders.chr11.vcf.gz'\n",
       "12. '/moto/ziab/users/jr3950/data/genomes/tmp_founders/bam/Founders.chr12.vcf.gz'\n",
       "13. '/moto/ziab/users/jr3950/data/genomes/tmp_founders/bam/Founders.chr13.vcf.gz'\n",
       "14. '/moto/ziab/users/jr3950/data/genomes/tmp_founders/bam/Founders.chr14.vcf.gz'\n",
       "15. '/moto/ziab/users/jr3950/data/genomes/tmp_founders/bam/Founders.chr15.vcf.gz'\n",
       "16. '/moto/ziab/users/jr3950/data/genomes/tmp_founders/bam/Founders.chr16.vcf.gz'\n",
       "17. '/moto/ziab/users/jr3950/data/genomes/tmp_founders/bam/Founders.chr17.vcf.gz'\n",
       "18. '/moto/ziab/users/jr3950/data/genomes/tmp_founders/bam/Founders.chr18.vcf.gz'\n",
       "19. '/moto/ziab/users/jr3950/data/genomes/tmp_founders/bam/Founders.chr19.vcf.gz'\n",
       "20. '/moto/ziab/users/jr3950/data/genomes/tmp_founders/bam/Founders.chrMT.vcf.gz'\n",
       "21. '/moto/ziab/users/jr3950/data/genomes/tmp_founders/bam/Founders.chrX.vcf.gz'\n",
       "22. '/moto/ziab/users/jr3950/data/genomes/tmp_founders/bam/Founders.chrY.vcf.gz'\n",
       "23. '/moto/ziab/users/jr3950/data/genomes/tmp_founders/bam/Founders.merged.vcf.gz'\n",
       "\n",
       "\n"
      ],
      "text/plain": [
       " [1] \"/moto/ziab/users/jr3950/data/genomes/tmp_founders/bam/Founders.chr1.vcf.gz\"  \n",
       " [2] \"/moto/ziab/users/jr3950/data/genomes/tmp_founders/bam/Founders.chr2.vcf.gz\"  \n",
       " [3] \"/moto/ziab/users/jr3950/data/genomes/tmp_founders/bam/Founders.chr3.vcf.gz\"  \n",
       " [4] \"/moto/ziab/users/jr3950/data/genomes/tmp_founders/bam/Founders.chr4.vcf.gz\"  \n",
       " [5] \"/moto/ziab/users/jr3950/data/genomes/tmp_founders/bam/Founders.chr5.vcf.gz\"  \n",
       " [6] \"/moto/ziab/users/jr3950/data/genomes/tmp_founders/bam/Founders.chr6.vcf.gz\"  \n",
       " [7] \"/moto/ziab/users/jr3950/data/genomes/tmp_founders/bam/Founders.chr7.vcf.gz\"  \n",
       " [8] \"/moto/ziab/users/jr3950/data/genomes/tmp_founders/bam/Founders.chr8.vcf.gz\"  \n",
       " [9] \"/moto/ziab/users/jr3950/data/genomes/tmp_founders/bam/Founders.chr9.vcf.gz\"  \n",
       "[10] \"/moto/ziab/users/jr3950/data/genomes/tmp_founders/bam/Founders.chr10.vcf.gz\" \n",
       "[11] \"/moto/ziab/users/jr3950/data/genomes/tmp_founders/bam/Founders.chr11.vcf.gz\" \n",
       "[12] \"/moto/ziab/users/jr3950/data/genomes/tmp_founders/bam/Founders.chr12.vcf.gz\" \n",
       "[13] \"/moto/ziab/users/jr3950/data/genomes/tmp_founders/bam/Founders.chr13.vcf.gz\" \n",
       "[14] \"/moto/ziab/users/jr3950/data/genomes/tmp_founders/bam/Founders.chr14.vcf.gz\" \n",
       "[15] \"/moto/ziab/users/jr3950/data/genomes/tmp_founders/bam/Founders.chr15.vcf.gz\" \n",
       "[16] \"/moto/ziab/users/jr3950/data/genomes/tmp_founders/bam/Founders.chr16.vcf.gz\" \n",
       "[17] \"/moto/ziab/users/jr3950/data/genomes/tmp_founders/bam/Founders.chr17.vcf.gz\" \n",
       "[18] \"/moto/ziab/users/jr3950/data/genomes/tmp_founders/bam/Founders.chr18.vcf.gz\" \n",
       "[19] \"/moto/ziab/users/jr3950/data/genomes/tmp_founders/bam/Founders.chr19.vcf.gz\" \n",
       "[20] \"/moto/ziab/users/jr3950/data/genomes/tmp_founders/bam/Founders.chrMT.vcf.gz\" \n",
       "[21] \"/moto/ziab/users/jr3950/data/genomes/tmp_founders/bam/Founders.chrX.vcf.gz\"  \n",
       "[22] \"/moto/ziab/users/jr3950/data/genomes/tmp_founders/bam/Founders.chrY.vcf.gz\"  \n",
       "[23] \"/moto/ziab/users/jr3950/data/genomes/tmp_founders/bam/Founders.merged.vcf.gz\""
      ]
     },
     "metadata": {},
     "output_type": "display_data"
    }
   ],
   "source": [
    "\n",
    "files=naturalsort(list.files(path = bam_dir, pattern=\"chr[0-9]*.vcf.gz$\", full.names = TRUE))\n",
    "files\n",
    "if(length(files)==nrow(chrs)) # all mpileups exist\n",
    "    {\n",
    "    print(\"Files exist, deleting, mpileups...\")\n",
    "    file.remove(list.files(path = bam_dir, pattern=\".mpileup$\", full.names = TRUE))\n",
    "}"
   ]
  }
 ],
 "metadata": {
  "kernelspec": {
   "display_name": "R",
   "language": "R",
   "name": "ir"
  },
  "language_info": {
   "codemirror_mode": "r",
   "file_extension": ".r",
   "mimetype": "text/x-r-source",
   "name": "R",
   "pygments_lexer": "r",
   "version": "4.2.3"
  }
 },
 "nbformat": 4,
 "nbformat_minor": 4
}
